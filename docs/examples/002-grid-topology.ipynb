{
 "cells": [
  {
   "cell_type": "markdown",
   "source": [
    "# Grid Topology Overview\n",
    "\n",
    "As discussed in our first notebook, UXarray uses the UGRID conventions as a foundation for represented Unstructured Grids. Here we'll see how to access the underlying dimensions, coordinates, and connectivity variables that are available in UXarray."
   ],
   "metadata": {
    "collapsed": false
   }
  },
  {
   "cell_type": "markdown",
   "source": [
    "## Constructing a `UxDataset`"
   ],
   "metadata": {
    "collapsed": false
   }
  },
  {
   "cell_type": "code",
   "execution_count": null,
   "outputs": [],
   "source": [
    "import uxarray as ux"
   ],
   "metadata": {
    "collapsed": false,
    "ExecuteTime": {
     "start_time": "2023-06-09T05:51:08.080955Z",
     "end_time": "2023-06-09T05:51:09.904564Z"
    }
   }
  },
  {
   "cell_type": "code",
   "execution_count": null,
   "outputs": [],
   "source": [
    "# Base data path\n",
    "base_path = \"../../test/meshfiles/\"\n",
    "\n",
    "# Grid File Path\n",
    "grid_ne30_path = base_path + \"/ugrid/outCSne30/outCSne30.ug\"\n",
    "\n",
    "# Data File Path\n",
    "data_ne30_path = base_path + \"/ugrid/outCSne30/outCSne30_vortex.nc\""
   ],
   "metadata": {
    "collapsed": false,
    "ExecuteTime": {
     "start_time": "2023-06-09T05:51:09.901564Z",
     "end_time": "2023-06-09T05:51:09.914564Z"
    }
   }
  },
  {
   "cell_type": "code",
   "execution_count": null,
   "outputs": [],
   "source": [
    "uxds = ux.open_dataset(grid_ne30_path, data_ne30_path)\n",
    "uxds"
   ],
   "metadata": {
    "collapsed": false,
    "ExecuteTime": {
     "start_time": "2023-06-09T05:51:09.916564Z",
     "end_time": "2023-06-09T05:51:10.010564Z"
    }
   }
  },
  {
   "cell_type": "code",
   "execution_count": null,
   "outputs": [],
   "source": [
    "uxds.uxgrid"
   ],
   "metadata": {
    "collapsed": false,
    "ExecuteTime": {
     "start_time": "2023-06-09T05:51:10.010564Z",
     "end_time": "2023-06-09T05:51:10.024564Z"
    }
   }
  },
  {
   "cell_type": "markdown",
   "source": [
    "## Grid Attributes"
   ],
   "metadata": {
    "collapsed": false
   }
  },
  {
   "cell_type": "code",
   "execution_count": null,
   "outputs": [],
   "source": [
    "uxds.uxgrid.Mesh2"
   ],
   "metadata": {
    "collapsed": false,
    "ExecuteTime": {
     "start_time": "2023-06-08T22:17:23.303611Z",
     "end_time": "2023-06-08T22:17:23.441611Z"
    }
   }
  },
  {
   "cell_type": "markdown",
   "source": [
    "If our input grid contained additional attributes that were not representable by the UGRID conventions, they would be stored here"
   ],
   "metadata": {
    "collapsed": false
   }
  },
  {
   "cell_type": "code",
   "execution_count": null,
   "outputs": [],
   "source": [
    "uxds.uxgrid.parsed_attrs"
   ],
   "metadata": {
    "collapsed": false,
    "ExecuteTime": {
     "start_time": "2023-06-08T22:17:23.442611Z",
     "end_time": "2023-06-08T22:17:23.455610Z"
    }
   }
  },
  {
   "cell_type": "markdown",
   "source": [
    "## Grid Coordinates"
   ],
   "metadata": {
    "collapsed": false
   }
  },
  {
   "cell_type": "code",
   "execution_count": null,
   "outputs": [],
   "source": [
    "uxds.uxgrid.Mesh2_node_x"
   ],
   "metadata": {
    "collapsed": false,
    "ExecuteTime": {
     "start_time": "2023-06-08T22:17:23.456611Z",
     "end_time": "2023-06-08T22:17:23.490610Z"
    }
   }
  },
  {
   "cell_type": "code",
   "execution_count": null,
   "outputs": [],
   "source": [
    "uxds.uxgrid.Mesh2_node_y"
   ],
   "metadata": {
    "collapsed": false,
    "ExecuteTime": {
     "start_time": "2023-06-08T22:17:23.473611Z",
     "end_time": "2023-06-08T22:17:23.491610Z"
    }
   }
  },
  {
   "cell_type": "markdown",
   "source": [
    "## Grid Connectivity"
   ],
   "metadata": {
    "collapsed": false
   }
  },
  {
   "cell_type": "code",
   "execution_count": null,
   "outputs": [],
   "source": [
    "uxds.uxgrid.Mesh2_face_nodes"
   ],
   "metadata": {
    "collapsed": false,
    "ExecuteTime": {
     "start_time": "2023-06-08T22:17:23.489612Z",
     "end_time": "2023-06-08T22:17:23.504610Z"
    }
   }
  },
  {
   "cell_type": "code",
   "execution_count": null,
   "outputs": [],
   "source": [
    "uxds.uxgrid.nNodes_per_face"
   ],
   "metadata": {
    "collapsed": false,
    "ExecuteTime": {
     "start_time": "2023-06-08T22:17:23.504610Z",
     "end_time": "2023-06-08T22:17:23.532610Z"
    }
   }
  },
  {
   "cell_type": "code",
   "execution_count": null,
   "outputs": [],
   "source": [
    "uxds.uxgrid"
   ],
   "metadata": {
    "collapsed": false,
    "ExecuteTime": {
     "start_time": "2023-06-08T22:17:23.520610Z",
     "end_time": "2023-06-08T22:17:23.534610Z"
    }
   }
  },
  {
   "cell_type": "markdown",
   "source": [
    "As we can see above, these are the only two connectivity variables that are currently store. In addition to these, UXarray provides support for constructing addition connectivity variables.\n"
   ],
   "metadata": {
    "collapsed": false
   }
  },
  {
   "cell_type": "code",
   "execution_count": null,
   "outputs": [],
   "source": [
    "uxds.uxgrid.Mesh2_edge_nodes"
   ],
   "metadata": {
    "collapsed": false,
    "ExecuteTime": {
     "start_time": "2023-06-08T22:17:23.535610Z",
     "end_time": "2023-06-08T22:17:23.596610Z"
    }
   }
  },
  {
   "cell_type": "code",
   "execution_count": null,
   "outputs": [],
   "source": [
    "uxds.uxgrid.Mesh2_face_edges"
   ],
   "metadata": {
    "collapsed": false,
    "ExecuteTime": {
     "start_time": "2023-06-08T22:17:23.567611Z",
     "end_time": "2023-06-08T22:17:23.601610Z"
    }
   }
  },
  {
   "cell_type": "code",
   "execution_count": null,
   "outputs": [],
   "source": [
    "uxds.uxgrid"
   ],
   "metadata": {
    "collapsed": false,
    "ExecuteTime": {
     "start_time": "2023-06-08T22:17:23.582611Z",
     "end_time": "2023-06-08T22:17:23.602611Z"
    }
   }
  },
  {
   "cell_type": "markdown",
   "source": [
    "These additional variables are construct upon calling their attribute and are now stored under the `uxgrid` accessor.\n"
   ],
   "metadata": {
    "collapsed": false
   }
  },
  {
   "cell_type": "markdown",
   "source": [
    "## Grid Dimensions"
   ],
   "metadata": {
    "collapsed": false
   }
  },
  {
   "cell_type": "code",
   "execution_count": null,
   "outputs": [],
   "source": [
    "uxds.uxgrid.nMesh2_node"
   ],
   "metadata": {
    "collapsed": false,
    "ExecuteTime": {
     "start_time": "2023-06-09T05:54:18.389863Z",
     "end_time": "2023-06-09T05:54:18.437008Z"
    }
   }
  },
  {
   "cell_type": "code",
   "execution_count": null,
   "outputs": [],
   "source": [
    "uxds.uxgrid.nMesh2_edge"
   ],
   "metadata": {
    "collapsed": false,
    "ExecuteTime": {
     "start_time": "2023-06-09T05:54:24.406039Z",
     "end_time": "2023-06-09T05:54:24.465188Z"
    }
   }
  },
  {
   "cell_type": "code",
   "execution_count": null,
   "outputs": [],
   "source": [
    "uxds.uxgrid.nMesh2_face"
   ],
   "metadata": {
    "collapsed": false,
    "ExecuteTime": {
     "start_time": "2023-06-09T05:54:27.776547Z",
     "end_time": "2023-06-09T05:54:27.792543Z"
    }
   }
  },
  {
   "cell_type": "code",
   "execution_count": null,
   "outputs": [],
   "source": [
    "uxds.uxgrid.nMaxMesh2_face_nodes"
   ],
   "metadata": {
    "collapsed": false,
    "ExecuteTime": {
     "start_time": "2023-06-09T05:54:46.644796Z",
     "end_time": "2023-06-09T05:54:46.650795Z"
    }
   }
  },
  {
   "cell_type": "code",
   "execution_count": null,
   "outputs": [],
   "source": [
    "uxds.uxgrid.nMaxMesh2_face_edges"
   ],
   "metadata": {
    "collapsed": false,
    "ExecuteTime": {
     "start_time": "2023-06-09T05:54:50.745907Z",
     "end_time": "2023-06-09T05:54:50.758905Z"
    }
   }
  }
 ],
 "metadata": {
  "kernelspec": {
   "display_name": "Python 3 (ipykernel)",
   "language": "python",
   "name": "python3"
  },
  "language_info": {
   "codemirror_mode": {
    "name": "ipython",
    "version": 3
   },
   "file_extension": ".py",
   "mimetype": "text/x-python",
   "name": "python",
   "nbconvert_exporter": "python",
   "pygments_lexer": "ipython3",
   "version": "3.10.10"
  }
 },
 "nbformat": 4,
 "nbformat_minor": 4
}
