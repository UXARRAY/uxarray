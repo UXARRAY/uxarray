{
 "cells": [
  {
   "cell_type": "markdown",
   "source": [
    "# Triangulating Data for Visualization\n",
    "Authors: [Philip Chmielowiec](https://github.com/philipc2)"
   ],
   "metadata": {
    "collapsed": false
   }
  },
  {
   "cell_type": "markdown",
   "source": [
    "## Overview\n",
    "This notebook showcases how to visualize data variables as a Trimesh using the UXarray Plotting API.\n",
    "\n",
    "```{note}\n",
    "UXarray's Plotting API is build around the [Holoviews](https://holoviews.org/) package. For details about customization and accepted parameters, pleases refer to their documentation.\n",
    "```"
   ],
   "metadata": {
    "collapsed": false
   }
  },
  {
   "cell_type": "code",
   "execution_count": null,
   "metadata": {
    "collapsed": true
   },
   "outputs": [],
   "source": [
    "import uxarray as ux\n",
    "import cartopy.crs as ccrs\n",
    "from holoviews import opts\n",
    "\n",
    "import geoviews.feature as gf"
   ]
  },
  {
   "cell_type": "code",
   "execution_count": null,
   "outputs": [],
   "source": [
    "base_path = \"../../test/meshfiles/ugrid/geoflow-small/\"\n",
    "grid_path = base_path + \"grid.nc\"\n",
    "data_path = base_path + \"v1.nc\"\n",
    "uxds_ugrid = ux.open_dataset(grid_path, data_path)"
   ],
   "metadata": {
    "collapsed": false
   }
  },
  {
   "cell_type": "code",
   "execution_count": null,
   "outputs": [],
   "source": [
    "base_path = \"../../test/meshfiles/mpas/QU/\"\n",
    "grid_path = base_path + \"oQU480.231010.nc\"\n",
    "uxds_mpas = ux.open_dataset(grid_path, grid_path)"
   ],
   "metadata": {
    "collapsed": false
   }
  },
  {
   "cell_type": "markdown",
   "source": [
    "## Triangulation\n",
    "The plotting methods in the following sections internally compute a triangulating using Scipy's Delaunay Triangulation algorithm.\n",
    "\n",
    "The ``UxDataArray.to_trimesh()`` method is called internally by plotting routines and detects what element the data is mapped to and performs the triangulation on that element.\n",
    "* **Node Centered Data:** Triangulates Node Coordinates (`node_lon`, `node_lat`)\n",
    "* **Edge Centered Data:** Triangulates Edge Center Coordinates (`edge_lon`, `edge_lat`)\n",
    "* **Face Centered Data:** Triangulates Face Center Coordinates (`face_lon`, `face_lat`)\n",
    "\n",
    "Each resulting Delauany Triangle is shaded using the vertex-average of the three data points that make up each triangle.\n",
    "\n"
   ],
   "metadata": {
    "collapsed": false
   }
  },
  {
   "cell_type": "markdown",
   "source": [
    "## Vector Trimesh Plots"
   ],
   "metadata": {
    "collapsed": false
   }
  },
  {
   "cell_type": "code",
   "execution_count": null,
   "outputs": [],
   "source": [
    "uxds_ugrid['v1'][0][0].plot.trimesh(cmap='coolwarm', node_size=0.5, height=350, width=700, title=\"Vector Trimesh Plot of Node-Centered Data\")"
   ],
   "metadata": {
    "collapsed": false
   }
  },
  {
   "cell_type": "markdown",
   "source": [
    "## Rasterized Trimesh Plots"
   ],
   "metadata": {
    "collapsed": false
   }
  },
  {
   "cell_type": "code",
   "execution_count": null,
   "outputs": [],
   "source": [
    "uxds_ugrid['v1'][0][0].plot.rasterize(method='trimesh', cmap='coolwarm', height=350, width=700, title=\"Rasterized Trimesh Plot of Node-Centered Data\")"
   ],
   "metadata": {
    "collapsed": false
   }
  },
  {
   "cell_type": "markdown",
   "source": [
    "## Triangulation of a Partial-Coverage Grid\n",
    "The MPAS Ocean Dataset used in this example only partially covers the globe, with no elements on top of land. The resulting triangulation does not account for this, and will triangulate over any masks."
   ],
   "metadata": {
    "collapsed": false
   }
  },
  {
   "cell_type": "code",
   "execution_count": null,
   "outputs": [],
   "source": [
    "uxds_mpas['bottomDepth'].plot.trimesh(node_size=1.0, height=350, width=700, title=\"Triangulation of an Ocean Grid\")"
   ],
   "metadata": {
    "collapsed": false
   }
  },
  {
   "cell_type": "markdown",
   "source": [
    "This can be overlooked by overlaying features over the masked area, such as plotting land using `GeoViews`. However, triangulating these types of meshes for visualization does not produce the best results."
   ],
   "metadata": {
    "collapsed": false
   }
  },
  {
   "cell_type": "code",
   "execution_count": null,
   "outputs": [],
   "source": [
    "projection = ccrs.PlateCarree()\n",
    "\n",
    "uxds_mpas['bottomDepth'].plot.trimesh(node_size=1.0, height=350, width=700, projection=projection, title=\"Triangulation of an Ocean Grid with Land\") * \\\n",
    "gf.land(projection=projection, global_extent=True)"
   ],
   "metadata": {
    "collapsed": false
   }
  },
  {
   "cell_type": "code",
   "execution_count": null,
   "outputs": [],
   "source": [],
   "metadata": {
    "collapsed": false
   }
  }
 ],
 "metadata": {
  "kernelspec": {
   "display_name": "Python 3",
   "language": "python",
   "name": "python3"
  },
  "language_info": {
   "codemirror_mode": {
    "name": "ipython",
    "version": 2
   },
   "file_extension": ".py",
   "mimetype": "text/x-python",
   "name": "python",
   "nbconvert_exporter": "python",
   "pygments_lexer": "ipython2",
   "version": "2.7.6"
  }
 },
 "nbformat": 4,
 "nbformat_minor": 0
}
