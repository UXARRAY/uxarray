{
 "cells": [
  {
   "cell_type": "markdown",
   "metadata": {},
   "source": [
    "# Working with MPAS Grids\n",
    "\n",
    "Authors: [Philip Chmielowiec](https://github.com/philipc2), [Ian Franda](https://github.com/ifranda)\n",
    "\n"
   ]
  },
  {
   "cell_type": "markdown",
   "metadata": {},
   "source": [
    "This notebook showcases how to work with datasets from the Model for Prediction Across Scales (MPAS).\n"
   ]
  },
  {
   "cell_type": "markdown",
   "metadata": {},
   "source": [
    "##  MPAS Grid Overview\n",
    "\n",
    "The defining feature of MPAS when compared to other models is that its unstructured grid is composed of Voronoi Meshes with a C-grid staggering. This means that the grid can be broken down into two meshes: Primal and Dual. The Primal Mesh is composed of Voronoi regions and the Dual Mesh is composed of Delaunay Triangles. The figure below showcases this relationship, with the dashed triangles being the dual of the Voronoi mesh.\n",
    "\n",
    "<p align=\"center\">\n",
    "  <img src=\"../_static/examples/mpas/c-grid.png\"\n",
    "  width=\"400\" / >\n",
    "</p>\n",
    "\n",
    "Since the Primal Mesh is predominantly made up of hexagons, with pentagons and heptagons occasionally being present, and the Dual Mesh being strictly triangular, this notebook will showcase how we can represent both of these meshes in the **UGRID** conventions using **UXarray**.\n",
    "\n",
    "\n",
    "\n"
   ]
  },
  {
   "cell_type": "markdown",
   "metadata": {},
   "source": [
    "## Dataset Overview\n",
    "\n",
    "Before diving straight into using **UXarray**, it is important to first investigate how MPAS datasets are represented.\n",
    "\n",
    "As mentioned in earlier notebooks, the grid definition and data variables are typically stored in separate files. However, in this example, our dataset will contain both within the same file, which is often the case when working with smaller datasets. Additionally, even when working with separate Grid and Data files in MPAS, the definition of the Primal and Dual mesh are still stored under the same Grid file.\n",
    "\n",
    "Below we can take a quick look into the dataset by opening it with **Xarray**.\n"
   ]
  },
  {
   "cell_type": "code",
   "execution_count": null,
   "outputs": [],
   "source": [
    "# Dataset Path\n",
    "mpas_root_filepath = \"../../test/meshfiles/mpas/\"\n",
    "mpas_dataset_filepath = mpas_root_filepath + \"QU/mesh.QU.1920km.151026.nc\""
   ],
   "metadata": {
    "collapsed": false
   }
  },
  {
   "cell_type": "code",
   "execution_count": null,
   "metadata": {
    "collapsed": false
   },
   "outputs": [],
   "source": [
    "import xarray as xr\n",
    "\n",
    "xrds_mpas = xr.open_dataset(mpas_dataset_filepath)\n",
    "xrds_mpas"
   ]
  },
  {
   "cell_type": "markdown",
   "metadata": {},
   "source": [
    "Here we opened up the dataset to get an overview of the full set of grid variables needed to describe an MPAS grid as outlined in the MPAS Specification Document [2]. Below is a list of the key grid variables that are used for representing and constructing the Primal and Dual meshes.\n",
    "\n",
    "\n",
    "### Primal Mesh\n",
    "* **lonVertex, latVertex**: Corner Vertices of Primal Mesh cells\n",
    "* **lonCell, latCell**: Center Vertices of Primal Mesh cells\n",
    "* **verticesOnCell**: Vertex indices that surround each Primal Mesh cell\n",
    "* **verticesOnEdge**: Vertex indices that saddle a given edge\n",
    "* **nEdgesOnCell**: Maximum number of edges that can surround a cell\n",
    "\n",
    "### Dual Mesh\n",
    "* **lonCell, latCell**: Corner Vertices of Dual Mesh cells\n",
    "* **lonVertex, latVertex**: Center Vertices of Dual Mesh cells\n",
    "* **cellsOnVertex**: Vertex indices that surround each Dual Mesh cell\n",
    "* **cellsOnEdge**: Vertex indices that saddle a given edge\n"
   ]
  },
  {
   "cell_type": "markdown",
   "source": [],
   "metadata": {
    "collapsed": false
   }
  },
  {
   "cell_type": "markdown",
   "metadata": {},
   "source": [
    "## Constructing a Grid Object\n",
    "\n",
    "```{note}\n",
    "Since we *only* have a Grid file and no Data file in this example, we will be working exclusively with the `Grid` class to investigate the grid topology and not with `UxDataset` or `UxDataArray` data structures.\n",
    "```\n",
    "\n",
    "The `xarray.Dataset` that we opened in the previous section stores the coordinates and connectivity variables according to the MPAS specification standards for both the Primal and Dual meshes together in a single dataset. Here, instead of opening up the dataset using **Xarray**, we can pass through the path into our `open_grid` method to construct an instance of a `Grid` class. This `Grid` can take in a `use_dual` parameter to select whether to construct the Primal or Dual mesh, parsing and encoding the appropriate variables in the UGRID conventions."
   ]
  },
  {
   "cell_type": "code",
   "execution_count": null,
   "metadata": {
    "collapsed": false
   },
   "outputs": [],
   "source": [
    "import uxarray as ux\n",
    "\n",
    "primal_mesh = ux.open_grid(mpas_dataset_filepath, use_dual=False)\n",
    "dual_mesh = ux.open_grid(mpas_dataset_filepath, use_dual=True)"
   ]
  },
  {
   "cell_type": "code",
   "execution_count": null,
   "metadata": {
    "collapsed": false
   },
   "outputs": [],
   "source": [
    "primal_mesh"
   ]
  },
  {
   "cell_type": "code",
   "execution_count": null,
   "metadata": {
    "collapsed": false
   },
   "outputs": [],
   "source": [
    "dual_mesh"
   ]
  },
  {
   "cell_type": "markdown",
   "metadata": {},
   "source": [
    "## Relationship between MPAS and UGRID\n",
    "\n",
    "In the previous two sections, we outlined the set of grid variables used to describe the Primal and Dual meshes and how to open an MPAS grid in **UXarray**. Here, we provide an overview of how we represent both meshes in the UGRID conventions and how the original grid variables were modified to meet these conventions.\n",
    "\n",
    "### Grid Variables (Primal Mesh)\n",
    "`Mesh2_node_x` & `Mesh2_node_y`\n",
    "* Longitude and Latitude coordinates of the Primal Mesh corner nodes\n",
    "* Derived from `lonVertex` & `latVertex`\n",
    "* Converted from Radians to Degrees\n",
    "\n",
    "`Mesh2_face_x` & `Mesh2_face_y`\n",
    "* Longitude and Latitude coordinates of the Primal Mesh center nodes\n",
    "* Derived from `lonCell` & `latCell`\n",
    "* Converted from Radians to Degrees\n",
    "\n",
    "`Mesh2_face_nodes`\n",
    "* Connectivity array describing which nodes make up a face\n",
    "* Derived from `verticesOnCell`\n",
    "* Padding is replaced with `INT_FILL_VALUE`\n",
    "* Missing Values (zeros) replaced with `INT_FILL_VALUE`\n",
    "* Converted to zero-index\n",
    "\n",
    "`Mesh2_edge_nodes`\n",
    "* Connectivity array describing which nodes link to form each edge\n",
    "* Derived from `verticesOnEdge`\n",
    "* Padding is replaced with `INT_FILL_VALUE`\n",
    "* Missing Values (zeros) replaced with `INT_FILL_VALUE`\n",
    "* Converted to zero-index\n",
    "\n",
    "### Grid Variables (Dual Mesh)\n",
    "\n",
    "`Mesh2_node_x` & `Mesh2_node_y`\n",
    "* Longitude and Latitude coordinates of the Dual Mesh vertices\n",
    "* Derived from `lonCell` & `latCell`, the centers of the Primal Mesh\n",
    "* Converted from Radians to Degrees\n",
    "\n",
    "`Mesh2_face_x` & `Mesh2_face_y`\n",
    "* Longitude and Latitude coordinates of the Dual Mesh centers\n",
    "* Derived from `lonVertex` & `latVertex`, the vertices of the Primal Mesh\n",
    "* Converted from Radians to Degrees\n",
    "\n",
    "`Mesh2_face_nodes`\n",
    "* Connectivity array describing which nodes make up a face\n",
    "* Derived from `verticesOnCell`\n",
    "* Padding is replaced with `INT_FILL_VALUE`\n",
    "* Missing Values (zeros) replaced with `INT_FILL_VALUE`\n",
    "* Converted to zero-index\n",
    "\n",
    "`Mesh2_edge_nodes`\n",
    "* Connectivity array describing which nodes link to form each edge\n",
    "* Derived from `verticesOnEdge`\n",
    "* Padding is replaced with `INT_FILL_VALUE`\n",
    "* Missing Values (zeros) replaced with `INT_FILL_VALUE`\n",
    "* Converted to zero-index"
   ]
  },
  {
   "cell_type": "markdown",
   "metadata": {},
   "source": [
    "## Functionality"
   ]
  },
  {
   "cell_type": "markdown",
   "source": [
    "### Face Area Calculation"
   ],
   "metadata": {
    "collapsed": false
   }
  },
  {
   "cell_type": "markdown",
   "source": [
    "Using our parsed attributes, we can determine whether our unstructured grid lies on the surface of a sphere by accessing the `on_a_sphere` attribute.\n"
   ],
   "metadata": {
    "collapsed": false
   }
  },
  {
   "cell_type": "code",
   "execution_count": null,
   "outputs": [],
   "source": [
    "primal_mesh.parsed_attrs['on_a_sphere']"
   ],
   "metadata": {
    "collapsed": false
   }
  },
  {
   "cell_type": "markdown",
   "source": [
    "Simiarly, we can access the `sphere_radius` attribute."
   ],
   "metadata": {
    "collapsed": false
   }
  },
  {
   "cell_type": "code",
   "execution_count": null,
   "outputs": [],
   "source": [
    "primal_mesh.parsed_attrs['sphere_radius']"
   ],
   "metadata": {
    "collapsed": false
   }
  },
  {
   "cell_type": "markdown",
   "metadata": {},
   "source": [
    "Since our mesh lies on a sphere, we would expect our total surface area to follow the equation\n",
    "\n",
    "{math}`4{\\pi}{r^2}`\n",
    "\n",
    "We can use the value of the `sphere_radius` attribute to calculate the expected total surface area."
   ]
  },
  {
   "cell_type": "code",
   "execution_count": null,
   "metadata": {
    "collapsed": false
   },
   "outputs": [],
   "source": [
    "import numpy as np\n",
    "\n",
    "sphere_r = primal_mesh.parsed_attrs['sphere_radius']\n",
    "expected_area = 4 * np.pi * (sphere_r)**2\n",
    "expected_area"
   ]
  },
  {
   "cell_type": "markdown",
   "metadata": {},
   "source": [
    "`UXarray` can be used to compute the face area of each face on our grid."
   ]
  },
  {
   "cell_type": "code",
   "execution_count": null,
   "metadata": {
    "collapsed": false
   },
   "outputs": [],
   "source": [
    "primal_mesh_face_areas = primal_mesh.face_areas\n",
    "primal_mesh_face_areas"
   ]
  },
  {
   "cell_type": "markdown",
   "source": [
    "The total face (surface) area can be computed by summing over each value."
   ],
   "metadata": {
    "collapsed": false
   }
  },
  {
   "cell_type": "code",
   "execution_count": null,
   "outputs": [],
   "source": [
    "primal_mesh_face_areas.sum()"
   ],
   "metadata": {
    "collapsed": false
   }
  },
  {
   "cell_type": "markdown",
   "metadata": {},
   "source": [
    "We can then compute the absolute error of our calculation."
   ]
  },
  {
   "cell_type": "code",
   "execution_count": null,
   "metadata": {
    "collapsed": false
   },
   "outputs": [],
   "source": [
    "abs(expected_area - primal_mesh_face_areas.sum())"
   ]
  },
  {
   "cell_type": "markdown",
   "metadata": {},
   "source": [
    "The same can be done for the Dual Mesh."
   ]
  },
  {
   "cell_type": "code",
   "execution_count": null,
   "metadata": {
    "collapsed": false
   },
   "outputs": [],
   "source": [
    "dual_mesh_face_areas = dual_mesh.face_areas\n",
    "dual_mesh_face_areas.sum()"
   ]
  },
  {
   "cell_type": "code",
   "execution_count": null,
   "metadata": {
    "collapsed": false
   },
   "outputs": [],
   "source": [
    "abs(expected_area - dual_mesh_face_areas.sum())"
   ]
  },
  {
   "cell_type": "markdown",
   "metadata": {},
   "source": [
    "We can see that the total face area of both the Primal and Dual meshes is within 1e-6 of the expected area. For a more detailed explanation of the face area calculation and ways to obtain more precision, check out our other notebooks."
   ]
  },
  {
   "cell_type": "markdown",
   "metadata": {},
   "source": [
    "## Visualization\n",
    "\n",
    "To visually confirm that the Primal and Dual meshes have been correctly translated to the **UGRID** conventions, the following showcases a basic visualization of the mesh structure.\n",
    "\n",
    "To display the mesh, the vertices are used to construct a `PolyCollection` object, which represents a group of polygons on a plane. The collection is then fed into Matplotlib to be visualized.\n"
   ]
  },
  {
   "cell_type": "markdown",
   "metadata": {},
   "source": [
    "```{note}\n",
    "The following visualizations showcase the mesh structure excluding any faces that are located on the boundary between 0 and 360 degrees. There is work currently being done to handle these cases and to provide a more sophisticated visualization API in UXarray. Stay tuned!\n",
    "```"
   ]
  },
  {
   "cell_type": "code",
   "execution_count": null,
   "metadata": {
    "collapsed": false
   },
   "outputs": [],
   "source": [
    "import matplotlib.pyplot as plt\n",
    "from matplotlib.collections import PolyCollection\n",
    "\n",
    "from uxarray.grid.connectivity import close_face_nodes"
   ]
  },
  {
   "cell_type": "markdown",
   "metadata": {},
   "source": [
    "### Helper Functions\n",
    "\n",
    "In order to make our data compatible wth the `PolyCollection` class, we need to first convert it into an appropriate representation. The following helper function takes in a `Grid` object (either Primal or Dual mesh) and returns the vertices of each face that can be interpreted by the `PolyCollection`."
   ]
  },
  {
   "cell_type": "code",
   "execution_count": null,
   "metadata": {
    "collapsed": false
   },
   "outputs": [],
   "source": [
    "def get_verts(grid):\n",
    "    nodes_per_face = grid.nNodes_per_face.values\n",
    "    x = grid.Mesh2_node_x.values\n",
    "    y = grid.Mesh2_node_y.values\n",
    "    closed_face_nodes = close_face_nodes(grid.Mesh2_face_nodes.values,\n",
    "                                         grid.nMesh2_face,\n",
    "                                         grid.nMaxMesh2_face_nodes)\n",
    "\n",
    "    verts = []\n",
    "    for face_node, n_nodes in zip(closed_face_nodes, nodes_per_face):\n",
    "        polygon_x = x[face_node[0:n_nodes]]\n",
    "        polygon_y = y[face_node[0:n_nodes]]\n",
    "\n",
    "        # exclude faces near the boundary\n",
    "        if np.any(np.abs(polygon_x - 180) > 170):\n",
    "            continue\n",
    "\n",
    "        vert = np.array([polygon_x, polygon_y])\n",
    "        verts.append(vert.T)\n",
    "\n",
    "    return verts"
   ]
  },
  {
   "cell_type": "markdown",
   "metadata": {},
   "source": [
    "### Primal Mesh\n",
    "\n",
    "The following displays the Primal Mesh, which is composed mostly of hexagons representing the Voronoi regions,\n"
   ]
  },
  {
   "cell_type": "code",
   "execution_count": null,
   "metadata": {
    "collapsed": false
   },
   "outputs": [],
   "source": [
    "primal_vertices = get_verts(primal_mesh)\n",
    "primal_polygons = PolyCollection(primal_vertices, edgecolors='Black', alpha=0.5)\n",
    "\n",
    "fig, ax = plt.subplots()\n",
    "ax.add_collection(primal_polygons, autolim=False)\n",
    "ax.set_xlim(0, 360)\n",
    "ax.set_ylim(-80, 80)\n",
    "ax.set_title(\"Primal Mesh\")"
   ]
  },
  {
   "cell_type": "markdown",
   "metadata": {},
   "source": [
    "### Dual Mesh\n",
    "\n",
    "The follwing displays the Dual Mesh, which is composed entirely of Delaunay triangles."
   ]
  },
  {
   "cell_type": "code",
   "execution_count": null,
   "metadata": {
    "collapsed": false
   },
   "outputs": [],
   "source": [
    "dual_vertices = get_verts(dual_mesh)\n",
    "dual_polygons = PolyCollection(dual_vertices, edgecolors='Black', alpha=0.5)\n",
    "\n",
    "fig, ax = plt.subplots()\n",
    "ax.add_collection(dual_polygons, autolim=False)\n",
    "ax.set_xlim(0, 360)\n",
    "ax.set_ylim(-80, 80)\n",
    "ax.set_title(\"Dual Mesh\")"
   ]
  },
  {
   "cell_type": "markdown",
   "metadata": {},
   "source": [
    "## Primal and Dual Meshes Overlayed\n",
    "\n",
    "As mentioned earlier, the Primal and Dual meshes are related to one another. The vertices of the Primal mesh are each at the center of a Delaunay triangle in the Dual mesh. Likewise, the vertices of the Dual mesh are each at the center of a Voronoi region in the Primal mesh. This relationship can be seen in the visualization below"
   ]
  },
  {
   "cell_type": "code",
   "execution_count": null,
   "metadata": {
    "collapsed": false
   },
   "outputs": [],
   "source": [
    "dual_vertices = get_verts(dual_mesh)\n",
    "dual_polygons = PolyCollection(dual_vertices, edgecolors='Black', alpha=0.5)\n",
    "primal_vertices = get_verts(primal_mesh)\n",
    "primal_polygons = PolyCollection(primal_vertices, edgecolors='Black', alpha=0.5)\n",
    "\n",
    "fig, ax = plt.subplots()\n",
    "ax.add_collection(primal_polygons, autolim=False)\n",
    "ax.add_collection(dual_polygons, autolim=False)\n",
    "ax.set_xlim(0, 360)\n",
    "ax.set_ylim(-80, 80)\n",
    "ax.set_title(\"Dual & Primal Mesh\")"
   ]
  },
  {
   "cell_type": "markdown",
   "metadata": {},
   "source": [
    "## References\n",
    "\n",
    "[1] [https://mpas-dev.github.io/](https://mpas-dev.github.io/)\n",
    "\n",
    "[2] [https://mpas-dev.github.io/files/documents/MPAS-MeshSpec.pdf](https://mpas-dev.github.io/files/documents/MPAS-MeshSpec.pdf)\n",
    "\n",
    "[3] [http://ugrid-conventions.github.io/ugrid-conventions/](http://ugrid-conventions.github.io/ugrid-conventions/)"
   ]
  }
 ],
 "metadata": {
  "kernelspec": {
   "display_name": "Python 3 (ipykernel)",
   "language": "python",
   "name": "python3"
  },
  "language_info": {
   "codemirror_mode": {
    "name": "ipython",
    "version": 3
   },
   "file_extension": ".py",
   "mimetype": "text/x-python",
   "name": "python",
   "nbconvert_exporter": "python",
   "pygments_lexer": "ipython3",
   "version": "3.10.10"
  }
 },
 "nbformat": 4,
 "nbformat_minor": 4
}
