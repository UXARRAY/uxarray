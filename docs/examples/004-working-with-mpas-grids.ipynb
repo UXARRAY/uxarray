{
 "cells": [
  {
   "cell_type": "markdown",
   "metadata": {},
   "source": [
    "# Working with MPAS Grids\n",
    "\n",
    "Authors: [Philip Chmielowiec](https://github.com/philipc2), [Ian Franda](https://github.com/ifranda)\n",
    "\n"
   ]
  },
  {
   "cell_type": "markdown",
   "metadata": {},
   "source": [
    "This notebook showcases how to work with datasets from the Model for Prediction Across Scales (MPAS).\n"
   ]
  },
  {
   "cell_type": "markdown",
   "metadata": {},
   "source": [
    "##  MPAS Grid Overview\n",
    "\n",
    "The defining feature of MPAS when compared to other models is that its unstructured grid is composed of Voronoi Meshes with a C-grid staggering. This means that the grid can be broken down into two meshes: Primal and Dual. The Primal Mesh is composed of Voronoi regions and the Dual Mesh is composed of Delaunay Triangles. The figure below showcases this relationship, with the dashed triangles being the dual of the Voronoi mesh.\n",
    "\n",
    "<p align=\"center\">\n",
    "  <img src=\"../_static/examples/mpas/c-grid.png\"\n",
    "  width=\"400\" / >\n",
    "</p>\n",
    "\n",
    "Since the Primal Mesh is predominantly made up of hexagons, with pentagons and heptagons occasionally being present, and the Dual Mesh being strictly triangular, this notebook will showcase how we can represent both of these meshes in the **UGRID** conventions using **UXarray**.\n",
    "\n",
    "\n",
    "\n"
   ]
  },
  {
   "cell_type": "markdown",
   "metadata": {},
   "source": [
    "## Dataset Overview\n",
    "\n",
    "Before diving straight into using **UXarray**, it is important to first investigate how MPAS datasets are represented.\n",
    "\n",
    "As mentioned in earlier notebooks, the grid definition and data variables are typically stored in separate files. However, in this example, our dataset will contain both within the same file, which is often the case when working with smaller datasets. Additionally, even when working with separate Grid and Data files in MPAS, the definition of the Primal and Dual mesh are still stored under the same Grid file.\n",
    "\n",
    "Below we can take a quick look into the dataset by opening it with **Xarray**.\n"
   ]
  },
  {
   "cell_type": "code",
   "execution_count": null,
   "outputs": [],
   "source": [
    "# Dataset Path\n",
    "mpas_root_filepath = \"../../test/meshfiles/mpas/\"\n",
    "mpas_dataset_filepath = mpas_root_filepath + \"QU/mesh.QU.1920km.151026.nc\""
   ],
   "metadata": {
    "collapsed": false
   }
  },
  {
   "cell_type": "code",
   "execution_count": null,
   "metadata": {
    "collapsed": false
   },
   "outputs": [],
   "source": [
    "import xarray as xr\n",
    "\n",
    "xrds_mpas = xr.open_dataset(mpas_dataset_filepath)\n",
    "xrds_mpas"
   ]
  },
  {
   "cell_type": "markdown",
   "metadata": {},
   "source": [
    "Here we opened up the dataset to get an overview of the full set of grid variables needed to describe an MPAS grid as outlined in the MPAS Specification Document [2]. Below is a list of the key grid variables that are used for representing and constructing the Primal and Dual meshes.\n",
    "\n",
    "\n",
    "### Primal Mesh\n",
    "* **lonVertex, latVertex**: Corner Vertices of Primal Mesh cells\n",
    "* **lonCell, latCell**: Center Vertices of Primal Mesh cells\n",
    "* **verticesOnCell**: Vertex indices that surround each Primal Mesh cell\n",
    "* **verticesOnEdge**: Vertex indices that saddle a given edge\n",
    "* **nEdgesOnCell**: Maximum number of edges that can surround a cell\n",
    "\n",
    "### Dual Mesh\n",
    "* **lonCell, latCell**: Corner Vertices of Dual Mesh cells\n",
    "* **lonVertex, latVertex**: Center Vertices of Dual Mesh cells\n",
    "* **cellsOnVertex**: Vertex indices that surround each Dual Mesh cell\n",
    "* **cellsOnEdge**: Vertex indices that saddle a given edge\n"
   ]
  },
  {
   "cell_type": "markdown",
   "source": [],
   "metadata": {
    "collapsed": false
   }
  },
  {
   "cell_type": "markdown",
   "metadata": {},
   "source": [
    "## Constructing a Grid Object\n",
    "\n",
    "```{note}\n",
    "Since we *only* have a Grid file and no Data file in this example, we will be working exclusively with the `Grid` class to investigate the grid topology and not with `UxDataset` or `UxDataArray` data structures.\n",
    "```\n",
    "\n",
    "The `xarray.Dataset` that we opened in the previous section stores the coordinates and connectivity variables according to the MPAS specification standards for both the Primal and Dual meshes together in a single dataset. Here, instead of opening up the dataset using **Xarray**, we can pass through the path into our `open_grid` method to construct an instance of a `Grid` class. This `Grid` can take in a `use_dual` parameter to select whether to construct the Primal or Dual mesh, parsing and encoding the appropriate variables in the UGRID conventions."
   ]
  },
  {
   "cell_type": "code",
   "execution_count": null,
   "metadata": {
    "collapsed": false
   },
   "outputs": [],
   "source": [
    "import uxarray as ux\n",
    "\n",
    "primal_mesh = ux.open_grid(mpas_dataset_filepath, use_dual=False)\n",
    "dual_mesh = ux.open_grid(mpas_dataset_filepath, use_dual=True)"
   ]
  },
  {
   "cell_type": "code",
   "execution_count": null,
   "metadata": {
    "collapsed": false
   },
   "outputs": [],
   "source": [
    "primal_mesh"
   ]
  },
  {
   "cell_type": "code",
   "execution_count": null,
   "metadata": {
    "collapsed": false
   },
   "outputs": [],
   "source": [
    "dual_mesh"
   ]
  },
  {
   "cell_type": "markdown",
   "metadata": {},
   "source": [
    "## Relationship between MPAS and UGRID\n",
    "\n",
    "In the previous two sections, we outlined the set of grid variables used to describe the Primal and Dual meshes and how to open an MPAS grid in **UXarray**. Here, we provide an overview of how we represent both meshes in the UGRID conventions and how the original grid variables were modified to meet these conventions.\n",
    "\n",
    "### Grid Variables (Primal Mesh)\n",
    "`node_lon` & `node_lat`\n",
    "* Longitude and Latitude coordinates of the Primal Mesh corner nodes\n",
    "* Derived from `lonVertex` & `latVertex`\n",
    "* Converted from Radians to Degrees\n",
    "\n",
    "`face_lon` & `face_lat`\n",
    "* Longitude and Latitude coordinates of the Primal Mesh center nodes\n",
    "* Derived from `lonCell` & `latCell`\n",
    "* Converted from Radians to Degrees\n",
    "\n",
    "`face_node_connectivity`\n",
    "* Connectivity array describing which nodes make up a face\n",
    "* Derived from `verticesOnCell`\n",
    "* Padding is replaced with `INT_FILL_VALUE`\n",
    "* Missing Values (zeros) replaced with `INT_FILL_VALUE`\n",
    "* Converted to zero-index\n",
    "\n",
    "`edge_node_connectivity`\n",
    "* Connectivity array describing which nodes link to form each edge\n",
    "* Derived from `verticesOnEdge`\n",
    "* Padding is replaced with `INT_FILL_VALUE`\n",
    "* Missing Values (zeros) replaced with `INT_FILL_VALUE`\n",
    "* Converted to zero-index\n",
    "\n",
    "### Grid Variables (Dual Mesh)\n",
    "\n",
    "`node_lon` & `node_lat`\n",
    "* Longitude and Latitude coordinates of the Dual Mesh vertices\n",
    "* Derived from `lonCell` & `latCell`, the centers of the Primal Mesh\n",
    "* Converted from Radians to Degrees\n",
    "\n",
    "`face_lon` & `face_lat`\n",
    "* Longitude and Latitude coordinates of the Dual Mesh centers\n",
    "* Derived from `lonVertex` & `latVertex`, the vertices of the Primal Mesh\n",
    "* Converted from Radians to Degrees\n",
    "\n",
    "`face_node_connectivity`\n",
    "* Connectivity array describing which nodes make up a face\n",
    "* Derived from `verticesOnCell`\n",
    "* Padding is replaced with `INT_FILL_VALUE`\n",
    "* Missing Values (zeros) replaced with `INT_FILL_VALUE`\n",
    "* Converted to zero-index\n",
    "\n",
    "`edge_node_connectivity`\n",
    "* Connectivity array describing which nodes link to form each edge\n",
    "* Derived from `verticesOnEdge`\n",
    "* Padding is replaced with `INT_FILL_VALUE`\n",
    "* Missing Values (zeros) replaced with `INT_FILL_VALUE`\n",
    "* Converted to zero-index"
   ]
  },
  {
   "cell_type": "markdown",
   "metadata": {},
   "source": [
    "## Functionality"
   ]
  },
  {
   "cell_type": "markdown",
   "source": [
    "### Face Area Calculation"
   ],
   "metadata": {
    "collapsed": false
   }
  },
  {
   "cell_type": "markdown",
   "source": [
    "Using our parsed attributes, we can determine whether our unstructured grid lies on the surface of a sphere by accessing the `on_a_sphere` attribute.\n"
   ],
   "metadata": {
    "collapsed": false
   }
  },
  {
   "cell_type": "code",
   "execution_count": null,
   "outputs": [],
   "source": [
    "primal_mesh.parsed_attrs['on_a_sphere']"
   ],
   "metadata": {
    "collapsed": false
   }
  },
  {
   "cell_type": "markdown",
   "source": [
    "Simiarly, we can access the `sphere_radius` attribute."
   ],
   "metadata": {
    "collapsed": false
   }
  },
  {
   "cell_type": "code",
   "execution_count": null,
   "outputs": [],
   "source": [
    "primal_mesh.parsed_attrs['sphere_radius']"
   ],
   "metadata": {
    "collapsed": false
   }
  },
  {
   "cell_type": "markdown",
   "metadata": {},
   "source": [
    "Since our mesh lies on a sphere, we would expect our total surface area to follow the equation\n",
    "\n",
    "{math}`4{\\pi}{r^2}`\n",
    "\n",
    "We can use the value of the `sphere_radius` attribute to calculate the expected total surface area."
   ]
  },
  {
   "cell_type": "code",
   "execution_count": null,
   "metadata": {
    "collapsed": false
   },
   "outputs": [],
   "source": [
    "import numpy as np\n",
    "\n",
    "sphere_r = primal_mesh.parsed_attrs['sphere_radius']\n",
    "expected_area = 4 * np.pi * (sphere_r)**2\n",
    "expected_area"
   ]
  },
  {
   "cell_type": "markdown",
   "metadata": {},
   "source": [
    "`UXarray` can be used to compute the face area of each face on our grid."
   ]
  },
  {
   "cell_type": "code",
   "execution_count": null,
   "metadata": {
    "collapsed": false
   },
   "outputs": [],
   "source": [
    "primal_mesh_face_areas = primal_mesh.face_areas\n",
    "primal_mesh_face_areas"
   ]
  },
  {
   "cell_type": "markdown",
   "source": [
    "The total face (surface) area can be computed by summing over each value."
   ],
   "metadata": {
    "collapsed": false
   }
  },
  {
   "cell_type": "code",
   "execution_count": null,
   "outputs": [],
   "source": [
    "primal_mesh_face_areas.sum()"
   ],
   "metadata": {
    "collapsed": false
   }
  },
  {
   "cell_type": "markdown",
   "metadata": {},
   "source": [
    "We can then compute the absolute error of our calculation."
   ]
  },
  {
   "cell_type": "code",
   "execution_count": null,
   "metadata": {
    "collapsed": false
   },
   "outputs": [],
   "source": [
    "abs(expected_area - primal_mesh_face_areas.sum())"
   ]
  },
  {
   "cell_type": "markdown",
   "metadata": {},
   "source": [
    "The same can be done for the Dual Mesh."
   ]
  },
  {
   "cell_type": "code",
   "execution_count": null,
   "metadata": {
    "collapsed": false
   },
   "outputs": [],
   "source": [
    "dual_mesh_face_areas = dual_mesh.face_areas\n",
    "dual_mesh_face_areas.sum()"
   ]
  },
  {
   "cell_type": "code",
   "execution_count": null,
   "metadata": {
    "collapsed": false
   },
   "outputs": [],
   "source": [
    "abs(expected_area - dual_mesh_face_areas.sum())"
   ]
  },
  {
   "cell_type": "markdown",
   "metadata": {},
   "source": [
    "We can see that the total face area of both the Primal and Dual meshes is within 1e-6 of the expected area. For a more detailed explanation of the face area calculation and ways to obtain more precision, check out our other notebooks."
   ]
  },
  {
   "cell_type": "markdown",
   "metadata": {},
   "source": [
    "## References\n",
    "\n",
    "[1] [https://mpas-dev.github.io/](https://mpas-dev.github.io/)\n",
    "\n",
    "[2] [https://mpas-dev.github.io/files/documents/MPAS-MeshSpec.pdf](https://mpas-dev.github.io/files/documents/MPAS-MeshSpec.pdf)\n",
    "\n",
    "[3] [http://ugrid-conventions.github.io/ugrid-conventions/](http://ugrid-conventions.github.io/ugrid-conventions/)"
   ]
  }
 ],
 "metadata": {
  "kernelspec": {
   "display_name": "Python 3 (ipykernel)",
   "language": "python",
   "name": "python3"
  },
  "language_info": {
   "codemirror_mode": {
    "name": "ipython",
    "version": 3
   },
   "file_extension": ".py",
   "mimetype": "text/x-python",
   "name": "python",
   "nbconvert_exporter": "python",
   "pygments_lexer": "ipython3",
   "version": "3.10.10"
  }
 },
 "nbformat": 4,
 "nbformat_minor": 4
}
