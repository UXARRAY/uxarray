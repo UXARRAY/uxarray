{
 "cells": [
  {
   "cell_type": "markdown",
   "id": "26faf1b8-c7be-484b-8ca7-41da85fee2f4",
   "metadata": {},
   "source": [
    "# Template for UXarray Usage Example "
   ]
  },
  {
   "cell_type": "markdown",
   "id": "b7dd298f-ab54-4611-9c73-49e6b5fd92ae",
   "metadata": {},
   "source": [
    "## Overview\n",
    "\n",
    "This usage example showcases how the template for UXarray usage examples would look like."
   ]
  },
  {
   "cell_type": "markdown",
   "id": "c1d30c3c-bf3b-4921-9e01-e99090286dcc",
   "metadata": {},
   "source": [
    "## Imports\n",
    "This notebook requires the following packages to be installed in the notebook environment. \n",
    "```\n",
    "mamba install -c conda-forge [required packages here]\n",
    "```"
   ]
  },
  {
   "cell_type": "markdown",
   "id": "eadb8648-9036-49d8-8f0e-a62122c386cd",
   "metadata": {},
   "source": [
    "## Interesting First Section Here"
   ]
  },
  {
   "cell_type": "markdown",
   "id": "ace849b1-e9b3-4b1d-818e-fdd44420ef85",
   "metadata": {},
   "source": [
    "## Cool Second Section Here"
   ]
  },
  {
   "cell_type": "markdown",
   "id": "b983c6a5-636e-4641-8526-b3e242533ce8",
   "metadata": {},
   "source": [
    "## Innovative Third Section Here"
   ]
  }
 ],
 "metadata": {
  "kernelspec": {
   "display_name": "Python 3 (ipykernel)",
   "language": "python",
   "name": "python3"
  },
  "language_info": {
   "codemirror_mode": {
    "name": "ipython",
    "version": 3
   },
   "file_extension": ".py",
   "mimetype": "text/x-python",
   "name": "python",
   "nbconvert_exporter": "python",
   "pygments_lexer": "ipython3",
   "version": "3.10.13"
  }
 },
 "nbformat": 4,
 "nbformat_minor": 5
}
