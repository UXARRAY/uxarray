{
 "cells": [
  {
   "cell_type": "markdown",
   "metadata": {
    "pycharm": {
     "name": "#%% md\n"
    }
   },
   "source": [
    "# Multiprecision Arithmetic UXArray\n",
    "In this notebook we will explore the use of the UXArray which supports multiprecision arithmetic."
   ]
  },
  {
   "cell_type": "code",
   "execution_count": null,
   "metadata": {
    "pycharm": {
     "name": "#%%\n",
     "is_executing": true
    }
   },
   "outputs": [],
   "source": [
    "import numpy as np\n",
    "import uxarray as ux\n",
    "import gmpy2\n",
    "from gmpy2 import mpfr, mpz"
   ]
  },
  {
   "cell_type": "markdown",
   "source": [
    "# Using GMPY2.mpfr type for Multiprecision Arithmetic\n",
    "The distance between any two nodes is less than 1e-17 (the precision of the nodes is 60 bits, which is larger than the the python `float` type precision of 53 bits)"
   ],
   "metadata": {
    "collapsed": false,
    "pycharm": {
     "name": "#%% md\n"
    }
   }
  },
  {
   "cell_type": "code",
   "execution_count": null,
   "metadata": {
    "pycharm": {
     "name": "#%%\n",
     "is_executing": true
    }
   },
   "outputs": [],
   "source": [
    "# Generate the nodes on the unit sphere, and the nodes are extremely close to each other: the edge length\n",
    "# between any two nodes is less than 1e-17 (the precision of the nodes is 60 bits but we will use 65 bits for\n",
    "# better demonstration)\n",
    "nodes = []\n",
    "for i in range(4):\n",
    "    theta = gmpy2.div(i * 2 * gmpy2.const_pi(precision=65),\n",
    "                      4)  # Angle in radians\n",
    "    x = gmpy2.cos(theta)\n",
    "    y = gmpy2.sin(theta)\n",
    "    z = mpfr(\n",
    "        '0')  # All nodes will have z-coordinate as 0 on the unit sphere\n",
    "    nodes.append([x, y, z])\n",
    "\n",
    "# Generate the face nodes connectivity\n",
    "dumb_nodes = [\n",
    "    ux.INT_FILL_VALUE_MPZ, ux.INT_FILL_VALUE_MPZ, ux.INT_FILL_VALUE_MPZ\n",
    "]\n",
    "\n",
    "face_nodes_connectivity = np.array([\n",
    "    np.array([nodes[0], nodes[1], nodes[2], dumb_nodes], dtype=object),\n",
    "    np.array([nodes[0], nodes[2], nodes[3], dumb_nodes], dtype=object),\n",
    "    np.array([nodes[0], nodes[3], nodes[1], dumb_nodes], dtype=object),\n",
    "    np.array([nodes[1], nodes[2], nodes[3], nodes[0]], dtype=object)\n",
    "], dtype=object)"
   ]
  },
  {
   "cell_type": "markdown",
   "source": [
    "Now we can see this topology has 4 faces and 4 nodes. Three of the facess have 3 nodes and one face has 4 nodes. So we also use the\n",
    "fill value `ux.INT_FILL_VALUE_MPZ` to fill the fourth node of the first three faces."
   ],
   "metadata": {
    "collapsed": false,
    "pycharm": {
     "name": "#%% md\n"
    }
   }
  },
  {
   "cell_type": "code",
   "execution_count": null,
   "outputs": [],
   "source": [
    "face_nodes_connectivity"
   ],
   "metadata": {
    "collapsed": false,
    "pycharm": {
     "name": "#%%\n"
    }
   }
  },
  {
   "cell_type": "markdown",
   "source": [
    "## Construct the Grid object with the multiprecision mode on"
   ],
   "metadata": {
    "collapsed": false,
    "pycharm": {
     "name": "#%% md\n"
    }
   }
  },
  {
   "cell_type": "code",
   "execution_count": null,
   "outputs": [],
   "source": [
    "# Create the grid\n",
    "vgrid = ux.Grid(face_nodes_connectivity,\n",
    "                multi_precision=True,\n",
    "                precision=65,\n",
    "                vertices=True,\n",
    "                islatlon=False,\n",
    "                concave=False)"
   ],
   "metadata": {
    "collapsed": false,
    "pycharm": {
     "name": "#%%\n"
    }
   }
  },
  {
   "cell_type": "markdown",
   "source": [
    "## Check the Grid Information\n",
    "We can see that even though the input nodes are extremely close to each other, the grid is still valid and not degenerated:\n",
    "The face number is still 4 and the node number is still 4."
   ],
   "metadata": {
    "collapsed": false,
    "pycharm": {
     "name": "#%% md\n"
    }
   }
  },
  {
   "cell_type": "code",
   "execution_count": null,
   "outputs": [],
   "source": [
    "vgrid.nMesh2_face\n",
    "vgrid.nMesh2_node"
   ],
   "metadata": {
    "collapsed": false,
    "pycharm": {
     "name": "#%%\n"
    }
   }
  },
  {
   "cell_type": "markdown",
   "source": [
    "#  Using python string type for Multiprecision Arithmetic\n",
    "You can also input the coordinates as string. The string will be converted to the mpfr type."
   ],
   "metadata": {
    "collapsed": false,
    "pycharm": {
     "name": "#%% md\n"
    }
   }
  },
  {
   "cell_type": "code",
   "execution_count": null,
   "outputs": [],
   "source": [
    "# Provide nodes that are extremely closed to each other\n",
    "face_nodes_connectivity = [['1.000000000000000000', '1.000000000000000000001', '1.0000000000000000000012','INT_FILL_VALUE'],\n",
    " ['1.000000000000000001', '1.000000000000000000002', '1.0000000000000000000013','1.0000000000000000000014']]\n",
    "\n",
    "uxgrid =   ux.Grid(face_nodes_connectivity, multi_precision=True, precision= 100,\n",
    "                        vertices=True,\n",
    "                        islatlon=False,\n",
    "                        concave=False)"
   ],
   "metadata": {
    "collapsed": false,
    "pycharm": {
     "name": "#%%\n"
    }
   }
  },
  {
   "cell_type": "markdown",
   "source": [
    "## Check the Grid Information"
   ],
   "metadata": {
    "collapsed": false,
    "pycharm": {
     "name": "#%% md\n"
    }
   }
  },
  {
   "cell_type": "code",
   "execution_count": null,
   "outputs": [],
   "source": [
    "print(uxgrid.nMesh2_face)\n",
    "print(uxgrid.nMesh2_node)"
   ],
   "metadata": {
    "collapsed": false,
    "pycharm": {
     "name": "#%%\n"
    }
   }
  },
  {
   "cell_type": "markdown",
   "source": [
    "# Precise Conversion between Spherical and Cartesian Coordinates\n",
    "By turning on the multiprecision mode, the conversion between spherical and cartesian coordinates will be exact in the given precision."
   ],
   "metadata": {
    "collapsed": false,
    "pycharm": {
     "name": "#%% md\n"
    }
   }
  },
  {
   "cell_type": "markdown",
   "source": [
    "## Test for the longitude and latitude conversion helper functions with multiprecision\n",
    "The following example shows that the conversion between longitude and latitude and xyz is exact in the given precision when using the\n",
    "gmpy2.mpfr type. Such exact compuation is also supported in our Grid object.\n"
   ],
   "metadata": {
    "collapsed": false,
    "pycharm": {
     "name": "#%% md\n"
    }
   }
  },
  {
   "cell_type": "code",
   "execution_count": null,
   "outputs": [],
   "source": [
    "import uxarray as ux\n",
    "import uxarray.helpers as helpers\n",
    "import uxarray.multi_precision_helpers as mp_helpers\n",
    "\n",
    "\n",
    "# With the multiprecision mode on, the conversion between spherical and cartesian coordinates will be exact in the given precision\n",
    "# Multiprecision test for places=19, And we set the global precision places to 20\n",
    "# Repeat the conversion between latitude and longitude and xyz for 1000 times\n",
    "# And see if the results are the same as the initial coordinates\n",
    "\n",
    "precision = mp_helpers.decimal_digits_to_precision_bits(20)\n",
    "\n",
    "# Set the global precision of the mpfr numbers.\n",
    "# Important Note:\n",
    "# 1. To avoid arithmetic overflow, the global precision should always be higher than any other precision speicified\n",
    "# in the code.\n",
    "# 2. Modifying the precision by calling this function will modify all following codes running context until\n",
    "# another call to this function.\n",
    "mp_helpers.set_global_precision(precision)\n",
    "\n",
    "# The initial coordinates\n",
    "[init_x, init_y, init_z] = ux.helpers.normalize_in_place([mpfr('0.12345678910111213149'),mpfr('0.92345678910111213149'),mpfr('1.72345678910111213149')])\n",
    "new_x = init_x\n",
    "new_y = init_y\n",
    "new_z = init_z\n",
    "for iter in range(1000):\n",
    "    [new_lon, new_lat] = ux.helpers.node_xyz_to_lonlat_rad([new_x, new_y, new_z])\n",
    "    [new_x, new_y, new_z] = ux.helpers.node_lonlat_rad_to_xyz([new_lon, new_lat])\n",
    "    assert new_x == init_x\n",
    "    assert new_y == init_y\n",
    "\n",
    "# Test for the longitude and latitude conversion\n",
    "# The initial coordinates\n",
    "[init_lon, init_lat] = [mpfr('1.4000332309896247'),mpfr('1.190289949682531')]\n",
    "# Reset global precision to default\n",
    "new_lat = init_lat\n",
    "new_lon = init_lon\n",
    "for iter in range(1000):\n",
    "    [new_x, new_y, new_z] = ux.helpers.node_lonlat_rad_to_xyz([new_lon, new_lat])\n",
    "    [new_lon, new_lat] = ux.helpers.node_xyz_to_lonlat_rad([new_x, new_y, new_z])\n",
    "    assert new_lon == init_lon\n",
    "    assert new_lat == init_lat\n",
    "\n",
    "# Reset global precision to default\n",
    "mp_helpers.set_global_precision()"
   ],
   "metadata": {
    "collapsed": false,
    "pycharm": {
     "name": "#%%\n"
    }
   }
  }
 ],
 "metadata": {
  "kernelspec": {
   "display_name": "Python 3.9.13 ('uxarray-docs')",
   "language": "python",
   "name": "python3"
  },
  "language_info": {
   "codemirror_mode": {
    "name": "ipython",
    "version": 3
   },
   "file_extension": ".py",
   "mimetype": "text/x-python",
   "name": "python",
   "nbconvert_exporter": "python",
   "pygments_lexer": "ipython3",
   "version": "3.9.13"
  },
  "orig_nbformat": 4,
  "vscode": {
   "interpreter": {
    "hash": "5df6a94ef43b22c97c277f6a9dce3b546a324b9de41c6d8e82aecf8eafd14442"
   }
  }
 },
 "nbformat": 4,
 "nbformat_minor": 2
}