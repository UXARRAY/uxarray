{
 "cells": [
  {
   "cell_type": "markdown",
   "id": "1260f89a9b09e69f",
   "metadata": {
    "collapsed": false
   },
   "source": [
    "# Visualizing MPAS Grid Topology\n",
    "\n",
    "Author: [Philip Chmielowiec](https://github.com/philipc2)\n",
    "\n",
    "This notebook showcases an interactive plot of the topology of an MPAS Atmopshere Grid. Both the Primal and Dual meshes are shown together, which together form a Voronoi Mesh.\n",
    "\n"
   ]
  },
  {
   "cell_type": "code",
   "id": "69e63dca15b3d77b",
   "metadata": {
    "collapsed": false
   },
   "source": [
    "import uxarray as ux"
   ],
   "outputs": [],
   "execution_count": null
  },
  {
   "cell_type": "code",
   "id": "3e4b0e39e371277b",
   "metadata": {
    "collapsed": false
   },
   "source": [
    "base_path = \"../../../test/meshfiles/mpas/QU/\"\n",
    "grid_path = base_path + \"mesh.QU.1920km.151026.nc\"\n",
    "primal_grid = ux.open_grid(grid_path, use_dual=False)\n",
    "dual_grid = ux.open_grid(grid_path, use_dual=True)"
   ],
   "outputs": [],
   "execution_count": null
  },
  {
   "cell_type": "code",
   "id": "df9e6c984a6b005e",
   "metadata": {
    "collapsed": false
   },
   "source": [
    "(\n",
    "    primal_grid.plot.edges(color=\"Blue\", line_width=2)\n",
    "    * primal_grid.plot.nodes(color=\"Blue\", size=10)\n",
    "    * dual_grid.plot.edges(color=\"Red\", line_width=2)\n",
    "    * dual_grid.plot.nodes(color=\"Red\", size=10)\n",
    ").opts(\n",
    "    title=\"MPAS Primal & Dual Mesh\",\n",
    "    xlim=(-50, 50),\n",
    "    ylim=(-25, 25),\n",
    "    width=700,\n",
    "    height=350,\n",
    ")"
   ],
   "outputs": [],
   "execution_count": null
  },
  {
   "metadata": {},
   "cell_type": "code",
   "source": "",
   "id": "a4fa03742c6850ae",
   "outputs": [],
   "execution_count": null
  }
 ],
 "metadata": {
  "kernelspec": {
   "display_name": "Python 3 (ipykernel)",
   "language": "python",
   "name": "python3"
  },
  "language_info": {
   "codemirror_mode": {
    "name": "ipython",
    "version": 3
   },
   "file_extension": ".py",
   "mimetype": "text/x-python",
   "name": "python",
   "nbconvert_exporter": "python",
   "pygments_lexer": "ipython3",
   "version": "3.11.5"
  }
 },
 "nbformat": 4,
 "nbformat_minor": 5
}
