{
 "cells": [
  {
   "cell_type": "markdown",
   "source": [
    "# Conversion to ``PolyCollection`` and ``LineCollection`` for Visualization with Matplotlib\n",
    "Authors: [Philip Chmielowiec](https://github.com/philipc2), [Ian Franda](https://github.com/ifranda)\n",
    "\n",
    "## Overview\n",
    "\n",
    "TODO ~~~\n",
    "This usage example notebook showcases how UXarray data structures (`Grid`, `UxDataArray`) can be converted in a Spatialpandas `GeoDataFrame`, which can be used directly by packages from the HoloViz stack, such as hvPlot, Datashader, Holoviews, and Geoviews. In addition to showing how to convert to a `GeoDataFrame`, a series of visualizations using hvPlot and GeoViews is showcased based around the converted data structure.\n",
    "\n",
    "```{note}\n",
    "While the visualizations in this notebook are not rendered using UXarray functionality, development of UXarray's own visualization functions can be tracked [here](https://github.com/UXARRAY/uxarray/milestone/2).\n",
    "```\n",
    "\n"
   ],
   "metadata": {
    "collapsed": false
   },
   "id": "8847a9c92d04034"
  },
  {
   "cell_type": "code",
   "execution_count": null,
   "outputs": [],
   "source": [
    "import uxarray as ux\n",
    "import matplotlib.pyplot as plt\n",
    "import cartopy.crs as ccrs\n",
    "import cartopy.feature as cfeature"
   ],
   "metadata": {
    "collapsed": false
   },
   "id": "5b6a0111074018d"
  },
  {
   "cell_type": "code",
   "execution_count": null,
   "id": "initial_id",
   "metadata": {
    "collapsed": true
   },
   "outputs": [],
   "source": [
    "base_path = \"../../test/meshfiles/ugrid/outCSne30/\"\n",
    "grid_path = base_path + \"outCSne30.ug\"\n",
    "data_path = base_path + \"outCSne30_vortex.nc\""
   ]
  },
  {
   "cell_type": "code",
   "execution_count": null,
   "outputs": [],
   "source": [
    "uxds = ux.open_dataset(grid_path, data_path)"
   ],
   "metadata": {
    "collapsed": false
   },
   "id": "172f2391b748c5bc"
  },
  {
   "cell_type": "code",
   "execution_count": null,
   "outputs": [],
   "source": [
    "uxds"
   ],
   "metadata": {
    "collapsed": false
   },
   "id": "29c072eeb98318ac"
  },
  {
   "cell_type": "code",
   "execution_count": null,
   "outputs": [],
   "source": [
    "uxds.uxgrid"
   ],
   "metadata": {
    "collapsed": false
   },
   "id": "7b070ad2ad619449"
  },
  {
   "cell_type": "markdown",
   "source": [
    "## Conversion to ``LineCollection`` for visualizing Grid Geometries"
   ],
   "metadata": {
    "collapsed": false
   },
   "id": "6947982de1f6dbc"
  },
  {
   "cell_type": "code",
   "execution_count": null,
   "outputs": [],
   "source": [
    "line_collection = uxds.uxgrid.to_linecollection()"
   ],
   "metadata": {
    "collapsed": false
   },
   "id": "499d17d794ccc9a2"
  },
  {
   "cell_type": "markdown",
   "source": [
    "### Visualization Example"
   ],
   "metadata": {
    "collapsed": false
   },
   "id": "303506bdcb4eb76"
  },
  {
   "cell_type": "code",
   "execution_count": null,
   "outputs": [],
   "source": [
    "plt.figure(figsize=(12, 8))\n",
    "ax = plt.axes(projection = ccrs.PlateCarree())\n",
    "ax.coastlines()\n",
    "ax.set_extent((-180, 180, -90, 90))\n",
    "ax.add_collection(line_collection)\n",
    "plt.title(\"Title\")"
   ],
   "metadata": {
    "collapsed": false
   },
   "id": "b6f8db2d6484e282"
  },
  {
   "cell_type": "markdown",
   "source": [
    "## Conversion to ``PolyCollection`` for visualizing Data Variables"
   ],
   "metadata": {
    "collapsed": false
   },
   "id": "cb5e77780f071899"
  },
  {
   "cell_type": "code",
   "execution_count": null,
   "outputs": [],
   "source": [
    "poly_collection, _ = uxds['psi'].to_polycollection()"
   ],
   "metadata": {
    "collapsed": false
   },
   "id": "bb1ce0efbebc0701"
  },
  {
   "cell_type": "code",
   "execution_count": null,
   "outputs": [],
   "source": [
    "poly_collection"
   ],
   "metadata": {
    "collapsed": false
   },
   "id": "dd2a1c127203ef22"
  },
  {
   "cell_type": "markdown",
   "source": [
    "### Visualization Example"
   ],
   "metadata": {
    "collapsed": false
   },
   "id": "51a8b84934817841"
  },
  {
   "cell_type": "code",
   "execution_count": null,
   "outputs": [],
   "source": [
    "plt.figure(figsize=(12, 8))\n",
    "ax = plt.axes(projection=ccrs.Robinson())\n",
    "poly_collection.set_cmap(\"inferno\")\n",
    "ax.add_collection(poly_collection)\n",
    "ax.add_feature(cfeature.LAND, facecolor='forestgreen')\n",
    "ax.add_feature(cfeature.COASTLINE, alpha=0.4)\n",
    "ax.add_feature(cfeature.BORDERS, alpha=0.3)\n",
    "ax.set_title(\"Title\")\n",
    "ax.set_global()\n",
    "ax.set_extent((-180, 180, -90, 90), crs=ccrs.PlateCarree())\n",
    "plt.colorbar(poly_collection)"
   ],
   "metadata": {
    "collapsed": false
   },
   "id": "da7f98e3e2dbd454"
  }
 ],
 "metadata": {
  "kernelspec": {
   "display_name": "Python 3",
   "language": "python",
   "name": "python3"
  },
  "language_info": {
   "codemirror_mode": {
    "name": "ipython",
    "version": 2
   },
   "file_extension": ".py",
   "mimetype": "text/x-python",
   "name": "python",
   "nbconvert_exporter": "python",
   "pygments_lexer": "ipython2",
   "version": "2.7.6"
  }
 },
 "nbformat": 4,
 "nbformat_minor": 5
}
