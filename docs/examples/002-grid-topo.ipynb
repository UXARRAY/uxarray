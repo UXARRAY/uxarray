{
 "cells": [
  {
   "cell_type": "markdown",
   "source": [
    "# Grid Topology Overview"
   ],
   "metadata": {
    "collapsed": false
   }
  },
  {
   "cell_type": "markdown",
   "source": [
    "## Constructing a `UxDataset`"
   ],
   "metadata": {
    "collapsed": false
   }
  },
  {
   "cell_type": "code",
   "execution_count": null,
   "outputs": [],
   "source": [
    "import uxarray as ux"
   ],
   "metadata": {
    "collapsed": false,
    "ExecuteTime": {
     "start_time": "2023-06-08T22:17:22.594611Z",
     "end_time": "2023-06-08T22:17:23.224610Z"
    }
   }
  },
  {
   "cell_type": "code",
   "execution_count": null,
   "outputs": [],
   "source": [
    "# Base data path\n",
    "base_path = \"../../test/meshfiles/\"\n",
    "\n",
    "# Grid File Path\n",
    "grid_ne30_path = base_path + \"/ugrid/outCSne30/outCSne30.ug\"\n",
    "\n",
    "# Data File Path\n",
    "data_ne30_path = base_path + \"/ugrid/outCSne30/outCSne30_vortex.nc\""
   ],
   "metadata": {
    "collapsed": false,
    "ExecuteTime": {
     "start_time": "2023-06-08T22:17:23.226610Z",
     "end_time": "2023-06-08T22:17:23.239610Z"
    }
   }
  },
  {
   "cell_type": "code",
   "execution_count": null,
   "outputs": [],
   "source": [
    "uxds = ux.open_dataset(grid_ne30_path, data_ne30_path)\n",
    "uxds"
   ],
   "metadata": {
    "collapsed": false,
    "ExecuteTime": {
     "start_time": "2023-06-08T22:17:23.241611Z",
     "end_time": "2023-06-08T22:17:23.287610Z"
    }
   }
  },
  {
   "cell_type": "code",
   "execution_count": null,
   "outputs": [],
   "source": [
    "uxds.uxgrid"
   ],
   "metadata": {
    "collapsed": false,
    "ExecuteTime": {
     "start_time": "2023-06-08T22:17:23.288610Z",
     "end_time": "2023-06-08T22:17:23.302610Z"
    }
   }
  },
  {
   "cell_type": "markdown",
   "source": [
    "## Attributes"
   ],
   "metadata": {
    "collapsed": false
   }
  },
  {
   "cell_type": "code",
   "execution_count": null,
   "outputs": [],
   "source": [
    "uxds.uxgrid.Mesh2"
   ],
   "metadata": {
    "collapsed": false,
    "ExecuteTime": {
     "start_time": "2023-06-08T22:17:23.303611Z",
     "end_time": "2023-06-08T22:17:23.441611Z"
    }
   }
  },
  {
   "cell_type": "code",
   "execution_count": null,
   "outputs": [],
   "source": [
    "uxds.uxgrid.parsed_attrs"
   ],
   "metadata": {
    "collapsed": false,
    "ExecuteTime": {
     "start_time": "2023-06-08T22:17:23.442611Z",
     "end_time": "2023-06-08T22:17:23.455610Z"
    }
   }
  },
  {
   "cell_type": "markdown",
   "source": [
    "## Coordinates"
   ],
   "metadata": {
    "collapsed": false
   }
  },
  {
   "cell_type": "code",
   "execution_count": null,
   "outputs": [],
   "source": [
    "uxds.uxgrid.Mesh2_node_x"
   ],
   "metadata": {
    "collapsed": false,
    "ExecuteTime": {
     "start_time": "2023-06-08T22:17:23.456611Z",
     "end_time": "2023-06-08T22:17:23.490610Z"
    }
   }
  },
  {
   "cell_type": "code",
   "execution_count": null,
   "outputs": [],
   "source": [
    "uxds.uxgrid.Mesh2_node_y"
   ],
   "metadata": {
    "collapsed": false,
    "ExecuteTime": {
     "start_time": "2023-06-08T22:17:23.473611Z",
     "end_time": "2023-06-08T22:17:23.491610Z"
    }
   }
  },
  {
   "cell_type": "markdown",
   "source": [
    "## Connectivity"
   ],
   "metadata": {
    "collapsed": false
   }
  },
  {
   "cell_type": "code",
   "execution_count": null,
   "outputs": [],
   "source": [
    "uxds.uxgrid.Mesh2_face_nodes"
   ],
   "metadata": {
    "collapsed": false,
    "ExecuteTime": {
     "start_time": "2023-06-08T22:17:23.489612Z",
     "end_time": "2023-06-08T22:17:23.504610Z"
    }
   }
  },
  {
   "cell_type": "code",
   "execution_count": null,
   "outputs": [],
   "source": [
    "uxds.uxgrid.nNodes_per_face"
   ],
   "metadata": {
    "collapsed": false,
    "ExecuteTime": {
     "start_time": "2023-06-08T22:17:23.504610Z",
     "end_time": "2023-06-08T22:17:23.532610Z"
    }
   }
  },
  {
   "cell_type": "code",
   "execution_count": null,
   "outputs": [],
   "source": [
    "uxds.uxgrid"
   ],
   "metadata": {
    "collapsed": false,
    "ExecuteTime": {
     "start_time": "2023-06-08T22:17:23.520610Z",
     "end_time": "2023-06-08T22:17:23.534610Z"
    }
   }
  },
  {
   "cell_type": "markdown",
   "source": [
    "As we saw above, these were the only two connectivity variables that we had stored. In addition to these, we provide support for constructing additional connectivity variables."
   ],
   "metadata": {
    "collapsed": false
   }
  },
  {
   "cell_type": "code",
   "execution_count": null,
   "outputs": [],
   "source": [
    "uxds.uxgrid.Mesh2_edge_nodes"
   ],
   "metadata": {
    "collapsed": false,
    "ExecuteTime": {
     "start_time": "2023-06-08T22:17:23.535610Z",
     "end_time": "2023-06-08T22:17:23.596610Z"
    }
   }
  },
  {
   "cell_type": "code",
   "execution_count": null,
   "outputs": [],
   "source": [
    "uxds.uxgrid.Mesh2_face_edges"
   ],
   "metadata": {
    "collapsed": false,
    "ExecuteTime": {
     "start_time": "2023-06-08T22:17:23.567611Z",
     "end_time": "2023-06-08T22:17:23.601610Z"
    }
   }
  },
  {
   "cell_type": "code",
   "execution_count": null,
   "outputs": [],
   "source": [
    "uxds.uxgrid"
   ],
   "metadata": {
    "collapsed": false,
    "ExecuteTime": {
     "start_time": "2023-06-08T22:17:23.582611Z",
     "end_time": "2023-06-08T22:17:23.602611Z"
    }
   }
  },
  {
   "cell_type": "markdown",
   "source": [
    "These additional variables are stored upon calling the attribute and are now stored under the `uxgrid` accessor."
   ],
   "metadata": {
    "collapsed": false
   }
  },
  {
   "cell_type": "markdown",
   "source": [
    "## Dimensions"
   ],
   "metadata": {
    "collapsed": false
   }
  },
  {
   "cell_type": "code",
   "execution_count": null,
   "outputs": [],
   "source": [],
   "metadata": {
    "collapsed": false,
    "ExecuteTime": {
     "start_time": "2023-06-08T22:17:23.598610Z",
     "end_time": "2023-06-08T22:17:23.613610Z"
    }
   }
  }
 ],
 "metadata": {
  "kernelspec": {
   "display_name": "Python 3 (ipykernel)",
   "language": "python",
   "name": "python3"
  },
  "language_info": {
   "codemirror_mode": {
    "name": "ipython",
    "version": 3
   },
   "file_extension": ".py",
   "mimetype": "text/x-python",
   "name": "python",
   "nbconvert_exporter": "python",
   "pygments_lexer": "ipython3",
   "version": "3.10.10"
  }
 },
 "nbformat": 4,
 "nbformat_minor": 4
}
