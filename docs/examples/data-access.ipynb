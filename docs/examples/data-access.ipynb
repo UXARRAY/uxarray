{
 "cells": [
  {
   "cell_type": "markdown",
   "metadata": {},
   "source": [
    "# Accessing Data\n",
    "\n",
    "Unstructured grid files can be represented in one of many different conventions (UGRID, SCRIP, EXODUS, etc). These conventions have different definitions and representations of the variables used to describe unstructured grids.\n",
    "\n",
    "UXarray unifies all of these conventions at the data loading step by representing grid files in the UGRID convention. This notebook will showcase the different methods available for accessing data stored in `Grid` objects. For more details on how to load in data, check out our other usage example [here](https://uxarray.readthedocs.io/en/latest/examples/reading-data.html)\n",
    "\n",
    "**Methods**\n",
    "1. Indexing with Original Variable Name\n",
    "2. UGRID Convenience Attributes\n",
    "3. Indexing with Variable Dictionary"
   ]
  },
  {
   "cell_type": "code",
   "execution_count": 36,
   "metadata": {},
   "outputs": [],
   "source": [
    "import uxarray as ux"
   ]
  },
  {
   "cell_type": "code",
   "execution_count": 37,
   "metadata": {},
   "outputs": [],
   "source": [
    "# Base Data Path\n",
    "base_path = \"../../test/meshfiles/\"\n",
    "\n",
    "# Grid File Paths\n",
    "ugrid_01_path = base_path + \"outCSne30.ug\"\n",
    "ugrid_02_path = base_path + \"geoflow-small/grid.nc\""
   ]
  },
  {
   "cell_type": "markdown",
   "metadata": {},
   "source": [
    "## Data\n",
    "\n",
    "We will be using two grid files, both of which are in the UGRID convention. However, the key difference between them is the names used to describe the variables. The output of the bottom cell showcases the slight differences in variable names"
   ]
  },
  {
   "cell_type": "code",
   "execution_count": 62,
   "metadata": {},
   "outputs": [
    {
     "name": "stdout",
     "output_type": "stream",
     "text": [
      "Loading initial grid from file:  ../../test/meshfiles/outCSne30.ug\n",
      "Loading initial grid from file:  ../../test/meshfiles/geoflow-small/grid.nc\n",
      "\n",
      "Variable Names\n",
      "ugrid_01 variable names: ['Mesh2', 'Mesh2_face_nodes', 'Mesh2_node_x', 'Mesh2_node_y']\n",
      "ugrid_02 variable names: ['mesh', 'mesh_face_nodes', 'mesh_depth', 'mesh_node_x', 'mesh_node_y']\n"
     ]
    }
   ],
   "source": [
    "# Load grid files and extract variable names\n",
    "ugrid_01 = ux.open_dataset(ugrid_01_path)\n",
    "ugrid_01_names = list(ugrid_01.ds.keys()) + list(ugrid_01.ds.coords)\n",
    "ugrid_02 = ux.open_dataset(ugrid_02_path)\n",
    "ugrid_02_names = list(ugrid_02.ds.keys()) + list(ugrid_02.ds.coords)\n",
    "\n",
    "print(\"\\nVariable Names\")\n",
    "print(\"ugrid_01 variable names:\", ugrid_01_names)\n",
    "print(\"ugrid_02 variable names:\", ugrid_02_names)"
   ]
  },
  {
   "cell_type": "markdown",
   "metadata": {},
   "source": [
    "## Indexing with Original Variable Name\n",
    "\n",
    "The simplest approach is to use the original variable name as an index into the grid data array `Grid.ds`. Since `ugrid_01` and `ugrid_02` have different names for their variables, the index for accessing data will be different for both datasets. "
   ]
  },
  {
   "cell_type": "code",
   "execution_count": 15,
   "metadata": {},
   "outputs": [],
   "source": [
    "x_1 = ugrid_01.ds['Mesh2_node_x']\n",
    "y_1 = ugrid_01.ds['Mesh2_node_y']\n",
    "face_nodes_1 = ugrid_01.ds['Mesh2_face_nodes']\n",
    "\n",
    "x_2 = ugrid_02.ds['mesh_node_x']\n",
    "y_2 = ugrid_02.ds['mesh_node_y']\n",
    "face_nodes_2 = ugrid_02.ds['mesh_face_nodes']"
   ]
  },
  {
   "cell_type": "markdown",
   "metadata": {},
   "source": [
    "## Indexing with UGRID Variable Dictionary\n",
    "\n",
    "UXarray provides a `Grid.ds_var_names` dictionary which uses UGRID convention variable names as keys to access the original variable names. This allows us to use the same index into either dataset, since the dictionary expects the UGRID variable name as a key. However, this makes our index much longer than the previous method.\n"
   ]
  },
  {
   "cell_type": "code",
   "execution_count": 24,
   "metadata": {},
   "outputs": [],
   "source": [
    "var_names = ugrid_01.ds_var_names\n",
    "x_1 = ugrid_01.ds[var_names['Mesh2_node_x']]\n",
    "y_1 = ugrid_01.ds[var_names['Mesh2_node_y']]\n",
    "face_nodes_1 = ugrid_01.ds[var_names['Mesh2_face_nodes']]\n",
    "\n",
    "var_names = ugrid_02.ds_var_names\n",
    "x_2 = ugrid_02.ds[var_names['Mesh2_node_x']]\n",
    "y_2 = ugrid_02.ds[var_names['Mesh2_node_y']]\n",
    "face_nodes_2 = ugrid_02.ds[var_names['Mesh2_face_nodes']]"
   ]
  },
  {
   "cell_type": "markdown",
   "metadata": {},
   "source": [
    "## UGRID Convenience Attributes\n",
    "The last way of accessing data is to use the UGRID Convenience Attributes. These utilize the `ds_var_names` dictionary behind the hood to return a reference to the Xarray data array. This eliminates the need to remember the original variable names and needing to index with the `ds_var_names` dictionary. "
   ]
  },
  {
   "cell_type": "code",
   "execution_count": 11,
   "metadata": {},
   "outputs": [],
   "source": [
    "x_1 = ugrid_01.Mesh2_node_x\n",
    "y_1 = ugrid_01.Mesh2_node_y\n",
    "face_nodes_1 = ugrid_01.Mesh2_face_nodes\n",
    "\n",
    "x_2 = ugrid_02.Mesh2_node_x\n",
    "y_2 = ugrid_02.Mesh2_node_y\n",
    "face_nodes_2 = ugrid_02.Mesh2_face_nodes"
   ]
  },
  {
   "cell_type": "markdown",
   "metadata": {},
   "source": []
  }
 ],
 "metadata": {
  "kernelspec": {
   "display_name": "Python 3.10.5 ('uxarray_build')",
   "language": "python",
   "name": "python3"
  },
  "language_info": {
   "codemirror_mode": {
    "name": "ipython",
    "version": 3
   },
   "file_extension": ".py",
   "mimetype": "text/x-python",
   "name": "python",
   "nbconvert_exporter": "python",
   "pygments_lexer": "ipython3",
   "version": "3.10.5"
  },
  "orig_nbformat": 4,
  "vscode": {
   "interpreter": {
    "hash": "8e8ae2f388051fced6c30f82a529eeca8cf1e059ab06a64326e2a2ad0ec3c36c"
   }
  }
 },
 "nbformat": 4,
 "nbformat_minor": 2
}
