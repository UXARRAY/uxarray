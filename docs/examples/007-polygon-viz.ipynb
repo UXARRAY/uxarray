{
 "cells": [
  {
   "cell_type": "markdown",
   "source": [
    "# Visualizing Data as Polygons\n",
    "Authors: [Philip Chmielowiec](https://github.com/philipc2)"
   ],
   "metadata": {
    "collapsed": false
   },
   "id": "2d27e9523848e6b6"
  },
  {
   "cell_type": "markdown",
   "source": [
    "## Overview\n",
    "TODO\n",
    "\n",
    "```{note}\n",
    "UXarray's Plotting API is build around the [Holoviews](https://holoviews.org/) package. For details about customization and accepted parameters, pleases refer to their documentation.\n",
    "```"
   ],
   "metadata": {
    "collapsed": false
   },
   "id": "334f467830facff5"
  },
  {
   "cell_type": "code",
   "execution_count": null,
   "outputs": [],
   "source": [
    "import uxarray as ux\n",
    "from holoviews import opts"
   ],
   "metadata": {
    "collapsed": false
   },
   "id": "3973502baec97404"
  },
  {
   "cell_type": "code",
   "execution_count": null,
   "outputs": [],
   "source": [
    "import uxarray as ux\n",
    "from holoviews import opts"
   ],
   "metadata": {
    "collapsed": false
   },
   "id": "a3204ae8de696eb1"
  },
  {
   "cell_type": "markdown",
   "source": [
    "### Face-Centered Data Variable"
   ],
   "metadata": {
    "collapsed": false
   },
   "id": "1349f9a3e963f4ac"
  },
  {
   "cell_type": "code",
   "execution_count": null,
   "outputs": [],
   "source": [
    "base_path = \"../../test/meshfiles/mpas/QU/\"\n",
    "grid_path = base_path + \"oQU480.231010.nc\"\n",
    "uxds_mpas = ux.open_dataset(grid_path, grid_path)\n",
    "uxds_mpas['bottomDepth']"
   ],
   "metadata": {
    "collapsed": false
   },
   "id": "e1726e6ae5c8aa4a"
  },
  {
   "cell_type": "markdown",
   "source": [
    "### Node-Centered Data Variable"
   ],
   "metadata": {
    "collapsed": false
   },
   "id": "8eb7bf5e099279"
  },
  {
   "cell_type": "code",
   "execution_count": null,
   "outputs": [],
   "source": [
    "base_path = \"../../test/meshfiles/ugrid/geoflow-small/\"\n",
    "grid_path = base_path + \"grid.nc\"\n",
    "data_path = base_path + \"v1.nc\"\n",
    "uxds_ugrid = ux.open_dataset(grid_path, data_path)\n",
    "uxds_ugrid['v1']"
   ],
   "metadata": {
    "collapsed": false
   },
   "id": "86bc92d2c63e7a6d"
  },
  {
   "cell_type": "markdown",
   "source": [
    "## Vector Polygon Plots"
   ],
   "metadata": {
    "collapsed": false
   },
   "id": "7dca7d27c5bc293d"
  },
  {
   "cell_type": "code",
   "execution_count": null,
   "outputs": [],
   "source": [
    "uxds_ugrid['v1'][0][0].nodal_average().plot.polygons()"
   ],
   "metadata": {
    "collapsed": false
   },
   "id": "eb03aeb6a316cce9"
  },
  {
   "cell_type": "code",
   "execution_count": null,
   "outputs": [],
   "source": [],
   "metadata": {
    "collapsed": false
   },
   "id": "5f037ebd103d15a4"
  }
 ],
 "metadata": {
  "kernelspec": {
   "display_name": "Python 3",
   "language": "python",
   "name": "python3"
  },
  "language_info": {
   "codemirror_mode": {
    "name": "ipython",
    "version": 2
   },
   "file_extension": ".py",
   "mimetype": "text/x-python",
   "name": "python",
   "nbconvert_exporter": "python",
   "pygments_lexer": "ipython2",
   "version": "2.7.6"
  }
 },
 "nbformat": 4,
 "nbformat_minor": 5
}
