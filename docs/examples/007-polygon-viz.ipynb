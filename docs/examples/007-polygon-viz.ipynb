{
 "cells": [
  {
   "cell_type": "markdown",
   "source": [
    "# Visualizing Data as Polygons\n",
    "Authors: [Philip Chmielowiec](https://github.com/philipc2)"
   ],
   "metadata": {
    "collapsed": false
   },
   "id": "2d27e9523848e6b6"
  },
  {
   "cell_type": "markdown",
   "source": [
    "## Overview\n",
    "This notebook showcases how to visualize data variables as Polygons using the UXarray Plotting API.\n",
    "\n",
    "```{note}\n",
    "UXarray's Plotting API is build around the [Holoviews](https://holoviews.org/) package. For details about customization and accepted parameters, pleases refer to their documentation.\n",
    "```"
   ],
   "metadata": {
    "collapsed": false
   },
   "id": "334f467830facff5"
  },
  {
   "cell_type": "code",
   "execution_count": null,
   "outputs": [],
   "source": [
    "import uxarray as ux\n",
    "from holoviews import opts"
   ],
   "metadata": {
    "collapsed": false
   },
   "id": "a3204ae8de696eb1"
  },
  {
   "cell_type": "markdown",
   "source": [
    "### Face-Centered Data Variable\n",
    "The first dataset in this example is taken from an MPAS Ocean Mesh, with the face-centered data variable \"BottomDepth\"."
   ],
   "metadata": {
    "collapsed": false
   },
   "id": "1349f9a3e963f4ac"
  },
  {
   "cell_type": "code",
   "execution_count": null,
   "outputs": [],
   "source": [
    "base_path = \"../../test/meshfiles/mpas/QU/\"\n",
    "grid_path = base_path + \"oQU480.231010.nc\"\n",
    "uxds_mpas = ux.open_dataset(grid_path, grid_path)\n",
    "uxds_mpas['bottomDepth']"
   ],
   "metadata": {
    "collapsed": false
   },
   "id": "e1726e6ae5c8aa4a"
  },
  {
   "cell_type": "markdown",
   "source": [
    "### Node-Centered Data Variable\n",
    "The second dataset in this example is taken from the NOAA Geoflow Project, with a node-centered data variable \"V1\"."
   ],
   "metadata": {
    "collapsed": false
   },
   "id": "8eb7bf5e099279"
  },
  {
   "cell_type": "code",
   "execution_count": null,
   "outputs": [],
   "source": [
    "base_path = \"../../test/meshfiles/ugrid/geoflow-small/\"\n",
    "grid_path = base_path + \"grid.nc\"\n",
    "data_path = base_path + \"v1.nc\"\n",
    "uxds_ugrid = ux.open_dataset(grid_path, data_path)\n",
    "uxds_ugrid['v1']"
   ],
   "metadata": {
    "collapsed": false
   },
   "id": "86bc92d2c63e7a6d"
  },
  {
   "cell_type": "markdown",
   "source": [
    "## Using the `UxDataArray.plot()` \n",
    "For face-centered data, the default plotting method returns a Polygon plot."
   ],
   "metadata": {
    "collapsed": false
   },
   "id": "df1f1662ea056657"
  },
  {
   "cell_type": "code",
   "execution_count": null,
   "outputs": [],
   "source": [
    "uxds_mpas['bottomDepth'].plot(title=\"Default UXDataArray Plot for Face-Centered Data\", height=350, width=700)"
   ],
   "metadata": {
    "collapsed": false
   },
   "id": "9f475f6ae0712af3"
  },
  {
   "cell_type": "markdown",
   "source": [
    "## Vector Polygon Plots\n",
    "We can plot each face as a shader polygon using the `UxDataArray.plot.polygons()` method.\n"
   ],
   "metadata": {
    "collapsed": false
   },
   "id": "7dca7d27c5bc293d"
  },
  {
   "cell_type": "markdown",
   "source": [
    "Since \"bottomDepth\" is face-centered, we can use it to shade each polygon."
   ],
   "metadata": {
    "collapsed": false
   },
   "id": "787f300adb416460"
  },
  {
   "cell_type": "code",
   "execution_count": null,
   "outputs": [],
   "source": [
    "uxds_mpas['bottomDepth'].plot.polygons(title=\"Bottom Depth Polygon Plot\", height=350, width=700)"
   ],
   "metadata": {
    "collapsed": false
   },
   "id": "39171ad2cc59b52"
  },
  {
   "cell_type": "markdown",
   "source": [
    "Since, \"v1\" is a node-centered variable, we need to first transform it to be face-centered. We can easily do this by computing the nodal average, which takes the average of all the nodes to obtain face-centered values."
   ],
   "metadata": {
    "collapsed": false
   },
   "id": "bf8370a248f4c0a"
  },
  {
   "cell_type": "code",
   "execution_count": null,
   "outputs": [],
   "source": [
    "uxds_ugrid['v1'][0][0].nodal_average().plot.polygons(cmap='coolwarm', title=\"V1 Nodal Average Polygon Plot\", height=350, width=700)"
   ],
   "metadata": {
    "collapsed": false
   },
   "id": "c678d7c6ff1570c2"
  },
  {
   "cell_type": "markdown",
   "source": [
    "### Excluding Antimeridian Faces\n",
    "The plots above identify and split polygons that have edges that cross the antimeridian. This operation can be costly for large datasets, so it's suggested to set the `exclude_antimeridian` paramter to `True` when working with large datasets."
   ],
   "metadata": {
    "collapsed": false
   },
   "id": "4235abc76494e4f4"
  },
  {
   "cell_type": "code",
   "execution_count": null,
   "outputs": [],
   "source": [
    "(uxds_mpas['bottomDepth'].plot.polygons(title=\"Bottom Depth Polygon Plot (Including Antimeridian)\", height=350, width=700) + \\\n",
    " uxds_mpas['bottomDepth'].plot.polygons(exclude_antimeridian=True, title=\"Bottom Depth Polygon Plot (Excluding Antimeridian)\", height=350, width=700)).cols(1)"
   ],
   "metadata": {
    "collapsed": false
   },
   "id": "eb03aeb6a316cce9"
  },
  {
   "cell_type": "code",
   "execution_count": null,
   "outputs": [],
   "source": [
    "(uxds_ugrid['v1'][0][0].nodal_average().plot.polygons(cmap='coolwarm', title=\"V1 Nodal Average Polygon Plot (Including Antimeridian)\", height=350, width=700) + \\\n",
    " uxds_ugrid['v1'][0][0].nodal_average().plot.polygons(exclude_antimeridian=True, cmap='coolwarm', title=\"V1 Nodal Average Polygon Plot (Excluding Antimeridian)\", height=350, width=700)).cols(1)\n",
    "    "
   ],
   "metadata": {
    "collapsed": false
   },
   "id": "5f037ebd103d15a4"
  },
  {
   "cell_type": "markdown",
   "source": [
    "## Rasterized Polygon Plots\n",
    "Plotting Vector Polygons is not feasible for large datasets, so in addition to the `UxDataArray.plot.polygons` method, UXarray supports quickly rasterizing the polygons into a fixed-grid using the `UxDataArray.plot.rasterize(method=\"polygon\")` function."
   ],
   "metadata": {
    "collapsed": false
   },
   "id": "322d7eda04cdea2a"
  },
  {
   "cell_type": "code",
   "execution_count": null,
   "outputs": [],
   "source": [
    "uxds_mpas['bottomDepth'].plot.rasterize(method='polygon', title=\"Bottom Depth Raster Polygon Plot\", height=350, width=700)"
   ],
   "metadata": {
    "collapsed": false
   },
   "id": "47a980f363ba1a42"
  },
  {
   "cell_type": "code",
   "execution_count": null,
   "outputs": [],
   "source": [
    "uxds_ugrid['v1'][0][0].nodal_average().plot.rasterize(method='polygon', cmap='coolwarm', title=\"V1 Nodal Average Raster Polygon Plot\", height=350, width=700)#"
   ],
   "metadata": {
    "collapsed": false
   },
   "id": "820f861f2b9d3457"
  },
  {
   "cell_type": "markdown",
   "source": [
    "### Selecting an appropriate ``pixel_ratio``\n",
    "You can specify a `pixel_ratio` value to tweak the resolution of the rasterization. Higher values will lead to a shaper image, with lower values producing highly pixalated plots."
   ],
   "metadata": {
    "collapsed": false
   },
   "id": "a7517f6a2cf99b6e"
  },
  {
   "cell_type": "code",
   "execution_count": null,
   "outputs": [],
   "source": [
    "(uxds_mpas['bottomDepth'].plot.rasterize(method='polygon', title=\"Bottom Depth Raster Polygon Plot (0.5 Pixel Ratio)\", height=350, width=700, pixel_ratio = 0.5) + \\\n",
    " uxds_mpas['bottomDepth'].plot.rasterize(method='polygon', title=\"Bottom Depth Raster Polygon Plot (1.0 Pixel Ratio)\", height=350, width=700, pixel_ratio = 1.0) + \\\n",
    " uxds_mpas['bottomDepth'].plot.rasterize(method='polygon', title=\"Bottom Depth Raster Polygon Plot (2.0 Pixel Ratio)\", height=350, width=700, pixel_ratio = 2.0)).cols(1)"
   ],
   "metadata": {
    "collapsed": false
   },
   "id": "bef7fcdc07cf00b9"
  },
  {
   "cell_type": "markdown",
   "source": [
    "### Overlaying Mesh Geometry on a Rasterized Plot\n",
    "We can overlay the mesh geometry using the `Grid.plot.mesh()` method on top of the raster to see how rasterization approximates the geometry of our unstructured grid."
   ],
   "metadata": {
    "collapsed": false
   },
   "id": "a3f974856be59bb7"
  },
  {
   "cell_type": "code",
   "execution_count": null,
   "outputs": [],
   "source": [
    "uxds_mpas['bottomDepth'].plot.rasterize(method='polygon', title=\"Bottom Depth Raster Polygon Plot (1.0 Pixel Ratio) with Mesh\", height=350, width=700, pixel_ratio = 1.0, xlim=(-40, 40), ylim=(-20, 20)) * \\\n",
    "uxds_mpas.uxgrid.plot.mesh(color=\"Black\")"
   ],
   "metadata": {
    "collapsed": false
   },
   "id": "b2751f19dd014014"
  },
  {
   "cell_type": "markdown",
   "source": [],
   "metadata": {
    "collapsed": false
   },
   "id": "75ae5042d83148ae"
  }
 ],
 "metadata": {
  "kernelspec": {
   "display_name": "Python 3",
   "language": "python",
   "name": "python3"
  },
  "language_info": {
   "codemirror_mode": {
    "name": "ipython",
    "version": 2
   },
   "file_extension": ".py",
   "mimetype": "text/x-python",
   "name": "python",
   "nbconvert_exporter": "python",
   "pygments_lexer": "ipython2",
   "version": "2.7.6"
  }
 },
 "nbformat": 4,
 "nbformat_minor": 5
}
