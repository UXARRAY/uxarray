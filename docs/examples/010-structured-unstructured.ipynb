{
 "cells": [
  {
   "cell_type": "markdown",
   "id": "43c7b4fd0400a2cf",
   "metadata": {
    "jupyter": {
     "outputs_hidden": false
    }
   },
   "source": [
    "# Translating Structured Xarray Workflows to UXarray\n",
    "Authors: [Philip Chmielowiec](https://github.com/philipc2)"
   ]
  },
  {
   "cell_type": "code",
   "execution_count": null,
   "id": "2af9b678e625324e",
   "metadata": {
    "jupyter": {
     "outputs_hidden": false
    }
   },
   "outputs": [],
   "source": [
    "import xarray as xr\n",
    "import uxarray as ux\n",
    "import matplotlib.pyplot as plt"
   ]
  },
  {
   "cell_type": "markdown",
   "id": "eb783270aa3cd61e",
   "metadata": {
    "jupyter": {
     "outputs_hidden": false
    }
   },
   "source": [
    "## Data"
   ]
  },
  {
   "cell_type": "markdown",
   "id": "86adf7bacc16426a",
   "metadata": {
    "jupyter": {
     "outputs_hidden": false
    }
   },
   "source": [
    "### Structured"
   ]
  },
  {
   "cell_type": "code",
   "execution_count": null,
   "id": "76fbd63614250d5c",
   "metadata": {
    "jupyter": {
     "outputs_hidden": false
    }
   },
   "outputs": [],
   "source": [
    "base_path = \"../../test/meshfiles/structured/\"\n",
    "ds_path = base_path + \"outCSne30_vortex_structured.nc\""
   ]
  },
  {
   "cell_type": "code",
   "execution_count": null,
   "id": "195a6bb56f3884b2",
   "metadata": {
    "jupyter": {
     "outputs_hidden": false
    }
   },
   "outputs": [],
   "source": [
    "xrds = xr.open_dataset(ds_path)\n",
    "xrds"
   ]
  },
  {
   "cell_type": "markdown",
   "id": "f1d48b216144c6ae",
   "metadata": {
    "jupyter": {
     "outputs_hidden": false
    }
   },
   "source": [
    "### Unstructured"
   ]
  },
  {
   "cell_type": "code",
   "execution_count": null,
   "id": "b7b53a674ef8c160",
   "metadata": {
    "jupyter": {
     "outputs_hidden": false
    }
   },
   "outputs": [],
   "source": [
    "base_path = \"../../test/meshfiles/ugrid/outCSne30/\"\n",
    "grid_path = base_path + \"outCSne30.ug\"\n",
    "data_path = base_path + \"outCSne30_vortex.nc\""
   ]
  },
  {
   "cell_type": "code",
   "execution_count": null,
   "id": "4b62b86021023dd9",
   "metadata": {
    "jupyter": {
     "outputs_hidden": false
    }
   },
   "outputs": [],
   "source": [
    "uxds = ux.open_dataset(grid_path, data_path)\n",
    "uxds"
   ]
  },
  {
   "cell_type": "markdown",
   "id": "bc0e7354b52066cd",
   "metadata": {
    "jupyter": {
     "outputs_hidden": false
    }
   },
   "source": [
    "## Visualization"
   ]
  },
  {
   "cell_type": "markdown",
   "id": "7eac8bf3-06c0-4c8c-95de-cd493f5d786f",
   "metadata": {},
   "source": [
    "### Xarray"
   ]
  },
  {
   "cell_type": "code",
   "execution_count": null,
   "id": "7e6aa862c57fe4da",
   "metadata": {
    "jupyter": {
     "outputs_hidden": false
    }
   },
   "outputs": [],
   "source": [
    "xrds['psi'].plot(figsize=(10, 5), cmap='inferno')"
   ]
  },
  {
   "cell_type": "code",
   "execution_count": null,
   "id": "eb805e49ec1bb33c",
   "metadata": {
    "jupyter": {
     "outputs_hidden": false
    }
   },
   "outputs": [],
   "source": [
    "fig, axs = plt.subplots(ncols=2, figsize=(10, 2.5))\n",
    "\n",
    "xrds['psi'].plot(cmap='inferno', ax=axs[0])\n",
    "xrds['psi'].plot(cmap='cividis', ax=axs[1])"
   ]
  },
  {
   "cell_type": "markdown",
   "id": "07709d9d-0cef-4738-8c34-cd9fd1b08d10",
   "metadata": {},
   "source": [
    "### UXarray\n",
    "\n",
    "The default plotting method is a great starting point for visualizations. It selects what visualization method to use based on the grid element that the data is mapped to (nodes, edges, faces) and the number of elements in the mesh.\n",
    "\n",
    "**Face-Centered Variable:**\n",
    "* Less than 10,000 Faces: Vector Polygons (Including Antimeridian)\n",
    "* More than 10,000 Faces: Pasteurized Polygons (Excluding Antimeridian)\n",
    "\n",
    "**Edge-Centered Variable:**\n",
    "* Edge Center Coordinates (i.e. `edge_lon`, `edge_lat`) plotted as Points, shaded with the data variable\n",
    "\n",
    "**Node-Centered Variable:**\n",
    "* Node Center Coordinates (i.e. `node_lon`, `node_lat`) plotted as Points, shaded with the data variable.\n",
    "\n",
    "For this usage example, our data variable `psi` is node centered. Add note about other examples"
   ]
  },
  {
   "cell_type": "code",
   "execution_count": null,
   "outputs": [],
   "source": [
    "uxds['psi'].plot(width=600, height=300, cmap='inferno')"
   ],
   "metadata": {
    "collapsed": false
   }
  },
  {
   "cell_type": "markdown",
   "source": [
    "All UXarray plotting methods default to using `bokeh` as a backend for Holoviews."
   ],
   "metadata": {
    "collapsed": false
   }
  },
  {
   "cell_type": "code",
   "execution_count": null,
   "outputs": [],
   "source": [
    "uxds['psi'].plot(aspect=2, fig_inches=12, cmap='inferno', backend='matplotlib')"
   ],
   "metadata": {
    "collapsed": false
   }
  },
  {
   "cell_type": "markdown",
   "id": "709b67ba",
   "metadata": {},
   "source": []
  },
  {
   "cell_type": "code",
   "execution_count": null,
   "id": "3d41ac5733a2d96e",
   "metadata": {
    "jupyter": {
     "outputs_hidden": false
    }
   },
   "outputs": [],
   "source": [
    "(uxds['psi'].plot(aspect=2, fig_inches=12, cmap='inferno', backend='matplotlib', linewidth=0) +\n",
    "uxds['psi'].plot(aspect=2, fig_inches=12, cmap='cividis', backend='matplotlib', linewidth=0))\n",
    "\n",
    "# uxds['psi'].plot.rasterize(method='polygon', width=600, height=300, cmap='cividis'))"
   ]
  }
 ],
 "metadata": {
  "kernelspec": {
   "display_name": "Python 3 (ipykernel)",
   "language": "python",
   "name": "python3"
  },
  "language_info": {
   "codemirror_mode": {
    "name": "ipython",
    "version": 3
   },
   "file_extension": ".py",
   "mimetype": "text/x-python",
   "name": "python",
   "nbconvert_exporter": "python",
   "pygments_lexer": "ipython3",
   "version": "3.10.13"
  }
 },
 "nbformat": 4,
 "nbformat_minor": 5
}
