{
 "cells": [
  {
   "cell_type": "markdown",
   "source": [
    "# Translating Structured Xarray Workflows to UXarray"
   ],
   "metadata": {
    "collapsed": false
   },
   "id": "43c7b4fd0400a2cf"
  },
  {
   "cell_type": "code",
   "execution_count": null,
   "outputs": [],
   "source": [
    "import xarray as xr\n",
    "import uxarray as ux\n",
    "import matplotlib.pyplot as plt"
   ],
   "metadata": {
    "collapsed": false
   },
   "id": "2af9b678e625324e"
  },
  {
   "cell_type": "markdown",
   "source": [
    "## Data"
   ],
   "metadata": {
    "collapsed": false
   },
   "id": "eb783270aa3cd61e"
  },
  {
   "cell_type": "markdown",
   "source": [
    "### Structured"
   ],
   "metadata": {
    "collapsed": false
   },
   "id": "86adf7bacc16426a"
  },
  {
   "cell_type": "code",
   "execution_count": null,
   "outputs": [],
   "source": [
    "base_path = \"../../test/meshfiles/structured/\"\n",
    "ds_path = base_path + \"outCSne30_vortex_structured.nc\""
   ],
   "metadata": {
    "collapsed": false
   },
   "id": "76fbd63614250d5c"
  },
  {
   "cell_type": "code",
   "execution_count": null,
   "outputs": [],
   "source": [
    "xrds = xr.open_dataset(ds_path)\n",
    "xrds"
   ],
   "metadata": {
    "collapsed": false
   },
   "id": "195a6bb56f3884b2"
  },
  {
   "cell_type": "markdown",
   "source": [
    "### Unstructured"
   ],
   "metadata": {
    "collapsed": false
   },
   "id": "f1d48b216144c6ae"
  },
  {
   "cell_type": "code",
   "execution_count": null,
   "outputs": [],
   "source": [
    "base_path = \"../../test/meshfiles/ugrid/outCSne30/\"\n",
    "grid_path = base_path + \"outCSne30.ug\"\n",
    "data_path = base_path + \"outCSne30_vortex.nc\""
   ],
   "metadata": {
    "collapsed": false
   },
   "id": "b7b53a674ef8c160"
  },
  {
   "cell_type": "code",
   "execution_count": null,
   "outputs": [],
   "source": [
    "uxds = ux.open_dataset(grid_path, data_path)\n",
    "uxds"
   ],
   "metadata": {
    "collapsed": false
   },
   "id": "4b62b86021023dd9"
  },
  {
   "cell_type": "markdown",
   "source": [
    "## Visualization"
   ],
   "metadata": {
    "collapsed": false
   },
   "id": "bc0e7354b52066cd"
  },
  {
   "cell_type": "code",
   "execution_count": null,
   "outputs": [],
   "source": [
    "xrds['psi'].plot(figsize=(10, 5), cmap='inferno')"
   ],
   "metadata": {
    "collapsed": false
   },
   "id": "825f448d2542ac91"
  },
  {
   "cell_type": "code",
   "execution_count": null,
   "outputs": [],
   "source": [
    "uxds['psi'].plot(width=600, height=300, cmap='inferno')"
   ],
   "metadata": {
    "collapsed": false
   },
   "id": "620ea6dac9003126"
  },
  {
   "cell_type": "code",
   "execution_count": null,
   "outputs": [],
   "source": [
    "uxds['psi'].plot(cmap='inferno', backend='matplotlib', aspect=2, fig_inches=10)"
   ],
   "metadata": {
    "collapsed": false
   },
   "id": "3d41ac5733a2d96e"
  },
  {
   "cell_type": "markdown",
   "source": [
    "## Analysis"
   ],
   "metadata": {
    "collapsed": false
   },
   "id": "e51641b789d750b4"
  },
  {
   "cell_type": "code",
   "execution_count": null,
   "outputs": [],
   "source": [
    "xrds['psi'].mean()"
   ],
   "metadata": {
    "collapsed": false
   },
   "id": "1308683ee3648d53"
  },
  {
   "cell_type": "code",
   "execution_count": null,
   "outputs": [],
   "source": [
    "uxds['psi'].mean()"
   ],
   "metadata": {
    "collapsed": false
   },
   "id": "a248c9683e7e63d3"
  }
 ],
 "metadata": {
  "kernelspec": {
   "display_name": "Python 3",
   "language": "python",
   "name": "python3"
  },
  "language_info": {
   "codemirror_mode": {
    "name": "ipython",
    "version": 2
   },
   "file_extension": ".py",
   "mimetype": "text/x-python",
   "name": "python",
   "nbconvert_exporter": "python",
   "pygments_lexer": "ipython2",
   "version": "2.7.6"
  }
 },
 "nbformat": 4,
 "nbformat_minor": 5
}
