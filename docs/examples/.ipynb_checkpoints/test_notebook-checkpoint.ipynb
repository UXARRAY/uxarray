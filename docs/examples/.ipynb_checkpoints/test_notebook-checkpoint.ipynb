{
 "cells": [
  {
   "cell_type": "code",
   "execution_count": null,
   "metadata": {
    "ExecuteTime": {
     "end_time": "2023-09-20T18:09:38.256964Z",
     "start_time": "2023-09-20T18:09:36.422122Z"
    }
   },
   "outputs": [],
   "source": [
    "import uxarray as ux\n",
    "\n",
    "import holoviews as hv"
   ]
  },
  {
   "cell_type": "code",
   "execution_count": null,
   "metadata": {
    "ExecuteTime": {
     "end_time": "2023-09-20T18:09:38.257360Z",
     "start_time": "2023-09-20T18:09:38.254366Z"
    }
   },
   "outputs": [],
   "source": [
    "base_path = \"../../test/meshfiles/ugrid/outCSne30/\"\n",
    "grid_path = base_path + \"outCSne30.ug\"\n",
    "data_path = base_path + \"outCSne30_vortex.nc\""
   ]
  },
  {
   "cell_type": "code",
   "execution_count": null,
   "metadata": {
    "ExecuteTime": {
     "end_time": "2023-09-20T18:09:38.286201Z",
     "start_time": "2023-09-20T18:09:38.257224Z"
    }
   },
   "outputs": [],
   "source": [
    "uxds = ux.open_dataset(grid_path, data_path)"
   ]
  },
  {
   "cell_type": "code",
   "execution_count": null,
   "metadata": {
    "ExecuteTime": {
     "end_time": "2023-09-20T18:09:38.593780Z",
     "start_time": "2023-09-20T18:09:38.284673Z"
    }
   },
   "outputs": [],
   "source": [
    "hv.extension(\"matplotlib\")\n",
    "\n",
    "plot_kwargs = {\"linewidth\": 1.0, \"xlabel\":\" Longitude\", \"ylabel\": \"Latitude\", \"coastline\": True, \"width\": 1600 , \"title\": \"Edge Plot (Matplotlib Backend)\", \"color\": \"black\"}"
   ]
  },
  {
   "cell_type": "code",
   "execution_count": null,
   "metadata": {
    "ExecuteTime": {
     "start_time": "2023-09-20T18:09:38.595153Z"
    },
    "is_executing": true
   },
   "outputs": [],
   "source": [
    "out = uxds.uxgrid.plot.edges(**plot_kwargs)"
   ]
  },
  {
   "cell_type": "code",
   "execution_count": null,
   "metadata": {
    "is_executing": true
   },
   "outputs": [],
   "source": [
    "print(\"Done\")"
   ]
  },
  {
   "cell_type": "code",
   "execution_count": null,
   "metadata": {},
   "outputs": [],
   "source": []
  }
 ],
 "metadata": {
  "kernelspec": {
   "display_name": "Python 3 (ipykernel)",
   "language": "python",
   "name": "python3"
  },
  "language_info": {
   "codemirror_mode": {
    "name": "ipython",
    "version": 3
   },
   "file_extension": ".py",
   "mimetype": "text/x-python",
   "name": "python",
   "nbconvert_exporter": "python",
   "pygments_lexer": "ipython3",
   "version": "3.10.11"
  }
 },
 "nbformat": 4,
 "nbformat_minor": 1
}
