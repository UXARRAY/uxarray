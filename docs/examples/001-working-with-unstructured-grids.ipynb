{
 "cells": [
  {
   "cell_type": "markdown",
   "metadata": {},
   "source": [
    "# Working with Unstructured Grid Data\n",
    "\n",
    "UXarray offers support for loading and representing unstructured grids\n",
    "by providing Xarray-like functionality paired with new routines that\n",
    "are specifically written for operating on unstructured grids.\n"
   ]
  },
  {
   "cell_type": "markdown",
   "metadata": {},
   "source": [
    "## Grid Definition and Data Variables\n",
    "\n",
    "When working with Unstructured Grids, the grid definition and data variables\n",
    "are often store as separate files. This means that there are multiple\n",
    "separate files that need to be read and linked together to represent the\n",
    "entire dataset.\n",
    "\n",
    "For example, the following sample dataset is taken from NOAA Geoflow project,\n",
    "which is made up of 4 files: 1 grid definition and 3 data files. (Special thanks to John Clyne, Shilpi Gupta, and the VAPOR team for providing this data!)\n",
    "\n",
    "```\n",
    "geoflow-small\n",
    "│   grid.nc\n",
    "│   v1.nc\n",
    "│   v2.nc\n",
    "│   v3.nc\n",
    "```\n"
   ]
  },
  {
   "cell_type": "markdown",
   "source": [
    "## Grid Conventions\n",
    "\n",
    "Given the complexity of Unstructured Grids, there are many different ways of representing their underlying topology and structure. These representations are referred to as conventions, and they outline\n",
    "the required connectivity variables, naming conventions, data types, and many other specifications. UXarray uses the [UGRID](http://ugrid-conventions.github.io/ugrid-conventions/)\n",
    "conventions as a foundation for internally representing Unstructured Grids, converting any supported input grid format into the UGRID convention at the data loading step. Below is a list of supported formats and conventions that can be read in with UXarray:\n",
    "* UGRID\n",
    "* Model for Prediction Across Scales (MPAS)\n",
    "* Exodus\n",
    "\n",
    "In addition to loading datasets, we also provide support for constructing a grid from user-defined primitives such as vertices, which is showcased in our other notebooks.\n"
   ],
   "metadata": {
    "collapsed": false
   }
  },
  {
   "cell_type": "markdown",
   "metadata": {},
   "source": [
    "## Reading Grid and Data Files\n",
    "UXarray provides the `UxDataset` data structure, which is a grid-informed implementation of Xarray's `Dataset` class. The main addition is the introduction of the `uxgrid` accessor, which stores our grid topology dimensions, coordinates, variables and provides grid-specific functions.\n",
    "\n",
    "Constructing a `UxDataset` can be done using our custom `open_dataset` and `open_mfdataset` methods, depending on whether one or multiple data files are meant to be linked to a single grid.\n"
   ]
  },
  {
   "cell_type": "code",
   "execution_count": null,
   "metadata": {
    "ExecuteTime": {
     "start_time": "2023-06-08T21:50:52.836323Z",
     "end_time": "2023-06-08T21:50:52.860706Z"
    }
   },
   "outputs": [],
   "source": [
    "import uxarray as ux"
   ]
  },
  {
   "cell_type": "code",
   "execution_count": null,
   "metadata": {
    "ExecuteTime": {
     "start_time": "2023-06-08T21:50:53.166457Z",
     "end_time": "2023-06-08T21:50:53.183466Z"
    }
   },
   "outputs": [],
   "source": [
    "# Base data path\n",
    "base_path = \"../../test/meshfiles/ugrid/geoflow-small/\"\n",
    "\n",
    "# Path to Grid file\n",
    "grid_path = base_path + \"grid.nc\"\n",
    "\n",
    "# Paths to Data Variable files\n",
    "var_names = ['v1.nc', 'v2.nc', 'v3.nc']\n",
    "\n",
    "data_paths = [base_path + name for name in var_names]"
   ]
  },
  {
   "cell_type": "markdown",
   "source": [
    "Loading a single data file with a grid is done using the `open_dataset` method. The resulting `UxDataset` only contains the data variables stored in `v1.nc`."
   ],
   "metadata": {
    "collapsed": false
   }
  },
  {
   "cell_type": "code",
   "execution_count": null,
   "outputs": [],
   "source": [
    "uxds_single = ux.open_dataset(grid_path, data_paths[0])\n",
    "uxds_single"
   ],
   "metadata": {
    "collapsed": false,
    "ExecuteTime": {
     "start_time": "2023-06-08T21:51:06.039254Z",
     "end_time": "2023-06-08T21:51:06.073251Z"
    }
   }
  },
  {
   "cell_type": "markdown",
   "source": [
    "Similarly, if you wish to open multiple data files with a grid, you would use the `open_mfdataset` method. The resulting `UxDataset` contains all the data variables stored in `v1.nc`, `v2.nc`, and `v3.nc`"
   ],
   "metadata": {
    "collapsed": false
   }
  },
  {
   "cell_type": "code",
   "execution_count": null,
   "outputs": [],
   "source": [
    "uxds_complete = ux.open_mfdataset(grid_path, data_paths)\n",
    "uxds_complete"
   ],
   "metadata": {
    "collapsed": false,
    "ExecuteTime": {
     "start_time": "2023-06-08T21:51:18.560113Z",
     "end_time": "2023-06-08T21:51:18.600158Z"
    }
   }
  },
  {
   "cell_type": "markdown",
   "source": [
    "Each dataset also contains a `uxgrid` accessor, which represents the grid that the data variables lie on and can be used to execute grid specific functions and access grid topology dimensions, coordinates, and variables. A detailed overview of functionalities can be found in subsequent notebooks.\n",
    "\n",
    "For both the single and complete instances of `UxDataset`, the `uxgrid` accessor contains the same grid information, however they are each initialized separately.\n"
   ],
   "metadata": {
    "collapsed": false
   }
  },
  {
   "cell_type": "code",
   "execution_count": null,
   "outputs": [],
   "source": [
    "# check if the grids contain the same variables & information\n",
    "print(uxds_single.uxgrid == uxds_complete.uxgrid)\n",
    "\n",
    "# check if the grids point to the same object in memory\n",
    "print(uxds_single.uxgrid is uxds_complete.uxgrid)"
   ],
   "metadata": {
    "collapsed": false,
    "ExecuteTime": {
     "start_time": "2023-06-08T21:54:15.181167Z",
     "end_time": "2023-06-08T21:54:15.195168Z"
    }
   }
  },
  {
   "cell_type": "markdown",
   "source": [
    "Printing out the `uxgrid` accessor provides an overview of the original grid format, dimensions, coordinates, and connectivity variables."
   ],
   "metadata": {
    "collapsed": false
   }
  },
  {
   "cell_type": "code",
   "execution_count": null,
   "outputs": [],
   "source": [
    "uxds_complete.uxgrid"
   ],
   "metadata": {
    "collapsed": false,
    "ExecuteTime": {
     "start_time": "2023-06-08T21:53:19.657642Z",
     "end_time": "2023-06-08T21:53:19.671650Z"
    }
   }
  },
  {
   "cell_type": "markdown",
   "source": [
    "These dimensions, coordinates, and connectivity variables can be accessed with attributes using the same names as show in the print out."
   ],
   "metadata": {
    "collapsed": false
   }
  },
  {
   "cell_type": "code",
   "execution_count": null,
   "outputs": [],
   "source": [
    "uxds_complete.uxgrid.nMesh2_node"
   ],
   "metadata": {
    "collapsed": false,
    "ExecuteTime": {
     "start_time": "2023-06-08T21:55:58.444926Z",
     "end_time": "2023-06-08T21:55:58.457926Z"
    }
   }
  },
  {
   "cell_type": "code",
   "execution_count": null,
   "outputs": [],
   "source": [
    "uxds_complete.uxgrid.Mesh2_node_x"
   ],
   "metadata": {
    "collapsed": false,
    "ExecuteTime": {
     "start_time": "2023-06-08T21:56:05.007997Z",
     "end_time": "2023-06-08T21:56:05.026997Z"
    }
   }
  },
  {
   "cell_type": "code",
   "execution_count": null,
   "outputs": [],
   "source": [
    "uxds_complete.uxgrid.Mesh2_face_nodes"
   ],
   "metadata": {
    "collapsed": false,
    "ExecuteTime": {
     "start_time": "2023-06-08T21:55:07.165994Z",
     "end_time": "2023-06-08T21:55:07.177003Z"
    }
   }
  },
  {
   "cell_type": "markdown",
   "source": [],
   "metadata": {
    "collapsed": false
   }
  }
 ],
 "metadata": {
  "kernelspec": {
   "display_name": "Python 3 (ipykernel)",
   "language": "python",
   "name": "python3"
  },
  "language_info": {
   "codemirror_mode": {
    "name": "ipython",
    "version": 3
   },
   "file_extension": ".py",
   "mimetype": "text/x-python",
   "name": "python",
   "nbconvert_exporter": "python",
   "pygments_lexer": "ipython3",
   "version": "3.10.10"
  },
  "vscode": {
   "interpreter": {
    "hash": "8e8ae2f388051fced6c30f82a529eeca8cf1e059ab06a64326e2a2ad0ec3c36c"
   }
  }
 },
 "nbformat": 4,
 "nbformat_minor": 4
}
