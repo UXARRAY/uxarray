{
 "cells": [
  {
   "cell_type": "markdown",
   "metadata": {},
   "source": [
    "# Working with Unstructured Grid Data\n",
    "\n",
    "UXarray offers support for loading and representing unstructured grids\n",
    "by providing Xarray-like functionality paired with new routines that\n",
    "are specifically written for operating on unstructured grids.\n"
   ]
  },
  {
   "cell_type": "markdown",
   "metadata": {},
   "source": [
    "## Grid Definition and Data Variables\n",
    "\n",
    "When working with Unstructured Grids, the grid definition and data variables\n",
    "are often store as separate files. This means that there are multiple\n",
    "separate files that need to be read and linked together to represent the\n",
    "entire dataset.\n",
    "\n",
    "For example, the following sample dataset is taken from NOAA Geoflow project,\n",
    "which is made up of 4 files (1 grid definition and 3 data files).\n",
    "Special thanks to John Clyne, Shilpi Gupta, and the VAPOR team for providing these data!\n",
    "\n",
    "```\n",
    "geoflow-small\n",
    "│   grid.nc\n",
    "│   v1.nc\n",
    "│   v2.nc\n",
    "│   v3.nc\n",
    "```"
   ]
  },
  {
   "cell_type": "markdown",
   "source": [
    "## Grid Conventions\n",
    "\n",
    "Given the complexity of Unstructured Grids, there are many different ways of representing the underlying topology and structure. These representations are referred to as conventions, and they outline\n",
    "the required connectivity variables, naming conventions, data types, naming conventions, and many other specifications.\n",
    "\n",
    "UXarray uses the UGRID conventions internally to represent Unstructured Grids.\n",
    "\n"
   ],
   "metadata": {
    "collapsed": false
   }
  },
  {
   "cell_type": "markdown",
   "metadata": {},
   "source": [
    "## Opening The Grid and Data Files with UXarray\n",
    "Uxarray provides function to read in grid definition and data variable netCCDF files together."
   ]
  },
  {
   "cell_type": "markdown",
   "metadata": {},
   "source": [
    "First, data paths and UXarray import"
   ]
  },
  {
   "cell_type": "code",
   "execution_count": null,
   "metadata": {
    "ExecuteTime": {
     "start_time": "2023-06-06T11:47:16.163316Z",
     "end_time": "2023-06-06T11:47:18.512485Z"
    }
   },
   "outputs": [],
   "source": [
    "import uxarray as ux"
   ]
  },
  {
   "cell_type": "code",
   "execution_count": null,
   "metadata": {
    "ExecuteTime": {
     "start_time": "2023-06-06T11:47:18.513486Z",
     "end_time": "2023-06-06T11:47:18.527335Z"
    }
   },
   "outputs": [],
   "source": [
    "# Base data path\n",
    "base_path = \"../../test/meshfiles/ugrid/geoflow-small/\"\n",
    "\n",
    "# Path to Grid file\n",
    "grid_path = base_path + \"grid.nc\"\n",
    "\n",
    "# Paths to Data Variable files\n",
    "var_names = ['v1.nc', 'v2.nc', 'v3.nc']\n",
    "\n",
    "data_paths = [base_path + name for name in var_names]"
   ]
  },
  {
   "cell_type": "code",
   "execution_count": null,
   "outputs": [],
   "source": [
    "uxds_single = ux.open_dataset(grid_path, data_paths[0])\n",
    "uxds_single"
   ],
   "metadata": {
    "collapsed": false,
    "ExecuteTime": {
     "start_time": "2023-06-06T11:48:20.771633Z",
     "end_time": "2023-06-06T11:48:20.797632Z"
    }
   }
  },
  {
   "cell_type": "code",
   "execution_count": null,
   "outputs": [],
   "source": [
    "uxds_complete = ux.open_mfdataset(grid_path, data_paths)\n",
    "uxds_complete"
   ],
   "metadata": {
    "collapsed": false,
    "ExecuteTime": {
     "start_time": "2023-06-06T11:48:24.548573Z",
     "end_time": "2023-06-06T11:48:24.584572Z"
    }
   }
  },
  {
   "cell_type": "code",
   "execution_count": null,
   "outputs": [],
   "source": [
    "uxds_complete.uxgrid"
   ],
   "metadata": {
    "collapsed": false,
    "ExecuteTime": {
     "start_time": "2023-06-06T11:49:13.628873Z",
     "end_time": "2023-06-06T11:49:13.632872Z"
    }
   }
  },
  {
   "cell_type": "code",
   "execution_count": null,
   "outputs": [],
   "source": [
    "uxds_single.uxgrid == uxds_complete.uxgrid"
   ],
   "metadata": {
    "collapsed": false,
    "ExecuteTime": {
     "start_time": "2023-06-06T11:49:06.966833Z",
     "end_time": "2023-06-06T11:49:07.002831Z"
    }
   }
  },
  {
   "cell_type": "markdown",
   "metadata": {},
   "source": [
    "### Reading only the Unstructured Grid Topology (i.e. without specific data) with UXarray"
   ]
  },
  {
   "cell_type": "markdown",
   "metadata": {},
   "source": [
    "A single grid definition file can be loaded with UXarray to explore the topology:"
   ]
  },
  {
   "cell_type": "code",
   "execution_count": null,
   "metadata": {
    "collapsed": false,
    "jupyter": {
     "outputs_hidden": false
    }
   },
   "outputs": [],
   "source": [
    "# Construct a UXarray Grid object from `grid_ds`\n",
    "grid = ux.open_grid(grid_path)"
   ]
  },
  {
   "cell_type": "code",
   "execution_count": null,
   "metadata": {},
   "outputs": [],
   "source": [
    "grid"
   ]
  },
  {
   "cell_type": "code",
   "execution_count": null,
   "metadata": {
    "collapsed": false,
    "jupyter": {
     "outputs_hidden": false
    }
   },
   "outputs": [],
   "source": [
    "grid._ds"
   ]
  },
  {
   "cell_type": "markdown",
   "metadata": {},
   "source": [
    "### Opening data files with the Unstructured Grid Topology they correspond to with UXarray"
   ]
  },
  {
   "cell_type": "markdown",
   "metadata": {},
   "source": [
    "Uxarray can open data along with the grid topology via Xarray-like dataset opening functions!"
   ]
  },
  {
   "cell_type": "code",
   "execution_count": null,
   "metadata": {},
   "outputs": [],
   "source": [
    "uxds_v1 = ux.open_dataset(grid_path, data_paths[0])"
   ]
  },
  {
   "cell_type": "code",
   "execution_count": null,
   "metadata": {},
   "outputs": [],
   "source": [
    "uxds_v1"
   ]
  },
  {
   "cell_type": "code",
   "execution_count": null,
   "metadata": {},
   "outputs": [],
   "source": [
    "uxds_v1.uxgrid._ds"
   ]
  },
  {
   "cell_type": "markdown",
   "metadata": {},
   "source": [
    "As can be seen, the Grid object has its own `grid.ds` of type `xarray.Dataset`\n",
    "to define the grid topology. However, the Grid object has further attributes,\n",
    "variables, and functions to specify the unstructured grid and be executed on\n",
    "it, which can be explored in the next notebooks."
   ]
  }
 ],
 "metadata": {
  "kernelspec": {
   "display_name": "Python 3 (ipykernel)",
   "language": "python",
   "name": "python3"
  },
  "language_info": {
   "codemirror_mode": {
    "name": "ipython",
    "version": 3
   },
   "file_extension": ".py",
   "mimetype": "text/x-python",
   "name": "python",
   "nbconvert_exporter": "python",
   "pygments_lexer": "ipython3",
   "version": "3.10.10"
  },
  "vscode": {
   "interpreter": {
    "hash": "8e8ae2f388051fced6c30f82a529eeca8cf1e059ab06a64326e2a2ad0ec3c36c"
   }
  }
 },
 "nbformat": 4,
 "nbformat_minor": 4
}
