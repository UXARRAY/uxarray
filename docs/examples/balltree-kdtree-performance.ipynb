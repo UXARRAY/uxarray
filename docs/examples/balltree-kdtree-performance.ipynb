{
 "cells": [
  {
   "cell_type": "markdown",
   "metadata": {},
   "source": [
    "# BallTree and KDTree performance comparison "
   ]
  },
  {
   "cell_type": "markdown",
   "metadata": {},
   "source": [
    "This notebook compares BallTree and KDTree performance during construction and querying for a 30km mesh"
   ]
  },
  {
   "cell_type": "code",
   "execution_count": 4,
   "metadata": {},
   "outputs": [],
   "source": [
    "import numpy as np\n",
    "import uxarray as ux\n",
    "import time"
   ]
  },
  {
   "cell_type": "markdown",
   "metadata": {},
   "source": [
    "We start by opening the 30km grid and timing the constructing the BallTree"
   ]
  },
  {
   "cell_type": "code",
   "execution_count": 5,
   "metadata": {},
   "outputs": [
    {
     "name": "stdout",
     "output_type": "stream",
     "text": [
      "BallTree: 0.8512139320373535\n"
     ]
    }
   ],
   "source": [
    "meshGrid = \"../../test/meshfiles/PhilipsLargeMeshes/30km/grid.nc\"\n",
    "\n",
    "grid = ux.open_grid(meshGrid)\n",
    "\n",
    "timeStart = time.time()\n",
    "ballTree = grid.get_ball_tree()\n",
    "timeEnd = time.time()\n",
    "print(f\"BallTree: {timeEnd - timeStart}\")"
   ]
  },
  {
   "cell_type": "markdown",
   "metadata": {},
   "source": [
    "Doing the same for the KDTree shows that the KDTree takes a significant amount of time longer to be constructed"
   ]
  },
  {
   "cell_type": "code",
   "execution_count": 6,
   "metadata": {},
   "outputs": [
    {
     "name": "stdout",
     "output_type": "stream",
     "text": [
      "KDTree: 3.675814628601074\n"
     ]
    }
   ],
   "source": [
    "timeStart = time.time()\n",
    "kdTree = grid.get_kd_tree()\n",
    "timeEnd = time.time()\n",
    "print(f\"KDTree: {timeEnd - timeStart}\")"
   ]
  },
  {
   "cell_type": "markdown",
   "metadata": {},
   "source": [
    "Next comparing the query times between the two for 1,000,000 nearest neighbors, we can see that the KDTree is slightly faster."
   ]
  },
  {
   "cell_type": "code",
   "execution_count": 7,
   "metadata": {},
   "outputs": [
    {
     "name": "stdout",
     "output_type": "stream",
     "text": [
      "BallTree Query : 0.21140646934509277\n",
      "KDTree Query: 0.17479634284973145\n"
     ]
    }
   ],
   "source": [
    "timeStart = time.time()\n",
    "ballQuery = ballTree.query([3.0, 3.0], k=1000000)\n",
    "timeEnd = time.time()\n",
    "print(f\"BallTree Query : {timeEnd - timeStart}\")\n",
    "\n",
    "timeStart = time.time()\n",
    "kdQuery = kdTree.query([0.0, 0.0, 1.0], k=1000000)\n",
    "timeEnd = time.time()\n",
    "print(f\"KDTree Query: {timeEnd - timeStart}\")"
   ]
  },
  {
   "cell_type": "markdown",
   "metadata": {},
   "source": [
    "For a smaller query of 1000 nearest neighbors the difference is mostly insignificant:"
   ]
  },
  {
   "cell_type": "code",
   "execution_count": 8,
   "metadata": {},
   "outputs": [
    {
     "name": "stdout",
     "output_type": "stream",
     "text": [
      "BallTree Query : 0.0026235580444335938\n",
      "KDTree Query: 0.0030143260955810547\n"
     ]
    }
   ],
   "source": [
    "timeStart = time.time()\n",
    "ballQuery = ballTree.query([3.0, 3.0], k=1000)\n",
    "timeEnd = time.time()\n",
    "print(f\"BallTree Query : {timeEnd - timeStart}\")\n",
    "\n",
    "timeStart = time.time()\n",
    "kdQuery = kdTree.query([0.0, 0.0, 1.0], k=1000)\n",
    "timeEnd = time.time()\n",
    "print(f\"KDTree Query: {timeEnd - timeStart}\")"
   ]
  }
 ],
 "metadata": {
  "kernelspec": {
   "display_name": "Python 3.9.13 ('uxarray-docs')",
   "language": "python",
   "name": "python3"
  },
  "language_info": {
   "codemirror_mode": {
    "name": "ipython",
    "version": 3
   },
   "file_extension": ".py",
   "mimetype": "text/x-python",
   "name": "python",
   "nbconvert_exporter": "python",
   "pygments_lexer": "ipython3",
   "version": "3.11.5"
  },
  "orig_nbformat": 4,
  "vscode": {
   "interpreter": {
    "hash": "5df6a94ef43b22c97c277f6a9dce3b546a324b9de41c6d8e82aecf8eafd14442"
   }
  }
 },
 "nbformat": 4,
 "nbformat_minor": 2
}
