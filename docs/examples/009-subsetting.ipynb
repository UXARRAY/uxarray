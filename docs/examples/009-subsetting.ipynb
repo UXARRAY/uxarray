{
 "cells": [
  {
   "cell_type": "markdown",
   "source": [
    "# Subsetting an Unstructured Grid: Analysis Over Chicago\n",
    "\n",
    "Authors: [Philip Chmielowiec](https://github.com/philipc2)\n",
    "\n",
    "This usage example showcases various ways of subsetting an unstructured grid using UXarray, focussing on analyzing a region around Chicago, Illinois."
   ],
   "metadata": {
    "collapsed": false
   }
  },
  {
   "cell_type": "code",
   "execution_count": null,
   "outputs": [],
   "source": [
    "import uxarray as ux\n",
    "import geoviews.feature as gf\n",
    "import cartopy.crs as ccrs\n",
    "import holoviews as hv\n",
    "\n",
    "import warnings\n",
    "\n",
    "import geocat.datafiles as geodf\n",
    "\n",
    "\n",
    "plot_opts = {\"width\" : 700, \"height\": 350}\n",
    "\n",
    "hv.extension('bokeh')\n",
    "\n",
    "\n",
    "warnings.filterwarnings(\"ignore\")"
   ],
   "metadata": {
    "collapsed": false
   }
  },
  {
   "cell_type": "markdown",
   "source": [
    "## Setup"
   ],
   "metadata": {
    "collapsed": false
   }
  },
  {
   "cell_type": "code",
   "execution_count": null,
   "outputs": [],
   "source": [
    "datafiles = (\n",
    "    geodf.get(\n",
    "        \"netcdf_files/MPAS/FalkoJudt/dyamond_1/30km/diag.2016-08-20_00.00.00_subset.nc\"\n",
    "    ),\n",
    "    geodf.get(\"netcdf_files/MPAS/FalkoJudt/dyamond_1/30km/x1.655362.grid_subset.nc\"),\n",
    ")"
   ],
   "metadata": {
    "collapsed": false
   }
  },
  {
   "cell_type": "code",
   "execution_count": null,
   "outputs": [],
   "source": [
    "uxds = ux.open_dataset(datafiles[1], datafiles[0])"
   ],
   "metadata": {
    "collapsed": false
   }
  },
  {
   "cell_type": "code",
   "execution_count": null,
   "outputs": [],
   "source": [
    "clim = (uxds['relhum_200hPa'][0].values.min(), uxds['relhum_200hPa'][0].values.max())"
   ],
   "metadata": {
    "collapsed": false
   }
  },
  {
   "cell_type": "code",
   "execution_count": null,
   "outputs": [],
   "source": [
    "features = gf.coastline(projection=ccrs.PlateCarree(), line_width=1, scale='50m') * \\\n",
    "           gf.states(projection=ccrs.PlateCarree(), line_width=1, scale='50m')"
   ],
   "metadata": {
    "collapsed": false
   }
  },
  {
   "cell_type": "markdown",
   "source": [
    "## Global Grid\n",
    "\n",
    "Many unstructured grids, such as those from global climate models, span the entire surface of a sphere (both with or without masks).\n",
    "\n",
    "UXarray is built around supporting grids at a global extent, considering the spherical geometry that is involved (wrap around at the antimeridian, pole points, etc.)\n"
   ],
   "metadata": {
    "collapsed": false
   }
  },
  {
   "cell_type": "code",
   "execution_count": null,
   "outputs": [],
   "source": [
    "uxds['relhum_200hPa'][0].plot.rasterize(method='polygon',\n",
    "                                        exclude_antimeridian=True,\n",
    "                                        title = \"Global Grid\",\n",
    "                                        **plot_opts) * features"
   ],
   "metadata": {
    "collapsed": false
   }
  },
  {
   "cell_type": "markdown",
   "source": [
    "In addition to plotting global grids, we can perform analysis operations."
   ],
   "metadata": {
    "collapsed": false
   }
  },
  {
   "cell_type": "code",
   "execution_count": null,
   "outputs": [],
   "source": [
    "uxds['relhum_200hPa'][0].values.mean()"
   ],
   "metadata": {
    "collapsed": false
   }
  },
  {
   "cell_type": "markdown",
   "source": [
    "## Bounding Box\n",
    "\n",
    "We can declare a bounding box centered about the Chicago area by specifying the minimum and maximum longitude and latitude bounds."
   ],
   "metadata": {
    "collapsed": false
   }
  },
  {
   "cell_type": "code",
   "execution_count": null,
   "outputs": [],
   "source": [
    "lon_bounds = (-87.6298 - 2, -87.6298 + 2)\n",
    "lat_bounds = (41.8781 - 2, 41.8781 + 2)"
   ],
   "metadata": {
    "collapsed": false
   }
  },
  {
   "cell_type": "markdown",
   "source": [],
   "metadata": {
    "collapsed": false
   }
  },
  {
   "cell_type": "code",
   "execution_count": null,
   "outputs": [],
   "source": [
    "bbox_subset_nodes = uxds['relhum_200hPa'][0].subset.bounding_box(lon_bounds, lat_bounds, element='nodes')\n",
    "\n",
    "bbox_subset_nodes.plot.rasterize(method='polygon',\n",
    "                                 exclude_antimeridian=True,\n",
    "                                 clim=clim,\n",
    "                                 title=\"Bounding Box Subset\",\n",
    "                                 **plot_opts) * features"
   ],
   "metadata": {
    "collapsed": false
   }
  },
  {
   "cell_type": "code",
   "execution_count": null,
   "outputs": [],
   "source": [
    "bbox_subset_faces= uxds['relhum_200hPa'][0].subset.bounding_box(lon_bounds, lat_bounds, element='face centers')\n",
    "\n",
    "bbox_subset_faces.plot.rasterize(method='polygon',\n",
    "                                 exclude_antimeridian=True,\n",
    "                                 clim=clim,\n",
    "                                 title=\"Bounding Box Subset (Face Center Query)\",\n",
    "                                 **plot_opts) * features"
   ],
   "metadata": {
    "collapsed": false
   }
  },
  {
   "cell_type": "markdown",
   "source": [
    "## Bounding Circle"
   ],
   "metadata": {
    "collapsed": false
   }
  },
  {
   "cell_type": "code",
   "execution_count": null,
   "outputs": [],
   "source": [
    "center_coord = [-87.6298, 41.8781]\n",
    "\n",
    "r = 2"
   ],
   "metadata": {
    "collapsed": false
   }
  },
  {
   "cell_type": "code",
   "execution_count": null,
   "outputs": [],
   "source": [
    "bcircle_subset = uxds['relhum_200hPa'][0].subset.bounding_circle(center_coord, r)\n",
    "\n",
    "bcircle_subset.plot.rasterize(method='polygon',\n",
    "                              exclude_antimeridian=True,\n",
    "                              clim=clim,\n",
    "                              title=\"Bounding Circle Subset\",\n",
    "                              **plot_opts) * features"
   ],
   "metadata": {
    "collapsed": false
   }
  },
  {
   "cell_type": "markdown",
   "source": [
    "## Nearest Neighbor"
   ],
   "metadata": {
    "collapsed": false
   }
  },
  {
   "cell_type": "code",
   "execution_count": null,
   "outputs": [],
   "source": [
    "center_coord = [-87.6298, 41.8781]"
   ],
   "metadata": {
    "collapsed": false
   }
  },
  {
   "cell_type": "code",
   "execution_count": null,
   "outputs": [],
   "source": [
    "nn_subset = uxds['relhum_200hPa'][0].subset.nearest_neighbor(center_coord, k = 30, tree_type='nodes')\n",
    "\n",
    "nn_subset.plot.rasterize(method='polygon', exclude_antimeridian=True,\n",
    "                         clim=clim,\n",
    "                         title= \"Nearest Neighbor Subset\",\n",
    "                         **plot_opts) * features"
   ],
   "metadata": {
    "collapsed": false
   }
  },
  {
   "cell_type": "code",
   "execution_count": null,
   "outputs": [],
   "source": [
    "nn_subset_120 = uxds['relhum_200hPa'][0].subset.nearest_neighbor(center_coord, k = 120, tree_type=\"face centers\")\n",
    "\n",
    "nn_subset_120.plot.rasterize(method='polygon',\n",
    "                         exclude_antimeridian=True,\n",
    "                         clim=clim,\n",
    "                        title= \"Nearest Neighbor Subset (120 Faces)\",\n",
    "                         **plot_opts) * features"
   ],
   "metadata": {
    "collapsed": false
   }
  },
  {
   "cell_type": "code",
   "execution_count": null,
   "outputs": [],
   "source": [
    "nn_subset_1 = uxds['relhum_200hPa'][0].subset.nearest_neighbor(center_coord, k = 1, tree_type=\"face centers\")\n",
    "\n",
    "nn_subset_1.plot.rasterize(method='polygon', exclude_antimeridian=True,\n",
    "                         clim=clim,\n",
    "                         title= \"Nearest Neighbor Subset (Closest Face)\",\n",
    "                         **plot_opts) * features"
   ],
   "metadata": {
    "collapsed": false
   }
  },
  {
   "cell_type": "markdown",
   "source": [
    "## Analysis Operators\n",
    "\n",
    "Since each subset is a newly initialized grid, analysis operators can be directly performed without needing to specify anything else."
   ],
   "metadata": {
    "collapsed": false
   }
  },
  {
   "cell_type": "code",
   "execution_count": null,
   "outputs": [],
   "source": [
    "bbox_subset_nodes.values.mean(), bbox_subset_faces.values.mean(), bcircle_subset.values.mean()"
   ],
   "metadata": {
    "collapsed": false
   }
  },
  {
   "cell_type": "code",
   "execution_count": null,
   "outputs": [],
   "source": [
    "bbox_subset_nodes.values.std(), bbox_subset_faces.values.std(), bcircle_subset.values.std()"
   ],
   "metadata": {
    "collapsed": false
   }
  },
  {
   "cell_type": "code",
   "execution_count": null,
   "outputs": [],
   "source": [
    "bbox_subset_nodes.values.min(), bbox_subset_faces.values.min(), bcircle_subset.values.min()"
   ],
   "metadata": {
    "collapsed": false
   }
  },
  {
   "cell_type": "code",
   "execution_count": null,
   "outputs": [],
   "source": [
    "bbox_subset_nodes.values.max(), bbox_subset_faces.values.max(), bcircle_subset.values.max()"
   ],
   "metadata": {
    "collapsed": false
   }
  }
 ],
 "metadata": {
  "kernelspec": {
   "display_name": "Python 3",
   "language": "python",
   "name": "python3"
  },
  "language_info": {
   "codemirror_mode": {
    "name": "ipython",
    "version": 2
   },
   "file_extension": ".py",
   "mimetype": "text/x-python",
   "name": "python",
   "nbconvert_exporter": "python",
   "pygments_lexer": "ipython2",
   "version": "2.7.6"
  }
 },
 "nbformat": 4,
 "nbformat_minor": 0
}
