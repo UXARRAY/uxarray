{
 "cells": [
  {
   "cell_type": "markdown",
   "source": [
    "# Subsetting an Unstructured Grid"
   ],
   "metadata": {
    "collapsed": false
   }
  },
  {
   "cell_type": "code",
   "execution_count": null,
   "outputs": [],
   "source": [
    "import uxarray as ux\n",
    "import geoviews.feature as gf\n",
    "import cartopy.crs as ccrs\n",
    "import holoviews as hv\n",
    "\n",
    "import geocat.datafiles as geodf\n",
    "\n",
    "\n",
    "plot_opts = {\"width\" : 700, \"height\": 350}\n",
    "\n",
    "hv.extension('bokeh')\n"
   ],
   "metadata": {
    "collapsed": false
   }
  },
  {
   "cell_type": "code",
   "execution_count": null,
   "outputs": [],
   "source": [
    "datafiles = (\n",
    "    geodf.get(\n",
    "        \"netcdf_files/MPAS/FalkoJudt/dyamond_1/30km/diag.2016-08-20_00.00.00_subset.nc\"\n",
    "    ),\n",
    "    geodf.get(\"netcdf_files/MPAS/FalkoJudt/dyamond_1/30km/x1.655362.grid_subset.nc\"),\n",
    ")"
   ],
   "metadata": {
    "collapsed": false
   }
  },
  {
   "cell_type": "code",
   "execution_count": null,
   "outputs": [],
   "source": [
    "uxds = ux.open_dataset(datafiles[1], datafiles[0])"
   ],
   "metadata": {
    "collapsed": false
   }
  },
  {
   "cell_type": "code",
   "execution_count": null,
   "outputs": [],
   "source": [
    "clim = (uxds['relhum_200hPa'][0].values.min(), uxds['relhum_200hPa'][0].values.max())"
   ],
   "metadata": {
    "collapsed": false
   }
  },
  {
   "cell_type": "markdown",
   "source": [
    "## Global Extent"
   ],
   "metadata": {
    "collapsed": false
   }
  },
  {
   "cell_type": "code",
   "execution_count": null,
   "outputs": [],
   "source": [
    "uxds['relhum_200hPa'][0].plot.rasterize(method='polygon', exclude_antimeridian=True, **plot_opts) * gf.coastline(projection=ccrs.PlateCarree(), line_width=1, scale='50m') * gf.states(projection=ccrs.PlateCarree(), line_width=1, scale='50m')"
   ],
   "metadata": {
    "collapsed": false
   }
  },
  {
   "cell_type": "markdown",
   "source": [
    "## Bounding Box"
   ],
   "metadata": {
    "collapsed": false
   }
  },
  {
   "cell_type": "code",
   "execution_count": null,
   "outputs": [],
   "source": [
    "lon_bounds = (-87.6298 - 2, -87.6298 + 2)\n",
    "lat_bounds = (41.8781 - 2, 41.8781 + 2)"
   ],
   "metadata": {
    "collapsed": false
   }
  },
  {
   "cell_type": "code",
   "execution_count": null,
   "outputs": [],
   "source": [
    "bbox_subset = uxds['relhum_200hPa'][0].subset.bounding_box(lon_bounds, lat_bounds)\n",
    "\n",
    "bbox_subset.plot.rasterize(method='polygon', exclude_antimeridian=True, clim=clim, **plot_opts) * gf.coastline(projection=ccrs.PlateCarree(), line_width=1, scale='50m') * gf.states(projection=ccrs.PlateCarree(), line_width=1, scale='50m')"
   ],
   "metadata": {
    "collapsed": false
   }
  },
  {
   "cell_type": "markdown",
   "source": [
    "## Bounding Circle"
   ],
   "metadata": {
    "collapsed": false
   }
  },
  {
   "cell_type": "code",
   "execution_count": null,
   "outputs": [],
   "source": [
    "center_coord = [-87.6298, 41.8781]\n",
    "\n",
    "r = 2"
   ],
   "metadata": {
    "collapsed": false
   }
  },
  {
   "cell_type": "code",
   "execution_count": null,
   "outputs": [],
   "source": [
    "bcircl_subset = uxds['relhum_200hPa'][0].subset.bounding_circle(center_coord, r)\n",
    "\n",
    "bcircl_subset.plot.rasterize(method='polygon', exclude_antimeridian=True, clim=clim, **plot_opts) * gf.coastline(projection=ccrs.PlateCarree(), line_width=1, scale='50m') * gf.states(projection=ccrs.PlateCarree(), line_width=1, scale='50m')"
   ],
   "metadata": {
    "collapsed": false
   }
  },
  {
   "cell_type": "markdown",
   "source": [
    "## Nearest Neighbor"
   ],
   "metadata": {
    "collapsed": false
   }
  },
  {
   "cell_type": "code",
   "execution_count": null,
   "outputs": [],
   "source": [
    "center_coord = [-87.6298, 41.8781]\n",
    "\n",
    "k = 30"
   ],
   "metadata": {
    "collapsed": false
   }
  },
  {
   "cell_type": "code",
   "execution_count": null,
   "outputs": [],
   "source": [
    "nn_subset = uxds['relhum_200hPa'][0].subset.nearest_neighbor(center_coord, k)\n",
    "\n",
    "nn_subset.plot.rasterize(method='polygon', exclude_antimeridian=True, clim=clim, **plot_opts) * gf.coastline(projection=ccrs.PlateCarree(), line_width=1, scale='50m') * gf.states(projection=ccrs.PlateCarree(), line_width=1, scale='50m')"
   ],
   "metadata": {
    "collapsed": false
   }
  },
  {
   "cell_type": "code",
   "execution_count": null,
   "outputs": [],
   "source": [],
   "metadata": {
    "collapsed": false
   }
  }
 ],
 "metadata": {
  "kernelspec": {
   "display_name": "Python 3",
   "language": "python",
   "name": "python3"
  },
  "language_info": {
   "codemirror_mode": {
    "name": "ipython",
    "version": 2
   },
   "file_extension": ".py",
   "mimetype": "text/x-python",
   "name": "python",
   "nbconvert_exporter": "python",
   "pygments_lexer": "ipython2",
   "version": "2.7.6"
  }
 },
 "nbformat": 4,
 "nbformat_minor": 0
}
