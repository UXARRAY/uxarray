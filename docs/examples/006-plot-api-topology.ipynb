{
 "cells": [
  {
   "cell_type": "markdown",
   "source": [
    "# Visualizing Grid Topology\n",
    "Authors: [Philip Chmielowiec](https://github.com/philipc2)\n"
   ],
   "metadata": {
    "collapsed": false
   },
   "id": "16fdc39d216e46c9"
  },
  {
   "cell_type": "markdown",
   "source": [
    "## Overview\n",
    "This usage example showcases how to use UXarray's plotting API to visualize the topology of an unstructured grid. The majority of this notebook uses the Primal Mesh of an MPAS Ocean Grid, with the final example using an MPAS Atmosphere Grid.\n",
    "\n",
    "```{note}\n",
    "UXarray's Plotting API is build around the [Holoviews](https://holoviews.org/) package.\n",
    "```"
   ],
   "metadata": {
    "collapsed": false
   },
   "id": "e9103dbf8c9b0586"
  },
  {
   "cell_type": "code",
   "execution_count": null,
   "outputs": [],
   "source": [
    "import uxarray as ux\n",
    "from holoviews import opts"
   ],
   "metadata": {
    "collapsed": false
   },
   "id": "2bb4061ea7a67374"
  },
  {
   "cell_type": "code",
   "execution_count": null,
   "outputs": [],
   "source": [
    "base_path = \"../../test/meshfiles/mpas/QU/\"\n",
    "grid_path = base_path + \"oQU480.231010.nc\"\n",
    "uxds = ux.open_dataset(grid_path, grid_path)\n",
    "grid = uxds.uxgrid"
   ],
   "metadata": {
    "collapsed": false
   },
   "id": "832f6b25e466f0bb"
  },
  {
   "cell_type": "markdown",
   "source": [
    "## Using the `Grid.plot()` Accessor\n",
    "\n",
    "Each `Grid` object is initialized with a plotting accessor, which enables plotting routines to be called directly on the object. By default, calling `.plot()` on a `Grid` instance plots all of the edges of our grid."
   ],
   "metadata": {
    "collapsed": false
   },
   "id": "e68bcee620dcbe41"
  },
  {
   "cell_type": "code",
   "execution_count": null,
   "outputs": [],
   "source": [
    "grid.plot(title=\"Default Grid Plot Method\", height=350, width=700)"
   ],
   "metadata": {
    "collapsed": false
   },
   "id": "e0c225a389896ffa"
  },
  {
   "cell_type": "markdown",
   "source": [
    "Since all of our plotting methods are built around the Holoviews package, you can select between Matplotlib and Bokeh backends if desired (Bokeh is the default)."
   ],
   "metadata": {
    "collapsed": false
   },
   "id": "e02dbc4bf199219d"
  },
  {
   "cell_type": "code",
   "execution_count": null,
   "outputs": [],
   "source": [
    "grid.plot(backend=\"matplotlib\", title=\"Default Grid Plot Method with Matplotlib Backend\", fig_size=200)"
   ],
   "metadata": {
    "collapsed": false
   },
   "id": "694627a1c8a14dde"
  },
  {
   "cell_type": "markdown",
   "source": [
    "Since each ``UxDataArray`` and ``UxDataset`` is paired with a ``Grid`` objected through the ``.uxgrid`` attribute, the same function calls can be executed"
   ],
   "metadata": {
    "collapsed": false
   },
   "id": "5581a5647f0deff2"
  },
  {
   "cell_type": "code",
   "execution_count": null,
   "outputs": [],
   "source": [
    "uxds.uxgrid.plot(title=\"Default Plot Method through uxgrid Accessor\", height=350, width=700)"
   ],
   "metadata": {
    "collapsed": false
   },
   "id": "40a99d9f1db0eae0"
  },
  {
   "cell_type": "markdown",
   "source": [
    "## Visualizing Grid Elements\n",
    "\n",
    "As described in previous sections, a ``Grid`` is composed of nodes and edges that connect together to create our unstructured grid. These elements can be visualized directly through a ``Grid`` instance."
   ],
   "metadata": {
    "collapsed": false
   },
   "id": "40460d8917921c9b"
  },
  {
   "cell_type": "code",
   "execution_count": null,
   "outputs": [],
   "source": [
    "grid.plot.nodes(title=\"Node Plot\", size=1, height=350, width=700)"
   ],
   "metadata": {
    "collapsed": false
   },
   "id": "44560070c7f49da0"
  },
  {
   "cell_type": "code",
   "execution_count": null,
   "outputs": [],
   "source": [
    "grid.plot.edges(title=\"Edge Plot\", height=250, width=500)"
   ],
   "metadata": {
    "collapsed": false
   },
   "id": "8c00ae5b39986738"
  },
  {
   "cell_type": "markdown",
   "source": [
    "Since the edge plot above outlines the geometry of our mesh, another way to call it is through the ``plot.mesh()`` call. Both ``plot.mesh()`` and ``plot.edges()`` takes in an optional argument called ``exclude_antimeridian``, which generates the visualuzation with or without correcting polygons that cross at the antimeridian (+- 180 longitude)"
   ],
   "metadata": {
    "collapsed": false
   },
   "id": "7378fe446a0448c4"
  },
  {
   "cell_type": "code",
   "execution_count": null,
   "outputs": [],
   "source": [
    "grid.plot.mesh(exclude_antimeridian=True, title=\"Mesh (Edge) Plot excluding Antimeridian Polygons\", height=350, width=700)"
   ],
   "metadata": {
    "collapsed": false
   },
   "id": "a1e95b31ea94a358"
  },
  {
   "cell_type": "markdown",
   "source": [
    "Zooming in and overlaying both the edge and node plots together shows us the relationship between how the nodes are connected together to form edges and faces."
   ],
   "metadata": {
    "collapsed": false
   },
   "id": "4853c1319a5a76d3"
  },
  {
   "cell_type": "code",
   "execution_count": null,
   "outputs": [],
   "source": [
    "(grid.plot.edges(color=\"Black\") * grid.plot.nodes(color=\"Red\", size=5)).opts(xlim = (-150,-90), ylim = (20, 50), height=350, width=700, title=\"Nodes and Edges\")"
   ],
   "metadata": {
    "collapsed": false
   },
   "id": "143494620f4f627c"
  },
  {
   "cell_type": "markdown",
   "source": [
    "## Visualization Grid Coordinates (Nodes, Edge Centers, & Face Centers)\n",
    "We saw above that Nodes are plotted as points using latitude and longitude coordinates. In addition to nodes, one may want to visualize other coordinates, such as face centers or edge centers. Since these elements are also represented in terms of the latitude and longitude, we can also plot them as points like we did with the Nodes."
   ],
   "metadata": {
    "collapsed": false
   },
   "id": "21d3a89a54f3185a"
  },
  {
   "cell_type": "code",
   "execution_count": null,
   "outputs": [],
   "source": [
    "( uxds.uxgrid.plot.mesh(color=\"Black\", line_dash='dashed', line_width=2, exclude_antimeridian=False) * \\\n",
    " uxds.uxgrid.plot.nodes(color = \"Red\", size=4) * \\\n",
    " uxds.uxgrid.plot.face_centers(color = \"Blue\",  size=4) * \\\n",
    " uxds.uxgrid.plot.edge_centers(color = \"Green\",  size=4)).opts(title=\"Node, Edge, & Face Coordinates\", xlim=(-150,-90), ylim=(20, 50), width=700, height=350)"
   ],
   "metadata": {
    "collapsed": false
   },
   "id": "4a4a30b20566380b"
  },
  {
   "cell_type": "markdown",
   "source": [
    "You can also plot each of these elements using the `plot.node_coords()`, `plot.face_coords()`, and `plot.edge_coords()` methods, which are equivalent to the ones shown above."
   ],
   "metadata": {
    "collapsed": false
   },
   "id": "e9a133f557cbbab9"
  },
  {
   "cell_type": "code",
   "execution_count": null,
   "outputs": [],
   "source": [
    "( uxds.uxgrid.plot.mesh(color=\"Black\", line_dash='dashed', line_width=2, exclude_antimeridian=False) * \\\n",
    " uxds.uxgrid.plot.node_coords(color = \"Red\", size=4) * \\\n",
    " uxds.uxgrid.plot.face_coords(color = \"Blue\",  size=4) * \\\n",
    " uxds.uxgrid.plot.edge_coords(color = \"Green\",  size=4)).opts(title=\"Node, Edge, & Face Coordinates\", xlim=(-150,-90), ylim=(20, 50), width=700, height=350)"
   ],
   "metadata": {
    "collapsed": false
   },
   "id": "59c57aed6b00431f"
  },
  {
   "cell_type": "markdown",
   "source": [],
   "metadata": {
    "collapsed": false
   },
   "id": "fa8240539c6f1489"
  },
  {
   "cell_type": "markdown",
   "source": [
    "## MPAS Primal & Dual Meshes\n",
    "\n",
    "The dataset used in the examples above is an MPAS Ocean Mesh, which as of the most recent release can only be loaded correctly using the Primal Mesh in UXarray. The following mesh is taken from the atmospheric component, which covers the whole surface of the earth, and can be properly loaded in with UXarray."
   ],
   "metadata": {
    "collapsed": false
   },
   "id": "a8163f85180decf1"
  },
  {
   "cell_type": "code",
   "execution_count": null,
   "outputs": [],
   "source": [
    "base_path = \"../../test/meshfiles/mpas/QU/\"\n",
    "grid_path = base_path + \"mesh.QU.1920km.151026.nc\"\n",
    "primal_grid = ux.open_grid(grid_path, use_dual=False)\n",
    "dual_grid = ux.open_grid(grid_path, use_dual=True)"
   ],
   "metadata": {
    "collapsed": false
   },
   "id": "7338aad4acac3e88"
  },
  {
   "cell_type": "markdown",
   "source": [
    "We can plot the Nodes and Edges of both the Primal and Dual meshes together to form a Voronoi Mesh, which can be read about [here](https://mpas-dev.github.io/)."
   ],
   "metadata": {
    "collapsed": false
   },
   "id": "f5eb751b1dedb7ee"
  },
  {
   "cell_type": "code",
   "execution_count": null,
   "outputs": [],
   "source": [
    "(primal_grid.plot.edges(color=\"Blue\", line_width=2) * \\\n",
    " primal_grid.plot.nodes(color=\"Blue\", size=10) * \\\n",
    " dual_grid.plot.edges(color=\"Red\", line_width = 2) * \\\n",
    " dual_grid.plot.nodes(color=\"Red\", size=10)).opts(title=\"MPAS Primal & Dual Mesh\", xlim=(-50, 50), ylim=(-25, 25), width=700, height=350)"
   ],
   "metadata": {
    "collapsed": false
   },
   "id": "b59214b2ab5dcf42"
  }
 ],
 "metadata": {
  "kernelspec": {
   "display_name": "Python 3",
   "language": "python",
   "name": "python3"
  },
  "language_info": {
   "codemirror_mode": {
    "name": "ipython",
    "version": 2
   },
   "file_extension": ".py",
   "mimetype": "text/x-python",
   "name": "python",
   "nbconvert_exporter": "python",
   "pygments_lexer": "ipython2",
   "version": "2.7.6"
  }
 },
 "nbformat": 4,
 "nbformat_minor": 5
}
