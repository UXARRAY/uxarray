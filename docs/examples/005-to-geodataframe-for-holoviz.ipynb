{
 "cells": [
  {
   "cell_type": "markdown",
   "metadata": {
    "collapsed": false
   },
   "source": [
    "# Conversion to GeoDataFrame for Visualization with HoloViz Packages\n",
    "Authors: [Philip Chmielowiec](https://github.com/philipc2), [Ian Franda](https://github.com/ifranda)\n",
    "\n",
    "## Overview\n",
    "This usage example notebook showcases how UXarray data structures (`Grid`, `UxDataArray`) can be converted in a Spatialpandas `GeoDataFrame`, which can be used directly by packages from the HoloViz stack, such as hvPlot, Datashader, Holoviews, and Geoviews. In addition to showing how to convert to a `GeoDataFrame`, a series of visualizations using hvPlot and GeoViews is showcased based around the converted data structure.\n",
    "\n",
    "```{note}\n",
    "While the visualizations in this notebook are not rendered using UXarray functionality, development of UXarray's own visualization functions can be tracked [here](https://github.com/UXARRAY/uxarray/milestone/2).\n",
    "```\n",
    "\n"
   ]
  },
  {
   "cell_type": "markdown",
   "metadata": {
    "collapsed": false
   },
   "source": [
    "## Imports\n",
    "\n",
    "This notebook requires the following visualization packages to be installed in order to run locally.\n",
    "\n",
    "```\n",
    "conda install -c conda-forge holoviews hvplot geoviews spatialpandas antimeridian\n",
    "```\n"
   ]
  },
  {
   "cell_type": "code",
   "execution_count": null,
   "metadata": {
    "is_executing": true
   },
   "outputs": [],
   "source": [
    "import uxarray as ux\n",
    "import numpy as np\n",
    "import warnings\n",
    "\n",
    "import matplotlib\n",
    "import matplotlib.pyplot as plt\n",
    "\n",
    "import hvplot.pandas\n",
    "import holoviews as hv\n",
    "\n",
    "warnings.filterwarnings(\"ignore\")"
   ]
  },
  {
   "cell_type": "markdown",
   "metadata": {},
   "source": [
    "## Data\n",
    "\n",
    "For this notebook, we will be using E3SM model output, which uses a cubed-sphere grid. However, this notebook can be adapted to datasets in any of our supported formats."
   ]
  },
  {
   "cell_type": "code",
   "execution_count": null,
   "metadata": {
    "is_executing": true
   },
   "outputs": [],
   "source": [
    "base_path = \"../../test/meshfiles/ugrid/outCSne30/\"\n",
    "grid_path = base_path + \"outCSne30.ug\"\n",
    "data_path = base_path + \"outCSne30_vortex.nc\""
   ]
  },
  {
   "cell_type": "code",
   "execution_count": null,
   "metadata": {
    "is_executing": true
   },
   "outputs": [],
   "source": [
    "uxds = ux.open_dataset(grid_path, data_path)"
   ]
  },
  {
   "cell_type": "code",
   "execution_count": null,
   "metadata": {
    "is_executing": true
   },
   "outputs": [],
   "source": [
    "uxds"
   ]
  },
  {
   "cell_type": "code",
   "execution_count": null,
   "metadata": {
    "is_executing": true
   },
   "outputs": [],
   "source": [
    "uxds.uxgrid"
   ]
  },
  {
   "cell_type": "markdown",
   "metadata": {},
   "source": [
    "## Conversion to `spatialpandas.GeoDataFrame` for Visualization\n",
    "\n",
    "In order to support visualization with the popular HoloViz stack of libraries (hvPlot, HoloViews, Datashader, etc.), UXarray provides methods for converting `Grid` and `UxDataArray` objects into a SpatialPandas `GeoDataFrame`, which can be used for visualizing the nodes, edges, and polygons that represent each grid, in addition to data variables.\n"
   ]
  },
  {
   "cell_type": "markdown",
   "metadata": {},
   "source": [
    "### `Grid` Conversion\n",
    "\n",
    "If you wish to plot *only* the grid's geometrical elements such as nodes and edges (i.e. without any data variables mapped to them), you can directly convert a `Grid` instance into a `GeoDataFrame`.\n",
    "\n",
    "Each `UxDataset` and `UxDataArray` has a `Grid` instance paired to it, which can be accessed using the `.uxgrid` attribute.\n",
    "\n",
    "You can use the `Grid.to_geodataframe()` method to construct a `GeoDataFrame`."
   ]
  },
  {
   "cell_type": "code",
   "execution_count": null,
   "metadata": {
    "is_executing": true
   },
   "outputs": [],
   "source": [
    "gdf_grid = uxds.uxgrid.to_geodataframe()\n",
    "gdf_grid"
   ]
  },
  {
   "cell_type": "markdown",
   "metadata": {},
   "source": [
    "### `UxDataArray` & `UxDataset` Conversion\n",
    "\n",
    "If you are interested in mapping data to each face, you can index the `UxDataset` with the variable of interest (in this case \"psi\") to return the same `GeoDataFrame` as above, but now with data mapped to each face.\n",
    "\n",
    "```{warning}\n",
    "UXarray currently only supports mapping data variables that are mapped to each face. Variables that reside on the corner nodes or edges are currently not supported for visualization.\n",
    "```\n",
    "\n"
   ]
  },
  {
   "cell_type": "code",
   "execution_count": null,
   "metadata": {
    "is_executing": true
   },
   "outputs": [],
   "source": [
    "gdf_data = uxds['psi'].to_geodataframe()\n",
    "gdf_data"
   ]
  },
  {
   "cell_type": "markdown",
   "metadata": {},
   "source": [
    "### Challenges with Representing Geoscience Data as Geometries\n",
    "\n",
    "When we convert to a `GeoDataFrame`, we internally represent the surface of a sphere as a collection of polygons over a 2D projection. However, this leads to issues around the Antimeridian (180 degrees east or west) where polygons are incorrectly constructed and have incorrect geometries. When constructing the `GeoDataFrame`, UXarray detects and corrects any polygon that touches or crosses the antimeridian. An array of indices of these faces can be accessed as part of the `Grid` object.\n",
    "<br>\n",
    "\n",
    "<figure>\n",
    "<center><img src=\"https://upload.wikimedia.org/wikipedia/commons/thumb/8/8d/Earth_map_with_180th_meridian.jpg/640px-Earth_map_with_180th_meridian.jpg\" style=\"height: 300px; width:600px;\"/></center>\n",
    "<center><figcaption>Antimeridian Visual</figcaption></center>\n",
    "</figure>\n"
   ]
  },
  {
   "cell_type": "code",
   "execution_count": null,
   "metadata": {
    "is_executing": true
   },
   "outputs": [],
   "source": [
    "uxds.uxgrid.antimeridian_face_indices"
   ]
  },
  {
   "cell_type": "markdown",
   "metadata": {},
   "source": [
    "Taking a look at one of these faces that crosses or touches the antimeridian, we can see that it's split across the antimeridian and represented as a `MultiPolygon`, which allows us to properly render this two dimensional grid."
   ]
  },
  {
   "cell_type": "code",
   "execution_count": null,
   "metadata": {
    "is_executing": true
   },
   "outputs": [],
   "source": [
    "gdf_data.geometry[uxds.uxgrid.antimeridian_face_indices[0]]"
   ]
  },
  {
   "cell_type": "markdown",
   "metadata": {},
   "source": [
    "For more details about the algorithm used for splitting these polygons, see the [Antimeridian Python Package](https://antimeridian.readthedocs.io/en/stable/), which we use internally for correcting polygons on the antimeridian.\n"
   ]
  },
  {
   "cell_type": "markdown",
   "metadata": {},
   "source": [
    "## Visualizing Geometries\n",
    "\n",
    "The next sections will show how the `GeoDataFrame` representing our unstructured grid can be used with hvPlot and GeoViews to generate visualizations. Examples using both the `matplotlib` and `bokeh` backends are shown, with `bokeh` examples allowing for interactive plots.\n",
    "\n",
    "\n"
   ]
  },
  {
   "cell_type": "markdown",
   "metadata": {},
   "source": [
    "### Nodes"
   ]
  },
  {
   "cell_type": "code",
   "execution_count": null,
   "metadata": {
    "is_executing": true
   },
   "outputs": [],
   "source": [
    "# use matplotlib backend for rendering\n",
    "hv.extension(\"matplotlib\")\n",
    "\n",
    "plot_kwargs = {\"size\": 6.0, \"xlabel\": \"Longitude\", \"ylabel\": \"Latitude\", \"coastline\": True, \"width\": 1600, \"title\": \"Node Plot (Matplotlib Backend)\"}\n",
    "\n",
    "\n",
    "gdf_grid.hvplot.points(**plot_kwargs)"
   ]
  },
  {
   "cell_type": "code",
   "execution_count": null,
   "metadata": {
    "is_executing": true
   },
   "outputs": [],
   "source": [
    "# use bokeh backend for rendering\n",
    "hv.extension(\"bokeh\")\n",
    "\n",
    "plot_kwargs = {\"s\": 1.0, \"xlabel\": \"Longitude\", \"ylabel\": \"Latitude\", \"coastline\": True, \"frame_width\": 700, \"title\": \"Node Plot (Bokeh Backend)\"}\n",
    "\n",
    "gdf_grid.hvplot.points(**plot_kwargs)"
   ]
  },
  {
   "cell_type": "markdown",
   "metadata": {},
   "source": [
    "### Edges"
   ]
  },
  {
   "cell_type": "code",
   "execution_count": null,
   "metadata": {
    "is_executing": true
   },
   "outputs": [],
   "source": [
    "# use matplotlib backend for rendering\n",
    "hv.extension(\"matplotlib\")\n",
    "\n",
    "plot_kwargs = {\"linewidth\": 1.0, \"xlabel\":\" Longitude\", \"ylabel\": \"Latitude\", \"coastline\": True, \"width\": 1600 , \"title\": \"Edge Plot (Matplotlib Backend)\", \"color\": \"black\"}\n",
    "\n",
    "import cartopy.crs as ccrs\n",
    "\n",
    "gdf_grid.hvplot.paths(**plot_kwargs)"
   ]
  },
  {
   "cell_type": "code",
   "execution_count": null,
   "metadata": {
    "is_executing": true
   },
   "outputs": [],
   "source": [
    "# use bokeh backend for rendering\n",
    "hv.extension(\"bokeh\")\n",
    "\n",
    "plot_kwargs = {\"line_width\": 0.5, \"xlabel\": \"Longitude\", \"ylabel\": \"Latitude\", \"coastline\": True, \"frame_width\": 700, \"title\": \"Edge Plot (Bokeh Backend)\"}\n",
    "\n",
    "gdf_grid.hvplot.paths(**plot_kwargs)"
   ]
  },
  {
   "cell_type": "markdown",
   "metadata": {},
   "source": [
    "## Visualizing Data Variables"
   ]
  },
  {
   "cell_type": "code",
   "execution_count": null,
   "metadata": {
    "is_executing": true
   },
   "outputs": [],
   "source": [
    "hv.extension(\"matplotlib\")\n",
    "\n",
    "plot_kwargs = {\"c\": \"psi\", \"cmap\": \"inferno\", \"width\": 400, \"height\": 200, \"title\": \"Filled Polygon Plot (Matplotlib Backend, Rasterized)\", \"xlabel\":\" Longitude\", \"ylabel\": \"Latitude\"}\n",
    "\n",
    "gdf_data.hvplot.polygons(**plot_kwargs, rasterize=True)"
   ]
  },
  {
   "cell_type": "markdown",
   "metadata": {},
   "source": [
    "```{note}\n",
    "Visualizing filled polygons without rasterization using the matplotlib backend produces incorrect results, see [hvplot/#1099](https://github.com/holoviz/hvplot/issues/1099)\n",
    "```"
   ]
  },
  {
   "cell_type": "code",
   "execution_count": null,
   "metadata": {
    "is_executing": true
   },
   "outputs": [],
   "source": [
    "hv.extension(\"bokeh\")\n",
    "\n",
    "plot_kwargs = {\"c\": \"psi\",  \"cmap\": \"inferno\", \"line_width\": 0.1,  \"frame_width\": 500, \"frame_height\": 250, \"xlabel\":\" Longitude\", \"ylabel\": \"Latitude\"}\n",
    "\n",
    "gdf_data.hvplot.polygons(**plot_kwargs, rasterize=True)\n",
    "\n",
    "hv.Layout(gdf_data.hvplot.polygons(**plot_kwargs, rasterize=True).opts(title=\"Filled Polygon Plot (Bokeh Backend, Rasterized)\") +\n",
    "          gdf_data.hvplot.polygons(**plot_kwargs, rasterize=False).opts(title=\"Filled Polygon Plot (Bokeh Backend, Vector)\")).cols(1)"
   ]
  },
  {
   "cell_type": "markdown",
   "metadata": {
    "collapsed": false
   },
   "source": [
    "## Geographic Projections\n",
    "\n"
   ]
  },
  {
   "cell_type": "code",
   "execution_count": null,
   "metadata": {
    "collapsed": false,
    "is_executing": true
   },
   "outputs": [],
   "source": [
    "hv.extension(\"matplotlib\")\n",
    "\n",
    "plot_kwargs = {\"c\": \"psi\", \"cmap\": \"inferno\", \"width\": 400, \"height\": 200, \"title\": \"Filled Polygon Plot (Matplotlib Backend, Rasterized, Orthographic Projection)\", \"xlabel\":\" Longitude\", \"ylabel\": \"Latitude\"}\n",
    "\n",
    "gdf_data.hvplot.polygons(**plot_kwargs, rasterize=True, projection=ccrs.Orthographic())"
   ]
  },
  {
   "cell_type": "code",
   "execution_count": null,
   "metadata": {
    "collapsed": false,
    "is_executing": true
   },
   "outputs": [],
   "source": [
    "hv.extension(\"matplotlib\")\n",
    "\n",
    "plot_kwargs = {\"c\": \"psi\", \"cmap\": \"inferno\", \"width\": 400, \"height\": 200, \"title\": \"Filled Polygon Plot (Matplotlib Backend, Rasterized, Robinson Projection)\", \"xlabel\":\" Longitude\", \"ylabel\": \"Latitude\"}\n",
    "\n",
    "gdf_data.hvplot.polygons(**plot_kwargs, rasterize=True, projection=ccrs.Robinson())"
   ]
  },
  {
   "cell_type": "markdown",
   "metadata": {
    "collapsed": false
   },
   "source": []
  }
 ],
 "metadata": {
  "kernelspec": {
   "display_name": "Python 3 (ipykernel)",
   "language": "python",
   "name": "python3"
  },
  "language_info": {
   "codemirror_mode": {
    "name": "ipython",
    "version": 3
   },
   "file_extension": ".py",
   "mimetype": "text/x-python",
   "name": "python",
   "nbconvert_exporter": "python",
   "pygments_lexer": "ipython3",
   "version": "3.11.4"
  }
 },
 "nbformat": 4,
 "nbformat_minor": 4
}
