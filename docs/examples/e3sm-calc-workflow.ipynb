{
 "cells": [
  {
   "cell_type": "markdown",
   "id": "26faf1b8-c7be-484b-8ca7-41da85fee2f4",
   "metadata": {},
   "source": [
    "# Demo of UXarray Calculation Functions with E3SMv2 Output "
   ]
  },
  {
   "cell_type": "markdown",
   "id": "b7dd298f-ab54-4611-9c73-49e6b5fd92ae",
   "metadata": {},
   "source": [
    "## Overview\n",
    "\n",
    "This usage example showcases the Energy Exascale Earth System Model (E3SM)'s output, that is on an unstructured grid, with the use of UXarray's reduction functions. \n",
    "\n",
    "The following functions will be called and demonstrated: \n",
    "- Monthly Spatial Map of FSNT from AMIP F2010 with sliding panel...?\n",
    "- Subtractions (for SWCRE, LWCRE, and net CRE)\n",
    "- Calcualte climatologies (6-year average of monthly data)"
   ]
  },
  {
   "cell_type": "markdown",
   "id": "c1d30c3c-bf3b-4921-9e01-e99090286dcc",
   "metadata": {},
   "source": [
    "## Imports\n",
    "This notebook requires the following packages to be installed in the notebook environment. \n",
    "```\n",
    "mamba install -c conda-forge uxarray xarray matplotlib cartopy geoviews holoviews\n",
    "```"
   ]
  },
  {
   "cell_type": "code",
   "execution_count": 1,
   "id": "578751d5-9990-413b-a5d7-22df04a860e6",
   "metadata": {},
   "outputs": [],
   "source": [
    "import uxarray as ux\n",
    "import cartopy.crs as ccrs\n",
    "import geoviews as gv\n",
    "import geoviews.feature as gf\n",
    "import holoviews as hv"
   ]
  },
  {
   "cell_type": "markdown",
   "id": "eadb8648-9036-49d8-8f0e-a62122c386cd",
   "metadata": {},
   "source": [
    "## Section 1: Looking at the Data"
   ]
  },
  {
   "cell_type": "markdown",
   "id": "ace849b1-e9b3-4b1d-818e-fdd44420ef85",
   "metadata": {},
   "source": [
    "## Section 2: Calculating Cloud Radiative Effect (netCRE) with UXarray"
   ]
  },
  {
   "cell_type": "markdown",
   "id": "b983c6a5-636e-4641-8526-b3e242533ce8",
   "metadata": {},
   "source": [
    "## Section 3: Calculating idealized CRE climatologies"
   ]
  }
 ],
 "metadata": {
  "kernelspec": {
   "display_name": "Python [conda env:.conda-uxarray-e3sm]",
   "language": "python",
   "name": "conda-env-.conda-uxarray-e3sm-py"
  },
  "language_info": {
   "codemirror_mode": {
    "name": "ipython",
    "version": 3
   },
   "file_extension": ".py",
   "mimetype": "text/x-python",
   "name": "python",
   "nbconvert_exporter": "python",
   "pygments_lexer": "ipython3",
   "version": "3.12.4"
  }
 },
 "nbformat": 4,
 "nbformat_minor": 5
}
