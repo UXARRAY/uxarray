{
 "cells": [
  {
   "cell_type": "markdown",
   "id": "2d27e9523848e6b6",
   "metadata": {
    "collapsed": false
   },
   "source": [
    "# Visualizing Data as Points\n",
    "Authors: [Philip Chmielowiec](https://github.com/philipc2)"
   ]
  },
  {
   "cell_type": "markdown",
   "id": "334f467830facff5",
   "metadata": {
    "collapsed": false
   },
   "source": [
    "## Overview\n",
    "This notebook showcases how to visualize data variables as Points using the UXarray Plotting API.\n",
    "\n",
    "```{note}\n",
    "UXarray's Plotting API is build around the [Holoviews](https://holoviews.org/) package. For details about customization and accepted parameters, pleases refer to their documentation.\n",
    "```"
   ]
  },
  {
   "cell_type": "code",
   "execution_count": null,
   "id": "a3204ae8de696eb1",
   "metadata": {
    "collapsed": false
   },
   "outputs": [],
   "source": [
    "import uxarray as ux\n",
    "import cartopy.crs as ccrs\n",
    "from holoviews import opts"
   ]
  },
  {
   "cell_type": "markdown",
   "source": [],
   "metadata": {
    "collapsed": false
   }
  },
  {
   "cell_type": "code",
   "execution_count": null,
   "id": "e1726e6ae5c8aa4a",
   "metadata": {
    "collapsed": false
   },
   "outputs": [],
   "source": [
    "base_path = \"../../test/meshfiles/mpas/QU/\"\n",
    "grid_path = base_path + \"oQU480.231010.nc\"\n",
    "uxds_mpas = ux.open_dataset(grid_path, grid_path)\n",
    "uxds_mpas['bottomDepth']"
   ]
  },
  {
   "cell_type": "markdown",
   "id": "7dca7d27c5bc293d",
   "metadata": {
    "collapsed": false
   },
   "source": [
    "## Vector Point Plots\n",
    "UXarray supports plotting data variables that are mapped to nodes, edges, or faces by plotting their coordinates as Points and shading those points with the associated data value.\n",
    "\n"
   ]
  },
  {
   "cell_type": "code",
   "execution_count": null,
   "outputs": [],
   "source": [
    "uxds_mpas['bottomDepth'].plot.points(title=\"Point Plot\", height=350, width=700, size = 3)"
   ],
   "metadata": {
    "collapsed": false
   },
   "id": "3bbb52a4a8e11906"
  },
  {
   "cell_type": "code",
   "execution_count": null,
   "id": "39171ad2cc59b52",
   "metadata": {
    "collapsed": false
   },
   "outputs": [],
   "source": [
    "uxds_mpas['bottomDepth'].plot.points(title=\"Point Plot (Orthographic Projection)\", height=350, width=700, size = 5, projection=ccrs.Orthographic())"
   ]
  },
  {
   "cell_type": "markdown",
   "source": [
    "## Rasterized Point Plots"
   ],
   "metadata": {
    "collapsed": false
   },
   "id": "e95c4711c5b4b776"
  },
  {
   "cell_type": "code",
   "execution_count": null,
   "outputs": [],
   "source": [
    "uxds_mpas['bottomDepth'].plot.rasterize(method='point', projection=ccrs.Robinson())"
   ],
   "metadata": {
    "collapsed": false
   }
  },
  {
   "cell_type": "markdown",
   "source": [
    "By selecting an appropriate pixel ratio (small value for sparse grids, large value for high-resolution grids), one can achieve a passable visual of the data variable.\n",
    "\n",
    "Below is shows the result of using a small pixel ratio compared to the higher-fidelity polygon raster."
   ],
   "metadata": {
    "collapsed": false
   }
  },
  {
   "cell_type": "code",
   "execution_count": null,
   "outputs": [],
   "source": [
    "(uxds_mpas['bottomDepth'].plot.rasterize(method='point', pixel_ratio=0.10, title=\"Point Raster\") + \\\n",
    " uxds_mpas['bottomDepth'].plot.rasterize(method='polygon', pixel_ratio=6.0, title=\"Polygon Raaster\")).cols(1)"
   ],
   "metadata": {
    "collapsed": false
   },
   "id": "9f99b54fd3f61ea7"
  },
  {
   "cell_type": "markdown",
   "source": [
    "## Takeaways\n",
    "Even though Point plots do not take advantage of any connectivity information, and therefore the \"shading\" does not account for the area that faces occupy, they are the fastest option for quick visuals.\n",
    "\n",
    "Point Rasterization can produce convincing plots when paired with an appropriate pixel ratio, especially at higher resolutions (i.e. kilometer-scale meshes)."
   ],
   "metadata": {
    "collapsed": false
   }
  }
 ],
 "metadata": {
  "kernelspec": {
   "display_name": "Python 3 (ipykernel)",
   "language": "python",
   "name": "python3"
  },
  "language_info": {
   "codemirror_mode": {
    "name": "ipython",
    "version": 3
   },
   "file_extension": ".py",
   "mimetype": "text/x-python",
   "name": "python",
   "nbconvert_exporter": "python",
   "pygments_lexer": "ipython3",
   "version": "3.11.5"
  }
 },
 "nbformat": 4,
 "nbformat_minor": 5
}
