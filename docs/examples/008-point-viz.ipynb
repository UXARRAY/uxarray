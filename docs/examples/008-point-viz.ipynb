{
 "cells": [
  {
   "cell_type": "markdown",
   "id": "2d27e9523848e6b6",
   "metadata": {
    "collapsed": false
   },
   "source": [
    "# Visualizing Data as Points\n",
    "Authors: [Philip Chmielowiec](https://github.com/philipc2)"
   ]
  },
  {
   "cell_type": "markdown",
   "id": "334f467830facff5",
   "metadata": {
    "collapsed": false
   },
   "source": [
    "## Overview\n",
    "This notebook showcases how to visualize data variables as Points using the UXarray Plotting API.\n",
    "\n",
    "```{note}\n",
    "UXarray's Plotting API is build around the [Holoviews](https://holoviews.org/) package. For details about customization and accepted parameters, pleases refer to their documentation.\n",
    "```"
   ]
  },
  {
   "cell_type": "code",
   "execution_count": null,
   "id": "a3204ae8de696eb1",
   "metadata": {
    "collapsed": false
   },
   "outputs": [],
   "source": [
    "import uxarray as ux\n",
    "import cartopy.crs as ccrs\n",
    "from holoviews import opts"
   ]
  },
  {
   "cell_type": "code",
   "execution_count": null,
   "id": "e1726e6ae5c8aa4a",
   "metadata": {
    "collapsed": false
   },
   "outputs": [],
   "source": [
    "base_path = \"../../test/meshfiles/mpas/QU/\"\n",
    "grid_path = base_path + \"oQU480.231010.nc\"\n",
    "uxds_mpas = ux.open_dataset(grid_path, grid_path)\n",
    "uxds_mpas['bottomDepth']"
   ]
  },
  {
   "cell_type": "markdown",
   "id": "7dca7d27c5bc293d",
   "metadata": {
    "collapsed": false
   },
   "source": [
    "## Vector Point Plots\n"
   ]
  },
  {
   "cell_type": "code",
   "execution_count": null,
   "outputs": [],
   "source": [
    "uxds_mpas['bottomDepth'].plot.points(title=\"Point Plot\", height=350, width=700, size = 3)"
   ],
   "metadata": {
    "collapsed": false
   },
   "id": "3bbb52a4a8e11906"
  },
  {
   "cell_type": "code",
   "execution_count": null,
   "id": "39171ad2cc59b52",
   "metadata": {
    "collapsed": false
   },
   "outputs": [],
   "source": [
    "uxds_mpas['bottomDepth'].plot.points(title=\"Point Plot (Orthographic Projection)\", height=350, width=700, size = 5, projection=ccrs.Orthographic())"
   ]
  },
  {
   "cell_type": "markdown",
   "source": [
    "## Point Rasterization"
   ],
   "metadata": {
    "collapsed": false
   },
   "id": "e95c4711c5b4b776"
  },
  {
   "cell_type": "code",
   "execution_count": null,
   "outputs": [],
   "source": [
    "import requests"
   ],
   "metadata": {
    "collapsed": false
   },
   "id": "f17a9d455641223f"
  },
  {
   "cell_type": "code",
   "execution_count": null,
   "outputs": [],
   "source": [
    "# Load data files from web\n",
    "large_file = requests.get(\"https://web.lcrc.anl.gov/public/e3sm/inputdata/share/meshes/mpas/ocean/oQU120.230424.nc\").content\n",
    "\n",
    "# Open datasets from files\n",
    "uxds_120km = ux.open_dataset(large_file, large_file)"
   ],
   "metadata": {
    "collapsed": false
   },
   "id": "6c17b25c08db5311"
  },
  {
   "cell_type": "code",
   "execution_count": null,
   "outputs": [],
   "source": [
    "uxds_120km['bottomDepth'].plot.points(projection=ccrs.Robinson())"
   ],
   "metadata": {
    "collapsed": false
   },
   "id": "3d57e0ebf7f767ee"
  },
  {
   "cell_type": "code",
   "execution_count": null,
   "outputs": [],
   "source": [
    "(uxds_120km['bottomDepth'].plot.rasterize(method='point', pixel_ratio=0.4) + \\\n",
    " uxds_120km['bottomDepth'].plot.rasterize(method='polygon', projection=ccrs.Robinson(), pixel_ratio=6.0)).cols(1)"
   ],
   "metadata": {
    "collapsed": false
   },
   "id": "9f99b54fd3f61ea7"
  }
 ],
 "metadata": {
  "kernelspec": {
   "display_name": "Python 3 (ipykernel)",
   "language": "python",
   "name": "python3"
  },
  "language_info": {
   "codemirror_mode": {
    "name": "ipython",
    "version": 3
   },
   "file_extension": ".py",
   "mimetype": "text/x-python",
   "name": "python",
   "nbconvert_exporter": "python",
   "pygments_lexer": "ipython3",
   "version": "3.11.5"
  }
 },
 "nbformat": 4,
 "nbformat_minor": 5
}
