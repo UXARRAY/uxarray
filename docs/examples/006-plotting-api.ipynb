{
 "cells": [
  {
   "cell_type": "markdown",
   "source": [
    "# Visualizing Data Variables"
   ],
   "metadata": {
    "collapsed": false
   },
   "id": "16fdc39d216e46c9"
  },
  {
   "cell_type": "code",
   "execution_count": 1,
   "outputs": [],
   "source": [
    "import uxarray as ux\n",
    "from holoviews import opts"
   ],
   "metadata": {
    "collapsed": false,
    "ExecuteTime": {
     "end_time": "2023-11-17T04:55:53.974321700Z",
     "start_time": "2023-11-17T04:55:51.054298100Z"
    }
   },
   "id": "2bb4061ea7a67374"
  },
  {
   "cell_type": "code",
   "execution_count": 2,
   "outputs": [],
   "source": [
    "base_path = \"../../test/meshfiles/mpas/QU/\"\n",
    "grid_path = base_path + \"oQU480.231010.nc\"\n",
    "uxds = ux.open_dataset(grid_path, grid_path)"
   ],
   "metadata": {
    "collapsed": false,
    "ExecuteTime": {
     "end_time": "2023-11-17T04:55:54.044193900Z",
     "start_time": "2023-11-17T04:55:53.975320800Z"
    }
   },
   "id": "832f6b25e466f0bb"
  },
  {
   "cell_type": "code",
   "execution_count": 3,
   "outputs": [],
   "source": [
    "base_path = \"../../test/meshfiles/ugrid/geoflow-small/\"\n",
    "grid_path = base_path + \"grid.nc\"\n",
    "data_path = base_path + \"v1.nc\"\n",
    "uxds_geoflow = ux.open_dataset(grid_path, data_path)"
   ],
   "metadata": {
    "collapsed": false,
    "ExecuteTime": {
     "end_time": "2023-11-17T04:55:54.056977100Z",
     "start_time": "2023-11-17T04:55:54.045194Z"
    }
   },
   "id": "ddccdf1f5cdd353c"
  },
  {
   "cell_type": "code",
   "execution_count": null,
   "outputs": [],
   "source": [
    "uxds['bottomDepth'].plot()"
   ],
   "metadata": {
    "collapsed": false
   },
   "id": "3030f4445496d1e0"
  },
  {
   "cell_type": "markdown",
   "source": [
    "### Polygons"
   ],
   "metadata": {
    "collapsed": false
   },
   "id": "5fc5e388bdf495bb"
  },
  {
   "cell_type": "markdown",
   "source": [
    "#### Including Antimeridian Polygons"
   ],
   "metadata": {
    "collapsed": false
   },
   "id": "5099f7a2de129c83"
  },
  {
   "cell_type": "code",
   "execution_count": null,
   "outputs": [],
   "source": [
    "uxds['bottomDepth'].plot.polygons()"
   ],
   "metadata": {
    "collapsed": false
   },
   "id": "ca11700e4b5c7f5b"
  },
  {
   "cell_type": "markdown",
   "source": [
    "#### Excluding Antimeridian Polygons"
   ],
   "metadata": {
    "collapsed": false
   },
   "id": "5234a06d02f173c5"
  },
  {
   "cell_type": "code",
   "execution_count": null,
   "outputs": [],
   "source": [
    "uxds['bottomDepth'].plot.polygons(exclude_antimeridian=True)"
   ],
   "metadata": {
    "collapsed": false
   },
   "id": "3b8d2e8d45441f8a"
  },
  {
   "cell_type": "markdown",
   "source": [
    "#### Rasterized Polygons"
   ],
   "metadata": {
    "collapsed": false
   },
   "id": "1859489017927095"
  },
  {
   "cell_type": "code",
   "execution_count": null,
   "outputs": [],
   "source": [
    "uxds['bottomDepth'].plot.rasterize(method=\"polygon\")"
   ],
   "metadata": {
    "collapsed": false
   },
   "id": "a08324f1f9548a48"
  },
  {
   "cell_type": "markdown",
   "source": [
    "#### Shading Polygons with Node-Centered Data"
   ],
   "metadata": {
    "collapsed": false
   },
   "id": "11dbb5152a982e28"
  },
  {
   "cell_type": "code",
   "execution_count": null,
   "outputs": [],
   "source": [
    "uxds_geoflow['v1'][0][0].nodal_average().plot.polygons(exclude_antimeridian=True, cmap=\"coolwarm\")"
   ],
   "metadata": {
    "collapsed": false
   },
   "id": "e33659f567ab0902"
  },
  {
   "cell_type": "markdown",
   "source": [
    "### Points"
   ],
   "metadata": {
    "collapsed": false
   },
   "id": "eb53bf83e09354b1"
  },
  {
   "cell_type": "code",
   "execution_count": null,
   "outputs": [],
   "source": [
    "uxds['bottomDepth'].plot.points(size=5)"
   ],
   "metadata": {
    "collapsed": false
   },
   "id": "f1c17ef4fc247f2"
  }
 ],
 "metadata": {
  "kernelspec": {
   "display_name": "Python 3",
   "language": "python",
   "name": "python3"
  },
  "language_info": {
   "codemirror_mode": {
    "name": "ipython",
    "version": 2
   },
   "file_extension": ".py",
   "mimetype": "text/x-python",
   "name": "python",
   "nbconvert_exporter": "python",
   "pygments_lexer": "ipython2",
   "version": "2.7.6"
  }
 },
 "nbformat": 4,
 "nbformat_minor": 5
}
