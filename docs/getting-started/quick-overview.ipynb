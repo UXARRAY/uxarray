{
 "cells": [
  {
   "cell_type": "markdown",
   "id": "3a5d7fe9539f9d6b",
   "metadata": {
    "collapsed": false
   },
   "source": [
    "# Quick Overview"
   ]
  },
  {
   "cell_type": "code",
   "execution_count": null,
   "id": "5c8b24263cf6d8f2",
   "metadata": {
    "collapsed": false
   },
   "outputs": [],
   "source": [
    "import uxarray as ux\n",
    "\n",
    "base_path = \"../../test/meshfiles/ugrid/outCSne30/\"\n",
    "grid_path = base_path + \"outCSne30.ug\"\n",
    "data_path = base_path + \"outCSne30_vortex.nc\""
   ]
  },
  {
   "cell_type": "markdown",
   "id": "9b51e3fc6392c2e8",
   "metadata": {
    "collapsed": false
   },
   "source": [
    "## Loading Grid Files"
   ]
  },
  {
   "cell_type": "code",
   "execution_count": null,
   "id": "2b5c8434841e9bcd",
   "metadata": {
    "collapsed": false
   },
   "outputs": [],
   "source": [
    "grid_path = \"../../test/meshfiles/ugrid/outCSne30/outCSne30.ug\""
   ]
  },
  {
   "cell_type": "code",
   "execution_count": null,
   "id": "68b3a121417d2ad8",
   "metadata": {
    "collapsed": false
   },
   "outputs": [],
   "source": [
    "uxgrid = ux.open_grid(grid_path)\n",
    "uxgrid"
   ]
  },
  {
   "cell_type": "code",
   "execution_count": null,
   "id": "7df1886c6d664e74",
   "metadata": {
    "collapsed": false
   },
   "outputs": [],
   "source": [
    "grid_path = \"../../test/meshfiles/ugrid/outCSne30/outCSne30.ug\"\n",
    "data_path = \"../../test/meshfiles/ugrid/outCSne30/outCSne30_vortex.nc\"\n",
    "uxds = ux.open_dataset(grid_path, data_path)\n",
    "uxds"
   ]
  },
  {
   "cell_type": "markdown",
   "id": "545f365d288d6539",
   "metadata": {
    "collapsed": false
   },
   "source": [
    "Talk about accessor"
   ]
  },
  {
   "cell_type": "code",
   "execution_count": null,
   "id": "8ddac5247b83f2ac",
   "metadata": {
    "collapsed": false
   },
   "outputs": [],
   "source": [
    "uxds.uxgrid"
   ]
  },
  {
   "cell_type": "markdown",
   "id": "73c0c3c275c41662",
   "metadata": {
    "collapsed": false
   },
   "source": [
    "## Accessing Grid Dimensions & Variables"
   ]
  },
  {
   "cell_type": "markdown",
   "id": "9a6fac4ac4294a96",
   "metadata": {
    "collapsed": false
   },
   "source": [
    "First, talk about how a grid can be accessed stand alone or through a dataset or data array"
   ]
  },
  {
   "cell_type": "code",
   "execution_count": null,
   "id": "e08aacc99fc1a54c",
   "metadata": {
    "collapsed": false
   },
   "outputs": [],
   "source": [
    "uxds.uxgrid.n_node, uxgrid.n_node"
   ]
  },
  {
   "cell_type": "markdown",
   "id": "a96eda8f200de2c5",
   "metadata": {
    "collapsed": false
   },
   "source": [
    "### Dimensions"
   ]
  },
  {
   "cell_type": "code",
   "execution_count": null,
   "id": "76fa1887ce65d89e",
   "metadata": {
    "collapsed": false
   },
   "outputs": [],
   "source": [
    "uxgrid.sizes"
   ]
  },
  {
   "cell_type": "code",
   "execution_count": null,
   "id": "76523ba479470c7a",
   "metadata": {
    "collapsed": false
   },
   "outputs": [],
   "source": [
    "uxgrid.n_node, uxgrid.n_edge, uxgrid.n_face"
   ]
  },
  {
   "cell_type": "markdown",
   "id": "5e8d8af89b9eb3d5",
   "metadata": {
    "collapsed": false
   },
   "source": [
    "### Coordinates"
   ]
  },
  {
   "cell_type": "code",
   "execution_count": null,
   "id": "82363fc1d9ff00e4",
   "metadata": {
    "collapsed": false
   },
   "outputs": [],
   "source": [
    "uxgrid.node_lon"
   ]
  },
  {
   "cell_type": "code",
   "execution_count": null,
   "id": "dba7522cff28a82f",
   "metadata": {
    "collapsed": false
   },
   "outputs": [],
   "source": [
    "uxgrid.node_lat"
   ]
  },
  {
   "cell_type": "code",
   "execution_count": null,
   "id": "9247f711b05c807",
   "metadata": {
    "collapsed": false
   },
   "outputs": [],
   "source": [
    "uxgrid.node_x"
   ]
  },
  {
   "cell_type": "markdown",
   "id": "15d221fb31e9f74c",
   "metadata": {
    "collapsed": false
   },
   "source": [
    "### Connectivity"
   ]
  },
  {
   "cell_type": "code",
   "execution_count": null,
   "id": "14eb3e43b070775f",
   "metadata": {
    "collapsed": false
   },
   "outputs": [],
   "source": [
    "uxgrid.face_node_connectivity"
   ]
  },
  {
   "cell_type": "code",
   "execution_count": null,
   "id": "da32551506ddfa5c",
   "metadata": {
    "collapsed": false
   },
   "outputs": [],
   "source": [
    "uxgrid.face_edge_connectivity"
   ]
  },
  {
   "cell_type": "markdown",
   "id": "d4f54e0ebdb0017",
   "metadata": {
    "collapsed": false
   },
   "source": [
    "## Plotting"
   ]
  },
  {
   "cell_type": "code",
   "execution_count": null,
   "id": "22902735489f69c",
   "metadata": {
    "collapsed": false
   },
   "outputs": [],
   "source": [
    "uxds[\"psi\"].plot(width=600, height=300)"
   ]
  },
  {
   "cell_type": "code",
   "execution_count": null,
   "id": "703f4d38b7ab0bb6",
   "metadata": {
    "collapsed": false
   },
   "outputs": [],
   "source": [
    "uxds[\"psi\"].uxgrid.plot(width=600, height=300)"
   ]
  }
 ],
 "metadata": {
  "kernelspec": {
   "display_name": "Python 3",
   "language": "python",
   "name": "python3"
  },
  "language_info": {
   "codemirror_mode": {
    "name": "ipython",
    "version": 2
   },
   "file_extension": ".py",
   "mimetype": "text/x-python",
   "name": "python",
   "nbconvert_exporter": "python",
   "pygments_lexer": "ipython2",
   "version": "2.7.6"
  }
 },
 "nbformat": 4,
 "nbformat_minor": 5
}
