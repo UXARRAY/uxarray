{
 "cells": [
  {
   "cell_type": "markdown",
   "source": [
    "# Quick Overview"
   ],
   "metadata": {
    "collapsed": false
   },
   "id": "3a5d7fe9539f9d6b"
  },
  {
   "cell_type": "code",
   "execution_count": null,
   "outputs": [],
   "source": [
    "import uxarray as ux\n",
    "\n",
    "base_path = \"../../test/meshfiles/ugrid/outCSne30/\"\n",
    "grid_path = base_path + \"outCSne30.ug\"\n",
    "data_path = base_path + \"outCSne30_vortex.nc\""
   ],
   "metadata": {
    "collapsed": false
   },
   "id": "5c8b24263cf6d8f2"
  },
  {
   "cell_type": "markdown",
   "source": [
    "## Loading Grid Files"
   ],
   "metadata": {
    "collapsed": false
   },
   "id": "9b51e3fc6392c2e8"
  },
  {
   "cell_type": "code",
   "execution_count": null,
   "outputs": [],
   "source": [
    "grid_path = \"../../test/meshfiles/ugrid/outCSne30/outCSne30.ug\""
   ],
   "metadata": {
    "collapsed": false
   },
   "id": "2b5c8434841e9bcd"
  },
  {
   "cell_type": "code",
   "execution_count": null,
   "outputs": [],
   "source": [
    "uxgrid = ux.open_grid(grid_path)\n",
    "uxgrid"
   ],
   "metadata": {
    "collapsed": false
   },
   "id": "68b3a121417d2ad8"
  },
  {
   "cell_type": "code",
   "execution_count": null,
   "outputs": [],
   "source": [
    "grid_path = \"../../test/meshfiles/ugrid/outCSne30/outCSne30.ug\"\n",
    "data_path = \"../../test/meshfiles/ugrid/outCSne30/outCSne30_vortex.nc\"\n",
    "uxds = ux.open_dataset(grid_path, data_path)\n",
    "uxds"
   ],
   "metadata": {
    "collapsed": false
   },
   "id": "7df1886c6d664e74"
  },
  {
   "cell_type": "markdown",
   "source": [
    "Talk about accessor"
   ],
   "metadata": {
    "collapsed": false
   },
   "id": "545f365d288d6539"
  },
  {
   "cell_type": "code",
   "execution_count": null,
   "outputs": [],
   "source": [
    "uxds.uxgrid"
   ],
   "metadata": {
    "collapsed": false
   },
   "id": "8ddac5247b83f2ac"
  },
  {
   "cell_type": "markdown",
   "source": [
    "## Accessing Grid Dimensions & Variables"
   ],
   "metadata": {
    "collapsed": false
   },
   "id": "73c0c3c275c41662"
  },
  {
   "cell_type": "markdown",
   "source": [
    "First, talk about how a grid can be accessed stand alone or through a dataset or data array"
   ],
   "metadata": {
    "collapsed": false
   },
   "id": "9a6fac4ac4294a96"
  },
  {
   "cell_type": "code",
   "execution_count": null,
   "outputs": [],
   "source": [
    "uxds.uxgrid.n_node, uxgrid.n_node"
   ],
   "metadata": {
    "collapsed": false
   },
   "id": "e08aacc99fc1a54c"
  },
  {
   "cell_type": "markdown",
   "source": [
    "### Dimensions"
   ],
   "metadata": {
    "collapsed": false
   },
   "id": "a96eda8f200de2c5"
  },
  {
   "cell_type": "code",
   "execution_count": null,
   "outputs": [],
   "source": [
    "uxgrid.sizes"
   ],
   "metadata": {
    "collapsed": false
   },
   "id": "76fa1887ce65d89e"
  },
  {
   "cell_type": "code",
   "execution_count": null,
   "outputs": [],
   "source": [
    "uxgrid.n_node, uxgrid.n_edge, uxgrid.n_face"
   ],
   "metadata": {
    "collapsed": false
   },
   "id": "76523ba479470c7a"
  },
  {
   "cell_type": "markdown",
   "source": [
    "### Coordinates"
   ],
   "metadata": {
    "collapsed": false
   },
   "id": "5e8d8af89b9eb3d5"
  },
  {
   "cell_type": "code",
   "execution_count": null,
   "outputs": [],
   "source": [
    "uxgrid.node_lon"
   ],
   "metadata": {
    "collapsed": false
   },
   "id": "82363fc1d9ff00e4"
  },
  {
   "cell_type": "code",
   "execution_count": null,
   "outputs": [],
   "source": [
    "uxgrid.node_lat"
   ],
   "metadata": {
    "collapsed": false
   },
   "id": "dba7522cff28a82f"
  },
  {
   "cell_type": "code",
   "execution_count": null,
   "outputs": [],
   "source": [
    "uxgrid.node_x"
   ],
   "metadata": {
    "collapsed": false
   },
   "id": "9247f711b05c807"
  },
  {
   "cell_type": "markdown",
   "source": [
    "### Connectivity"
   ],
   "metadata": {
    "collapsed": false
   },
   "id": "15d221fb31e9f74c"
  },
  {
   "cell_type": "code",
   "execution_count": null,
   "outputs": [],
   "source": [
    "uxgrid.face_node_connectivity"
   ],
   "metadata": {
    "collapsed": false
   },
   "id": "14eb3e43b070775f"
  },
  {
   "cell_type": "code",
   "execution_count": null,
   "outputs": [],
   "source": [
    "uxgrid.face_edge_connectivity"
   ],
   "metadata": {
    "collapsed": false
   },
   "id": "da32551506ddfa5c"
  },
  {
   "cell_type": "markdown",
   "source": [
    "## Plotting"
   ],
   "metadata": {
    "collapsed": false
   },
   "id": "d4f54e0ebdb0017"
  },
  {
   "cell_type": "code",
   "execution_count": null,
   "outputs": [],
   "source": [
    "uxds['psi'].plot(width=600, height=300)"
   ],
   "metadata": {
    "collapsed": false
   },
   "id": "22902735489f69c"
  },
  {
   "cell_type": "code",
   "execution_count": null,
   "outputs": [],
   "source": [
    "uxds['psi'].uxgrid.plot(width=600, height=300)"
   ],
   "metadata": {
    "collapsed": false
   },
   "id": "703f4d38b7ab0bb6"
  }
 ],
 "metadata": {
  "kernelspec": {
   "display_name": "Python 3",
   "language": "python",
   "name": "python3"
  },
  "language_info": {
   "codemirror_mode": {
    "name": "ipython",
    "version": 2
   },
   "file_extension": ".py",
   "mimetype": "text/x-python",
   "name": "python",
   "nbconvert_exporter": "python",
   "pygments_lexer": "ipython2",
   "version": "2.7.6"
  }
 },
 "nbformat": 4,
 "nbformat_minor": 5
}
