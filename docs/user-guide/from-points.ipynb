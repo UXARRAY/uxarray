{
 "cells": [
  {
   "cell_type": "markdown",
   "id": "1586219d82477a0",
   "metadata": {},
   "source": [
    "# Constructing a Grid from Points\n",
    "\n"
   ]
  },
  {
   "cell_type": "code",
   "execution_count": null,
   "id": "974ef98b2cdb3cb1",
   "metadata": {
    "ExecuteTime": {
     "end_time": "2024-10-21T16:56:22.685571Z",
     "start_time": "2024-10-21T16:56:12.601877Z"
    }
   },
   "outputs": [],
   "source": [
    "import uxarray as ux\n",
    "import xarray as xr\n",
    "import cartopy.crs as ccrs\n",
    "import geoviews as gv\n",
    "import geoviews.feature as gf\n",
    "import warnings\n",
    "\n",
    "warnings.filterwarnings(\"ignore\")"
   ]
  },
  {
   "cell_type": "markdown",
   "id": "d8af2dbe8b91150b",
   "metadata": {},
   "source": [
    "## Data\n",
    "\n",
    "\n",
    "| Distribution           | Example                          |\n",
    "|------------------------|----------------------------------|\n",
    "| Global Data            | Global Atmosphere Mesh          |\n",
    "| Global Data with Holes | Global Ocean Mesh               |\n",
    "| Regional Data          | Geostationary point observations |\n",
    "| Regional Data with Holes        | TODO: |\n"
   ]
  },
  {
   "cell_type": "markdown",
   "id": "e20cfb33-9295-444d-a8fc-acf1a8628f26",
   "metadata": {},
   "source": [
    "In this notebook, we will be using data from "
   ]
  },
  {
   "cell_type": "code",
   "execution_count": null,
   "id": "be2b14a2-0fbe-4f34-ad55-407f0b83a8c7",
   "metadata": {
    "ExecuteTime": {
     "end_time": "2024-10-21T16:56:28.168802Z",
     "start_time": "2024-10-21T16:56:22.689116Z"
    }
   },
   "outputs": [],
   "source": [
    "uxgrid_global = ux.open_grid(\"../../test/meshfiles/ugrid/outCSne30/outCSne30.ug\")\n",
    "uxgrid_global_ocean = ux.open_grid(\"../../test/meshfiles/mpas/QU/oQU480.231010.nc\")\n",
    "uxgrid_regional = uxgrid_global.subset.nearest_neighbor((0.0, 0.0), k=9)\n",
    "\n",
    "(\n",
    "    uxgrid_global.plot(\n",
    "        periodic_elements=\"split\",\n",
    "        projection=ccrs.Robinson(),\n",
    "        global_extent=True,\n",
    "        features=[\"grid\"],\n",
    "        title=\"Global Grid\",\n",
    "    )\n",
    "    + uxgrid_global_ocean.plot(\n",
    "        periodic_elements=\"split\",\n",
    "        projection=ccrs.Robinson(),\n",
    "        global_extent=True,\n",
    "        features=[\"grid\"],\n",
    "        title=\"Global Grid with Holes\",\n",
    "    )\n",
    "    + uxgrid_regional.plot(\n",
    "        periodic_elements=\"split\",\n",
    "        projection=ccrs.Robinson(),\n",
    "        global_extent=True,\n",
    "        features=[\"grid\"],\n",
    "        title=\"Regional Grid\",\n",
    "    )\n",
    ").cols(1)"
   ]
  },
  {
   "cell_type": "markdown",
   "id": "6e9cca5d-f25c-4f84-b922-119d3196b791",
   "metadata": {},
   "source": [
    "### Point Data"
   ]
  },
  {
   "cell_type": "code",
   "execution_count": null,
   "id": "5fed7619-bf1d-41db-a24f-4d629888d9d1",
   "metadata": {
    "ExecuteTime": {
     "end_time": "2024-10-21T16:56:29.028241Z",
     "start_time": "2024-10-21T16:56:28.212368Z"
    }
   },
   "outputs": [],
   "source": [
    "(\n",
    "    uxgrid_global.plot.face_centers(\n",
    "        projection=ccrs.Robinson(), global_extent=True, features=[\"grid\"], s=2\n",
    "    )\n",
    "    + uxgrid_global_ocean.plot.face_centers(\n",
    "        projection=ccrs.Robinson(), global_extent=True, features=[\"grid\"], s=2\n",
    "    )\n",
    "    + uxgrid_regional.plot.face_centers(\n",
    "        projection=ccrs.Robinson(), global_extent=True, features=[\"grid\"], s=2\n",
    "    )\n",
    ").cols(1)"
   ]
  },
  {
   "cell_type": "code",
   "execution_count": null,
   "id": "3b2658d5-bb4d-49b0-8e22-518faf3b9503",
   "metadata": {
    "ExecuteTime": {
     "end_time": "2024-10-21T16:56:29.039977Z",
     "start_time": "2024-10-21T16:56:29.037951Z"
    }
   },
   "outputs": [],
   "source": [
    "x_global, y_global, z_global = (\n",
    "    uxgrid_global.face_x.values,\n",
    "    uxgrid_global.face_y.values,\n",
    "    uxgrid_global.face_z.values,\n",
    ")\n",
    "points_global = (x_global, y_global, z_global)"
   ]
  },
  {
   "cell_type": "code",
   "execution_count": null,
   "id": "a0742715-074e-4e50-8572-5a32b02d004b",
   "metadata": {},
   "outputs": [],
   "source": [
    "x_global_ocean, y_global_ocean, z_global_ocean = (\n",
    "    uxgrid_global_ocean.face_x.values,\n",
    "    uxgrid_global_ocean.face_y.values,\n",
    "    uxgrid_global_ocean.face_z.values,\n",
    ")\n",
    "points_global_ocean = (x_global_ocean, y_global_ocean, z_global_ocean)"
   ]
  },
  {
   "cell_type": "code",
   "execution_count": null,
   "id": "46fe282b-81ae-4972-996d-2f71478126a1",
   "metadata": {
    "ExecuteTime": {
     "end_time": "2024-10-21T16:56:29.049899Z",
     "start_time": "2024-10-21T16:56:29.047653Z"
    }
   },
   "outputs": [],
   "source": [
    "x_regional, y_regional, z_regional = (\n",
    "    uxgrid_regional.face_x.values,\n",
    "    uxgrid_regional.face_y.values,\n",
    "    uxgrid_regional.face_z.values,\n",
    ")\n",
    "points_regional = (x_regional, y_regional, z_regional)"
   ]
  },
  {
   "cell_type": "markdown",
   "id": "ac45b8bb-915c-44f6-841a-6d27bac4f0f9",
   "metadata": {},
   "source": [
    "## Global Data"
   ]
  },
  {
   "cell_type": "markdown",
   "id": "57224218-3c7d-4966-9db0-1af457d4df29",
   "metadata": {},
   "source": [
    "###  Spherical Delaunay"
   ]
  },
  {
   "cell_type": "code",
   "execution_count": null,
   "id": "5d972d96-159f-4502-976e-80f78dd4e940",
   "metadata": {
    "ExecuteTime": {
     "end_time": "2024-10-21T16:56:29.423878Z",
     "start_time": "2024-10-21T16:56:29.056689Z"
    }
   },
   "outputs": [],
   "source": [
    "%%time\n",
    "grid_dt = ux.Grid.from_points(points_global, method=\"spherical_delaunay\")"
   ]
  },
  {
   "cell_type": "code",
   "execution_count": null,
   "id": "d4b06c69-5705-4627-9a24-4dac4655a33a",
   "metadata": {},
   "outputs": [],
   "source": [
    "grid_dt.plot(\n",
    "    projection=ccrs.Robinson(), line_width=0.5, title=\"Spherical Delaunay Triangles\"\n",
    ")"
   ]
  },
  {
   "cell_type": "code",
   "execution_count": null,
   "id": "81201bf6-331c-422b-a953-d80fd2d4ba4c",
   "metadata": {},
   "outputs": [],
   "source": [
    "(grid_dt.plot() * uxgrid_global.plot.face_centers(color=\"red\")).opts(\n",
    "    xlim=(-10, 10),\n",
    "    ylim=(-5, 5),\n",
    "    height=400,\n",
    "    width=400,\n",
    "    title=\"Spherical Delaunay Triangles (Zoomed)\",\n",
    ")"
   ]
  },
  {
   "cell_type": "code",
   "execution_count": null,
   "id": "9131578c-8df7-4e66-ac71-de3aec094d54",
   "metadata": {},
   "outputs": [],
   "source": [
    "grid_dt.n_max_face_nodes"
   ]
  },
  {
   "cell_type": "code",
   "execution_count": null,
   "id": "f7918939-2204-452c-acf8-87926b0d6e86",
   "metadata": {},
   "outputs": [],
   "source": [
    "# todo, depending on the user's needs, data may need to be interpolated onto the face centers"
   ]
  },
  {
   "cell_type": "markdown",
   "id": "8b7715599e8c4392",
   "metadata": {},
   "source": [
    "### Spherical Voronoi"
   ]
  },
  {
   "cell_type": "code",
   "execution_count": null,
   "id": "191800c4ce1a5daa",
   "metadata": {
    "ExecuteTime": {
     "end_time": "2024-10-21T16:56:29.424821Z",
     "start_time": "2024-10-15T16:49:11.264292Z"
    }
   },
   "outputs": [],
   "source": [
    "%%time\n",
    "grid_sv = ux.Grid.from_points(points_global, method=\"spherical_voronoi\")"
   ]
  },
  {
   "cell_type": "code",
   "execution_count": null,
   "id": "2211a051-afb0-4ecf-aedf-04a98382d26f",
   "metadata": {},
   "outputs": [],
   "source": [
    "grid_sv.plot(projection=ccrs.Robinson(), line_width=0.5)"
   ]
  },
  {
   "cell_type": "code",
   "execution_count": null,
   "id": "a8c91f83-36ae-471d-a72f-6a8ace0d4879",
   "metadata": {},
   "outputs": [],
   "source": [
    "grid_sv.n_max_face_nodes"
   ]
  },
  {
   "cell_type": "code",
   "execution_count": null,
   "id": "661243fa-b691-4455-9921-38c623672b01",
   "metadata": {},
   "outputs": [],
   "source": [
    "(grid_sv.plot() * uxgrid_global.plot.face_centers(color=\"red\")).opts(\n",
    "    xlim=(-10, 10), ylim=(-5, 5), height=400, width=400\n",
    ")"
   ]
  },
  {
   "cell_type": "markdown",
   "id": "c74a9d4a-71f9-4fd5-a958-0bedcf1282aa",
   "metadata": {},
   "source": [
    "## Regional Data"
   ]
  },
  {
   "cell_type": "code",
   "execution_count": null,
   "id": "c3bfcaaa-7bf2-4ac8-a2ba-37a350bc1a9c",
   "metadata": {},
   "outputs": [],
   "source": []
  }
 ],
 "metadata": {
  "kernelspec": {
   "display_name": "Python 3 (ipykernel)",
   "language": "python",
   "name": "python3"
  },
  "language_info": {
   "codemirror_mode": {
    "name": "ipython",
    "version": 3
   },
   "file_extension": ".py",
   "mimetype": "text/x-python",
   "name": "python",
   "nbconvert_exporter": "python",
   "pygments_lexer": "ipython3",
   "version": "3.11.8"
  }
 },
 "nbformat": 4,
 "nbformat_minor": 5
}
