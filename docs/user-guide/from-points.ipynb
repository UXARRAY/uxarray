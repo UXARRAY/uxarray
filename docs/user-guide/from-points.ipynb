{
 "cells": [
  {
   "cell_type": "markdown",
   "id": "1586219d82477a0",
   "metadata": {},
   "source": [
    "# Constructing a Grid from Points\n",
    "\n",
    "In many cases, data can be represented as an unstructured series of points, including data from climate models when not paired with any connectivity information or radar observations. UXarray is written around the UGRID conventions, which requires a minimal\n",
    "set of coordinate and connectivity variables to represent a two-dimensional grid. This notebook demonstrates how grid connectivity can be constructured using point data.\n"
   ]
  },
  {
   "cell_type": "code",
   "execution_count": null,
   "id": "974ef98b2cdb3cb1",
   "metadata": {
    "ExecuteTime": {
     "end_time": "2024-10-23T20:07:13.917003Z",
     "start_time": "2024-10-23T20:07:13.853636Z"
    }
   },
   "outputs": [],
   "source": [
    "import uxarray as ux\n",
    "import xarray as xr\n",
    "import cartopy.crs as ccrs\n",
    "import geoviews as gv\n",
    "import geoviews.feature as gf\n",
    "import warnings\n",
    "\n",
    "import holoviews as hv\n",
    "\n",
    "hv.extension(\"matplotlib\")\n",
    "\n",
    "warnings.filterwarnings(\"ignore\")"
   ]
  },
  {
   "cell_type": "markdown",
   "id": "d8af2dbe8b91150b",
   "metadata": {},
   "source": [
    "## Types of Point Data\n",
    "\n",
    "Different types of point data can be encountered depending on the coverage and structure of the data. The following table categorizes these types, providing examples of common use cases.\n",
    "\n",
    "| **Domain**        | **Description**                              |\n",
    "|:---------------------------|:--------------------------------------------------------------------------|\n",
    "| **Global**              | Data that covers the entire globe (e.g., atmospheric or climate simulations)|\n",
    "| **Global with Holes**   | Data that spans most of the globe but has gaps or regions without observations (e.g., land-only or ocean-only data). |\n",
    "| **Regional**            | Data that is limited to a specific area (e.g. local weather forecasts or satellite observations) |\n",
    "| **Regional with Holes** | Regional data with missing sections or observations within the area of interest, often due to obstacles or coverage limitations. |\n"
   ]
  },
  {
   "cell_type": "markdown",
   "id": "eca9b1dc-ee3b-43ad-bef5-e68ab75efded",
   "metadata": {},
   "source": [
    "For this notebook, we will be using the coordinates from three testing grids to represent our point data:\n",
    "* `outCSne30.ug`: Global Cube Sphere Grid\n",
    "* `oQU480.23010.nc`: Global Ocean Grid\n",
    "* Subset of `outCSne30.ug`: 9 points centered about (0, 0) "
   ]
  },
  {
   "cell_type": "code",
   "execution_count": null,
   "id": "be2b14a2-0fbe-4f34-ad55-407f0b83a8c7",
   "metadata": {
    "ExecuteTime": {
     "end_time": "2024-10-21T21:55:15.770277Z",
     "start_time": "2024-10-21T21:55:04.728574Z"
    }
   },
   "outputs": [],
   "source": [
    "uxgrid_global = ux.open_grid(\"../../test/meshfiles/ugrid/outCSne30/outCSne30.ug\")\n",
    "uxgrid_global_ocean = ux.open_grid(\"../../test/meshfiles/mpas/QU/oQU480.231010.nc\")\n",
    "uxgrid_global_ocean.normalize_cartesian_coordinates()\n",
    "uxgrid_regional = uxgrid_global.subset.nearest_neighbor((0.0, 0.0), k=50)\n",
    "\n",
    "(\n",
    "    uxgrid_global.plot.face_centers(\n",
    "        global_extent=True,\n",
    "        features=[\"grid\"],\n",
    "        title=\"Global Points\",\n",
    "        height=500,\n",
    "        width=1000,\n",
    "        s=20,\n",
    "    )\n",
    "    + uxgrid_global_ocean.plot.face_centers(\n",
    "        global_extent=True,\n",
    "        features=[\"grid\"],\n",
    "        title=\"Global Points with Holes\",\n",
    "        height=500,\n",
    "        width=1000,\n",
    "        s=20,\n",
    "    )\n",
    "    + uxgrid_regional.plot.face_centers(\n",
    "        global_extent=True,\n",
    "        features=[\"grid\"],\n",
    "        title=\"Regional Points\",\n",
    "        height=500,\n",
    "        width=1000,\n",
    "        s=20,\n",
    "    )\n",
    ").cols(1).opts(fig_size=300)"
   ]
  },
  {
   "cell_type": "markdown",
   "id": "9ef68083-c6e9-4444-a8a5-30718dc1b04c",
   "metadata": {},
   "source": [
    "## Preparing Point Data\n",
    "\n",
    "UXarray's ``Grid.from_points()`` method supports both Spherical (lon and lat) and Cartesian (x, y, z) coordinates. It is important to note that the coordinate arrays must be unique in order to run the following methods.\n",
    "\n",
    "Below we extract the Cartesian (x, y, z) coordinates which we will use for constructing our grid.\n"
   ]
  },
  {
   "cell_type": "code",
   "execution_count": null,
   "id": "3b2658d5-bb4d-49b0-8e22-518faf3b9503",
   "metadata": {
    "ExecuteTime": {
     "end_time": "2024-10-21T16:56:29.039977Z",
     "start_time": "2024-10-21T16:56:29.037951Z"
    }
   },
   "outputs": [],
   "source": [
    "x_global, y_global, z_global = (\n",
    "    uxgrid_global.face_x.values,\n",
    "    uxgrid_global.face_y.values,\n",
    "    uxgrid_global.face_z.values,\n",
    ")\n",
    "points_global = (x_global, y_global, z_global)"
   ]
  },
  {
   "cell_type": "code",
   "execution_count": null,
   "id": "a0742715-074e-4e50-8572-5a32b02d004b",
   "metadata": {},
   "outputs": [],
   "source": [
    "x_global_ocean, y_global_ocean, z_global_ocean = (\n",
    "    uxgrid_global_ocean.face_x.values,\n",
    "    uxgrid_global_ocean.face_y.values,\n",
    "    uxgrid_global_ocean.face_z.values,\n",
    ")\n",
    "points_global_ocean = (x_global_ocean, y_global_ocean, z_global_ocean)\n",
    "boundary_points_global_ocean = uxgrid_global_ocean.boundary_face_indices.values"
   ]
  },
  {
   "cell_type": "code",
   "execution_count": null,
   "id": "46fe282b-81ae-4972-996d-2f71478126a1",
   "metadata": {
    "ExecuteTime": {
     "end_time": "2024-10-21T16:56:29.049899Z",
     "start_time": "2024-10-21T16:56:29.047653Z"
    }
   },
   "outputs": [],
   "source": [
    "x_regional, y_regional, z_regional = (\n",
    "    uxgrid_regional.face_x.values,\n",
    "    uxgrid_regional.face_y.values,\n",
    "    uxgrid_regional.face_z.values,\n",
    ")\n",
    "points_regional = (x_regional, y_regional, z_regional)"
   ]
  },
  {
   "cell_type": "markdown",
   "id": "ac45b8bb-915c-44f6-841a-6d27bac4f0f9",
   "metadata": {},
   "source": [
    "## Global Data\n",
    "\n",
    "The following algorithms will returns grids with a full coverage of the surface of a sphere, which makes them suitable for constructing connectivity from global point data."
   ]
  },
  {
   "cell_type": "markdown",
   "id": "57224218-3c7d-4966-9db0-1af457d4df29",
   "metadata": {},
   "source": [
    "###  Spherical Delaunay\n",
    "\n",
    "The `spherical_delaunay` method in the `Grid.from_points()` function is designed to perform Delaunay triangulation on points distributed over a spherical surface. \n",
    "\n",
    "#### How It Works\n",
    "\n",
    "1. **Input Points on the Sphere**:\n",
    "   - The method accepts input points defined in spherical coordinates (e.g., latitude and longitude) or Cartesian coordinates (x, y, z) that lie on the surface of the sphere. They are internally converted to normalized Cartesian coordinates.\n",
    "\n",
    "2. **Computing the Convex Hull**:\n",
    "   - The algorithm computes the **Convex Hull** of the set of Cartesian points. The convex hull is the smallest convex shape that encloses all the points. In three dimensions, the convex hull forms a polyhedron where each face is a triangle.\n",
    "\n",
    "3. **Extracting Triangles**:\n",
    "   - Once the convex hull is determined, the triangular faces of the hull are extracted. These triangles represent the Delaunay triangulation on the sphere's surface, ensuring that no point is inside the circumcircle of any triangle, which is a key property of Delaunay triangulations.\n"
   ]
  },
  {
   "cell_type": "code",
   "execution_count": null,
   "id": "1aecdcb6-91e5-41a9-a28d-0ec1c6ec640f",
   "metadata": {
    "ExecuteTime": {
     "end_time": "2024-10-21T16:56:29.423878Z",
     "start_time": "2024-10-21T16:56:29.056689Z"
    }
   },
   "outputs": [],
   "source": [
    "%%time\n",
    "grid_dt = ux.Grid.from_points(points_global, method=\"spherical_delaunay\")"
   ]
  },
  {
   "cell_type": "code",
   "execution_count": null,
   "id": "d4b06c69-5705-4627-9a24-4dac4655a33a",
   "metadata": {},
   "outputs": [],
   "source": [
    "grid_dt.plot(\n",
    "    projection=ccrs.Robinson(),\n",
    "    linewidth=0.5,\n",
    "    periodic_elements=\"split\",\n",
    "    title=\"Spherical Delaunay Triangulation\",\n",
    "    height=500,\n",
    "    width=1000,\n",
    ")"
   ]
  },
  {
   "cell_type": "markdown",
   "id": "de0898f0-6e10-4207-9d9d-58c47784d214",
   "metadata": {},
   "source": [
    "The resulting grid will always be strictly triangular and cover the entire sphere."
   ]
  },
  {
   "cell_type": "code",
   "execution_count": null,
   "id": "66f33576-1384-4698-b210-7486bfa51c6f",
   "metadata": {},
   "outputs": [],
   "source": [
    "grid_dt.triangular"
   ]
  },
  {
   "cell_type": "code",
   "execution_count": null,
   "id": "4e381093-872e-4cb7-9261-c6e50f2c4292",
   "metadata": {},
   "outputs": [],
   "source": [
    "grid_dt.plot.face_degree_distribution()"
   ]
  },
  {
   "cell_type": "code",
   "execution_count": null,
   "id": "8280a4b1-be6a-4f6d-a851-8b54ecfcb8b8",
   "metadata": {},
   "outputs": [],
   "source": [
    "grid_dt.plot.face_area_distribution(bins=10)"
   ]
  },
  {
   "cell_type": "code",
   "execution_count": null,
   "id": "75e40e94-c5c4-4811-bc6f-d4bbe82a5e1d",
   "metadata": {},
   "outputs": [],
   "source": [
    "grid_dt.global_sphere_coverage"
   ]
  },
  {
   "cell_type": "markdown",
   "id": "ea6a2723-493b-4d0b-b214-a5704684f5e7",
   "metadata": {},
   "source": [
    "Zooming in, we can observe the Delaunay Triangles in detail. The original point coordinates are now the corners of our faces. This means that any data that was originally mapped to the points will reside on the corner nodes."
   ]
  },
  {
   "cell_type": "code",
   "execution_count": null,
   "id": "81201bf6-331c-422b-a953-d80fd2d4ba4c",
   "metadata": {},
   "outputs": [],
   "source": [
    "(grid_dt.plot() * uxgrid_global.plot.face_centers(color=\"red\", s=1000)).opts(\n",
    "    xlim=(-10, 10),\n",
    "    ylim=(-5, 5),\n",
    "    title=\"Spherical Delaunay Triangles (Zoomed)\",\n",
    ")"
   ]
  },
  {
   "cell_type": "markdown",
   "id": "8b7715599e8c4392",
   "metadata": {},
   "source": [
    "### Spherical Voronoi\n",
    "\n",
    "\n",
    "The `spherical_voronoi` method in the `Grid.from_points()` function is designed to generate a Voronoi tessellation on points distributed over a spherical surface. This method leverages SciPy's Spherical Voronoi functionality internally.\n",
    "\n",
    "### How It Works\n",
    "\n",
    "1. **Input Points on the Sphere**:\n",
    "   - The method accepts input points defined in spherical coordinates (e.g., latitude and longitude) or Cartesian coordinates (x, y, z) that lie on the surface of the sphere. They are internally converted to normalized Cartesian coordinates.\n",
    "\n",
    "2. **Computing the Spherical Voronoi Diagram**:\n",
    "   - Using SciPy's `SphericalVoronoi` class, the algorithm computes the Voronoi tessellation on the sphere. This involves determining the regions on the sphere where each region contains all points closer to one generating point than to any other.\n",
    "\n",
    "3. **Constructing Voronoi Regions**:\n",
    "   - The Spherical Voronoi algorithm identifies the vertices and edges that define each Voronoi region. Each region corresponds to one input point and consists of a polygon on the sphere's surface.\n"
   ]
  },
  {
   "cell_type": "code",
   "execution_count": null,
   "id": "191800c4ce1a5daa",
   "metadata": {
    "ExecuteTime": {
     "end_time": "2024-10-21T16:56:29.424821Z",
     "start_time": "2024-10-15T16:49:11.264292Z"
    }
   },
   "outputs": [],
   "source": [
    "%%time\n",
    "grid_sv = ux.Grid.from_points(points_global, method=\"spherical_voronoi\")"
   ]
  },
  {
   "cell_type": "code",
   "execution_count": null,
   "id": "2211a051-afb0-4ecf-aedf-04a98382d26f",
   "metadata": {},
   "outputs": [],
   "source": [
    "grid_sv.plot(\n",
    "    projection=ccrs.Robinson(),\n",
    "    linewidth=0.5,\n",
    "    periodic_elements=\"split\",\n",
    "    height=500,\n",
    "    width=1000,\n",
    "    title=\"Spherical Voronoi Tesselation\",\n",
    ")"
   ]
  },
  {
   "cell_type": "markdown",
   "id": "03f30256-5bda-4ea3-8a34-788c1b95bcef",
   "metadata": {},
   "source": [
    "The resulting grid consists of mostly 6-sided faces, with small numbers of faces with 4, 5, 7, and 8 sides."
   ]
  },
  {
   "cell_type": "code",
   "execution_count": null,
   "id": "abffedd0-fb2c-416b-9d97-5b9e33ed726a",
   "metadata": {},
   "outputs": [],
   "source": [
    "grid_sv.plot.face_degree_distribution()"
   ]
  },
  {
   "cell_type": "code",
   "execution_count": null,
   "id": "a00658e1-9025-4501-9d12-013b4d35a2e0",
   "metadata": {},
   "outputs": [],
   "source": [
    "grid_sv.plot.face_area_distribution(bins=15)"
   ]
  },
  {
   "cell_type": "code",
   "execution_count": null,
   "id": "bb8ce850-6439-483d-bb30-4781b894865b",
   "metadata": {},
   "outputs": [],
   "source": [
    "grid_sv.global_sphere_coverage"
   ]
  },
  {
   "cell_type": "markdown",
   "id": "a75e6323-f31f-4ffe-b417-d05b126c1da4",
   "metadata": {},
   "source": [
    "Zooming in, we can observe the Voronoi Regions in detail. The original point coordinates are now the centers of each the faces in the grid. This means that any data that was originally mapped to the points now resides on the faces."
   ]
  },
  {
   "cell_type": "code",
   "execution_count": null,
   "id": "661243fa-b691-4455-9921-38c623672b01",
   "metadata": {},
   "outputs": [],
   "source": [
    "(grid_sv.plot() * uxgrid_global.plot.face_centers(color=\"red\")).opts(\n",
    "    xlim=(-10, 10),\n",
    "    ylim=(-5, 5),\n",
    "    title=\"Spherical Voronoi Cells (Zoomed)\",\n",
    ")"
   ]
  },
  {
   "cell_type": "code",
   "execution_count": null,
   "id": "478f5c6d-eda7-415a-b048-fcdd2d1d2d25",
   "metadata": {},
   "outputs": [],
   "source": [
    "(grid_sv.plot() * uxgrid_global.plot.face_centers(color=\"red\")).opts(\n",
    "    xlim=(14.5, 18.5),\n",
    "    ylim=(5.5, 9.0),\n",
    "    title=\"Single Spherical Voronoi Cell (Zoomed)\",\n",
    ")"
   ]
  },
  {
   "cell_type": "markdown",
   "id": "88e15e10-12c8-422c-89c2-3f4f686354ce",
   "metadata": {},
   "source": [
    "### Limitations of Spherical Methods\n",
    "\n",
    "The spherical methods discussed above are not appropriate for regional data, as the exterior boundaries of the region will wrap around and connect together, forming extremely large faces."
   ]
  },
  {
   "cell_type": "code",
   "execution_count": null,
   "id": "c1fa4e9b-6338-472e-9b13-d7ce2ee8a785",
   "metadata": {},
   "outputs": [],
   "source": [
    "%%time\n",
    "grid_dt_regional = ux.Grid.from_points(points_regional, method=\"spherical_delaunay\")"
   ]
  },
  {
   "cell_type": "code",
   "execution_count": null,
   "id": "0d870cb5-0b06-4db1-a834-06d90a5807ab",
   "metadata": {},
   "outputs": [],
   "source": [
    "grid_dt_regional.plot.face_area_distribution(\n",
    "    bins=15, title=\"Delaunay: Face Area Distributon (Regional)\"\n",
    ")"
   ]
  },
  {
   "cell_type": "code",
   "execution_count": null,
   "id": "9ba1916b-87ea-4f2b-9564-05070e1ad223",
   "metadata": {},
   "outputs": [],
   "source": [
    "grid_sv_regional = ux.Grid.from_points(points_regional, method=\"spherical_voronoi\")"
   ]
  },
  {
   "cell_type": "code",
   "execution_count": null,
   "id": "9d1b5a0e-0440-402b-9151-ff89141fa222",
   "metadata": {},
   "outputs": [],
   "source": [
    "grid_sv_regional.plot.face_area_distribution(\n",
    "    bins=15, title=\"Voronoi: Face Area Distributon (Regional)\"\n",
    ")"
   ]
  },
  {
   "cell_type": "markdown",
   "id": "c74a9d4a-71f9-4fd5-a958-0bedcf1282aa",
   "metadata": {},
   "source": [
    "## Global Data with Holes\n",
    "\n",
    "\n",
    "For global point data with holes, the spherical methods can be used, but there are certain considerations that need to be made, since by default, each spherical method returns a grid with full sphere coverage."
   ]
  },
  {
   "cell_type": "markdown",
   "id": "2f626929-811e-4476-818d-04a39832a9b6",
   "metadata": {},
   "source": [
    "### Spherical Delaunay"
   ]
  },
  {
   "cell_type": "code",
   "execution_count": null,
   "id": "460a1b80-3677-480b-bbd6-8729cfe08c69",
   "metadata": {},
   "outputs": [],
   "source": [
    "%%time\n",
    "grid_dt = ux.Grid.from_points(points_global_ocean, method=\"spherical_delaunay\")"
   ]
  },
  {
   "cell_type": "code",
   "execution_count": null,
   "id": "f5b35ee0-fd81-4e9f-8aca-23f311a576c7",
   "metadata": {},
   "outputs": [],
   "source": [
    "grid_dt.global_sphere_coverage"
   ]
  },
  {
   "cell_type": "code",
   "execution_count": null,
   "id": "e8b797c9-96c9-43a3-88df-4599e4c15ebb",
   "metadata": {},
   "outputs": [],
   "source": [
    "grid_dt.plot(\n",
    "    projection=ccrs.Robinson(),\n",
    "    linewidth=0.5,\n",
    "    periodic_elements=\"exclude\",\n",
    "    title=\"Spherical Delaunay Triangulation\",\n",
    "    height=500,\n",
    "    width=1000,\n",
    ")"
   ]
  },
  {
   "cell_type": "code",
   "execution_count": null,
   "id": "c462514a-4f9f-40e7-b5f3-d1abf6edc40d",
   "metadata": {},
   "outputs": [],
   "source": [
    "(\n",
    "    grid_dt.plot(\n",
    "        features=[\"coastline\"],\n",
    "    )\n",
    "    * uxgrid_global_ocean.plot.face_centers(color=\"red\")\n",
    ").opts(\n",
    "    xlim=(-20, 20),\n",
    "    ylim=(-10, 10),\n",
    "    title=\"Spherical Delaunay Triangles (Zoomed)\",\n",
    ")"
   ]
  },
  {
   "cell_type": "markdown",
   "id": "d102445d-7463-428b-9310-193194e106b6",
   "metadata": {},
   "source": [
    "This behavior is not always desired, especially if you do not want elements over previously empty regions. The ``Grid.from_points()`` method accepts an optional argument ``boundary_points``, which is an array of indices corresponding to which points lie on a defined boundary."
   ]
  },
  {
   "cell_type": "code",
   "execution_count": null,
   "id": "b8179844-4aaf-4d75-b44f-6fd8560aa6cd",
   "metadata": {},
   "outputs": [],
   "source": [
    "%%time\n",
    "grid_dt_no_boundary = ux.Grid.from_points(\n",
    "    points_global_ocean,\n",
    "    boundary_points=boundary_points_global_ocean,\n",
    "    method=\"spherical_delaunay\",\n",
    ")"
   ]
  },
  {
   "cell_type": "markdown",
   "id": "c68102f3-3d3d-498c-a0aa-66c0590f53ef",
   "metadata": {},
   "source": [
    "When appropriate boundary points are provided, the resulting grid has a partial sphere coverage. "
   ]
  },
  {
   "cell_type": "code",
   "execution_count": null,
   "id": "c9b5fb77-cb03-4d47-ae82-d1eb8b43e8fe",
   "metadata": {},
   "outputs": [],
   "source": [
    "grid_dt_no_boundary.global_sphere_coverage"
   ]
  },
  {
   "cell_type": "code",
   "execution_count": null,
   "id": "885b126b-a7c9-4472-a5fb-c49320f566b2",
   "metadata": {},
   "outputs": [],
   "source": [
    "grid_dt_no_boundary.plot(\n",
    "    projection=ccrs.Robinson(),\n",
    "    linewidth=0.5,\n",
    "    periodic_elements=\"exclude\",\n",
    "    height=500,\n",
    "    width=1000,\n",
    "    title=\"Spherical Delaunay Triangulation without Boundary Points\",\n",
    ")"
   ]
  },
  {
   "cell_type": "code",
   "execution_count": null,
   "id": "03e1c926-f83b-4b64-b85d-a1cab940a2cb",
   "metadata": {},
   "outputs": [],
   "source": [
    "(\n",
    "    grid_dt_no_boundary.plot(\n",
    "        features=[\"coastline\"],\n",
    "    )\n",
    "    * uxgrid_global_ocean.plot.face_centers(color=\"red\")\n",
    ").opts(\n",
    "    xlim=(-20, 20),\n",
    "    ylim=(-10, 10),\n",
    "    title=\"Spherical Delaunay Triangles without Boundary Points (Zoomed)\",\n",
    ")"
   ]
  },
  {
   "cell_type": "markdown",
   "id": "2c37ad41-497c-4f2a-a1ac-d7631c97d130",
   "metadata": {},
   "source": [
    "### Spherical Voronoi\n",
    "\n",
    "The Spherical Voronoi method can be used for global poitns with holes, however it does not support a ``boundary_points`` parameter, meaning that the resulting Grid will always have a global sphere coverage.\n"
   ]
  },
  {
   "cell_type": "code",
   "execution_count": null,
   "id": "25dc99e3-cdf0-4405-87ed-fdf1d321f616",
   "metadata": {},
   "outputs": [],
   "source": [
    "%%time\n",
    "grid_sv = ux.Grid.from_points(points_global_ocean, method=\"spherical_voronoi\")"
   ]
  },
  {
   "cell_type": "code",
   "execution_count": null,
   "id": "4a0540b2-071d-4710-92ab-94279c65d994",
   "metadata": {},
   "outputs": [],
   "source": [
    "grid_sv.global_sphere_coverage"
   ]
  },
  {
   "cell_type": "code",
   "execution_count": null,
   "id": "e0e2b45f-b771-420b-8ca4-621281484aa6",
   "metadata": {},
   "outputs": [],
   "source": [
    "grid_sv.plot(\n",
    "    projection=ccrs.Robinson(),\n",
    "    linewidth=0.5,\n",
    "    periodic_elements=\"exclude\",\n",
    "    height=500,\n",
    "    width=1000,\n",
    "    title=\"Spherical Voronoi Regions\",\n",
    ")"
   ]
  },
  {
   "cell_type": "code",
   "execution_count": null,
   "id": "37ee7915-d40c-4155-893e-8a9ce6a16650",
   "metadata": {},
   "outputs": [],
   "source": [
    "(\n",
    "    grid_sv.plot(\n",
    "        features=[\"coastline\"],\n",
    "    )\n",
    "    * uxgrid_global_ocean.plot.face_centers(color=\"red\")\n",
    ").opts(\n",
    "    xlim=(-20, 20),\n",
    "    ylim=(-10, 10),\n",
    "    title=\"Spherical Voronoi Regions (Zoomed)\",\n",
    ")"
   ]
  },
  {
   "cell_type": "markdown",
   "id": "79d81929-48be-493d-82e8-68d225b8e749",
   "metadata": {},
   "source": [
    "## Regional Data\n",
    "\n",
    "The regional delaunay method can be used to construct a grid from points in a regional area.\n",
    "\n",
    "### How It Works\n",
    "\n",
    "1. **Input Points on the Sphere**:\n",
    "   - The method accepts input points defined in spherical coordinates (e.g., latitude and longitude) or Cartesian coordinates (x, y, z) that lie on the surface of the sphere. They are internally converted to normalized Cartesian coordinates.\n",
    "\n",
    "2. **Computing the Regional Delaunay Diagram**:\n",
    "   - The method projects the points to a 2D plane using stereographic projection, followed by SciPy's `Delaunay` triangulation method to construct the grid.\n",
    "\n",
    "3. **Extracting Triangles**:\n",
    "   - Once the triangles of 2D points are determined, the connectivity of the triangular faces are extracted. These triangles represent the Delaunay triangulation on the sphere's surface, ensuring that no point is inside the circumcircle of any triangle, which is a key property of Delaunay triangulations."
   ]
  },
  {
   "cell_type": "code",
   "execution_count": null,
   "id": "5e15b602-70e1-434d-a0a4-51d5913abb6a",
   "metadata": {},
   "outputs": [],
   "source": [
    "grid_r = ux.Grid.from_points(points_regional, method=\"regional_delaunay\")"
   ]
  },
  {
   "cell_type": "code",
   "execution_count": null,
   "id": "6e4d838a-4f7f-474f-a2f9-47569df02a91",
   "metadata": {},
   "outputs": [],
   "source": [
    "grid_r.plot(\n",
    "    linewidth=0.5,\n",
    "    periodic_elements=\"exclude\",\n",
    "    height=500,\n",
    "    width=1000,\n",
    "    title=\"Regional Delaunay Regions\",\n",
    ")"
   ]
  },
  {
   "cell_type": "markdown",
   "id": "03dbafcc-a603-466d-b886-adb15764bd4c",
   "metadata": {},
   "source": [
    "### Antimerdian\n",
    "\n",
    "This also works on regions wrapping the antimerdian"
   ]
  },
  {
   "cell_type": "code",
   "execution_count": null,
   "id": "95e37aa6-6591-47b0-8a64-9d38f9dec664",
   "metadata": {},
   "outputs": [],
   "source": [
    "antimerdian_region = uxgrid_global.subset.bounding_circle((-180, 0), 10)"
   ]
  },
  {
   "cell_type": "code",
   "execution_count": null,
   "id": "2d630797-b2c8-46dc-bda2-60a69ed266d6",
   "metadata": {},
   "outputs": [],
   "source": [
    "x_antimerdian_region, y_antimerdian_region, z_antimerdian_region = (\n",
    "    antimerdian_region.face_x.values,\n",
    "    antimerdian_region.face_y.values,\n",
    "    antimerdian_region.face_z.values,\n",
    ")\n",
    "antimerdian_region = (x_antimerdian_region, y_antimerdian_region, z_antimerdian_region)"
   ]
  },
  {
   "cell_type": "code",
   "execution_count": null,
   "id": "8f5e70c5-c31e-4183-af2a-24ed1dcaba94",
   "metadata": {},
   "outputs": [],
   "source": [
    "grid_r = ux.Grid.from_points(antimerdian_region, method=\"regional_delaunay\")"
   ]
  },
  {
   "cell_type": "code",
   "execution_count": null,
   "id": "a83c11a8-fbc9-4dc9-ba10-8c3babdae83f",
   "metadata": {},
   "outputs": [],
   "source": [
    "grid_r.plot(\n",
    "    linewidth=0.5,\n",
    "    periodic_elements=\"exclude\",\n",
    "    height=500,\n",
    "    width=1000,\n",
    "    title=\"Regional Delaunay Regions\",\n",
    ")"
   ]
  }
 ],
 "metadata": {
  "kernelspec": {
   "display_name": "Python 3 (ipykernel)",
   "language": "python",
   "name": "python3"
  },
  "language_info": {
   "codemirror_mode": {
    "name": "ipython",
    "version": 3
   },
   "file_extension": ".py",
   "mimetype": "text/x-python",
   "name": "python",
   "nbconvert_exporter": "python",
   "pygments_lexer": "ipython3",
   "version": "3.12.7"
  }
 },
 "nbformat": 4,
 "nbformat_minor": 5
}
