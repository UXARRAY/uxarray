{
 "cells": [
  {
   "cell_type": "markdown",
   "id": "1586219d82477a0",
   "metadata": {},
   "source": [
    "# Constructing a Grid from Points"
   ]
  },
  {
   "cell_type": "code",
   "execution_count": null,
   "id": "974ef98b2cdb3cb1",
   "metadata": {
    "ExecuteTime": {
     "end_time": "2024-10-15T16:49:23.607281Z",
     "start_time": "2024-10-15T16:49:23.605598Z"
    }
   },
   "outputs": [],
   "source": [
    "import uxarray as ux\n",
    "import xarray as xr\n",
    "import cartopy.crs as ccrs\n",
    "import geoviews as gv"
   ]
  },
  {
   "cell_type": "markdown",
   "id": "d8af2dbe8b91150b",
   "metadata": {},
   "source": [
    "## Data"
   ]
  },
  {
   "cell_type": "code",
   "execution_count": null,
   "id": "6fe4ad39b659977f",
   "metadata": {
    "ExecuteTime": {
     "end_time": "2024-10-15T16:47:25.251247Z",
     "start_time": "2024-10-15T16:47:25.216327Z"
    }
   },
   "outputs": [],
   "source": [
    "xrds = xr.open_dataset(\"../../test/meshfiles/points/outCSne30/psi-points.nc\")\n",
    "xrds"
   ]
  },
  {
   "cell_type": "code",
   "execution_count": null,
   "id": "43959750f25e3c41",
   "metadata": {
    "ExecuteTime": {
     "end_time": "2024-10-15T16:47:25.297038Z",
     "start_time": "2024-10-15T16:47:25.293928Z"
    }
   },
   "outputs": [],
   "source": [
    "points = (xrds.longitude.values, xrds.latitude.values)"
   ]
  },
  {
   "cell_type": "code",
   "execution_count": null,
   "id": "1c75e1b7b1a168f2",
   "metadata": {
    "ExecuteTime": {
     "end_time": "2024-10-15T16:50:39.363965Z",
     "start_time": "2024-10-15T16:50:39.229922Z"
    }
   },
   "outputs": [],
   "source": [
    "gv_points = gv.Points(points, crs=ccrs.PlateCarree()).opts(\n",
    "    projection=ccrs.Robinson(), width=700, height=350, color=\"red\"\n",
    ")\n",
    "gv_points"
   ]
  },
  {
   "cell_type": "markdown",
   "id": "8b7715599e8c4392",
   "metadata": {},
   "source": [
    "## Spherical Voronoi"
   ]
  },
  {
   "cell_type": "code",
   "execution_count": null,
   "id": "191800c4ce1a5daa",
   "metadata": {
    "ExecuteTime": {
     "end_time": "2024-10-15T16:49:11.298139Z",
     "start_time": "2024-10-15T16:49:11.264292Z"
    }
   },
   "outputs": [],
   "source": [
    "grid_sv = ux.Grid.from_points(points, method=\"spherical_voronoi\")"
   ]
  },
  {
   "cell_type": "code",
   "execution_count": null,
   "id": "41e9dd14822f89c9",
   "metadata": {
    "ExecuteTime": {
     "end_time": "2024-10-15T16:49:14.146998Z",
     "start_time": "2024-10-15T16:49:11.450796Z"
    }
   },
   "outputs": [],
   "source": [
    "grid_sv.plot(projection=ccrs.Robinson(), periodic_elements=\"split\") * gv_points"
   ]
  },
  {
   "cell_type": "code",
   "execution_count": null,
   "id": "38cb69c2dbad6681",
   "metadata": {
    "ExecuteTime": {
     "end_time": "2024-10-15T16:47:29.371831Z",
     "start_time": "2024-10-15T16:47:29.370354Z"
    }
   },
   "outputs": [],
   "source": []
  }
 ],
 "metadata": {
  "kernelspec": {
   "display_name": "Python 3 (ipykernel)",
   "language": "python",
   "name": "python3"
  },
  "language_info": {
   "codemirror_mode": {
    "name": "ipython",
    "version": 3
   },
   "file_extension": ".py",
   "mimetype": "text/x-python",
   "name": "python",
   "nbconvert_exporter": "python",
   "pygments_lexer": "ipython3",
   "version": "3.11.8"
  }
 },
 "nbformat": 4,
 "nbformat_minor": 5
}
