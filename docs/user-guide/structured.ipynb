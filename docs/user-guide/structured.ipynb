{
 "cells": [
  {
   "cell_type": "markdown",
   "id": "4201b69329447989",
   "metadata": {},
   "source": [
    "# Reading Structured Grids\n",
    "\n",
    "UXarray supports reading structured grids and representing them as unstrutured grids. This user-guide section will discuss how to load in structured grids using UXarray."
   ]
  },
  {
   "cell_type": "code",
   "id": "149f175e67dc1a07",
   "metadata": {},
   "source": [
    "import uxarray as ux\n",
    "import xarray as xr\n",
    "import cartopy.crs as ccrs\n",
    "\n",
    "import warnings\n",
    "\n",
    "warnings.filterwarnings(\"ignore\")"
   ],
   "outputs": [],
   "execution_count": null
  },
  {
   "cell_type": "markdown",
   "id": "5a6a3b7f5930ab21",
   "metadata": {},
   "source": [
    "## Data\n",
    "\n",
    "For this notebook, we will be using datasets from the Xarray tutorial."
   ]
  },
  {
   "cell_type": "code",
   "id": "bc0fd470a7f64504",
   "metadata": {},
   "source": [
    "ds_air_temp = xr.tutorial.open_dataset(\"air_temperature\")\n",
    "ds_ersstv5 = xr.tutorial.open_dataset(\"ersstv5\")"
   ],
   "outputs": [],
   "execution_count": null
  },
  {
   "cell_type": "markdown",
   "id": "3696e3df89a57d96",
   "metadata": {},
   "source": [
    "## Grid\n",
    "\n",
    "A structured grid can be converted into an unstructured grid by using the ``ux.Grid.from_structured()`` class method. An ``xarray.Dataset`` can be passed in, with CF-compliant longitude and latitude coordinates parsed and converted to an unstructured grid."
   ]
  },
  {
   "cell_type": "code",
   "id": "d16555e6ec8dee74",
   "metadata": {},
   "source": [
    "uxgrid = ux.Grid.from_structured(ds_air_temp)\n",
    "uxgrid"
   ],
   "outputs": [],
   "execution_count": null
  },
  {
   "cell_type": "markdown",
   "id": "1bbd88b0954b53f8",
   "metadata": {},
   "source": "You can also manually pass in longitude and latitude coordinates."
  },
  {
   "cell_type": "code",
   "id": "d121ef33c3aaed90",
   "metadata": {},
   "source": [
    "uxgrid = ux.Grid.from_structured(lon=ds_air_temp.lon, lat=ds_air_temp.lat)\n",
    "uxgrid"
   ],
   "outputs": [],
   "execution_count": null
  },
  {
   "cell_type": "code",
   "id": "ab3c5ca428b99bdc",
   "metadata": {},
   "source": [
    "uxgrid.plot(\n",
    "    title=\"Structured Grid loaded using UXarray\", backend=\"matplotlib\", width=1000\n",
    ")"
   ],
   "outputs": [],
   "execution_count": null
  },
  {
   "cell_type": "markdown",
   "id": "2ddf203ac8e9a0c2",
   "metadata": {},
   "source": [
    "## Dataset\n",
    "\n",
    "If you have a dataset that contains data variables, you can convert the entire ``xarray.Dataset`` into a ``uxarray.UxDataset`` using the ``ux.UxDataset.from_structured()`` class method. "
   ]
  },
  {
   "cell_type": "code",
   "id": "7ed9a15c25a14c3e",
   "metadata": {},
   "source": [
    "uxds = ux.UxDataset.from_structured(ds_air_temp)\n",
    "uxds"
   ],
   "outputs": [],
   "execution_count": null
  },
  {
   "cell_type": "code",
   "id": "8037fd0309774356",
   "metadata": {},
   "source": [
    "uxds[\"air\"][0].plot(\n",
    "    title=\"Structured Grid with Data loaded using UXarray\",\n",
    "    backend=\"matplotlib\",\n",
    "    width=500,\n",
    ")"
   ],
   "outputs": [],
   "execution_count": null
  },
  {
   "cell_type": "markdown",
   "id": "3badcc09659920b5",
   "metadata": {},
   "source": "## Limitations of Structured Grids"
  },
  {
   "cell_type": "code",
   "id": "b6b872c3341c3eba",
   "metadata": {},
   "source": [
    "uxds = ux.UxDataset.from_structured(ds_ersstv5)"
   ],
   "outputs": [],
   "execution_count": null
  },
  {
   "cell_type": "code",
   "id": "dd07e0e5848d5095",
   "metadata": {},
   "source": [
    "uxds[\"sst\"][0].plot(\n",
    "    projection=ccrs.Orthographic(central_latitude=90), periodic_elements=\"split\"\n",
    ")"
   ],
   "outputs": [],
   "execution_count": null
  },
  {
   "cell_type": "code",
   "id": "f9ded6909c6adc18",
   "metadata": {},
   "source": [
    "uxds.uxgrid.plot(\n",
    "    projection=ccrs.Orthographic(central_latitude=60),\n",
    "    periodic_elements=\"split\",\n",
    "    width=600,\n",
    "    linewidth=1,\n",
    ")"
   ],
   "outputs": [],
   "execution_count": null
  }
 ],
 "metadata": {
  "kernelspec": {
   "display_name": "Python 3",
   "language": "python",
   "name": "python3"
  },
  "language_info": {
   "codemirror_mode": {
    "name": "ipython",
    "version": 2
   },
   "file_extension": ".py",
   "mimetype": "text/x-python",
   "name": "python",
   "nbconvert_exporter": "python",
   "pygments_lexer": "ipython2",
   "version": "2.7.6"
  }
 },
 "nbformat": 4,
 "nbformat_minor": 5
}
