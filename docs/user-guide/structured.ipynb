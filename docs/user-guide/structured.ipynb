{
 "cells": [
  {
   "cell_type": "markdown",
   "id": "4201b69329447989",
   "metadata": {},
   "source": [
    "# Reading Structured Grids\n",
    "\n",
    "UXarray supports reading structured grids and representing them as unstrutured grids. This user-guide section will discuss how to load in structured grids using UXarray."
   ]
  },
  {
   "cell_type": "code",
   "id": "149f175e67dc1a07",
   "metadata": {},
   "source": [
    "import uxarray as ux\n",
    "import xarray as xr\n",
    "import cartopy.crs as ccrs\n",
    "\n",
    "import warnings\n",
    "\n",
    "warnings.filterwarnings(\"ignore\")"
   ],
   "outputs": [],
   "execution_count": null
  },
  {
   "cell_type": "markdown",
   "id": "5a6a3b7f5930ab21",
   "metadata": {},
   "source": [
    "## Data\n",
    "\n",
    "For this notebook, we will be using datasets from the Xarray tutorial."
   ]
  },
  {
   "cell_type": "code",
   "id": "bc0fd470a7f64504",
   "metadata": {},
   "source": [
    "ds_air_temp = xr.tutorial.open_dataset(\"air_temperature\")\n",
    "ds_ersstv5 = xr.tutorial.open_dataset(\"ersstv5\")"
   ],
   "outputs": [],
   "execution_count": null
  },
  {
   "cell_type": "markdown",
   "id": "3696e3df89a57d96",
   "metadata": {},
   "source": [
    "## Grid\n",
    "\n",
    "A structured grid can be converted into an unstructured grid by using the ``ux.Grid.from_structured()`` class method. An ``xarray.Dataset`` can be passed in, with CF-compliant longitude and latitude coordinates parsed and converted to an unstructured grid."
   ]
  },
  {
   "cell_type": "code",
   "id": "d16555e6ec8dee74",
   "metadata": {},
   "source": [
    "uxgrid = ux.Grid.from_structured(ds_air_temp)\n",
    "uxgrid"
   ],
   "outputs": [],
   "execution_count": null
  },
  {
   "cell_type": "markdown",
   "id": "1bbd88b0954b53f8",
   "metadata": {},
   "source": "You can also manually pass in longitude and latitude coordinates."
  },
  {
   "cell_type": "code",
   "id": "d121ef33c3aaed90",
   "metadata": {},
   "source": [
    "uxgrid = ux.Grid.from_structured(lon=ds_air_temp.lon, lat=ds_air_temp.lat)\n",
    "uxgrid"
   ],
   "outputs": [],
   "execution_count": null
  },
  {
   "cell_type": "code",
   "id": "ab3c5ca428b99bdc",
   "metadata": {},
   "source": [
    "uxgrid.plot(\n",
    "    title=\"Structured Grid loaded using UXarray\", backend=\"matplotlib\", width=1000\n",
    ")"
   ],
   "outputs": [],
   "execution_count": null
  },
  {
   "cell_type": "markdown",
   "id": "2ddf203ac8e9a0c2",
   "metadata": {},
   "source": [
    "## Dataset\n",
    "\n",
    "If you have a dataset that contains data variables, you can convert the entire ``xarray.Dataset`` into a ``uxarray.UxDataset`` using the ``ux.UxDataset.from_structured()`` class method. "
   ]
  },
  {
   "cell_type": "code",
   "id": "7ed9a15c25a14c3e",
   "metadata": {},
   "source": [
    "uxds = ux.UxDataset.from_structured(ds_air_temp)\n",
    "uxds"
   ],
   "outputs": [],
   "execution_count": null
  },
  {
   "cell_type": "code",
   "id": "8037fd0309774356",
   "metadata": {},
   "source": [
    "uxds[\"air\"][0].plot(\n",
    "    title=\"Structured Grid with Data loaded using UXarray\",\n",
    "    backend=\"matplotlib\",\n",
    "    width=500,\n",
    ")"
   ],
   "outputs": [],
   "execution_count": null
  },
  {
   "cell_type": "markdown",
   "id": "3badcc09659920b5",
   "metadata": {},
   "source": [
    "## Limitations of Structured Grids\n",
    "\n",
    "Structured grids are a common choice in climate modeling due to their ease of implementation. However, they come with many limitations, which have been a driving factor in the adoption of unstructured grids.\n",
    "\n",
    "\n",
    "\n",
    "#### Limited Flexibility in Handling Complex Geometries\n",
    "\n",
    "Structured grids, with their regular and grid-aligned cells, struggle to capture complex geometries. This limitation forces modelers to use a higher number of grid points to approximate these natural landscapes, which can lead to increased computational costs and reduced simulation efficiency. Additionally, the inability to precisely represent intricate boundaries can result in inaccuracies in modeling climate processes that are influenced by these geographical features, potentially affecting the reliability of the simulation outcomes.\n",
    "\n",
    "#### Difficulty in Local Grid Refinement\n",
    "\n",
    "Climate phenomena like tropical cyclones, atmospheric fronts, and localized convection require high-resolution grids to be accurately modeled. Structured grids make it challenging to refine the grid locally in regions where such detailed resolution is needed without uniformly increasing the grid resolution across the entire model domain. This uniform refinement results in inefficient use of computational resources, as large areas of the model may have unnecessarily high resolution where it is not required.\n",
    "\n",
    "#### Pole Point Singularities\n",
    "\n",
    "Pole point singularities are a significant challenge in climate models that utilize structured latitude-longitude grids. In such grid systems, the lines of longitude converge as they approach the Earth's poles, causing the grid cells to become increasingly small near these regions. This convergence leads to several issues:\n",
    "\n",
    "- **Numerical Instability:** The drastically reduced cell size near the poles can cause numerical methods to become unstable, requiring smaller time steps to maintain accuracy and stability in simulations.\n",
    "\n",
    "- **Accuracy Problems:** The distortion of grid cell shapes near the poles can lead to inaccuracies in representing physical processes, such as atmospheric circulation and ocean currents, which are critical for realistic climate simulations.\n",
    "\n"
   ]
  },
  {
   "cell_type": "code",
   "id": "b6b872c3341c3eba",
   "metadata": {},
   "source": [
    "uxds = ux.UxDataset.from_structured(ds_ersstv5)"
   ],
   "outputs": [],
   "execution_count": null
  },
  {
   "metadata": {},
   "cell_type": "markdown",
   "source": "Below is a plot of Sea Surface Temperature on a structured grid.",
   "id": "556a04ca5c799cbb"
  },
  {
   "cell_type": "code",
   "id": "dd07e0e5848d5095",
   "metadata": {},
   "source": [
    "uxds[\"sst\"][0].plot(\n",
    "    projection=ccrs.Orthographic(central_latitude=90), periodic_elements=\"split\"\n",
    ")"
   ],
   "outputs": [],
   "execution_count": null
  },
  {
   "metadata": {},
   "cell_type": "markdown",
   "source": "If we expose the grid structure, we can observe the singularity at the poles.",
   "id": "fd7779c434574e45"
  },
  {
   "metadata": {},
   "cell_type": "markdown",
   "source": "",
   "id": "917b0f78d50ecc1b"
  },
  {
   "cell_type": "code",
   "id": "f9ded6909c6adc18",
   "metadata": {},
   "source": [
    "uxds.uxgrid.plot(\n",
    "    projection=ccrs.Orthographic(central_latitude=60),\n",
    "    periodic_elements=\"split\",\n",
    "    width=600,\n",
    "    linewidth=1,\n",
    ")"
   ],
   "outputs": [],
   "execution_count": null
  }
 ],
 "metadata": {
  "kernelspec": {
   "display_name": "Python 3",
   "language": "python",
   "name": "python3"
  },
  "language_info": {
   "codemirror_mode": {
    "name": "ipython",
    "version": 2
   },
   "file_extension": ".py",
   "mimetype": "text/x-python",
   "name": "python",
   "nbconvert_exporter": "python",
   "pygments_lexer": "ipython2",
   "version": "2.7.6"
  }
 },
 "nbformat": 4,
 "nbformat_minor": 5
}
