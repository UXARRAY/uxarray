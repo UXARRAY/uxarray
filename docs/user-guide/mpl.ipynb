{
 "cells": [
  {
   "cell_type": "markdown",
   "id": "0",
   "metadata": {},
   "source": [
    "# Plotting with Matplotlib and Cartopy\n",
    "\n",
    "In addition to supporting the HoloViz ecosystem of plotting packages via the `.plot()` accessors, UXarray also provides functionality to represent unstructured grids in formats that are accepted by Matplotlib and Cartopy.\n",
    "\n",
    "This guide covers:\n",
    "1. Rasterizing Data onto a Cartopy {class}`~cartopy.mpl.geoaxes.GeoAxes`\n",
    "2. Visualizing Data with {class}`~matplotlib.collections.PolyCollection`\n",
    "3. Visualizing Grid Topology with {class}`~matplotlib.collections.LineCollection`"
   ]
  },
  {
   "cell_type": "code",
   "execution_count": null,
   "id": "1",
   "metadata": {},
   "outputs": [],
   "source": [
    "import cartopy.crs as ccrs\n",
    "import cartopy.feature as cfeature\n",
    "import matplotlib.pyplot as plt\n",
    "from cartopy.crs import PlateCarree\n",
    "\n",
    "import uxarray as ux"
   ]
  },
  {
   "cell_type": "code",
   "execution_count": null,
   "id": "2",
   "metadata": {},
   "outputs": [],
   "source": [
    "base_path = \"../../test/meshfiles/mpas/QU/480/\"\n",
    "grid_path = base_path + \"grid.nc\"\n",
    "data_path = base_path + \"data.nc\"\n",
    "\n",
    "uxds = ux.open_dataset(grid_path, data_path)"
   ]
  },
  {
   "cell_type": "markdown",
   "id": "3",
   "metadata": {},
   "source": [
    "## Matplotlib and Cartopy Background\n",
    "\n",
    "To support Matplotlib and Cartopy workflows, UXarray has chosen to provide the necessary conversion functions to represent unstructured grids in formats that can be interpreted by these packages. This means that you as the user are responsible for setting up the figure, adding colorbar, and configuring other aspects of the plotting workflow. Because of this, we will not cover these topics in detail, but recommend reviewing the following resources:\n",
    "- [**Pythia Foundations:** Matplotlib](https://foundations.projectpythia.org/core/matplotlib.html)\n",
    "- [**Pythia Foundations:** Cartopy](https://foundations.projectpythia.org/core/cartopy.html)\n",
    "- [Matplotlib Quickstart Guide](https://matplotlib.org/stable/users/explain/quick_start.html)\n"
   ]
  },
  {
   "cell_type": "markdown",
   "id": "4",
   "metadata": {},
   "source": [
    "## Rasterization\n",
    "\n",
    "UXarray can rapidly translate face-centered data into a raster image that can be displayed directly on a Cartopy {class}`~cartopy.mpl.geoaxes.GeoAxes`.\n",
    "\n",
    "\n",
    "UXarray currently supports a nearest-neighbor based rasterization method, which converts each screen-space pixel from the {class}`~cartopy.mpl.geoaxes.GeoAxes` into a geographic coordinate for sampling the underlying unstructured grid. If the pixel lies within a face in the unstructured grid, it is shaded by the corresponding face value.\n",
    "\n",
    "The result is a 2-D array that works seamlessly with Matplotlib's `imshow`, `contour`, `contourf` and other visualization functions.\n",
    "\n",
    "\n",
    "```{important}\n",
    "Since the core geometry routines used internally directly sample the underlying unstructured grid using Numba, rasterization is extremely fast, even on high-resolution unstructured grids.\n",
    "```"
   ]
  },
  {
   "cell_type": "markdown",
   "id": "5",
   "metadata": {},
   "source": [
    "### Displaying Rasterized Data with `ax.imshow()`\n",
    "\n",
    "Because rasterization yields a fully georeferenced two-dimensional array, the quickest way to render it is with Matplotlib's {meth}`~cartopy.mpl.geoaxes.GeoAxes.imshow` on a Cartopy {class}`~cartopy.mpl.geoaxes.GeoAxes`. By supplying the raster array along with the appropriate origin and extent parameters, Cartopy automatically handles projection and alignment.\n",
    "\n",
    "```{caution}\n",
    "When rasterizing a grid at a global extent, especially for higher-resolution grids, there may not be enough pixels to sample the entire grid thoroughly with the default `pixel_ratio` of 1.0. You can consider increasing the `pixel_ratio` if you need more pixels. The impact is demonstrated in an example below.\n",
    "```"
   ]
  },
  {
   "cell_type": "code",
   "execution_count": null,
   "id": "6",
   "metadata": {},
   "outputs": [],
   "source": [
    "fig, ax = plt.subplots(\n",
    "    subplot_kw={\"projection\": ccrs.Robinson()}, figsize=(9, 6), constrained_layout=True\n",
    ")\n",
    "\n",
    "ax.set_global()\n",
    "\n",
    "raster = uxds[\"bottomDepth\"].to_raster(ax=ax)\n",
    "img = ax.imshow(\n",
    "    raster, cmap=\"Blues\", origin=\"lower\", extent=ax.get_xlim() + ax.get_ylim()\n",
    ")\n",
    "ax.set_title(\"Global Raster\")\n",
    "ax.coastlines()\n",
    "\n",
    "# Adding a colorbar (the examples below will not include one to keep things concise)\n",
    "cbar = fig.colorbar(img, ax=ax, fraction=0.03)"
   ]
  },
  {
   "cell_type": "markdown",
   "id": "7",
   "metadata": {},
   "source": [
    "When you only need to visualize a subset of your data, such as a country, basin, or smaller study area, limiting the extent of the Cartopy {class}`~cartopy.mpl.geoaxes.GeoAxes` before rasterization can significantly improve performance. By setting a tighter longitude-latitude window, the pixel-to-face lookups are constrained to that region, reducing the overall number of queries. This targeted sampling speeds up rendering, lowers memory overhead, and produces a cleaner, more focused map of your area of interest."
   ]
  },
  {
   "cell_type": "code",
   "execution_count": null,
   "id": "8",
   "metadata": {},
   "outputs": [],
   "source": [
    "fig, ax = plt.subplots(\n",
    "    subplot_kw={\"projection\": ccrs.Robinson()}, figsize=(9, 6), constrained_layout=True\n",
    ")\n",
    "\n",
    "ax.set_extent((-20, 20, -10, 10))\n",
    "\n",
    "\n",
    "raster = uxds[\"bottomDepth\"].to_raster(ax=ax)\n",
    "ax.imshow(raster, cmap=\"Blues\", origin=\"lower\", extent=ax.get_xlim() + ax.get_ylim())\n",
    "ax.set_title(\"Zoomed Raster\")\n",
    "ax.coastlines()"
   ]
  },
  {
   "cell_type": "markdown",
   "id": "9",
   "metadata": {},
   "source": [
    "#### Controlling the resolution\n",
    "\n",
    "You can control the resolution of the rasterization by adjusting the `pixel_ratio` parameter.\n",
    "A value greater than 1 increases the resolution (sharpens the image), while a value less than 1 will result in a coarser rasterization.\n",
    "The resolution also depends on what the figure's DPI setting is prior to calling {meth}`~uxarray.UxDataArray.to_raster`.\n",
    "\n",
    "The `pixel_ratio` parameter can also be used with the standard HoloViz/Datashader-based plotting\n",
    "(i.e. the {meth}`~uxarray.UxDataArray.plot` accessor; examples in [](plotting.ipynb))."
   ]
  },
  {
   "cell_type": "code",
   "execution_count": null,
   "id": "10",
   "metadata": {},
   "outputs": [],
   "source": [
    "pixel_ratios = [0.1, 0.5, 1, 4]\n",
    "\n",
    "fig, axs = plt.subplots(\n",
    "    len(pixel_ratios),\n",
    "    1,\n",
    "    subplot_kw={\"projection\": ccrs.Robinson()},\n",
    "    figsize=(6, 8),\n",
    "    constrained_layout=True,\n",
    "    sharex=True,\n",
    "    sharey=True,\n",
    ")\n",
    "\n",
    "axs.flat[0].set_extent((-20, 20, -5, 5))\n",
    "\n",
    "for ax, pixel_ratio in zip(axs.flat, pixel_ratios):\n",
    "    raster = uxds[\"bottomDepth\"].to_raster(ax=ax, pixel_ratio=pixel_ratio)\n",
    "    ax.imshow(\n",
    "        raster, cmap=\"Blues\", origin=\"lower\", extent=ax.get_xlim() + ax.get_ylim()\n",
    "    )\n",
    "    ax.set_title(f\"{pixel_ratio:.1f} Pixel Ratio\", loc=\"left\")\n",
    "    ax.coastlines()"
   ]
  },
  {
   "cell_type": "markdown",
   "id": "11",
   "metadata": {},
   "source": [
    "#### Reusing the pixel mapping\n",
    "\n",
    "As we see below, this is helpful if you are planning to make multiple plots of the same scene, allowing the raster to be computed much more quickly after the first time.\n",
    "\n",
    "Use `return_pixel_mapping=True` to get back the pixel mapping, and then pass it in the next time you call {meth}`~uxarray.UxDataArray.to_raster`."
   ]
  },
  {
   "cell_type": "code",
   "execution_count": null,
   "id": "12",
   "metadata": {},
   "outputs": [],
   "source": [
    "%%time\n",
    "\n",
    "fig, ax = plt.subplots(\n",
    "    figsize=(4, 2), subplot_kw={\"projection\": ccrs.Robinson()}, constrained_layout=True\n",
    ")\n",
    "\n",
    "ax.set_extent((-20, 20, -7, 7))\n",
    "\n",
    "raster, pixel_mapping = uxds[\"bottomDepth\"].to_raster(\n",
    "    ax=ax, pixel_ratio=5, return_pixel_mapping=True\n",
    ")\n",
    "ax.imshow(raster, cmap=\"Blues\", origin=\"lower\", extent=ax.get_xlim() + ax.get_ylim())\n",
    "ax.coastlines()"
   ]
  },
  {
   "cell_type": "code",
   "execution_count": null,
   "id": "13",
   "metadata": {},
   "outputs": [],
   "source": [
    "pixel_mapping"
   ]
  },
  {
   "cell_type": "code",
   "execution_count": null,
   "id": "14",
   "metadata": {},
   "outputs": [],
   "source": [
    "%%time\n",
    "\n",
    "fig, ax = plt.subplots(\n",
    "    figsize=(4, 2), subplot_kw={\"projection\": ccrs.Robinson()}, constrained_layout=True\n",
    ")\n",
    "\n",
    "ax.set_extent((-20, 20, -7, 7))\n",
    "\n",
    "raster = uxds[\"bottomDepth\"].to_raster(ax=ax, pixel_mapping=pixel_mapping)\n",
    "ax.imshow(raster, cmap=\"Blues\", origin=\"lower\", extent=ax.get_xlim() + ax.get_ylim())\n",
    "ax.coastlines()"
   ]
  },
  {
   "cell_type": "markdown",
   "id": "15",
   "metadata": {},
   "source": [
    "### Viewing Contours with `ax.contour()` and `ax.contourf()`\n",
    "\n",
    "You can use {meth}`ax.contour() <cartopy.mpl.geoaxes.GeoAxes.contour>` to draw projection-aware isolines and {meth}`ax.contourf() <cartopy.mpl.geoaxes.GeoAxes.contourf>` to shade between levels, specifying either a contour count or explicit thresholds.\n",
    "\n",
    "```{warning}\n",
    "The contours are generated on the raster image, not the unstructured grid geometries, which may create misleading results if not enough pixels were sampled.\n",
    "```"
   ]
  },
  {
   "cell_type": "code",
   "execution_count": null,
   "id": "16",
   "metadata": {},
   "outputs": [],
   "source": [
    "levels = [0, 2000, 4000, 6000]"
   ]
  },
  {
   "cell_type": "code",
   "execution_count": null,
   "id": "17",
   "metadata": {},
   "outputs": [],
   "source": [
    "fig, axes = plt.subplots(\n",
    "    2,\n",
    "    1,\n",
    "    subplot_kw={\"projection\": ccrs.Robinson()},\n",
    "    constrained_layout=True,\n",
    "    figsize=(9, 12),\n",
    ")\n",
    "\n",
    "ax1, ax2 = axes\n",
    "\n",
    "ax1.set_global()\n",
    "ax2.set_global()\n",
    "\n",
    "ax1.coastlines()\n",
    "ax2.coastlines()\n",
    "\n",
    "raster = uxds[\"bottomDepth\"].to_raster(ax=ax1)\n",
    "\n",
    "# Contour Lines\n",
    "ax1.contour(\n",
    "    raster,\n",
    "    cmap=\"Blues\",\n",
    "    origin=\"lower\",\n",
    "    extent=ax1.get_xlim() + ax1.get_ylim(),\n",
    "    levels=levels,\n",
    ")\n",
    "ax1.set_title(\"Contour Lines\")\n",
    "\n",
    "# Filled Contours\n",
    "ax2.contourf(\n",
    "    raster,\n",
    "    cmap=\"Blues\",\n",
    "    origin=\"lower\",\n",
    "    extent=ax2.get_xlim() + ax2.get_ylim(),\n",
    "    levels=levels,\n",
    ")\n",
    "ax2.set_title(\"Filled Contours\")"
   ]
  },
  {
   "cell_type": "markdown",
   "id": "18",
   "metadata": {},
   "source": [
    "## Matplotlib Collections\n",
    "\n",
    "Instead of directly sampling the unstructured grid, UXarray supports converting the grid into two {mod}`matplotlib.collections` classes: {class}`~matplotlib.collections.PolyCollection` and {class}`~matplotlib.collections.LineCollection`.\n",
    "\n",
    "```{warning}\n",
    "It is recommended to only use these collection-based plotting workflows if your grid is relatively small. For higher-resolution grids, directly rasterizing will almost always produce quicker results.\n",
    "```"
   ]
  },
  {
   "cell_type": "markdown",
   "id": "19",
   "metadata": {},
   "source": [
    "### Visualize Data with `PolyCollection`\n",
    "\n",
    "To visualize face-centered data variables, you can convert a {class}`~uxarray.UxDataArray` into a {class}`~matplotlib.collections.PolyCollection`, which represents each face as a polygon, shaded by its corresponding data value."
   ]
  },
  {
   "cell_type": "code",
   "execution_count": null,
   "id": "20",
   "metadata": {},
   "outputs": [],
   "source": [
    "poly_collection = uxds[\"bottomDepth\"].to_polycollection()"
   ]
  },
  {
   "cell_type": "code",
   "execution_count": null,
   "id": "21",
   "metadata": {},
   "outputs": [],
   "source": [
    "# disables grid lines\n",
    "poly_collection.set_antialiased(False)\n",
    "\n",
    "poly_collection.set_cmap(\"Blues\")\n",
    "\n",
    "fig, ax = plt.subplots(\n",
    "    1,\n",
    "    1,\n",
    "    facecolor=\"w\",\n",
    "    constrained_layout=True,\n",
    "    subplot_kw=dict(projection=ccrs.Robinson()),\n",
    ")\n",
    "\n",
    "ax.add_feature(cfeature.COASTLINE)\n",
    "ax.add_feature(cfeature.BORDERS)\n",
    "\n",
    "ax.add_collection(poly_collection)\n",
    "ax.set_global()\n",
    "plt.title(\"PolyCollection\")"
   ]
  },
  {
   "cell_type": "markdown",
   "id": "22",
   "metadata": {},
   "source": [
    "To reduce the number of polygons in the collection, you can [subset](./subset) before converting."
   ]
  },
  {
   "cell_type": "code",
   "execution_count": null,
   "id": "23",
   "metadata": {},
   "outputs": [],
   "source": [
    "lon_bounds = (-50, 50)\n",
    "lat_bounds = (-20, 20)\n",
    "b = 5  # buffer for the selection so we can fill the plot area\n",
    "\n",
    "poly_collection = (\n",
    "    uxds[\"bottomDepth\"]\n",
    "    .subset.bounding_box(\n",
    "        lon_bounds=(lon_bounds[0] - b, lon_bounds[1] + b),\n",
    "        lat_bounds=(lat_bounds[0] - b, lat_bounds[1] + b),\n",
    "    )\n",
    "    .to_polycollection()\n",
    ")\n",
    "\n",
    "poly_collection.set_cmap(\"Blues\")\n",
    "\n",
    "fig, ax = plt.subplots(\n",
    "    1,\n",
    "    1,\n",
    "    figsize=(7, 3.5),\n",
    "    facecolor=\"w\",\n",
    "    constrained_layout=True,\n",
    "    subplot_kw=dict(projection=ccrs.Robinson()),\n",
    ")\n",
    "\n",
    "ax.set_extent(lon_bounds + lat_bounds, crs=PlateCarree())\n",
    "\n",
    "ax.add_feature(cfeature.COASTLINE)\n",
    "ax.add_feature(cfeature.BORDERS)\n",
    "\n",
    "ax.add_collection(poly_collection)\n",
    "plt.title(\"PolyCollection\")"
   ]
  },
  {
   "cell_type": "markdown",
   "id": "24",
   "metadata": {},
   "source": [
    "### Visualize Grid Topology with `LineCollection`\n",
    "\n",
    "To visualize the unstructured grid geometry, you can convert a {class}`~uxarray.Grid` into a {class}`~matplotlib.collections.LineCollection`, which stores the edges of the unstructured grid.\n",
    "\n",
    "```{important}\n",
    "Since the transform for the {class}`~matplotlib.collections.LineCollection` and {class}`~matplotlib.collections.PolyCollection` are set to `ccrs.Geodetic()`, the edges and polygons are drawn correctly on the surface of a sphere and properly at the antimeridian.\n",
    "```"
   ]
  },
  {
   "cell_type": "code",
   "execution_count": null,
   "id": "25",
   "metadata": {},
   "outputs": [],
   "source": [
    "line_collection = uxds.uxgrid.to_linecollection(colors=\"black\", linewidths=0.5)"
   ]
  },
  {
   "cell_type": "code",
   "execution_count": null,
   "id": "26",
   "metadata": {},
   "outputs": [],
   "source": [
    "fig, ax = plt.subplots(\n",
    "    1,\n",
    "    1,\n",
    "    constrained_layout=True,\n",
    "    subplot_kw={\"projection\": ccrs.Robinson()},\n",
    ")\n",
    "\n",
    "ax.add_feature(cfeature.LAND)\n",
    "ax.add_feature(cfeature.COASTLINE)\n",
    "ax.add_collection(line_collection)\n",
    "ax.set_global()\n",
    "ax.set_title(\"LineCollection\")\n",
    "plt.show()"
   ]
  }
 ],
 "metadata": {
  "kernelspec": {
   "display_name": "Python 3 (ipykernel)",
   "language": "python",
   "name": "python3"
  },
  "language_info": {
   "codemirror_mode": {
    "name": "ipython",
    "version": 3
   },
   "file_extension": ".py",
   "mimetype": "text/x-python",
   "name": "python",
   "nbconvert_exporter": "python",
   "pygments_lexer": "ipython3",
   "version": "3.13.5"
  }
 },
 "nbformat": 4,
 "nbformat_minor": 5
}
