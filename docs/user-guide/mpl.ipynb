{
 "cells": [
  {
   "cell_type": "markdown",
   "id": "2cea9b83a226284a",
   "metadata": {},
   "source": [
    "# Plotting with Matplotlib\n",
    "\n",
    "Although UXarray's primary plotting API leverages the HoloViz ecosystem, users can still create visualizations using Matplotlib by converting UXarray objects into compatible Matplotlib collections, such as LineCollection and PolyCollection.\n",
    "\n",
    "This user guide will cover:\n",
    "* Converting a ``Grid`` to a ``LineCollection``\n",
    "* Converting a ``UxDataArray`` to a ``PolyCollection``\n",
    "* Using Geographic Projections & Elements\n",
    "* Handling periodic elements along the antimeridian\n"
   ]
  },
  {
   "cell_type": "code",
   "execution_count": null,
   "id": "ad9cbbd19d0d65ff",
   "metadata": {
    "ExecuteTime": {
     "start_time": "2024-10-01T20:41:51.224220Z"
    },
    "jupyter": {
     "is_executing": true
    }
   },
   "outputs": [],
   "source": [
    "import uxarray as ux\n",
    "import matplotlib.pyplot as plt\n",
    "import cartopy.crs as ccrs\n",
    "import cartopy.feature as cfeature"
   ]
  },
  {
   "cell_type": "code",
   "execution_count": null,
   "id": "783a9518289edb21",
   "metadata": {
    "ExecuteTime": {
     "end_time": "2024-09-23T14:13:54.769973Z",
     "start_time": "2024-09-23T14:13:54.651138Z"
    }
   },
   "outputs": [],
   "source": [
    "base_path = \"../../test/meshfiles/ugrid/outCSne30/\"\n",
    "grid_path = base_path + \"outCSne30.ug\"\n",
    "data_path = base_path + \"outCSne30_vortex.nc\"\n",
    "\n",
    "uxds = ux.open_dataset(grid_path, data_path)"
   ]
  },
  {
   "cell_type": "markdown",
   "id": "379beeaa7e4d6e93",
   "metadata": {},
   "source": [
    "## Visualize Grid Topology with `LineCollection`\n",
    "\n",
    "The [`Grid.to_linecollection()`](https://uxarray.readthedocs.io/en/latest/user_api/generated/uxarray.Grid.to_linecollection.html#) method can be used to convert a `Grid` instance into a [`matplotlib.collections.LineCollection`](https://matplotlib.org/stable/api/collections_api.html#matplotlib.collections.LineCollection) instance. It represents a collection of lines that represent the edges of an unstructured grid."
   ]
  },
  {
   "cell_type": "code",
   "execution_count": null,
   "id": "a5026668490e2fe7",
   "metadata": {
    "ExecuteTime": {
     "end_time": "2024-09-23T14:13:55.771820Z",
     "start_time": "2024-09-23T14:13:54.799063Z"
    }
   },
   "outputs": [],
   "source": [
    "lc = uxds.uxgrid.to_linecollection(colors=\"black\", linewidths=0.5)\n",
    "lc"
   ]
  },
  {
   "cell_type": "markdown",
   "id": "5122376c2a45b5f0",
   "metadata": {},
   "source": [
    "Once we have converted our ``Grid`` to a ``LineCollection``, we can directly use Matplotlib."
   ]
  },
  {
   "cell_type": "code",
   "execution_count": null,
   "id": "f62dd3f1-0b73-4e4d-8fc6-223701530a91",
   "metadata": {},
   "outputs": [],
   "source": [
    "fig, ax = plt.subplots(\n",
    "    1,\n",
    "    1,\n",
    "    figsize=(10, 10),\n",
    "    constrained_layout=True,\n",
    "    subplot_kw={\"projection\": ccrs.PlateCarree()},\n",
    ")\n",
    "\n",
    "ax.add_feature(cfeature.LAND)\n",
    "ax.add_feature(cfeature.COASTLINE)\n",
    "ax.add_collection(lc)\n",
    "ax.set_global()\n",
    "ax.set_title(\"LineCollection Plot\")\n",
    "plt.show()"
   ]
  },
  {
   "cell_type": "markdown",
   "id": "2194739a-edf2-4097-8481-a7494937e18d",
   "metadata": {},
   "source": [
    "We can also specify a projection directly when constructing a ``LineCollection``, which provides better performance compared to re-projecting the data with Matplotlib during figure creation."
   ]
  },
  {
   "cell_type": "code",
   "execution_count": null,
   "id": "0921b7dc-56ae-4cb7-acab-10a44a403dec",
   "metadata": {},
   "outputs": [],
   "source": [
    "projection = ccrs.Robinson()\n",
    "lc_direct_projection = uxds.uxgrid.to_linecollection(\n",
    "    override=True, colors=\"black\", linewidths=0.5, projection=projection\n",
    ")\n",
    "\n",
    "fig, ax = plt.subplots(\n",
    "    1,\n",
    "    1,\n",
    "    figsize=(10, 10),\n",
    "    constrained_layout=True,\n",
    "    subplot_kw={\"projection\": projection},\n",
    ")\n",
    "\n",
    "ax.add_feature(cfeature.LAND)\n",
    "ax.add_feature(cfeature.COASTLINE)\n",
    "ax.add_collection(lc_direct_projection)\n",
    "ax.set_global()\n",
    "ax.set_title(\"LineCollection Plot (Explicit Projection)\")\n",
    "plt.show()"
   ]
  },
  {
   "cell_type": "markdown",
   "id": "16942a05ab3e1144",
   "metadata": {},
   "source": [
    "## Visualize Data with `PolyCollection`\n",
    "\n",
    "The [`Grid.to_polycollection()`](https://uxarray.readthedocs.io/en/latest/user_api/generated/uxarray.Grid.to_polycollection.html#) method can be used to convert a `UxDataArray` containing a face-centered data variable into a [`matplotlib.collections.PolyCollection`](https://matplotlib.org/stable/api/collections_api.html#matplotlib.collections.PolyCollection) instance. It represents a collection of polygons that represent the faces of an unstructured grid, shaded using the values of the face-centered data variable."
   ]
  },
  {
   "cell_type": "code",
   "execution_count": null,
   "id": "23e65012-0f10-4ce9-9211-aaf0c93fa17f",
   "metadata": {},
   "outputs": [],
   "source": [
    "pc = uxds[\"psi\"].to_polycollection()\n",
    "pc"
   ]
  },
  {
   "cell_type": "code",
   "execution_count": null,
   "id": "b15faa8a-39b5-4a07-a99e-1c57b3d2cc80",
   "metadata": {},
   "outputs": [],
   "source": [
    "# disables grid lines\n",
    "pc.set_antialiased(False)\n",
    "\n",
    "pc.set_cmap(\"plasma\")\n",
    "\n",
    "fig, ax = plt.subplots(\n",
    "    1,\n",
    "    1,\n",
    "    figsize=(10, 5),\n",
    "    facecolor=\"w\",\n",
    "    constrained_layout=True,\n",
    "    subplot_kw=dict(projection=ccrs.PlateCarree()),\n",
    ")\n",
    "\n",
    "ax.add_feature(cfeature.COASTLINE)\n",
    "ax.add_feature(cfeature.BORDERS)\n",
    "\n",
    "ax.add_collection(pc)\n",
    "ax.set_global()\n",
    "plt.title(\"PolyCollection Plot with Projection & Features\")"
   ]
  },
  {
   "cell_type": "code",
   "execution_count": null,
   "id": "78bb71b8f927f14c",
   "metadata": {},
   "outputs": [],
   "source": [
    "projection = ccrs.Orthographic(central_longitude=-90, central_latitude=41)\n",
    "\n",
    "pc = uxds[\"psi\"].to_polycollection(projection=projection, override=True)"
   ]
  },
  {
   "cell_type": "code",
   "execution_count": null,
   "id": "2bf989e265cff66",
   "metadata": {},
   "outputs": [],
   "source": [
    "pc.set_antialiased(False)\n",
    "pc.set_cmap(\"plasma\")\n",
    "\n",
    "fig, ax = plt.subplots(\n",
    "    1,\n",
    "    1,\n",
    "    figsize=(10, 5),\n",
    "    facecolor=\"w\",\n",
    "    constrained_layout=True,\n",
    "    subplot_kw=dict(projection=projection),\n",
    ")\n",
    "\n",
    "ax.add_feature(cfeature.COASTLINE)\n",
    "ax.add_feature(cfeature.BORDERS)\n",
    "\n",
    "ax.add_collection(pc)\n",
    "ax.set_global()\n",
    "plt.title(\"PolyCollection Plot with Projection & Features\")"
   ]
  },
  {
   "cell_type": "markdown",
   "id": "c8510926d181ed7f",
   "metadata": {},
   "source": [
    "## Handling Periodic Elements"
   ]
  },
  {
   "cell_type": "markdown",
   "id": "fde7fafb87b9cc96",
   "metadata": {},
   "source": [
    "### Global Data\n",
    "\n",
    "If your grid contains elements that cross the antimeridian, plotting them without any corrections will lead to artifacts, as can be observed in the first plot below. \n",
    "\n",
    "UXarray provides two ways of handling these elements:\n",
    "- **Exclusion:** Periodic Elements will be excluded from the plot, with no other corrections being done, indicated by setting `periodic_elements='exclude'`, this is the default.\n",
    "- **Splitting:** Each periodic element is split into two across the antimeridian, indicated by setting `periodic_elements='split'`\n",
    "- **Ignore:** Periodic Elements will be included in the plot, without any processing done to them, indicated by setting `periodic_elements='ignore'`\n",
    "\n",
    "```{warning}\n",
    "Setting ``periodic_elements='split'`` will lead to roughly a 20 times perfromance hit compared to the other method, so it is suggested to only use this option for small grids.\n",
    "```\n",
    "\n"
   ]
  },
  {
   "cell_type": "code",
   "execution_count": null,
   "id": "492dbde14343d38e",
   "metadata": {},
   "outputs": [],
   "source": [
    "methods = [\"ignore\", \"exclude\", \"split\"]\n",
    "poly_collections = [\n",
    "    uxds[\"psi\"].to_polycollection(periodic_elements=method) for method in methods\n",
    "]\n",
    "\n",
    "\n",
    "fig, axes = plt.subplots(\n",
    "    nrows=3, figsize=(20, 10), subplot_kw={\"projection\": ccrs.PlateCarree()}\n",
    ")\n",
    "\n",
    "for ax, pc, method in zip(axes, poly_collections, methods):\n",
    "    pc.set_linewidth(0)\n",
    "    pc.set_cmap(\"plasma\")\n",
    "    ax.set_xlim((-180, 180))\n",
    "    pc.set_antialiased(False)\n",
    "    ax.set_ylim((-90, 90))\n",
    "    ax.add_collection(pc)\n",
    "    ax.set_title(f\"periodic_elements='{method}'\")"
   ]
  },
  {
   "cell_type": "code",
   "execution_count": null,
   "id": "485182c8-d101-4ef4-a11a-3502caa800ab",
   "metadata": {},
   "outputs": [],
   "source": [
    "projection = ccrs.Orthographic(central_longitude=-180, central_latitude=-41)\n",
    "\n",
    "# collection with split polygons, will be much slower\n",
    "pc_split = uxds[\"psi\"].to_polycollection(periodic_elements=\"split\")\n",
    "\n",
    "# collection with excluded periodic polygons with explicit projection\n",
    "pc_exclude = uxds[\"psi\"].to_polycollection(\n",
    "    periodic_elements=\"exclude\", projection=projection\n",
    ")\n",
    "\n",
    "pc_split.set_antialiased(False)\n",
    "pc_split.set_cmap(\"plasma\")\n",
    "\n",
    "pc_exclude.set_antialiased(False)\n",
    "pc_exclude.set_cmap(\"plasma\")\n",
    "\n",
    "fig, axes = plt.subplots(\n",
    "    1,\n",
    "    2,\n",
    "    figsize=(10, 5),\n",
    "    constrained_layout=True,\n",
    "    subplot_kw=dict(projection=projection),\n",
    ")\n",
    "\n",
    "ax1, ax2 = axes\n",
    "\n",
    "ax1.add_feature(cfeature.COASTLINE)\n",
    "ax1.add_feature(cfeature.BORDERS)\n",
    "ax1.add_collection(pc_split)\n",
    "ax1.set_global()\n",
    "ax1.set_title(\"Split Polygons (Projected with Matplotlib)\")\n",
    "\n",
    "ax2.add_feature(cfeature.COASTLINE)\n",
    "ax2.add_feature(cfeature.BORDERS)\n",
    "ax2.add_collection(pc_exclude)\n",
    "ax2.set_global()\n",
    "ax2.set_title(\"Excluded Polygons (Explicit Projection)\")"
   ]
  },
  {
   "cell_type": "markdown",
   "id": "d55137184d571f90",
   "metadata": {},
   "source": [
    "### Regional Data\n",
    "\n",
    "If you grid doesn't contain any periodic elements, it is always suggested to keep ``periodic_elements='ignore'`` for the best performance, as there is no difference in the resulting plots."
   ]
  },
  {
   "cell_type": "code",
   "execution_count": null,
   "id": "d03f11e44f9f608c",
   "metadata": {},
   "outputs": [],
   "source": [
    "methods = [\"ignore\", \"exclude\", \"split\"]\n",
    "poly_collections = [\n",
    "    uxds[\"psi\"]\n",
    "    .subset.bounding_circle((0, 0), 20)\n",
    "    .to_polycollection(periodic_elements=method)\n",
    "    for method in methods\n",
    "]\n",
    "\n",
    "\n",
    "fig, axes = plt.subplots(\n",
    "    nrows=3, figsize=(10, 10), subplot_kw={\"projection\": ccrs.PlateCarree()}\n",
    ")\n",
    "\n",
    "for ax, pc, method in zip(axes, poly_collections, methods):\n",
    "    pc.set_linewidth(0)\n",
    "    pc.set_cmap(\"plasma\")\n",
    "    pc.set_antialiased(False)\n",
    "    ax.set_xlim((-20, 20))\n",
    "    ax.set_ylim((-20, 20))\n",
    "    ax.add_collection(pc)\n",
    "    ax.set_title(f\"periodic_elements='{method}'\")"
   ]
  }
 ],
 "metadata": {
  "kernelspec": {
   "display_name": "Python 3 (ipykernel)",
   "language": "python",
   "name": "python3"
  },
  "language_info": {
   "codemirror_mode": {
    "name": "ipython",
    "version": 3
   },
   "file_extension": ".py",
   "mimetype": "text/x-python",
   "name": "python",
   "nbconvert_exporter": "python",
   "pygments_lexer": "ipython3",
   "version": "3.11.8"
  }
 },
 "nbformat": 4,
 "nbformat_minor": 5
}
