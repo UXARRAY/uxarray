{
 "cells": [
  {
   "cell_type": "markdown",
   "id": "2cea9b83a226284a",
   "metadata": {},
   "source": [
    "## Plotting with Matplotlib\n",
    "\n",
    "Although UXarray’s primary plotting API leverages the HoloViz ecosystem, users may prefer to compose custom figures using Matplotlib and Cartopy. UXarray provides standalone functions that integrate seamlessly into existing workflows, allowing you to visualize unstructured-grid data without reconstructing meshes or installing additional dependencies."
   ]
  },
  {
   "cell_type": "code",
   "execution_count": null,
   "id": "8bd1b907696049bc",
   "metadata": {},
   "outputs": [],
   "source": [
    "import cartopy.crs as ccrs\n",
    "import cartopy.feature as cfeature\n",
    "import matplotlib.pyplot as plt\n",
    "\n",
    "import uxarray as ux"
   ]
  },
  {
   "cell_type": "code",
   "execution_count": null,
   "id": "5cfde0a74df12993",
   "metadata": {},
   "outputs": [],
   "source": [
    "base_path = \"../../test/meshfiles/ugrid/outCSne30/\"\n",
    "grid_path = base_path + \"outCSne30.ug\"\n",
    "data_path = base_path + \"outCSne30_vortex.nc\"\n",
    "\n",
    "uxds = ux.open_dataset(grid_path, data_path)"
   ]
  },
  {
   "cell_type": "markdown",
   "id": "17b86fe5a1066c29",
   "metadata": {},
   "source": [
    "## Plotting Functions\n",
    "\n",
    "UXarray’s standalone plotting functions live under the `uxarray.plot` namespace. For brevity, you can import them as:"
   ]
  },
  {
   "cell_type": "code",
   "execution_count": null,
   "id": "2acfb64c7e14bf66",
   "metadata": {},
   "outputs": [],
   "source": [
    "import uxarray.plot as uxplot"
   ]
  },
  {
   "cell_type": "markdown",
   "id": "787324d260dd8116",
   "metadata": {},
   "source": [
    "### Imshow\n",
    "\n",
    "To quickly visualize data variables, UXarray provides the `uxarray.plot.imshow` function. It performs a screen-space sampling—mapping each Matplotlib pixel back to its corresponding unstructured-grid face, leveraging the optimized `Grid.get_faces_containing_point` method.\n",
    "\n",
    "This produces an output image displaying the sampled data."
   ]
  },
  {
   "cell_type": "code",
   "execution_count": null,
   "id": "819d9af52dc3f64",
   "metadata": {},
   "outputs": [],
   "source": [
    "uxplot.imshow(uxds[\"psi\"])"
   ]
  },
  {
   "cell_type": "markdown",
   "id": "9012d23cbc14386b",
   "metadata": {},
   "source": [
    "## Integration with Cartopy and Matplotlib\n",
    "\n",
    "UXarray’s Matplotlib functions are thin wrappers over Matplotlib and Cartopy, so you can:\n",
    "\n",
    "- Use any Cartopy projection by passing in a configured GeoAxes\n",
    "- Easily create subplots and insert plots\n",
    "- Add map features like coastlines, borders and gridlines with standard Cartopy calls\n",
    "- Define map bounds using `ax.set_extent` to focus on your region of interest\n",
    "\n",
    "You get full Matplotlib + Cartopy functionality, no extra APIs to learn or boilerplate to write.\n",
    "\n",
    "See the [Cartopy documentation](https://scitools.org.uk/cartopy/docs/latest/) for full details on supported functionality.\n"
   ]
  },
  {
   "cell_type": "markdown",
   "id": "ab8b7d1a0aa47c39",
   "metadata": {},
   "source": [
    "### Projections\n",
    "\n",
    "UXarray’s Matplotlib helpers work hand‐in‐glove with Cartopy, so you can choose any map projection without extra setup:\n",
    "\n",
    "- **Supply a Cartopy CRS**\n",
    "  Pass your desired projection (e.g., PlateCarree, Robinson, Orthographic) directly into `uxplot.imshow`.\n",
    "- **Automatic axis handling**\n",
    "  The function creates or reuses a GeoAxes in that projection and resamples your data accordingly.\n",
    "  -\n",
    "\n",
    "A full list of supported projections can be found here.\n",
    "\n",
    "Below, we render the `psi` field using the Robinson projection.\n"
   ]
  },
  {
   "cell_type": "code",
   "execution_count": null,
   "id": "781e6d59840efcd7",
   "metadata": {},
   "outputs": [],
   "source": [
    "uxplot.imshow(uxds[\"psi\"], projection=ccrs.Robinson())"
   ]
  },
  {
   "cell_type": "markdown",
   "id": "5c11423cebaf2506",
   "metadata": {},
   "source": [
    "### Subplots and Figures\n",
    "\n",
    "When building multi-panel figures, you can seamlessly integrate UXarray’s Matplotlib helpers into any existing workflow. If you provide a pre-configured GeoAxes (with your desired Cartopy projection), you don’t need to pass a projection argument into the `uxplot` functions.\n",
    "\n",
    "Let’s create a basic side-by-side comparison of our data at different projections.\n"
   ]
  },
  {
   "cell_type": "code",
   "execution_count": null,
   "id": "3af9292ea29f4c2d",
   "metadata": {},
   "outputs": [],
   "source": [
    "fig = plt.figure(constrained_layout=True)\n",
    "ax1 = fig.add_subplot(\n",
    "    1, 2, 1, projection=ccrs.Orthographic(central_longitude=-10, central_latitude=35)\n",
    ")\n",
    "ax2 = fig.add_subplot(\n",
    "    1, 2, 2, projection=ccrs.Orthographic(central_longitude=60, central_latitude=35)\n",
    ")\n",
    "\n",
    "# Render the same data on each axis with different center longitudes\n",
    "uxplot.imshow(uxds[\"psi\"], ax=ax1)\n",
    "uxplot.imshow(uxds[\"psi\"], ax=ax2)\n",
    "\n",
    "# Set titles\n",
    "ax1.set_title(\"Central Longitude = –10°\")\n",
    "ax2.set_title(\"Central Longitude = 60°\")\n",
    "\n",
    "plt.show()"
   ]
  },
  {
   "cell_type": "markdown",
   "id": "b1bcc680eafaf290",
   "metadata": {},
   "source": [
    "### Map Features\n",
    "\n",
    "UXarray’s Matplotlib helpers integrate seamlessly with Cartopy features. If you provide a pre-configured GeoAxes, simply call Cartopy feature methods directly, no extra parameters required."
   ]
  },
  {
   "cell_type": "code",
   "execution_count": null,
   "id": "9e594c7de9303f66",
   "metadata": {},
   "outputs": [],
   "source": [
    "fig, ax = plt.subplots(\n",
    "    subplot_kw={\n",
    "        \"projection\": ccrs.Orthographic(central_longitude=-10, central_latitude=35)\n",
    "    },\n",
    "    constrained_layout=True,\n",
    ")\n",
    "\n",
    "uxplot.imshow(uxds[\"psi\"], ax=ax)\n",
    "\n",
    "# Add coastlines and international borders\n",
    "ax.coastlines(resolution=\"110m\", color=\"black\", linewidth=1)\n",
    "ax.add_feature(cfeature.BORDERS.with_scale(\"110m\"), linestyle=\":\", linewidth=0.8)\n",
    "\n",
    "plt.show()"
   ]
  },
  {
   "cell_type": "markdown",
   "id": "ef33b9ac80ec8d7",
   "metadata": {},
   "source": [
    "### Setting Extents\n",
    "\n",
    "Use Cartopy’s `ax.set_extent` to focus on your region of interest without slicing your data. Provide a list of coordinates in degrees (`[lon_min, lon_max, lat_min, lat_max]`) and UXarray’s plotting functions will honor the visible bounds.\n"
   ]
  },
  {
   "cell_type": "code",
   "execution_count": null,
   "id": "db1a7f9e7ebb48f2",
   "metadata": {},
   "outputs": [],
   "source": [
    "fig, ax = plt.subplots(\n",
    "    subplot_kw={\"projection\": ccrs.PlateCarree()},\n",
    "    constrained_layout=True,\n",
    ")\n",
    "\n",
    "\n",
    "ax.set_extent((-20, 20, -10, 10))\n",
    "\n",
    "uxplot.imshow(uxds[\"psi\"], ax=ax)\n",
    "\n",
    "\n",
    "plt.show()"
   ]
  }
 ],
 "metadata": {
  "kernelspec": {
   "display_name": "Python 3 (ipykernel)",
   "language": "python",
   "name": "python3"
  },
  "language_info": {
   "codemirror_mode": {
    "name": "ipython",
    "version": 3
   },
   "file_extension": ".py",
   "mimetype": "text/x-python",
   "name": "python",
   "nbconvert_exporter": "python",
   "pygments_lexer": "ipython3",
   "version": "3.11.8"
  }
 },
 "nbformat": 4,
 "nbformat_minor": 5
}
