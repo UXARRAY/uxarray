{
 "cells": [
  {
   "cell_type": "markdown",
   "id": "4804032b6f2a5a04",
   "metadata": {},
   "source": [
    "# Plotting with Matplotlib\n",
    "\n",
    "While UXarray's plotting API is written around the [HoloViz](https://holoviz.org/) stack of packages, plotting directly with Matplotlib is supported through the conversion to a `LineCollection` or `PolyCollection` object. This user guide will cover:\n",
    "* Converting a `Grid` to a `LineCollection`\n",
    "* Converting a `UxDataArray` to a `PolyCollection`\n",
    "* Using Geographic Projections & Elements\n",
    "* Handling periodic elements along the antimeridian"
   ]
  },
  {
   "cell_type": "code",
   "execution_count": null,
   "id": "baba557fbe881cd",
   "metadata": {},
   "outputs": [],
   "source": [
    "import uxarray as ux\n",
    "import matplotlib.pyplot as plt\n",
    "import cartopy.crs as ccrs"
   ]
  },
  {
   "cell_type": "code",
   "execution_count": null,
   "id": "5fc33463da5e1c56",
   "metadata": {},
   "outputs": [],
   "source": [
    "base_path = \"../../test/meshfiles/ugrid/outCSne30/\"\n",
    "grid_path = base_path + \"outCSne30.ug\"\n",
    "data_path = base_path + \"outCSne30_vortex.nc\"\n",
    "\n",
    "uxds = ux.open_dataset(grid_path, data_path)"
   ]
  },
  {
   "cell_type": "markdown",
   "id": "38d5e9c5d7905340",
   "metadata": {},
   "source": [
    "## Visualize Grid Topology with `LineCollection`\n",
    "\n",
    "The [`Grid.to_linecollection()`](https://uxarray.readthedocs.io/en/latest/user_api/generated/uxarray.Grid.to_linecollection.html#) method can be used to convert a `Grid` instance into a [`matplotlib.collections.LineCollection`](https://matplotlib.org/stable/api/collections_api.html#matplotlib.collections.LineCollection) instance. It represents a collection of lines that represent the edges of an unstructured grid."
   ]
  },
  {
   "cell_type": "code",
   "execution_count": null,
   "id": "59e975e8f2edc9e2",
   "metadata": {},
   "outputs": [],
   "source": [
    "lc = uxds.uxgrid.to_linecollection()"
   ]
  },
  {
   "cell_type": "markdown",
   "source": [
    "Once we have converted our ``Grid`` to a ``LineCollection``, we can directly use Matplotlib."
   ],
   "metadata": {
    "collapsed": false
   },
   "id": "2b07e6988782061d"
  },
  {
   "cell_type": "code",
   "execution_count": null,
   "id": "9804d06f9bf077df",
   "metadata": {},
   "outputs": [],
   "source": [
    "# control the width of each edge\n",
    "lc.set_linewidth(0.5)\n",
    "\n",
    "# set the color of each edge\n",
    "lc.set_edgecolor(\"black\")\n",
    "\n",
    "fig, ax = plt.subplots(1, 1, figsize=(10, 5), constrained_layout=True)\n",
    "\n",
    "ax.set_xlim((-180, 180))\n",
    "ax.set_ylim((-90, 90))\n",
    "ax.add_collection(lc)\n",
    "\n",
    "plt.title(\"Line Collection Plot\")\n",
    "plt.show()"
   ]
  },
  {
   "cell_type": "markdown",
   "id": "f423522e56a9befb",
   "metadata": {},
   "source": [
    "## Visualize Data with `PolyCollection`\n",
    "\n",
    "The `UxDataArray.to_polycolleciton()` method can be used to convert a `UxDataArray` containing a face-centered data variable into a `matplotlib.collections.PolyCollection` instance. It represents a collection of polygons that represent the faces of an unstructured grid, shaded using the values of the face-centered data variable."
   ]
  },
  {
   "cell_type": "code",
   "execution_count": null,
   "id": "7c2f2bac1cc559c0",
   "metadata": {},
   "outputs": [],
   "source": [
    "pc = uxds[\"psi\"].to_polycollection()"
   ]
  },
  {
   "cell_type": "markdown",
   "source": [
    "Just like with the ``LineCollection`, we can directly use Matplotlib to visualuze our ``PolyCollection``"
   ],
   "metadata": {
    "collapsed": false
   },
   "id": "64d64524200f392a"
  },
  {
   "cell_type": "code",
   "execution_count": null,
   "id": "29797fb7a15def2b",
   "metadata": {},
   "outputs": [],
   "source": [
    "pc.set_antialiased(False)\n",
    "\n",
    "pc.set_cmap(\"plasma\")\n",
    "\n",
    "fig, ax = plt.subplots(1, 1, figsize=(10, 5), constrained_layout=True)\n",
    "\n",
    "ax.set_xlim((-180, 180))\n",
    "ax.set_ylim((-90, 90))\n",
    "ax.add_collection(pc)\n",
    "\n",
    "plt.title(\"Poly Collection Plot\")\n",
    "plt.show()"
   ]
  },
  {
   "cell_type": "markdown",
   "id": "6806a153ef541a3c",
   "metadata": {},
   "source": [
    "## Geographic Projections & Elements\n",
    "\n",
    "Both the `Grid.to_linecollection()` and `UxDataArray.to_polycollection()` methods accept an optional argument `projection` for setting a Cartopy projection. \n",
    "\n"
   ]
  },
  {
   "cell_type": "code",
   "execution_count": null,
   "id": "6e4778a33bd5732d",
   "metadata": {},
   "outputs": [],
   "source": [
    "projection = ccrs.Orthographic()\n",
    "\n",
    "pc = uxds[\"psi\"].to_polycollection(projection=projection, override=True)"
   ]
  },
  {
   "cell_type": "code",
   "execution_count": null,
   "id": "10f18068-2aa1-485a-be31-96542e67c424",
   "metadata": {},
   "outputs": [],
   "source": [
    "import cartopy.feature as cfeature\n",
    "\n",
    "pc.set_antialiased(False)\n",
    "pc.set_cmap(\"plasma\")\n",
    "\n",
    "fig, ax = plt.subplots(\n",
    "    1,\n",
    "    1,\n",
    "    figsize=(10, 5),\n",
    "    facecolor=\"w\",\n",
    "    constrained_layout=True,\n",
    "    subplot_kw=dict(projection=projection),\n",
    ")\n",
    "\n",
    "# add geographic features\n",
    "ax.add_feature(cfeature.COASTLINE)\n",
    "ax.add_feature(cfeature.BORDERS)\n",
    "\n",
    "ax.add_collection(pc)\n",
    "ax.set_global()\n",
    "plt.title(\"PolyCollection Plot with Projection & Features\")"
   ]
  },
  {
   "cell_type": "markdown",
   "id": "d833f09945d85b75",
   "metadata": {},
   "source": [
    "## Handling Periodic Elements"
   ]
  },
  {
   "cell_type": "markdown",
   "id": "1023043798604a94",
   "metadata": {},
   "source": [
    "    ### Global Data\n",
    "\n",
    "If your grid contains elements that cross the antimeridian, plotting them without any corrections will lead to artifacts, as can be observed in the first plot below. \n",
    "\n",
    "UXarray provides two ways of handling these elements:\n",
    "- **Exclusion:** Elements will be excluded from the plot, with no other corrections being done, indicated by setting `periodic_elements='exclude'`\n",
    "- **Splitting:** Each element is split into two across the antimeridian, indicated by setting `periodic_elements='split'`\n",
    "\n",
    "\n",
    "```{warning}\n",
    "Setting ``periodic_elements='split'`` will lead to roughly a 20 times perfromance hit compared to the other method, so it is suggested to only use this option for small grids.\n",
    "```\n",
    "\n"
   ]
  },
  {
   "cell_type": "code",
   "execution_count": null,
   "id": "b09ffd21d30a5e60",
   "metadata": {},
   "outputs": [],
   "source": [
    "methods = [\"include\", \"exclude\", \"split\"]\n",
    "poly_collections = [\n",
    "    uxds[\"psi\"].to_polycollection(periodic_elements=method) for method in methods\n",
    "]\n",
    "\n",
    "\n",
    "fig, axes = plt.subplots(\n",
    "    nrows=3, figsize=(20, 10), subplot_kw={\"projection\": ccrs.PlateCarree()}\n",
    ")\n",
    "\n",
    "for ax, pc, method in zip(axes, poly_collections, methods):\n",
    "    pc.set_linewidth(0)\n",
    "    pc.set_cmap(\"plasma\")\n",
    "    ax.set_xlim((-180, 180))\n",
    "    pc.set_antialiased(False)\n",
    "    ax.set_ylim((-90, 90))\n",
    "    ax.add_collection(pc)\n",
    "    ax.set_title(f\"periodic_elements='{method}'\")"
   ]
  },
  {
   "cell_type": "code",
   "execution_count": null,
   "id": "17dcfcca-752e-4992-911d-9bc9f330903b",
   "metadata": {},
   "outputs": [],
   "source": []
  },
  {
   "cell_type": "markdown",
   "id": "abd575ef2642a53d",
   "metadata": {},
   "source": [
    "### Regional Data\n",
    "\n",
    "If you grid doesn't contain any periodic elements, it is always suggested to keep ``periodic_elements='include'`` for the best perfromance, as there is no difference in the resulting plots."
   ]
  },
  {
   "cell_type": "code",
   "execution_count": null,
   "id": "164588b297998acb",
   "metadata": {},
   "outputs": [],
   "source": [
    "methods = [\"include\", \"exclude\", \"split\"]\n",
    "poly_collections = [\n",
    "    uxds[\"psi\"]\n",
    "    .subset.bounding_circle((0, 0), 20)\n",
    "    .to_polycollection(periodic_elements=method)\n",
    "    for method in methods\n",
    "]\n",
    "\n",
    "\n",
    "fig, axes = plt.subplots(\n",
    "    nrows=3, figsize=(10, 10), subplot_kw={\"projection\": ccrs.PlateCarree()}\n",
    ")\n",
    "\n",
    "for ax, pc, method in zip(axes, poly_collections, methods):\n",
    "    pc.set_linewidth(0)\n",
    "    pc.set_cmap(\"plasma\")\n",
    "    pc.set_antialiased(False)\n",
    "    ax.set_xlim((-20, 20))\n",
    "    ax.set_ylim((-20, 20))\n",
    "    ax.add_collection(pc)\n",
    "    ax.set_title(f\"periodic_elements='{method}'\")"
   ]
  }
 ],
 "metadata": {
  "kernelspec": {
   "display_name": "Python 3 (ipykernel)",
   "language": "python",
   "name": "python3"
  },
  "language_info": {
   "codemirror_mode": {
    "name": "ipython",
    "version": 3
   },
   "file_extension": ".py",
   "mimetype": "text/x-python",
   "name": "python",
   "nbconvert_exporter": "python",
   "pygments_lexer": "ipython3",
   "version": "3.11.9"
  }
 },
 "nbformat": 4,
 "nbformat_minor": 5
}
