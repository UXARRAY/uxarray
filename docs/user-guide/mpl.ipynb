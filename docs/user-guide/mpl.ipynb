{
 "cells": [
  {
   "cell_type": "markdown",
   "id": "2cea9b83a226284a",
   "metadata": {},
   "source": [
    "## Plotting with Matplotlib\n",
    "\n",
    "Although UXarray’s primary plotting API leverages the HoloViz ecosystem, users may prefer to compose custom figures using Matplotlib and Cartopy. UXarray provides supplementary functionality to represent data in formats that can be interpreted by Matplotlib and Cartopy."
   ]
  },
  {
   "cell_type": "code",
   "execution_count": null,
   "id": "8bd1b907696049bc",
   "metadata": {},
   "outputs": [],
   "source": [
    "import cartopy.crs as ccrs\n",
    "import cartopy.feature as cfeature\n",
    "import matplotlib.pyplot as plt\n",
    "from cartopy.crs import PlateCarree\n",
    "\n",
    "import uxarray as ux"
   ]
  },
  {
   "cell_type": "code",
   "execution_count": null,
   "id": "5cfde0a74df12993",
   "metadata": {},
   "outputs": [],
   "source": [
    "base_path = \"../../test/meshfiles/ugrid/outCSne30/\"\n",
    "grid_path = base_path + \"outCSne30.ug\"\n",
    "data_path = base_path + \"outCSne30_vortex.nc\"\n",
    "\n",
    "uxds = ux.open_dataset(grid_path, data_path)"
   ]
  },
  {
   "cell_type": "markdown",
   "id": "6850c1cd9186c8ea",
   "metadata": {},
   "source": [
    "## Rasterization\n",
    "\n",
    "UXarray supports rasterizing face-centered data variables onto a Cartopy GeoAxes.\n",
    "\n",
    "Currently, a nearest-neighbor approach is used, where each screens-space pixel is queried on the source grid and used to determine which face the pixel lies on. The pixel is then assigned the value of the face it lies on."
   ]
  },
  {
   "cell_type": "markdown",
   "id": "714a0dd1db24d0c6",
   "metadata": {},
   "source": "### Viewing the Image using `ax.imshow()`"
  },
  {
   "cell_type": "markdown",
   "id": "af4c3f19f583875e",
   "metadata": {},
   "source": "### Global Plot"
  },
  {
   "cell_type": "code",
   "execution_count": null,
   "id": "819d9af52dc3f64",
   "metadata": {},
   "outputs": [],
   "source": [
    "fig, ax = plt.subplots(subplot_kw={\"projection\": ccrs.Robinson()}, figsize=(9, 6))\n",
    "\n",
    "ax.set_global()\n",
    "\n",
    "\n",
    "raster = uxds[\"psi\"].rasterize_to_geoaxes(ax=ax)\n",
    "ax.imshow(raster, cmap=\"inferno\", origin=\"lower\", extent=ax.get_xlim() + ax.get_ylim())"
   ]
  },
  {
   "cell_type": "markdown",
   "id": "496d08143b0b49cc",
   "metadata": {},
   "source": [
    "### Regional Plot\n",
    "\n",
    "If you are interested in a specific region, you can restrict the domain of your GeoAxes, which will reduce the total number of queries needed to perform the rasterization"
   ]
  },
  {
   "cell_type": "code",
   "execution_count": null,
   "id": "ecdc8e314fd23b56",
   "metadata": {},
   "outputs": [],
   "source": [
    "fig, ax = plt.subplots(subplot_kw={\"projection\": ccrs.Robinson()}, figsize=(9, 6))\n",
    "\n",
    "ax.set_extent((-20, 20, -10, 10))\n",
    "\n",
    "\n",
    "raster = uxds[\"psi\"].rasterize_to_geoaxes(ax=ax)\n",
    "ax.imshow(raster, cmap=\"inferno\", origin=\"lower\", extent=ax.get_xlim() + ax.get_ylim())"
   ]
  },
  {
   "cell_type": "markdown",
   "id": "d89391d126ab11fb",
   "metadata": {},
   "source": "### Contours"
  },
  {
   "cell_type": "code",
   "execution_count": null,
   "id": "bcb9d2e5890cb56a",
   "metadata": {},
   "outputs": [],
   "source": [
    "fig, ax = plt.subplots(\n",
    "    subplot_kw={\"projection\": ccrs.Robinson()},\n",
    "    constrained_layout=True,\n",
    "    figsize=(9, 6),\n",
    ")\n",
    "\n",
    "ax.set_global()\n",
    "\n",
    "raster = uxds[\"psi\"].rasterize_to_geoaxes(ax=ax)\n",
    "ax.contour(raster, cmap=\"inferno\", origin=\"lower\", extent=ax.get_xlim() + ax.get_ylim())"
   ]
  }
 ],
 "metadata": {
  "kernelspec": {
   "display_name": "Python 3 (ipykernel)",
   "language": "python",
   "name": "python3"
  },
  "language_info": {
   "codemirror_mode": {
    "name": "ipython",
    "version": 3
   },
   "file_extension": ".py",
   "mimetype": "text/x-python",
   "name": "python",
   "nbconvert_exporter": "python",
   "pygments_lexer": "ipython3",
   "version": "3.11.8"
  }
 },
 "nbformat": 4,
 "nbformat_minor": 5
}
