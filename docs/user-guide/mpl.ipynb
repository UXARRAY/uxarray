{
 "cells": [
  {
   "cell_type": "markdown",
   "id": "2cea9b83a226284a",
   "metadata": {},
   "source": [
    "# Plotting with Matplotlib and Cartopy\n",
    "\n",
    "While UXarray's primary plotting API uses the HoloViz ecosystem, you may prefer customized visualizations using Matplotlib and Cartopy. UXarray offers supplementary tools to facilitate this integration.\n",
    "\n",
    "This guide covers:\n",
    "1. Rasterizing Data onto Cartopy ``GeoAxes``\n",
    "2. Visualizing Data with ``PolyCollection``\n",
    "3. Visualizing Grid Topology with ``LineCollection``"
   ]
  },
  {
   "cell_type": "code",
   "id": "8bd1b907696049bc",
   "metadata": {},
   "source": [
    "import cartopy.crs as ccrs\n",
    "import cartopy.feature as cfeature\n",
    "import matplotlib.pyplot as plt\n",
    "from cartopy.crs import PlateCarree\n",
    "\n",
    "import uxarray as ux"
   ],
   "outputs": [],
   "execution_count": null
  },
  {
   "cell_type": "code",
   "id": "5cfde0a74df12993",
   "metadata": {},
   "source": [
    "base_path = \"../../test/meshfiles/ugrid/outCSne30/\"\n",
    "grid_path = base_path + \"outCSne30.ug\"\n",
    "data_path = base_path + \"outCSne30_vortex.nc\"\n",
    "\n",
    "uxds = ux.open_dataset(grid_path, data_path)"
   ],
   "outputs": [],
   "execution_count": null
  },
  {
   "cell_type": "markdown",
   "id": "6850c1cd9186c8ea",
   "metadata": {},
   "source": [
    "## Rasterization\n",
    "\n",
    "UXarray can rapidly translate face-centered data into a raster image that you can display directly on a Cartopy ``GeoAxes``. During rasterization, each screen pixel is projected into geographic coordinates, the enclosing grid face is located, and the pixel is assigned the corresponding face value.\n",
    "\n",
    "The resulting 2-D array works seamlessly with Matplotlib’s ``imshow``, ``contour``, and ``contourf`` functions while preserving both the chosen map projection and geographic extent. Because the core routines are implemented in Numba and avoid the overhead of creating intermediate geometries, the method scales efficiently, even on very high-resolution unstructured grids."
   ]
  },
  {
   "cell_type": "markdown",
   "id": "714a0dd1db24d0c6",
   "metadata": {},
   "source": [
    "### Displaying Rasterized Data with `ax.imshow()`\n",
    "\n",
    "Because rasterization yields a fully georeferenced two-dimensional array, the quickest way to render it is with Matplotlib’s `Axes.imshow()` on a Cartopy GeoAxes. By supplying the raster array along with the appropriate origin and extent parameters, Cartopy automatically handles projection and alignment.\n"
   ]
  },
  {
   "cell_type": "code",
   "id": "819d9af52dc3f64",
   "metadata": {},
   "source": [
    "fig, ax = plt.subplots(\n",
    "    subplot_kw={\"projection\": ccrs.Robinson()}, figsize=(9, 6), constrained_layout=True\n",
    ")\n",
    "\n",
    "ax.set_global()\n",
    "\n",
    "raster = uxds[\"psi\"].rasterize_to_geoaxes(ax=ax)\n",
    "img = ax.imshow(\n",
    "    raster, cmap=\"inferno\", origin=\"lower\", extent=ax.get_xlim() + ax.get_ylim()\n",
    ")\n",
    "ax.set_title(\"Global Raster\")\n",
    "\n",
    "# Adding a colorbar (the examples below will not include one to keep things concise)\n",
    "cbar = fig.colorbar(img, ax=ax, fraction=0.03)"
   ],
   "outputs": [],
   "execution_count": null
  },
  {
   "cell_type": "markdown",
   "id": "496d08143b0b49cc",
   "metadata": {},
   "source": "When you only need to visualize a subset of your data, such as a country, basin, or smaller study area, limiting the extent of the Cartopy GeoAxes before rasterization can significantly improve performance. By setting a tighter longitude-latitude window, the pixel-to-face lookups are constrained to that region, reducing the overall number of queries. This targeted sampling speeds up rendering, lowers memory overhead, and produces a cleaner, more focused map of your area of interest."
  },
  {
   "cell_type": "code",
   "id": "ecdc8e314fd23b56",
   "metadata": {},
   "source": [
    "fig, ax = plt.subplots(\n",
    "    subplot_kw={\"projection\": ccrs.Robinson()}, figsize=(9, 6), constrained_layout=True\n",
    ")\n",
    "\n",
    "ax.set_extent((-20, 20, -10, 10))\n",
    "\n",
    "\n",
    "raster = uxds[\"psi\"].rasterize_to_geoaxes(ax=ax)\n",
    "ax.imshow(raster, cmap=\"inferno\", origin=\"lower\", extent=ax.get_xlim() + ax.get_ylim())\n",
    "ax.set_title(\"Zoomed Raster\")"
   ],
   "outputs": [],
   "execution_count": null
  },
  {
   "cell_type": "markdown",
   "id": "d89391d126ab11fb",
   "metadata": {},
   "source": [
    "### Viewing Contours with `ax.contour()` and `ax.contourf()`\n",
    "\n",
    "You can use  `ax.contour()` to draw projection-aware isolines and `ax.contourf()` to shade between levels, specifying either a contour count or explicit thresholds.\n"
   ]
  },
  {
   "cell_type": "code",
   "id": "bcb9d2e5890cb56a",
   "metadata": {},
   "source": [
    "fig, axes = plt.subplots(\n",
    "    2,\n",
    "    1,\n",
    "    subplot_kw={\"projection\": ccrs.Robinson()},\n",
    "    constrained_layout=True,\n",
    "    figsize=(9, 12),\n",
    ")\n",
    "\n",
    "ax1, ax2 = axes\n",
    "\n",
    "ax1.set_global()\n",
    "ax2.set_global()\n",
    "\n",
    "raster = uxds[\"psi\"].rasterize_to_geoaxes(ax=ax1)\n",
    "\n",
    "# Contour Lines\n",
    "ax1.contour(\n",
    "    raster, cmap=\"inferno\", origin=\"lower\", extent=ax1.get_xlim() + ax1.get_ylim()\n",
    ")\n",
    "ax1.set_title(\"Contour Lines\")\n",
    "\n",
    "# Filled Contours\n",
    "ax2.contourf(\n",
    "    raster, cmap=\"inferno\", origin=\"lower\", extent=ax2.get_xlim() + ax2.get_ylim()\n",
    ")\n",
    "ax2.set_title(\"Filled Contours\")"
   ],
   "outputs": [],
   "execution_count": null
  },
  {
   "metadata": {},
   "cell_type": "markdown",
   "source": [
    "## Matplotlib Collections\n",
    "\n",
    "Instead of directly sampling the unstructured grid, UXarray supports converting the grid into two `matplotlib.collections` classes: `PolyCollection` and `LineCollection`\n",
    "\n",
    "```{warning}\n",
    "It is reccomended to only use these collection-based plotting workflows if your grid is relatively small. For higher-resolution grids, directly rasterizing will almost always produce quicker results.\n",
    "```\n"
   ],
   "id": "60338661cbedf01f"
  },
  {
   "metadata": {},
   "cell_type": "markdown",
   "source": [
    "### Visualize Data with ``PolyCollection``\n",
    "\n",
    "To visualize face-centered data variables, you can convert a `UxDataArray` into a `PolyCollection`, which represents each face as a polygon, shaded by its corresponding data value."
   ],
   "id": "8e60200fb300144d"
  },
  {
   "metadata": {},
   "cell_type": "code",
   "source": "poly_collection = uxds[\"psi\"].to_polycollection()",
   "id": "285418781b50a782",
   "outputs": [],
   "execution_count": null
  },
  {
   "metadata": {},
   "cell_type": "code",
   "source": [
    "# disables grid lines\n",
    "poly_collection.set_antialiased(False)\n",
    "\n",
    "poly_collection.set_cmap(\"plasma\")\n",
    "\n",
    "fig, ax = plt.subplots(\n",
    "    1,\n",
    "    1,\n",
    "    facecolor=\"w\",\n",
    "    constrained_layout=True,\n",
    "    subplot_kw=dict(projection=ccrs.Robinson()),\n",
    ")\n",
    "\n",
    "ax.add_feature(cfeature.COASTLINE)\n",
    "ax.add_feature(cfeature.BORDERS)\n",
    "\n",
    "ax.add_collection(poly_collection)\n",
    "ax.set_global()\n",
    "plt.title(\"PolyCollection\")"
   ],
   "id": "d0d3e89c7066f7bc",
   "outputs": [],
   "execution_count": null
  },
  {
   "metadata": {},
   "cell_type": "markdown",
   "source": [
    "### Visualize Grid Topology with ``LineCollection``\n",
    "\n",
    "To visualize the unstructured grid geometry, you can convert a `Grid` into a `LineCollection`, which stores the edges of the unstructured grid.\n"
   ],
   "id": "495229b66f757bff"
  },
  {
   "metadata": {},
   "cell_type": "code",
   "source": "line_collection = uxds.uxgrid.to_linecollection(colors=\"black\", linewidths=0.5)",
   "id": "84b25be04573caf3",
   "outputs": [],
   "execution_count": null
  },
  {
   "metadata": {},
   "cell_type": "code",
   "source": [
    "fig, ax = plt.subplots(\n",
    "    1,\n",
    "    1,\n",
    "    constrained_layout=True,\n",
    "    subplot_kw={\"projection\": ccrs.Robinson()},\n",
    ")\n",
    "\n",
    "ax.add_feature(cfeature.LAND)\n",
    "ax.add_feature(cfeature.COASTLINE)\n",
    "ax.add_collection(line_collection)\n",
    "ax.set_global()\n",
    "ax.set_title(\"LineCollection\")\n",
    "plt.show()"
   ],
   "id": "cbcfa235d3bd459",
   "outputs": [],
   "execution_count": null
  }
 ],
 "metadata": {
  "kernelspec": {
   "display_name": "Python 3 (ipykernel)",
   "language": "python",
   "name": "python3"
  },
  "language_info": {
   "codemirror_mode": {
    "name": "ipython",
    "version": 3
   },
   "file_extension": ".py",
   "mimetype": "text/x-python",
   "name": "python",
   "nbconvert_exporter": "python",
   "pygments_lexer": "ipython3",
   "version": "3.11.8"
  }
 },
 "nbformat": 4,
 "nbformat_minor": 5
}
