{
 "cells": [
  {
   "cell_type": "markdown",
   "source": [
    "# Face Area Calculations"
   ],
   "metadata": {
    "collapsed": false
   }
  },
  {
   "cell_type": "code",
   "execution_count": null,
   "outputs": [],
   "source": [
    "import uxarray as ux\n",
    "import numpy as np"
   ],
   "metadata": {
    "collapsed": false
   }
  },
  {
   "cell_type": "markdown",
   "metadata": {},
   "source": [
    "Computing and working with face areas is important for the analysis of unstructured grids, with many algorithms and workflows requiring them. This section will showcase the different face area calculation options provided with UXarray:\n",
    "\n",
    "1. Calculate Total Face Area\n",
    "2. Options for `Grid.calculate_total_face_area` Function\n",
    "3. Getting Area of Individual Faces\n",
    "4. Calculate Area of a Single Triangle in Cartesian Coordinates\n",
    "5. Calculate Area from Multiple Faces in Spherical Coordinates"
   ]
  },
  {
   "cell_type": "markdown",
   "metadata": {},
   "source": [
    "We will be using the `outCSne30.ug` grid file, which is encoded in the UGRID convention."
   ]
  },
  {
   "cell_type": "code",
   "execution_count": null,
   "metadata": {
    "collapsed": false
   },
   "outputs": [],
   "source": [
    "base_path = \"../../test/meshfiles/\"\n",
    "grid_path = base_path + \"/ugrid/outCSne30/outCSne30.ug\"\n",
    "\n",
    "ugrid = ux.open_grid(grid_path)\n",
    "ugrid"
   ]
  },
  {
   "cell_type": "markdown",
   "metadata": {},
   "source": [
    "## 1. Calculate Total Face Area\n",
    "We can calculate the total face area by calling the function `Grid.calculate_total_face_area()`. Since our dataset lies on the unit sphere, our expected area is 4π, which is approximately 12.56"
   ]
  },
  {
   "cell_type": "code",
   "execution_count": null,
   "metadata": {
    "collapsed": false
   },
   "outputs": [],
   "source": [
    "t4_area = ugrid.calculate_total_face_area()\n",
    "t4_area"
   ]
  },
  {
   "cell_type": "markdown",
   "metadata": {},
   "source": [
    "## 2. Options for `Grid.calculate_total_face_area` Function\n",
    "\n",
    "By default, `Grid.calculate_total_face_area` uses a Triangular Quadrature Rule and an Order of 4. However, you can specify the Quadrature Rule and Order as follows:\n",
    "\n",
    "\n",
    "**Order:**\n",
    "\n",
    "       1 to 10              for gaussian\n",
    "\n",
    "       1, 4, 8, 10 and 12   for triangular\n"
   ]
  },
  {
   "cell_type": "code",
   "execution_count": null,
   "metadata": {},
   "outputs": [],
   "source": [
    "t1_area = ugrid.calculate_total_face_area(quadrature_rule=\"triangular\", order=1)\n",
    "t1_area"
   ]
  },
  {
   "cell_type": "markdown",
   "metadata": {},
   "source": [
    "For the result above, notice that the area is slightly different than the first calculation we made.\n",
    "\n",
    "Now we use Triangular Quadrature Rule and Order 1\n",
    "\n",
    "Using a lower order is faster, but at the sacrifice of accuracy.\n",
    "\n",
    "Generally, gaussian quadrature rule is more accurate than the triangular quadrature rule. Additionally, a higher order comes at the cost of computation time, but produces a more accurate result. See `uxarray/grid/area.py` file and function `get_gauss_quadratureDG` for details on quadrature points and weights."
   ]
  },
  {
   "cell_type": "markdown",
   "metadata": {},
   "source": [
    "## 3. Getting Area of Individual Faces\n",
    "\n",
    "We can access the Grid attribute `Grid.face_area` to access the individual face areas. If you have not run a face area calculation yet, it will run the `Grid.compute_face_areas` and cache the value.\n",
    "\n"
   ]
  },
  {
   "cell_type": "code",
   "execution_count": null,
   "metadata": {
    "collapsed": false
   },
   "outputs": [],
   "source": [
    "ugrid.face_areas"
   ]
  },
  {
   "cell_type": "markdown",
   "metadata": {},
   "source": [
    "Now calculate the area again with the `Grid.compute_face_areas` function using arguments: quadrature_rule \"gaussian\" and order 4"
   ]
  },
  {
   "cell_type": "code",
   "execution_count": null,
   "metadata": {},
   "outputs": [],
   "source": [
    "all_face_areas, all_face_jacobians = ugrid.compute_face_areas(\n",
    "    quadrature_rule=\"gaussian\", order=4\n",
    ")\n",
    "g4_area = all_face_areas.sum()\n",
    "g4_area"
   ]
  },
  {
   "cell_type": "markdown",
   "metadata": {},
   "source": [
    "Now we compare the values with actual know value and report error for each of the three cases above."
   ]
  },
  {
   "cell_type": "code",
   "execution_count": null,
   "metadata": {},
   "outputs": [],
   "source": [
    "actual_area = 4 * np.pi\n",
    "diff_t4_area = np.abs(t4_area - actual_area)\n",
    "diff_t1_area = np.abs(t1_area - actual_area)\n",
    "diff_g4_area = np.abs(g4_area - actual_area)\n",
    "\n",
    "diff_t1_area, diff_t4_area, diff_g4_area"
   ]
  },
  {
   "cell_type": "markdown",
   "metadata": {},
   "source": [
    "As we can see, it is clear that the Gaussian Quadrature Rule with Order 4 is the most accurate, and the Triangular Quadrature Rule with Order 1 is the least accurate.\n"
   ]
  },
  {
   "cell_type": "markdown",
   "metadata": {},
   "source": [
    "## 4. Calculate Area of a Single Triangle in Cartesian Coordinates\n",
    "\n",
    "For this section, we create a single triangle face with 3 vertices. By default, in `uxarray`, we assume that the coordinate system is spherical (lat / lon), however if you want to use cartesian coordinates, you must pass through `latlon = False` into the `Grid` constructor.\n",
    "\n",
    "Assume the units in meters - this is a big triangle!"
   ]
  },
  {
   "cell_type": "code",
   "execution_count": null,
   "metadata": {
    "collapsed": false
   },
   "outputs": [],
   "source": [
    "verts = [\n",
    "    [\n",
    "        [0.57735027, -5.77350269e-01, -0.57735027],\n",
    "        [0.57735027, 5.77350269e-01, -0.57735027],\n",
    "        [-0.57735027, 5.77350269e-01, -0.57735027],\n",
    "    ]\n",
    "]\n",
    "\n",
    "# load our vertices into a UXarray Grid object\n",
    "vgrid = ux.open_grid(verts, latlon=False)\n",
    "\n",
    "vgrid"
   ]
  },
  {
   "cell_type": "code",
   "execution_count": null,
   "metadata": {
    "collapsed": false
   },
   "outputs": [],
   "source": [
    "vgrid.calculate_total_face_area()"
   ]
  },
  {
   "cell_type": "markdown",
   "metadata": {},
   "source": [
    "Additionally, if you are using a unit other than meters, you can update the units as follows"
   ]
  },
  {
   "cell_type": "code",
   "execution_count": null,
   "metadata": {
    "collapsed": false
   },
   "outputs": [],
   "source": [
    "# Calculate the area of the triangle\n",
    "area_gaussian = vgrid.calculate_total_face_area(quadrature_rule=\"gaussian\", order=5)\n",
    "area_gaussian"
   ]
  },
  {
   "cell_type": "markdown",
   "metadata": {},
   "source": []
  },
  {
   "cell_type": "markdown",
   "metadata": {},
   "source": [
    "## 5. Calculate Area from Multiple Faces in Spherical Coordinates\n",
    "\n",
    "Similar to above, we can construct a `Grid` object with multiple faces by passing through a set of vertices. Here we define 3 six-sided faces."
   ]
  },
  {
   "cell_type": "code",
   "execution_count": null,
   "metadata": {
    "collapsed": false
   },
   "outputs": [],
   "source": [
    "faces_verts_ndarray = np.array(\n",
    "    [\n",
    "        np.array(\n",
    "            [\n",
    "                [150, 10, 0],\n",
    "                [160, 20, 0],\n",
    "                [150, 30, 0],\n",
    "                [135, 30, 0],\n",
    "                [125, 20, 0],\n",
    "                [135, 10, 0],\n",
    "            ]\n",
    "        ),\n",
    "        np.array(\n",
    "            [\n",
    "                [125, 20, 0],\n",
    "                [135, 30, 0],\n",
    "                [125, 60, 0],\n",
    "                [110, 60, 0],\n",
    "                [100, 30, 0],\n",
    "                [105, 20, 0],\n",
    "            ]\n",
    "        ),\n",
    "        np.array(\n",
    "            [\n",
    "                [95, 10, 0],\n",
    "                [105, 20, 0],\n",
    "                [100, 30, 0],\n",
    "                [85, 30, 0],\n",
    "                [75, 20, 0],\n",
    "                [85, 10, 0],\n",
    "            ]\n",
    "        ),\n",
    "    ]\n",
    ")"
   ]
  },
  {
   "cell_type": "markdown",
   "metadata": {},
   "source": [
    "We want our units to be spherical, so we pass through `latlon=True`. Additionally, if `latlon` is not passed through, it will default to spherical coordinates."
   ]
  },
  {
   "cell_type": "code",
   "execution_count": null,
   "metadata": {
    "collapsed": false
   },
   "outputs": [],
   "source": [
    "verts_grid = ux.open_grid(faces_verts_ndarray, latlon=True)\n",
    "\n",
    "verts_grid"
   ]
  },
  {
   "cell_type": "code",
   "execution_count": null,
   "metadata": {
    "collapsed": false
   },
   "outputs": [],
   "source": [
    "area, jacobian = verts_grid.compute_face_areas()\n",
    "area"
   ]
  }
 ],
 "metadata": {
  "kernelspec": {
   "display_name": "Python 3 (ipykernel)",
   "language": "python",
   "name": "python3"
  },
  "language_info": {
   "codemirror_mode": {
    "name": "ipython",
    "version": 3
   },
   "file_extension": ".py",
   "mimetype": "text/x-python",
   "name": "python",
   "nbconvert_exporter": "python",
   "pygments_lexer": "ipython3",
   "version": "3.11.4"
  }
 },
 "nbformat": 4,
 "nbformat_minor": 4
}
