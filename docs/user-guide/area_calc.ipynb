{
 "cells": [
  {
   "cell_type": "markdown",
   "metadata": {
    "collapsed": false,
    "jupyter": {
     "outputs_hidden": false
    }
   },
   "source": [
    "# Face Area Calculations"
   ]
  },
  {
   "cell_type": "markdown",
   "metadata": {},
   "source": [
    "Computing and working with face areas is important for the analysis of unstructured grids, with many algorithms and workflows requiring them. This section will showcase the different face area calculation options provided with UXarray:\n",
    "\n",
    "1. Calculate Total Face Area\n",
    "2. Options for `Grid.calculate_total_face_area` Function\n",
    "3. Getting Area of Individual Faces\n",
    "4. Calculate Area of a Single Triangle in Cartesian Coordinates\n",
    "5. Calculate Area from Multiple Faces in Spherical Coordinates\n",
    "6. Demonstrate Area Correction at Line of Constant Lattitude"
   ]
  },
  {
   "cell_type": "code",
   "execution_count": null,
   "metadata": {
    "collapsed": false,
    "jupyter": {
     "outputs_hidden": false
    }
   },
   "outputs": [],
   "source": [
    "import uxarray as ux\n",
    "import numpy as np"
   ]
  },
  {
   "cell_type": "markdown",
   "metadata": {},
   "source": [
    "We will be using the `outCSne30.ug` grid file, which is encoded in the UGRID convention."
   ]
  },
  {
   "cell_type": "code",
   "execution_count": null,
   "metadata": {
    "collapsed": false,
    "jupyter": {
     "outputs_hidden": false
    }
   },
   "outputs": [],
   "source": [
    "base_path = \"../../test/meshfiles/\"\n",
    "grid_path = base_path + \"/ugrid/outCSne30/outCSne30.ug\"\n",
    "\n",
    "ugrid = ux.open_grid(grid_path)\n",
    "ugrid"
   ]
  },
  {
   "cell_type": "markdown",
   "metadata": {},
   "source": [
    "## 1. Calculate Total Face Area\n",
    "We can calculate the total face area by calling the function `Grid.calculate_total_face_area()`. Since our dataset lies on the unit sphere, our expected area is 4π, which is approximately 12.56"
   ]
  },
  {
   "cell_type": "code",
   "execution_count": null,
   "metadata": {
    "collapsed": false,
    "jupyter": {
     "outputs_hidden": false
    }
   },
   "outputs": [],
   "source": [
    "t4_area = ugrid.calculate_total_face_area()\n",
    "t4_area"
   ]
  },
  {
   "cell_type": "markdown",
   "metadata": {},
   "source": [
    "## 2. Options for `Grid.calculate_total_face_area` Function\n",
    "\n",
    "By default, `Grid.calculate_total_face_area` uses a Triangular Quadrature Rule and an Order of 4. However, you can specify the Quadrature Rule and Order as follows:\n",
    "\n",
    "\n",
    "**Order:**\n",
    "\n",
    "       1 to 10              for gaussian\n",
    "\n",
    "       1, 4, 8, 10 and 12   for triangular\n"
   ]
  },
  {
   "cell_type": "code",
   "execution_count": null,
   "metadata": {},
   "outputs": [],
   "source": [
    "t1_area = ugrid.calculate_total_face_area(quadrature_rule=\"triangular\", order=1)\n",
    "t1_area"
   ]
  },
  {
   "cell_type": "markdown",
   "metadata": {},
   "source": [
    "For the result above, notice that the area is slightly different than the first calculation we made.\n",
    "\n",
    "Now we use Triangular Quadrature Rule and Order 1\n",
    "\n",
    "Using a lower order is faster, but at the sacrifice of accuracy.\n",
    "\n",
    "Generally, gaussian quadrature rule is more accurate than the triangular quadrature rule. Additionally, a higher order comes at the cost of computation time, but produces a more accurate result. See `uxarray/grid/area.py` file and function `get_gauss_quadratureDG` for details on quadrature points and weights."
   ]
  },
  {
   "cell_type": "markdown",
   "metadata": {},
   "source": [
    "## 3. Getting Area of Individual Faces\n",
    "\n",
    "We can access the Grid attribute `Grid.face_area` to access the individual face areas. If you have not run a face area calculation yet, it will run the `Grid.compute_face_areas` and cache the value.\n",
    "\n"
   ]
  },
  {
   "cell_type": "code",
   "execution_count": null,
   "metadata": {
    "collapsed": false,
    "jupyter": {
     "outputs_hidden": false
    }
   },
   "outputs": [],
   "source": [
    "ugrid.face_areas"
   ]
  },
  {
   "cell_type": "markdown",
   "metadata": {},
   "source": [
    "Now calculate the area again with the `Grid.compute_face_areas` function using arguments: quadrature_rule \"gaussian\" and order 4"
   ]
  },
  {
   "cell_type": "code",
   "execution_count": null,
   "metadata": {},
   "outputs": [],
   "source": [
    "all_face_areas, all_face_jacobians = ugrid.compute_face_areas(\n",
    "    quadrature_rule=\"gaussian\", order=4\n",
    ")\n",
    "g4_area = all_face_areas.sum()\n",
    "g4_area"
   ]
  },
  {
   "cell_type": "markdown",
   "metadata": {},
   "source": [
    "Now we compare the values with actual know value and report error for each of the three cases above."
   ]
  },
  {
   "cell_type": "code",
   "execution_count": null,
   "metadata": {},
   "outputs": [],
   "source": [
    "actual_area = 4 * np.pi\n",
    "diff_t4_area = np.abs(t4_area - actual_area)\n",
    "diff_t1_area = np.abs(t1_area - actual_area)\n",
    "diff_g4_area = np.abs(g4_area - actual_area)\n",
    "\n",
    "diff_t1_area, diff_t4_area, diff_g4_area"
   ]
  },
  {
   "cell_type": "markdown",
   "metadata": {},
   "source": [
    "As we can see, it is clear that the Gaussian Quadrature Rule with Order 4 is the most accurate, and the Triangular Quadrature Rule with Order 1 is the least accurate.\n"
   ]
  },
  {
   "cell_type": "markdown",
   "metadata": {},
   "source": [
    "## 4. Calculate Area of a Single Triangle in Cartesian Coordinates\n",
    "\n",
    "For this section, we create a single triangle face with 3 vertices. By default, in `uxarray`, we assume that the coordinate system is spherical (lat / lon), however if you want to use cartesian coordinates, you must pass through `latlon = False` into the `Grid` constructor.\n",
    "\n",
    "Assume the units in meters - this is a big triangle!"
   ]
  },
  {
   "cell_type": "code",
   "execution_count": null,
   "metadata": {
    "collapsed": false,
    "jupyter": {
     "outputs_hidden": false
    }
   },
   "outputs": [],
   "source": [
    "verts = [\n",
    "    [\n",
    "        [0.57735027, -5.77350269e-01, -0.57735027],\n",
    "        [0.57735027, 5.77350269e-01, -0.57735027],\n",
    "        [-0.57735027, 5.77350269e-01, -0.57735027],\n",
    "    ]\n",
    "]\n",
    "\n",
    "# load our vertices into a UXarray Grid object\n",
    "vgrid = ux.open_grid(verts, latlon=False)\n",
    "\n",
    "vgrid"
   ]
  },
  {
   "cell_type": "code",
   "execution_count": null,
   "metadata": {
    "collapsed": false,
    "jupyter": {
     "outputs_hidden": false
    }
   },
   "outputs": [],
   "source": [
    "vgrid.calculate_total_face_area()"
   ]
  },
  {
   "cell_type": "markdown",
   "metadata": {},
   "source": [
    "Additionally, if you are using a unit other than meters, you can update the units as follows"
   ]
  },
  {
   "cell_type": "code",
   "execution_count": null,
   "metadata": {
    "collapsed": false,
    "jupyter": {
     "outputs_hidden": false
    }
   },
   "outputs": [],
   "source": [
    "# Calculate the area of the triangle\n",
    "area_gaussian = vgrid.calculate_total_face_area(quadrature_rule=\"gaussian\", order=5)\n",
    "area_gaussian"
   ]
  },
  {
   "cell_type": "markdown",
   "metadata": {},
   "source": []
  },
  {
   "cell_type": "markdown",
   "metadata": {},
   "source": [
    "## 5. Calculate Area from Multiple Faces in Spherical Coordinates\n",
    "\n",
    "Similar to above, we can construct a `Grid` object with multiple faces by passing through a set of vertices. Here we define 3 six-sided faces."
   ]
  },
  {
   "cell_type": "code",
   "execution_count": null,
   "metadata": {
    "collapsed": false,
    "jupyter": {
     "outputs_hidden": false
    }
   },
   "outputs": [],
   "source": [
    "faces_verts_ndarray = np.array(\n",
    "    [\n",
    "        np.array(\n",
    "            [\n",
    "                [150, 10, 0],\n",
    "                [160, 20, 0],\n",
    "                [150, 30, 0],\n",
    "                [135, 30, 0],\n",
    "                [125, 20, 0],\n",
    "                [135, 10, 0],\n",
    "            ]\n",
    "        ),\n",
    "        np.array(\n",
    "            [\n",
    "                [125, 20, 0],\n",
    "                [135, 30, 0],\n",
    "                [125, 60, 0],\n",
    "                [110, 60, 0],\n",
    "                [100, 30, 0],\n",
    "                [105, 20, 0],\n",
    "            ]\n",
    "        ),\n",
    "        np.array(\n",
    "            [\n",
    "                [95, 10, 0],\n",
    "                [105, 20, 0],\n",
    "                [100, 30, 0],\n",
    "                [85, 30, 0],\n",
    "                [75, 20, 0],\n",
    "                [85, 10, 0],\n",
    "            ]\n",
    "        ),\n",
    "    ]\n",
    ")"
   ]
  },
  {
   "cell_type": "markdown",
   "metadata": {},
   "source": [
    "We want our units to be spherical, so we pass through `latlon=True`. Additionally, if `latlon` is not passed through, it will default to spherical coordinates."
   ]
  },
  {
   "cell_type": "code",
   "execution_count": null,
   "metadata": {
    "collapsed": false,
    "jupyter": {
     "outputs_hidden": false
    }
   },
   "outputs": [],
   "source": [
    "verts_grid = ux.open_grid(faces_verts_ndarray, latlon=True)\n",
    "\n",
    "verts_grid"
   ]
  },
  {
   "cell_type": "code",
   "execution_count": null,
   "metadata": {
    "collapsed": false,
    "jupyter": {
     "outputs_hidden": false
    }
   },
   "outputs": [],
   "source": [
    "area, jacobian = verts_grid.compute_face_areas()\n",
    "area"
   ]
  },
  {
   "cell_type": "markdown",
   "metadata": {},
   "source": [
    "## 6. Area Correction\n",
    "\n",
    "The correction, \\(A\\), is calculated using the following formula:"
   ]
  },
  {
   "cell_type": "markdown",
   "metadata": {},
   "source": [
    "\\begin{align}\n",
    "A &= 2 \\arctan \\left( \\frac{z (x_1 y_2 - x_2 y_1)}{x_1^2 + y_1^2 + x_1 x_2 + y_1 y_2} \\right) \\nonumber \\\\\n",
    "&\\quad - z \\arctan \\left( \\frac{x_1 y_2 - x_2 y_1}{x_1 x_2 + y_1 y_2} \\right)\n",
    "\\end{align}"
   ]
  },
  {
   "cell_type": "markdown",
   "metadata": {},
   "source": [
    "### Where:\n",
    "<ul>\n",
    "\n",
    "<li>(x<sub>1</sub>, y<sub>1</sub>, z) are the Cartesian coordinates of the first node.</li>\n",
    "\n",
    "<li>(x<sub>2</sub>, y<sub>2</sub>, z) are the Cartesian coordinates of the second node (note that the z coordinate is the same for both nodes).</li>\n",
    "\n",
    "</ul>\n",
    "\n",
    "### Assumptions:\n",
    "- This formula assumes that the input coordinates \\((x_1, y_1)\\) and \\((x_2, y_2)\\) are normalized (i.e., they lie on the unit sphere).\n",
    "\n",
    "\n",
    "For the same large triangle used in **Section 4**, we calculate the area correction term when an edge lies along the line of constant latitude.\n",
    "\n",
    "### The following code:\n",
    "- Plots the triangle.\n",
    "- Marks the edges with different colors.\n",
    "- Highlights the edge along the line of constant latitude.\n",
    "- Marks the coordinates of the vertices."
   ]
  },
  {
   "cell_type": "code",
   "execution_count": null,
   "metadata": {},
   "outputs": [],
   "source": [
    "%matplotlib inline \n",
    "import matplotlib.pyplot as plt\n",
    "import cartopy.crs as ccrs\n",
    "import cartopy.feature as cfeature\n",
    "\n",
    "# Convert the points to latitude and longitude\n",
    "points = [\n",
    "    (point[0] * 180 / 3.14159, point[1] * 180 / 3.14159)\n",
    "    for vert in verts\n",
    "    for point in vert\n",
    "]\n",
    "\n",
    "# Node names\n",
    "node_names = [\"Node 1\", \"Node 2\", \"Node 3\"]\n",
    "\n",
    "# Edge names and colors\n",
    "edge_names = [\"Edge 1\", \"Edge 2\", \"Edge 3\"]\n",
    "edge_colors = [\"red\", \"green\", \"blue\"]\n",
    "\n",
    "# Create a new figure\n",
    "fig = plt.figure(figsize=(10, 5))\n",
    "\n",
    "# Create a GeoAxes in the Orthographic projection\n",
    "ax = fig.add_subplot(1, 1, 1, projection=ccrs.Orthographic(central_longitude=0))\n",
    "\n",
    "# Add coastlines and gridlines for reference\n",
    "ax.add_feature(cfeature.COASTLINE)\n",
    "ax.gridlines(draw_labels=True)\n",
    "\n",
    "# Plot the points, edges, and labels\n",
    "for i in range(len(points)):\n",
    "    lon1, lat1 = points[i]\n",
    "    lon2, lat2 = points[(i + 1) % len(points)]\n",
    "\n",
    "    # Plot the edge\n",
    "    ax.plot(\n",
    "        [lon1, lon2],\n",
    "        [lat1, lat2],\n",
    "        color=edge_colors[i],\n",
    "        transform=ccrs.Geodetic(),\n",
    "        label=edge_names[i],\n",
    "    )\n",
    "\n",
    "    # Add edge label (adjust the offset as needed)\n",
    "    ax.text(\n",
    "        (lon1 + lon2) / 2,\n",
    "        (lat1 + lat2) / 2,\n",
    "        edge_names[i],\n",
    "        transform=ccrs.Geodetic(),\n",
    "        color=edge_colors[i],\n",
    "    )\n",
    "\n",
    "    # Add node label with Cartesian coordinates\n",
    "    cartesian_coords = verts[0][i]  # Get Cartesian coordinates from verts\n",
    "    label = f\"{node_names[i]}\\n[{cartesian_coords[0]:.2f}, {cartesian_coords[1]:.2f}, {cartesian_coords[2]:.2f}]\"\n",
    "    ax.text(lon1, lat1, label, transform=ccrs.Geodetic(), fontsize=8, color=\"black\")\n",
    "\n",
    "# Show the full globe\n",
    "ax.set_global()\n",
    "\n",
    "# Add a legend for the edges\n",
    "plt.legend()\n",
    "\n",
    "# Display the plot\n",
    "plt.show()"
   ]
  },
  {
   "cell_type": "markdown",
   "metadata": {},
   "source": [
    "The default for correcttion is False, so we set it to True to calculate the correction term."
   ]
  },
  {
   "cell_type": "code",
   "execution_count": null,
   "metadata": {},
   "outputs": [],
   "source": [
    "# Area of the triangle with correction\n",
    "area, jacobian = vgrid.compute_face_areas(quadrature_rule=\"gaussian\", order=5)\n",
    "area"
   ]
  },
  {
   "cell_type": "markdown",
   "metadata": {},
   "source": [
    "- **Edge 3** (blue) and **Edge 2** (green) of the triangle lie along lines of constant latitude.\n",
    "- Without correction, the area is calculated as `1.047`. With the correction, the area becomes `1.047 + 2 * 0.140`, which gives the correct area of the triangle.\n",
    "\n",
    "\n",
    "- **Edge 3** (red) also lies along a line of constant latitude but passes through the poles. Therefore, it is not considered for the correction term.\n",
    "\n",
    "To compute the area with the correction term applied, pass the argument ``correct_area=True`` to the function call. This enables automatic adjustment for edges along lines of constant latitude."
   ]
  },
  {
   "cell_type": "code",
   "execution_count": null,
   "metadata": {},
   "outputs": [],
   "source": [
    "# Continuing with our example from above and now we will correct the area\n",
    "area = vgrid.compute_face_areas(quadrature_rule=\"gaussian\", order=5, correct_area=True)"
   ]
  }
 ],
 "metadata": {
  "kernelspec": {
   "display_name": "Python 3 (ipykernel)",
   "language": "python",
   "name": "python3"
  },
  "language_info": {
   "codemirror_mode": {
    "name": "ipython",
    "version": 3
   },
   "file_extension": ".py",
   "mimetype": "text/x-python",
   "name": "python",
   "nbconvert_exporter": "python",
   "pygments_lexer": "ipython3",
   "version": "3.11.11"
  }
 },
 "nbformat": 4,
 "nbformat_minor": 4
}
