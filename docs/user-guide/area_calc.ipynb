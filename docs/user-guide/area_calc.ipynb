{
 "cells": [
  {
   "cell_type": "markdown",
   "metadata": {
    "collapsed": false,
    "jupyter": {
     "outputs_hidden": false
    }
   },
   "source": [
    "# Face Area Calculations"
   ]
  },
  {
   "cell_type": "markdown",
   "metadata": {},
   "source": [
    "Computing and working with face areas is important for the analysis of unstructured grids, with many algorithms and workflows requiring them. This section will showcase the different face area calculation options provided with UXarray:\n",
    "\n",
    "1. Calculate Total Face Area\n",
    "2. Options for `Grid.calculate_total_face_area` Function\n",
    "3. Getting Area of Individual Faces\n",
    "4. Calculate Area of a Single Triangle in Cartesian Coordinates\n",
    "5. Calculate Area from Multiple Faces in Spherical Coordinates\n",
    "6. Demonstrate Area Correction at Line of Constant Lattitude"
   ]
  },
  {
   "cell_type": "code",
   "execution_count": null,
   "metadata": {
    "collapsed": false,
    "jupyter": {
     "outputs_hidden": false
    }
   },
   "outputs": [],
   "source": [
    "import uxarray as ux\n",
    "import numpy as np\n",
    "import matplotlib.pyplot as plt\n",
    "import cartopy.crs as ccrs\n",
    "import cartopy.feature as cfeature"
   ]
  },
  {
   "cell_type": "markdown",
   "metadata": {},
   "source": [
    "We will be using the `outCSne30.ug` grid file, which is encoded in the UGRID convention."
   ]
  },
  {
   "cell_type": "code",
   "execution_count": null,
   "metadata": {
    "collapsed": false,
    "jupyter": {
     "outputs_hidden": false
    }
   },
   "outputs": [],
   "source": [
    "base_path = \"../../test/meshfiles/\"\n",
    "grid_path = base_path + \"/ugrid/outCSne30/outCSne30.ug\"\n",
    "\n",
    "ugrid = ux.open_grid(grid_path)\n",
    "ugrid"
   ]
  },
  {
   "cell_type": "markdown",
   "metadata": {},
   "source": [
    "## 1. Calculate Total Face Area\n",
    "We can calculate the total face area by calling the function `Grid.calculate_total_face_area()`. Since our dataset lies on the unit sphere, our expected area is 4π, which is approximately 12.56"
   ]
  },
  {
   "cell_type": "code",
   "execution_count": null,
   "metadata": {
    "collapsed": false,
    "jupyter": {
     "outputs_hidden": false
    }
   },
   "outputs": [],
   "source": [
    "t4_area = ugrid.calculate_total_face_area()\n",
    "t4_area"
   ]
  },
  {
   "cell_type": "markdown",
   "metadata": {},
   "source": [
    "## 2. Options for `Grid.calculate_total_face_area` Function\n",
    "\n",
    "By default, `Grid.calculate_total_face_area` uses a Triangular Quadrature Rule and an Order of 4. However, you can specify the Quadrature Rule and Order as follows:\n",
    "\n",
    "\n",
    "**Order:**\n",
    "\n",
    "       1 to 10              for gaussian\n",
    "\n",
    "       1, 4, 8, 10 and 12   for triangular\n"
   ]
  },
  {
   "cell_type": "code",
   "execution_count": null,
   "metadata": {},
   "outputs": [],
   "source": [
    "t1_area = ugrid.calculate_total_face_area(quadrature_rule=\"triangular\", order=1)\n",
    "t1_area"
   ]
  },
  {
   "cell_type": "markdown",
   "metadata": {},
   "source": [
    "For the result above, notice that the area is slightly different than the first calculation we made.\n",
    "\n",
    "Now we use Triangular Quadrature Rule and Order 1\n",
    "\n",
    "Using a lower order is faster, but at the sacrifice of accuracy.\n",
    "\n",
    "Generally, gaussian quadrature rule is more accurate than the triangular quadrature rule. Additionally, a higher order comes at the cost of computation time, but produces a more accurate result. See `uxarray/grid/area.py` file and function `get_gauss_quadratureDG` for details on quadrature points and weights."
   ]
  },
  {
   "cell_type": "markdown",
   "metadata": {},
   "source": [
    "## 3. Getting Area of Individual Faces\n",
    "\n",
    "We can access the Grid attribute `Grid.face_area` to access the individual face areas. If you have not run a face area calculation yet, it will run the `Grid.compute_face_areas` and cache the value.\n",
    "\n"
   ]
  },
  {
   "cell_type": "code",
   "execution_count": null,
   "metadata": {
    "collapsed": false,
    "jupyter": {
     "outputs_hidden": false
    }
   },
   "outputs": [],
   "source": [
    "ugrid.face_areas"
   ]
  },
  {
   "cell_type": "markdown",
   "metadata": {},
   "source": [
    "Now calculate the area again with the `Grid.compute_face_areas` function using arguments: quadrature_rule \"gaussian\" and order 4"
   ]
  },
  {
   "cell_type": "code",
   "execution_count": null,
   "metadata": {},
   "outputs": [],
   "source": [
    "all_face_areas, all_face_jacobians = ugrid.compute_face_areas(\n",
    "    quadrature_rule=\"gaussian\", order=4\n",
    ")\n",
    "g4_area = all_face_areas.sum()\n",
    "g4_area"
   ]
  },
  {
   "cell_type": "markdown",
   "metadata": {},
   "source": [
    "Now we compare the values with actual know value and report error for each of the three cases above."
   ]
  },
  {
   "cell_type": "code",
   "execution_count": null,
   "metadata": {},
   "outputs": [],
   "source": [
    "actual_area = 4 * np.pi\n",
    "diff_t4_area = np.abs(t4_area - actual_area)\n",
    "diff_t1_area = np.abs(t1_area - actual_area)\n",
    "diff_g4_area = np.abs(g4_area - actual_area)\n",
    "\n",
    "diff_t1_area, diff_t4_area, diff_g4_area"
   ]
  },
  {
   "cell_type": "markdown",
   "metadata": {},
   "source": [
    "As we can see, it is clear that the Gaussian Quadrature Rule with Order 4 is the most accurate, and the Triangular Quadrature Rule with Order 1 is the least accurate.\n"
   ]
  },
  {
   "cell_type": "markdown",
   "metadata": {},
   "source": [
    "## 4. Calculate Area of a Single Triangle in Cartesian Coordinates\n",
    "\n",
    "For this section, we create a single triangle face with 3 vertices and plot it. By default, in `uxarray`, we assume that the coordinate system is spherical (lat / lon), however if you want to use cartesian coordinates, you must pass through `latlon = False` into the `Grid` constructor.\n",
    "\n",
    "Assume the units in meters - this is a big triangle!"
   ]
  },
  {
   "cell_type": "code",
   "execution_count": null,
   "metadata": {
    "collapsed": false,
    "jupyter": {
     "outputs_hidden": false
    }
   },
   "outputs": [],
   "source": [
    "# Vertices\n",
    "verts = [\n",
    "    [0.02974582, -0.74469018, 0.66674712],\n",
    "    [0.1534193, -0.88744577, 0.43462917],\n",
    "    [0.18363692, -0.72230586, 0.66674712],\n",
    "]\n",
    "\n",
    "# Load vertices into a UXarray Grid object\n",
    "vgrid = ux.open_grid(verts, latlon=False)\n",
    "\n",
    "# Create figure with Cartopy projection\n",
    "fig, ax = plt.subplots(figsize=(10, 6), subplot_kw={\"projection\": ccrs.PlateCarree()})\n",
    "\n",
    "# Plot the grid points (nodes)\n",
    "ax.scatter(\n",
    "    vgrid.node_lon,\n",
    "    vgrid.node_lat,\n",
    "    transform=ccrs.PlateCarree(),\n",
    "    color=\"red\",\n",
    "    s=10,\n",
    "    label=\"Grid Points\",\n",
    ")\n",
    "\n",
    "# Add grid lines by connecting nodes using face-node connectivity\n",
    "for face in vgrid.face_node_connectivity:\n",
    "    face_nodes = face[face >= 0]  # Ignore invalid (-1) indices\n",
    "    lons = vgrid.node_lon[face_nodes]\n",
    "    lats = vgrid.node_lat[face_nodes]\n",
    "    # Close the loop by adding the first point at the end\n",
    "    lons = np.append(lons, lons[0])\n",
    "    lats = np.append(lats, lats[0])\n",
    "    ax.plot(\n",
    "        lons, lats, transform=ccrs.PlateCarree(), color=\"blue\", linewidth=0.7, alpha=0.7\n",
    "    )\n",
    "\n",
    "# Set extent to show only the USA\n",
    "ax.set_extent([-130, -60, 24, 50], crs=ccrs.PlateCarree())\n",
    "\n",
    "# Add geographic features\n",
    "ax.add_feature(cfeature.BORDERS, linestyle=\"--\", edgecolor=\"black\")  # Country borders\n",
    "ax.add_feature(cfeature.COASTLINE, edgecolor=\"black\")  # Coastlines\n",
    "ax.add_feature(cfeature.STATES, linestyle=\":\", edgecolor=\"gray\")  # US State boundaries\n",
    "\n",
    "# Add gridlines\n",
    "gl = ax.gridlines(draw_labels=True, linestyle=\"--\", linewidth=0.5, color=\"gray\")\n",
    "gl.right_labels = False\n",
    "gl.top_labels = False\n",
    "\n",
    "plt.title(\n",
    "    \"UXArray Grid of Just One Triangle (Chicago, Miami, Newburgh NY) Over the USA\"\n",
    ")\n",
    "plt.legend()\n",
    "plt.show()"
   ]
  },
  {
   "cell_type": "markdown",
   "metadata": {},
   "source": [
    "Now compute the area of the above triangle with and without correction and compare, also use higher quadrature"
   ]
  },
  {
   "cell_type": "code",
   "execution_count": null,
   "metadata": {
    "collapsed": false,
    "jupyter": {
     "outputs_hidden": false
    }
   },
   "outputs": [],
   "source": [
    "area = vgrid.calculate_total_face_area()\n",
    "corrected_area = vgrid.calculate_total_face_area(correct_area=True)\n",
    "percentage_correction = (corrected_area - area) / corrected_area * 100\n",
    "print(\n",
    "    f\"Percentage correction due to line of constant latitude being one of the edges: {percentage_correction:.4f}%\"\n",
    ")"
   ]
  },
  {
   "cell_type": "code",
   "execution_count": null,
   "metadata": {
    "collapsed": false,
    "jupyter": {
     "outputs_hidden": false
    }
   },
   "outputs": [],
   "source": [
    "# Calculate the area of the triangle with lower gaussian quadrature order\n",
    "area_gaussian = vgrid.calculate_total_face_area(quadrature_rule=\"gaussian\", order=2)\n",
    "print(\"Area calculated using Gaussian Quadrature Order 2: \", area_gaussian)\n",
    "\n",
    "print(\n",
    "    \"Percentage difference between gaussian area above and corrected area: {:.4f}%\".format(\n",
    "        (corrected_area - area_gaussian) / corrected_area * 100\n",
    "    )\n",
    ")"
   ]
  },
  {
   "cell_type": "markdown",
   "metadata": {},
   "source": [
    "## 5. Calculate Area from Multiple Faces in Spherical Coordinates\n",
    "\n",
    "Similar to above, we can construct a `Grid` object with multiple faces by passing through a set of vertices. Here we define 3 six-sided faces."
   ]
  },
  {
   "cell_type": "code",
   "execution_count": null,
   "metadata": {
    "collapsed": false,
    "jupyter": {
     "outputs_hidden": false
    }
   },
   "outputs": [],
   "source": [
    "faces_verts_ndarray = np.array(\n",
    "    [\n",
    "        np.array(\n",
    "            [\n",
    "                [150, 10, 0],\n",
    "                [160, 20, 0],\n",
    "                [150, 30, 0],\n",
    "                [135, 30, 0],\n",
    "                [125, 20, 0],\n",
    "                [135, 10, 0],\n",
    "            ]\n",
    "        ),\n",
    "        np.array(\n",
    "            [\n",
    "                [125, 20, 0],\n",
    "                [135, 30, 0],\n",
    "                [125, 60, 0],\n",
    "                [110, 60, 0],\n",
    "                [100, 30, 0],\n",
    "                [105, 20, 0],\n",
    "            ]\n",
    "        ),\n",
    "        np.array(\n",
    "            [\n",
    "                [95, 10, 0],\n",
    "                [105, 20, 0],\n",
    "                [100, 30, 0],\n",
    "                [85, 30, 0],\n",
    "                [75, 20, 0],\n",
    "                [85, 10, 0],\n",
    "            ]\n",
    "        ),\n",
    "    ]\n",
    ")"
   ]
  },
  {
   "cell_type": "markdown",
   "metadata": {},
   "source": [
    "We want our units to be spherical, so we pass through `latlon=True`. Additionally, if `latlon` is not passed through, it will default to spherical coordinates."
   ]
  },
  {
   "cell_type": "code",
   "execution_count": null,
   "metadata": {
    "collapsed": false,
    "jupyter": {
     "outputs_hidden": false
    }
   },
   "outputs": [],
   "source": [
    "verts_grid = ux.open_grid(faces_verts_ndarray, latlon=True)\n",
    "\n",
    "verts_grid\n",
    "verts_grid.plot()"
   ]
  },
  {
   "cell_type": "code",
   "execution_count": null,
   "metadata": {
    "collapsed": false,
    "jupyter": {
     "outputs_hidden": false
    }
   },
   "outputs": [],
   "source": [
    "area, _ = verts_grid.compute_face_areas()\n",
    "print(\"Area:\", area)\n",
    "corrected_area, _ = verts_grid.compute_face_areas(correct_area=True)\n",
    "print(\"Corrected Area:\", corrected_area)\n",
    "\n",
    "total_percentage_difference = ((corrected_area - area) / area) * 100\n",
    "print(\"Total Percentage Difference:\", total_percentage_difference)"
   ]
  },
  {
   "cell_type": "markdown",
   "metadata": {},
   "source": [
    "## 6. Area Correction\n",
    "\n",
    "The correction, \\(A\\), is calculated using the following formula:"
   ]
  },
  {
   "cell_type": "markdown",
   "metadata": {},
   "source": [
    "{math}`A = 2\\arctan\\left(\\frac{z(x_{1}y_{2} - x_{2} y_{1})}{x_{1}^2 + y_{1}^2 + x_{1} x_{2} + y_{1} y_{2}} - \\frac{z (x_{1} y_{2} - x_{2} y_{1})}{x_{1} x_{2} + y_{1} y_{2}}\\right)`"
   ]
  },
  {
   "cell_type": "markdown",
   "metadata": {},
   "source": [
    "### Where:\n",
    "<ul>\n",
    "\n",
    "<li>(x<sub>1</sub>, y<sub>1</sub>, z) are the Cartesian coordinates of the first node.</li>\n",
    "\n",
    "<li>(x<sub>2</sub>, y<sub>2</sub>, z) are the Cartesian coordinates of the second node (note that the z coordinate is the same for both nodes).</li>\n",
    "\n",
    "</ul>\n",
    "\n",
    "### Assumptions:\n",
    "- This formula assumes that the input coordinates \\((x_1, y_1)\\) and \\((x_2, y_2)\\) are normalized (i.e., they lie on the unit sphere).\n",
    "\n",
    "\n",
    "### The following code:\n",
    "- Creates a BIG spherical rectangle and calculates the exact area using the spherical excess formula.\n",
    "- Plots the rectangle, it has two lines of constant lattitude.\n",
    "- A mesh is formed with uxarray and area is calculated\n",
    "- Area is again calculated with `correct_area` flag set to `True`"
   ]
  },
  {
   "cell_type": "code",
   "execution_count": null,
   "metadata": {},
   "outputs": [],
   "source": [
    "def theoretical_spherical_rectangle_area(lons, lats, radius=1):\n",
    "    \"\"\"\n",
    "    Calculate the area of a spherical rectangle on a sphere.\n",
    "\n",
    "    Parameters:\n",
    "        lons (np.ndarray): Longitudes of the rectangle's corners (in degrees).\n",
    "        lats (np.ndarray): Latitudes of the rectangle's corners (in degrees).\n",
    "        radius (float): Radius of the sphere (default is unit sphere).\n",
    "\n",
    "    Returns:\n",
    "        float: Area of the spherical rectangle in steradians (or square units if radius is provided).\n",
    "    \"\"\"\n",
    "    # Convert degrees to radians\n",
    "    lons_rad = np.radians(lons)\n",
    "    lats_rad = np.radians(lats)\n",
    "\n",
    "    # Compute longitude and latitude differences\n",
    "    delta_lambda = abs(lons_rad[0] - lons_rad[2])  # Assuming rectangular shape\n",
    "    sin_phi_diff = abs(np.sin(lats_rad[0]) - np.sin(lats_rad[2]))\n",
    "\n",
    "    # Calculate area\n",
    "    area = radius**2 * delta_lambda * sin_phi_diff\n",
    "    return area\n",
    "\n",
    "\n",
    "# Define nodes\n",
    "node_lon = np.array([90.0, 90.0, 10.0, 10.0])  # Longitudes in degrees\n",
    "node_lat = np.array([80.0, 10.0, 10.0, 80.0])  # Latitudes in degrees\n",
    "\n",
    "# Calculate the area\n",
    "area_steradians = theoretical_spherical_rectangle_area(node_lon, node_lat)\n",
    "print(\n",
    "    f\"The area of the spherical rectangle is approximately {area_steradians:.6f} steradians\"\n",
    ")\n",
    "\n",
    "# If Earth's radius is used (R ≈ 6371 km):\n",
    "earth_radius_km = 6371\n",
    "area_km2 = theoretical_spherical_rectangle_area(\n",
    "    node_lon, node_lat, radius=earth_radius_km\n",
    ")\n",
    "print(\n",
    "    f\"The area of the spherical rectangle is approximately {area_km2:.2f} square kilometers\"\n",
    ")"
   ]
  },
  {
   "cell_type": "code",
   "execution_count": null,
   "metadata": {},
   "outputs": [],
   "source": [
    "# Define face-node connectivity and create/plot a uxarray object face\n",
    "face_node_connectivity = np.array([[0, 1, 2, 3]])\n",
    "\n",
    "face = ux.Grid.from_topology(\n",
    "    node_lon=node_lon,\n",
    "    node_lat=node_lat,\n",
    "    face_node_connectivity=face_node_connectivity,\n",
    "    fill_value=-1,\n",
    ")\n",
    "face.plot(backend=\"bokeh\")"
   ]
  },
  {
   "cell_type": "code",
   "execution_count": null,
   "metadata": {},
   "outputs": [],
   "source": [
    "area_no_correction = face.compute_face_areas(quadrature_rule=\"gaussian\", order=8)"
   ]
  },
  {
   "cell_type": "code",
   "execution_count": null,
   "metadata": {},
   "outputs": [],
   "source": [
    "corrected_area = face.compute_face_areas(\n",
    "    quadrature_rule=\"gaussian\", order=8, correct_area=True\n",
    ")"
   ]
  },
  {
   "cell_type": "code",
   "execution_count": null,
   "metadata": {},
   "outputs": [],
   "source": [
    "# Calculate the percentage difference between the corrected and uncorrected areas\n",
    "percentage_difference = (\n",
    "    (corrected_area[0][0] - area_no_correction[0][0]) / area_no_correction[0][0] * 100\n",
    ")\n",
    "\n",
    "print(\n",
    "    f\"The percentage difference between the corrected and uncorrected areas is {percentage_difference:.2f}%\"\n",
    ")"
   ]
  }
 ],
 "metadata": {
  "kernelspec": {
   "display_name": "uxarray_env3.12",
   "language": "python",
   "name": "python3"
  },
  "language_info": {
   "codemirror_mode": {
    "name": "ipython",
    "version": 3
   },
   "file_extension": ".py",
   "mimetype": "text/x-python",
   "name": "python",
   "nbconvert_exporter": "python",
   "pygments_lexer": "ipython3",
   "version": "3.12.7"
  }
 },
 "nbformat": 4,
 "nbformat_minor": 4
}
