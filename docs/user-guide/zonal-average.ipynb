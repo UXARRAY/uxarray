{
 "cells": [
  {
   "cell_type": "markdown",
   "id": "dbade3aaedad9ae7",
   "metadata": {},
   "source": [
    "# Zonal Averaging\n",
    "\n",
    "This section demonstrates how to perform Zonal Averaging using UXarray.\n"
   ]
  },
  {
   "cell_type": "code",
   "execution_count": null,
   "id": "46119fa371874767",
   "metadata": {
    "ExecuteTime": {
     "end_time": "2024-11-20T06:15:28.349983Z",
     "start_time": "2024-11-20T06:15:28.340459Z"
    }
   },
   "outputs": [],
   "source": [
    "import uxarray as ux\n",
    "import numpy as np\n",
    "\n",
    "uxds = ux.open_dataset(\n",
    "    \"../../test/meshfiles/ugrid/outCSne30/outCSne30.ug\",\n",
    "    \"../../test/meshfiles/ugrid/outCSne30/outCSne30_vortex.nc\",\n",
    ")"
   ]
  },
  {
   "cell_type": "code",
   "execution_count": null,
   "id": "ab2d7cb6-6044-4653-9135-7223c67fba6f",
   "metadata": {},
   "outputs": [],
   "source": [
    "# set periodic_elements='exclude' for larger datasets\n",
    "uxds[\"psi\"].plot(cmap=\"inferno\", periodic_elements=\"split\")"
   ]
  },
  {
   "cell_type": "markdown",
   "id": "78e5edd0ae476745",
   "metadata": {},
   "source": [
    "## What is a Zonal Average/Mean?\n",
    "\n",
    "A zonal average (or zonal mean) is a statistical measure that represents the average of a variable along one or more lines of constant latitude. In other words, it's the mean value calculated around the sphere at constant latitudes. \n",
    "\n",
    "UXarray currently implements a Conservative Zonal Mean, which weights the candidate faces at each latitude using their area.\n",
    "\n",
    "\n",
    "```{see-also}\n",
    "NCL Zonal Average\n",
    "\n",
    "https://www.ncl.ucar.edu/Applications/zonal.shtml \n",
    "```"
   ]
  },
  {
   "cell_type": "code",
   "execution_count": null,
   "id": "1b78f701e3b44280",
   "metadata": {
    "ExecuteTime": {
     "end_time": "2024-11-20T06:15:28.947554Z",
     "start_time": "2024-11-20T06:15:28.570505Z"
    }
   },
   "outputs": [],
   "source": [
    "zonal_mean_psi = uxds[\"psi\"].zonal_mean()\n",
    "zonal_mean_psi"
   ]
  },
  {
   "cell_type": "markdown",
   "id": "10b7b7a1-1bd1-4442-80d2-a589edfdc0e8",
   "metadata": {},
   "source": [
    "The default latitude range is between -90 and 90 degrees with a step size of 5 degrees. "
   ]
  },
  {
   "cell_type": "code",
   "execution_count": null,
   "id": "d8830c93dfdf7d36",
   "metadata": {
    "ExecuteTime": {
     "end_time": "2024-11-20T06:15:29.007462Z",
     "start_time": "2024-11-20T06:15:28.953580Z"
    }
   },
   "outputs": [],
   "source": [
    "(zonal_mean_psi.plot.line() * zonal_mean_psi.plot.scatter(color=\"red\")).opts(\n",
    "    title=\"Zonal Average Plot (Default)\", xticks=np.arange(-90, 100, 20), xlim=(-95, 95)\n",
    ")"
   ]
  },
  {
   "cell_type": "markdown",
   "id": "20acd903-2d23-46f6-adc4-92a7ab40a945",
   "metadata": {},
   "source": [
    "The range of latitudes can be modified by using the `lat` parameter. It accepts:\n",
    "\n",
    "* **Single scalar**: e.g., `lat=45`\n",
    "* **List/array**: e.g., `lat=[10, 20]` or `lat=np.array([10, 20])`\n",
    "* **Tuple**: e.g., `(min_lat, max_lat, step)`"
   ]
  },
  {
   "cell_type": "code",
   "execution_count": null,
   "id": "d9f34e2fcba883c1",
   "metadata": {
    "ExecuteTime": {
     "end_time": "2024-11-20T06:15:29.059397Z",
     "start_time": "2024-11-20T06:15:29.029629Z"
    }
   },
   "outputs": [],
   "source": [
    "zonal_mean_psi_large = uxds[\"psi\"].zonal_mean(lat=(-90, 90, 1))"
   ]
  },
  {
   "cell_type": "code",
   "execution_count": null,
   "id": "1ca60ca5-9ef8-4720-b6e2-bbccc78097dd",
   "metadata": {},
   "outputs": [],
   "source": [
    "(\n",
    "    zonal_mean_psi_large.plot.line()\n",
    "    * zonal_mean_psi_large.plot.scatter(color=\"red\", s=1)\n",
    ").opts(\n",
    "    title=\"Zonal Average Plot (Larger Sample)\",\n",
    "    xticks=np.arange(-90, 100, 20),\n",
    "    xlim=(-95, 95),\n",
    ")"
   ]
  },
  {
   "cell_type": "markdown",
   "id": "79361101-ac87-462a-9fb2-46ca6e8b20ce",
   "metadata": {},
   "source": [
    "## Combined Plots"
   ]
  },
  {
   "cell_type": "code",
   "execution_count": null,
   "id": "2b83126e-6789-451d-943a-60b7894ccbca",
   "metadata": {},
   "outputs": [],
   "source": [
    "(\n",
    "    uxds[\"psi\"].plot(\n",
    "        cmap=\"inferno\",\n",
    "        periodic_elements=\"split\",\n",
    "        height=350,\n",
    "        width=700,\n",
    "        colorbar=False,\n",
    "        ylim=(-90, 90),\n",
    "    )\n",
    "    + zonal_mean_psi.plot.line(\n",
    "        x=\"psi_zonal_mean\",\n",
    "        y=\"latitudes\",\n",
    "        height=350,\n",
    "        width=200,\n",
    "        ylabel=\"\",\n",
    "        ylim=(-90, 90),\n",
    "        xlim=(0.8, 1.2),\n",
    "        xticks=[0.8, 0.9, 1.0, 1.1, 1.2],\n",
    "        yticks=[-90, -45, 0, 45, 90],\n",
    "        grid=True,\n",
    "    )\n",
    ").opts(title=\"Combined Zonal Average & Raster Plot\")"
   ]
  },
  {
   "cell_type": "code",
   "execution_count": null,
   "id": "41f86ec2-982b-49ec-ae54-bebdb5533ed9",
   "metadata": {},
   "outputs": [],
   "source": []
  }
 ],
 "metadata": {
  "kernelspec": {
   "display_name": "Python 3 (ipykernel)",
   "language": "python",
   "name": "python3"
  },
  "language_info": {
   "codemirror_mode": {
    "name": "ipython",
    "version": 3
   },
   "file_extension": ".py",
   "mimetype": "text/x-python",
   "name": "python",
   "nbconvert_exporter": "python",
   "pygments_lexer": "ipython3",
   "version": "3.12.3"
  }
 },
 "nbformat": 4,
 "nbformat_minor": 5
}
