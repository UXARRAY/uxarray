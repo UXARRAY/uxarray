{
 "cells": [
  {
   "cell_type": "markdown",
   "id": "dbade3aaedad9ae7",
   "metadata": {},
   "source": [
    "# Zonal Averaging\n",
    "\n",
    "This section demonstrates how to perform Zonal Averaging using UXarray.\n"
   ]
  },
  {
   "cell_type": "code",
   "execution_count": null,
   "id": "185e2061bc4c75b9",
   "metadata": {},
   "outputs": [],
   "source": [
    "import numpy as np\n",
    "\n",
    "import uxarray as ux\n",
    "\n",
    "uxds = ux.open_dataset(\n",
    "    \"../../test/meshfiles/ugrid/outCSne30/outCSne30.ug\",\n",
    "    \"../../test/meshfiles/ugrid/outCSne30/outCSne30_vortex.nc\",\n",
    ")\n",
    "uxds[\"psi\"].plot(cmap=\"inferno\", periodic_elements=\"split\")"
   ]
  },
  {
   "cell_type": "markdown",
   "id": "d938d659b89bc9cb",
   "metadata": {},
   "source": [
    "## What is a Zonal Average/Mean?\n",
    "\n",
    "A zonal average (or zonal mean) is a statistical measure that represents the average of a variable along one or more lines of constant latitude. In other words, it's the mean value calculated around the sphere at constant latitudes. \n",
    "\n",
    "UXarray currently implements a non-conservative Zonal Mean, which weights candidate faces by the length of intersection of a line of constant latitude.\n",
    "\n",
    "\n",
    "```{seealso}\n",
    "[NCL Zonal Average](https://www.ncl.ucar.edu/Applications/zonal.shtml)\n",
    "```"
   ]
  },
  {
   "cell_type": "code",
   "execution_count": null,
   "id": "d342f8f449543994",
   "metadata": {},
   "outputs": [],
   "source": [
    "zonal_mean_psi = uxds[\"psi\"].zonal_mean()\n",
    "zonal_mean_psi"
   ]
  },
  {
   "cell_type": "markdown",
   "id": "65194a38c76e8a62",
   "metadata": {},
   "source": [
    "The default latitude range is between -90 and 90 degrees with a step size of 10 degrees. "
   ]
  },
  {
   "cell_type": "code",
   "execution_count": null,
   "id": "b5933beaf2f598ab",
   "metadata": {},
   "outputs": [],
   "source": [
    "(zonal_mean_psi.plot.line() * zonal_mean_psi.plot.scatter(color=\"red\")).opts(\n",
    "    title=\"Zonal Average Plot (Default)\", xticks=np.arange(-90, 100, 20), xlim=(-95, 95)\n",
    ")"
   ]
  },
  {
   "cell_type": "markdown",
   "id": "ba2d641a3076c692",
   "metadata": {},
   "source": [
    "The range of latitudes can be modified by using the `lat` parameter. It accepts:\n",
    "\n",
    "* **Single scalar**: e.g., `lat=45`\n",
    "* **List/array**: e.g., `lat=[10, 20]` or `lat=np.array([10, 20])`\n",
    "* **Tuple**: e.g., `(min_lat, max_lat, step)`"
   ]
  },
  {
   "cell_type": "code",
   "execution_count": null,
   "id": "4f665827daac1c46",
   "metadata": {},
   "outputs": [],
   "source": [
    "zonal_mean_psi_large = uxds[\"psi\"].zonal_mean(lat=(-90, 90, 1))"
   ]
  },
  {
   "cell_type": "code",
   "execution_count": null,
   "id": "1998f1a55b67100c",
   "metadata": {},
   "outputs": [],
   "source": [
    "(\n",
    "    zonal_mean_psi_large.plot.line()\n",
    "    * zonal_mean_psi_large.plot.scatter(color=\"red\", s=1)\n",
    ").opts(\n",
    "    title=\"Zonal Average Plot (Larger Sample)\",\n",
    "    xticks=np.arange(-90, 100, 20),\n",
    "    xlim=(-95, 95),\n",
    ")"
   ]
  },
  {
   "cell_type": "markdown",
   "id": "4b91ebb8f733a318",
   "metadata": {},
   "source": [
    "## Combined Plots\n",
    "\n",
    "It is often desired to plot the zonal average along side other plots, such as color or contour plots. "
   ]
  },
  {
   "cell_type": "code",
   "execution_count": null,
   "id": "cb2255761173d53e",
   "metadata": {},
   "outputs": [],
   "source": [
    "(\n",
    "    uxds[\"psi\"].plot(\n",
    "        cmap=\"inferno\",\n",
    "        periodic_elements=\"split\",\n",
    "        height=250,\n",
    "        width=500,\n",
    "        colorbar=False,\n",
    "        ylim=(-90, 90),\n",
    "    )\n",
    "    + zonal_mean_psi.plot.line(\n",
    "        x=\"psi_zonal_mean\",\n",
    "        y=\"latitudes\",\n",
    "        height=250,\n",
    "        width=150,\n",
    "        ylabel=\"\",\n",
    "        ylim=(-90, 90),\n",
    "        xlim=(0.8, 1.2),\n",
    "        xticks=[0.8, 0.9, 1.0, 1.1, 1.2],\n",
    "        yticks=[-90, -45, 0, 45, 90],\n",
    "        grid=True,\n",
    "    )\n",
    ").opts(title=\"Combined Zonal Average & Raster Plot\")"
   ]
  }
 ],
 "metadata": {
  "kernelspec": {
   "display_name": "Python 3 (ipykernel)",
   "language": "python",
   "name": "python3"
  },
  "language_info": {
   "codemirror_mode": {
    "name": "ipython",
    "version": 3
   },
   "file_extension": ".py",
   "mimetype": "text/x-python",
   "name": "python",
   "nbconvert_exporter": "python",
   "pygments_lexer": "ipython3",
   "version": "3.12.7"
  }
 },
 "nbformat": 4,
 "nbformat_minor": 5
}
