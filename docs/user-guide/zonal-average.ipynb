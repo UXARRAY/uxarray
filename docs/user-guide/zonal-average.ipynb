{
 "cells": [
  {
   "cell_type": "markdown",
   "id": "dbade3aaedad9ae7",
   "metadata": {},
   "source": "# Zonal Averaging"
  },
  {
   "cell_type": "code",
   "execution_count": null,
   "id": "46119fa371874767",
   "metadata": {},
   "outputs": [],
   "source": [
    "import uxarray as ux\n",
    "\n",
    "uxds = ux.open_dataset(\n",
    "    \"../../test/meshfiles/ugrid/outCSne30/outCSne30.ug\",\n",
    "    \"../../test/meshfiles/ugrid/outCSne30/outCSne30_vortex.nc\",\n",
    ")"
   ]
  },
  {
   "cell_type": "markdown",
   "id": "78e5edd0ae476745",
   "metadata": {},
   "source": [
    "## What is a Zonal Average/Mean?\n",
    "\n",
    "\n",
    "```{see-also}\n",
    "NCL Zonal Average\n",
    "\n",
    "https://www.ncl.ucar.edu/Applications/zonal.shtml \n",
    "```"
   ]
  },
  {
   "cell_type": "code",
   "execution_count": null,
   "id": "1b78f701e3b44280",
   "metadata": {},
   "outputs": [],
   "source": [
    "zonal_mean_psi = uxds[\"psi\"].zonal_mean()\n",
    "zonal_mean_psi"
   ]
  },
  {
   "cell_type": "code",
   "execution_count": null,
   "id": "d8830c93dfdf7d36",
   "metadata": {},
   "outputs": [],
   "source": [
    "zonal_mean_psi.plot.line()"
   ]
  },
  {
   "cell_type": "code",
   "execution_count": null,
   "id": "45c4d6ed2a951505",
   "metadata": {},
   "outputs": [],
   "source": [
    "zonal_mean_psi.latitudes"
   ]
  },
  {
   "cell_type": "code",
   "execution_count": null,
   "id": "d9f34e2fcba883c1",
   "metadata": {},
   "outputs": [],
   "source": [
    "uxds[\"psi\"].zonal_mean(lat=(-20, 20, 1))"
   ]
  },
  {
   "cell_type": "markdown",
   "id": "24e40fd8ed64ce87",
   "metadata": {},
   "source": [
    "## Spherical Bounding Box\n",
    "\n",
    "The zonal average can be computed using UXarray's robust spherical bounding box for computing intersections, which takes into account extremes along edges when they are represented as great circle arcs on the sphere. "
   ]
  },
  {
   "cell_type": "code",
   "execution_count": null,
   "id": "7a6abe02f5ae88e7",
   "metadata": {},
   "outputs": [],
   "source": [
    "zonal_mean_psi = uxds[\"psi\"].zonal_mean(\n",
    "    lat=(-90, 90, 5), use_spherical_bounding_box=True\n",
    ")\n",
    "zonal_mean_psi"
   ]
  }
 ],
 "metadata": {
  "kernelspec": {
   "display_name": "Python 3",
   "language": "python",
   "name": "python3"
  },
  "language_info": {
   "codemirror_mode": {
    "name": "ipython",
    "version": 2
   },
   "file_extension": ".py",
   "mimetype": "text/x-python",
   "name": "python",
   "nbconvert_exporter": "python",
   "pygments_lexer": "ipython2",
   "version": "2.7.6"
  }
 },
 "nbformat": 4,
 "nbformat_minor": 5
}
