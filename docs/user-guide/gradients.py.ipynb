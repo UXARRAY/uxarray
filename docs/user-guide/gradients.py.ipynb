{
 "cells": [
  {
   "cell_type": "markdown",
   "source": [
    "# Gradients\n",
    "\n",
    "Guide coming soon!"
   ],
   "metadata": {
    "collapsed": false
   },
   "id": "8442f41b21c065a1"
  },
  {
   "cell_type": "code",
   "execution_count": null,
   "outputs": [],
   "source": [],
   "metadata": {
    "collapsed": false
   },
   "id": "8010cf743331edde"
  }
 ],
 "metadata": {
  "kernelspec": {
   "display_name": "Python 3",
   "language": "python",
   "name": "python3"
  },
  "language_info": {
   "codemirror_mode": {
    "name": "ipython",
    "version": 2
   },
   "file_extension": ".py",
   "mimetype": "text/x-python",
   "name": "python",
   "nbconvert_exporter": "python",
   "pygments_lexer": "ipython2",
   "version": "2.7.6"
  }
 },
 "nbformat": 4,
 "nbformat_minor": 5
}
