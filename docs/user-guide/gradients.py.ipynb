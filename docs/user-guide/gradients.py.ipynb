{
 "cells": [
  {
   "cell_type": "markdown",
   "source": [
    "# Gradients"
   ],
   "metadata": {
    "collapsed": false
   },
   "id": "8442f41b21c065a1"
  },
  {
   "cell_type": "code",
   "execution_count": null,
   "outputs": [],
   "source": [
    "import uxarray as ux\n",
    "\n",
    "grid_path = \"../../test/meshfiles/ugrid/quad-hexagon/grid.nc\"\n",
    "data_path = \"../../test/meshfiles/ugrid/quad-hexagon/data.nc\""
   ],
   "metadata": {
    "collapsed": false
   },
   "id": "77da755c6ec089cb"
  },
  {
   "cell_type": "code",
   "execution_count": null,
   "outputs": [],
   "source": [
    "uxds = ux.open_dataset(grid_path, data_path)"
   ],
   "metadata": {
    "collapsed": false
   },
   "id": "96dc5f283e77b604"
  },
  {
   "cell_type": "code",
   "execution_count": null,
   "outputs": [],
   "source": [
    "uxds['t2m'].gradient()"
   ],
   "metadata": {
    "collapsed": false
   },
   "id": "c9ebfd347f9a50f8"
  },
  {
   "cell_type": "code",
   "execution_count": null,
   "outputs": [],
   "source": [
    "uxds['t2m'].gradient(normalize=True)"
   ],
   "metadata": {
    "collapsed": false
   },
   "id": "d94578b904e7b8d1"
  }
 ],
 "metadata": {
  "kernelspec": {
   "display_name": "Python 3",
   "language": "python",
   "name": "python3"
  },
  "language_info": {
   "codemirror_mode": {
    "name": "ipython",
    "version": 2
   },
   "file_extension": ".py",
   "mimetype": "text/x-python",
   "name": "python",
   "nbconvert_exporter": "python",
   "pygments_lexer": "ipython2",
   "version": "2.7.6"
  }
 },
 "nbformat": 4,
 "nbformat_minor": 5
}
