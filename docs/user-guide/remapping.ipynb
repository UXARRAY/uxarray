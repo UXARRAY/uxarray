{
 "cells": [
  {
   "cell_type": "markdown",
   "id": "d9d3f5a8-6d3c-4a7e-9150-a2915f3e0ceb",
   "metadata": {},
   "source": [
    "# Remapping\n",
    "\n",
    "Remapping (also known as **regridding**) is the process of transferring data defined on one spatial discretization to another. Whether you’re aligning model output to a different grid or comparing datasets on distinct grids, remapping ensures that values are accurately assigned or interpolated between coordinate systems.\n",
    "\n",
    "For a comprehensive overview of common remapping techniques, see the [Climate Data Guide: Regridding Overview](https://climatedataguide.ucar.edu/climate-tools/regridding-overview).\n",
    "\n",
    "UXarray currently supports two primary remapping methods:\n",
    "\n",
    "- **Nearest Neighbor**  \n",
    "- **Inverse Distance Weighted**  \n"
   ]
  },
  {
   "cell_type": "code",
   "execution_count": null,
   "id": "7449507f-3d79-4e86-a775-3b9137153adc",
   "metadata": {},
   "outputs": [],
   "source": [
    "import os\n",
    "import urllib.request\n",
    "import warnings\n",
    "\n",
    "import cartopy.crs as ccrs\n",
    "import cmocean\n",
    "import holoviews as hv\n",
    "\n",
    "import uxarray as ux\n",
    "\n",
    "warnings.filterwarnings(\"ignore\")\n",
    "\n",
    "hv.extension(\"matplotlib\")\n",
    "\n",
    "common_kwargs = {\"cmap\": cmocean.cm.deep, \"features\": [\"coastline\"]}"
   ]
  },
  {
   "cell_type": "markdown",
   "id": "9ee52811-dbe5-4f32-be86-151e94737b75",
   "metadata": {},
   "source": [
    "## Data\n",
    "\n",
    "In this notebook, we are using two datasets with different resolutions (480km and 120km) from the MPAS Ocean Model. We will be remapping the `bottomDepth` variable, which measures the ocean depth."
   ]
  },
  {
   "cell_type": "code",
   "execution_count": null,
   "id": "4d73a380-349d-473d-8e57-10c52102adca",
   "metadata": {},
   "outputs": [],
   "source": [
    "data_var = \"bottomDepth\"\n",
    "\n",
    "grid_filename_480 = \"oQU480.grid.nc\"\n",
    "data_filename_480 = \"oQU480.data.nc\"\n",
    "\n",
    "grid_filename_120 = \"oQU120.grid.nc\"\n",
    "data_filename_120 = \"oQU120.data.nc\"\n",
    "\n",
    "filenames = [grid_filename_480, data_filename_480, grid_filename_120, data_filename_120]\n",
    "\n",
    "for filename in filenames:\n",
    "    if not os.path.isfile(filename):\n",
    "        # downloads the files from Cookbook repo, if they haven't been downloaded locally yet\n",
    "        url = f\"https://github.com/ProjectPythia/unstructured-grid-viz-cookbook/raw/main/meshfiles/{filename}\"\n",
    "        _, headers = urllib.request.urlretrieve(url, filename=filename)\n",
    "\n",
    "\n",
    "file_path_dict = {\n",
    "    \"480km\": [grid_filename_480, data_filename_480],\n",
    "    \"120km\": [grid_filename_120, data_filename_120],\n",
    "}\n",
    "uxds_480 = ux.open_dataset(*file_path_dict[\"480km\"])\n",
    "uxds_120 = ux.open_dataset(*file_path_dict[\"120km\"])"
   ]
  },
  {
   "cell_type": "code",
   "execution_count": null,
   "id": "da0b1ff8-da1a-4c6c-9031-749b34bfad7a",
   "metadata": {},
   "outputs": [],
   "source": [
    "(\n",
    "    uxds_480[\"bottomDepth\"].plot(title=\"Bottom Depth (480km)\", **common_kwargs)\n",
    "    + uxds_120[\"bottomDepth\"].plot(title=\"Bottom Depth (120km)\", **common_kwargs)\n",
    ").cols(1).opts(fig_size=200)"
   ]
  },
  {
   "cell_type": "markdown",
   "id": "0d2345bc-ce03-48b5-b08c-6e9c679f3bc1",
   "metadata": {},
   "source": "We can view the supported remapping methods by accessing the `.remap` accessor that is part of a `UxDataArray` or `UxDataset`"
  },
  {
   "cell_type": "code",
   "execution_count": null,
   "id": "2453895d-b41d-47fe-bc2b-42358a9acbe5",
   "metadata": {},
   "outputs": [],
   "source": [
    "uxds_120.remap"
   ]
  },
  {
   "cell_type": "markdown",
   "id": "969b42fd-bcd8-4781-b1b3-5dfddc42153f",
   "metadata": {},
   "source": [
    "## Nearest Neighbor Remapping\n",
    "\n",
    "Nearest-neighbor remapping assigns each point on the destination grid the value of the closest point on the source grid. Under the hood, UXarray leverages a `scipy.spatial.KDTree` to compute distances efficiently and identify the nearest source location for each destination point.\n",
    "\n",
    "Use the `remap.nearest_neighbor()` accessor, which accepts:\n",
    "\n",
    "- **destination_grid**  \n",
    "  The `Grid` instance you want to interpolate your data onto.\n",
    "\n",
    "- **remap_to**  \n",
    "  The grid element where values should be placed, one of `faces`, `edges`, or `nodes`.\n",
    "\n",
    "\n",
    "```{warning}\n",
    "Nearest-neighbor remapping is fast and simple, but it does **not** conserve integrated quantities\n",
    "and can introduce discontinuities where grid spacing changes abruptly.\n",
    "```\n"
   ]
  },
  {
   "cell_type": "markdown",
   "id": "4ac66105-7d40-49f1-abe6-1b65038cb02f",
   "metadata": {},
   "source": [
    "### Upsampling\n",
    "\n",
    "In this example, we remap data from a coarse 480km resolution grid to a finer 120km grid, which is an example of **upsampling**."
   ]
  },
  {
   "cell_type": "code",
   "execution_count": null,
   "id": "d4550735-053a-4542-b259-fb7d8c2e6fae",
   "metadata": {},
   "outputs": [],
   "source": [
    "upsampling = uxds_480[\"bottomDepth\"].remap.nearest_neighbor(\n",
    "    destination_grid=uxds_120.uxgrid, remap_to=\"faces\"\n",
    ")"
   ]
  },
  {
   "cell_type": "code",
   "execution_count": null,
   "id": "cf2cf918-62f8-4aa4-9fa1-122bc06862ce",
   "metadata": {},
   "outputs": [],
   "source": [
    "(\n",
    "    uxds_480[\"bottomDepth\"].plot(title=\"Bottom Depth (480km)\", **common_kwargs)\n",
    "    + upsampling.plot(title=\"Remapped Bottom Depth (480km to 120km)\", **common_kwargs)\n",
    "    + uxds_480[\"bottomDepth\"].plot(\n",
    "        title=\"Zoomed (480km)\", xlim=(-10, 10), ylim=(-5, 5), **common_kwargs\n",
    "    )\n",
    "    + upsampling.plot(\n",
    "        title=\"Zoomed Remap (480km to 120km)\",\n",
    "        xlim=(-10, 10),\n",
    "        ylim=(-5, 5),\n",
    "        **common_kwargs,\n",
    "    )\n",
    ").cols(2).opts(fig_size=200)"
   ]
  },
  {
   "cell_type": "markdown",
   "id": "7902f3df-eeb4-4b7d-9c77-0ec50a30ec6b",
   "metadata": {},
   "source": [
    "After applying nearest-neighbor remapping, the data is upsampled from the coarse 480 km grid to the finer 120 km grid. Each destination face simply inherits the value of its closest source face, so no new information is created—existing values are redistributed across the denser mesh. Consequently, you’ll see the same source value repeated on multiple adjacent faces in the 120 km grid.\n"
   ]
  },
  {
   "cell_type": "markdown",
   "id": "48f45a45-d369-48cc-a6d8-31c2cedc4ef8",
   "metadata": {},
   "source": [
    "### Downsampling\n",
    "\n",
    "In this example, we remap data from a finer 120km resolution grid to a coarser 480km grid, which is an example of **downsampling**.\n"
   ]
  },
  {
   "cell_type": "code",
   "execution_count": null,
   "id": "40094ba0-0dad-48d7-af70-040f088d7be5",
   "metadata": {},
   "outputs": [],
   "source": [
    "downsampling = uxds_120[\"bottomDepth\"].remap.nearest_neighbor(\n",
    "    destination_grid=uxds_480.uxgrid, remap_to=\"face centers\"\n",
    ")"
   ]
  },
  {
   "cell_type": "code",
   "execution_count": null,
   "id": "65d3f7db-9820-4c46-8d78-571a8ea48ef1",
   "metadata": {},
   "outputs": [],
   "source": [
    "(\n",
    "    uxds_120[\"bottomDepth\"].plot(title=\"Bottom Depth (120km)\", **common_kwargs)\n",
    "    + downsampling.plot(title=\"Remapped Bottom Depth (120km to 480km)\", **common_kwargs)\n",
    "    + uxds_120[\"bottomDepth\"].plot(\n",
    "        title=\"Zoomed (120km)\", xlim=(-10, 10), ylim=(-5, 5), **common_kwargs\n",
    "    )\n",
    "    + downsampling.plot(\n",
    "        title=\"Zoomed Remap (120km to 480km)\",\n",
    "        xlim=(-10, 10),\n",
    "        ylim=(-5, 5),\n",
    "        **common_kwargs,\n",
    "    )\n",
    ").cols(2).opts(fig_size=200)"
   ]
  },
  {
   "cell_type": "markdown",
   "id": "63d2a6cd-6b9a-4ee8-8716-b2059b8a008a",
   "metadata": {},
   "source": [
    "After downsampling, the coarser 480 km grid no longer retains the fine-scale details of the original 120 km dataset. Because the destination grid has far fewer points than the source, information is inevitably lost. Subtle features present at higher resolution will be smoothed out or omitted entirely.\n"
   ]
  },
  {
   "cell_type": "markdown",
   "id": "549c51a5-861d-40ff-af04-99a9118173dc",
   "metadata": {},
   "source": [
    "## Inverse Distance Weighted Remapping\n",
    "\n",
    "Inverse-distance weighted (IDW) remapping computes each destination value as a weighted average of nearby source points, with closer points contributing more strongly. This approach yields a smoother, more continuous field than nearest-neighbor interpolation and can help mitigate isolated outliers.\n",
    "\n",
    "Use the `remap.inverse_distance_weighted()` accessor, which accepts the same parameters as nearest-neighbor plus:\n",
    "\n",
    "- **power**  \n",
    "  The exponent governing how rapidly a source point’s influence decays with distance. Larger values localize the interpolation by down-weighting distant points.\n",
    "\n",
    "- **k**  \n",
    "  The number of nearest source points to include in the weighted average.\n",
    "\n",
    "```{Note}\n",
    "IDW remapping produces smoother transitions at the cost of additional computation and can blur sharp gradients. It does **not** conserve integrated quantities by default.\n",
    "```\n",
    "\n",
    "\n",
    "Using the same upsampling and downsampling examples as before, you can compare how IDW preserves continuity relative to nearest-neighbor results.\n"
   ]
  },
  {
   "cell_type": "markdown",
   "id": "c381355d-503c-4b3e-be8c-386e90868f58",
   "metadata": {},
   "source": [
    "### Upsampling\n",
    "\n",
    "Here, we remap data from the coarse 480 km grid onto the finer 120 km grid using IDW interpolation. The resulting field is much smoother than with nearest-neighbor, and the 120 km output more closely resembles the original high-resolution dataset."
   ]
  },
  {
   "cell_type": "code",
   "execution_count": null,
   "id": "400398d5-5cc0-4790-9a95-cb0f88cc1ca8",
   "metadata": {},
   "outputs": [],
   "source": [
    "upsampling_idw = uxds_480[\"bottomDepth\"].remap.inverse_distance_weighted(\n",
    "    destination_grid=uxds_120.uxgrid, remap_to=\"faces\"\n",
    ")"
   ]
  },
  {
   "cell_type": "code",
   "execution_count": null,
   "id": "8dd1d8e3-54e2-4710-b132-f69f0ba950fd",
   "metadata": {},
   "outputs": [],
   "source": [
    "(\n",
    "    uxds_480[\"bottomDepth\"].plot(title=\"Bottom Depth (480km)\", **common_kwargs)\n",
    "    + upsampling_idw.plot(\n",
    "        title=\"Remapped Bottom Depth (480km to 120km)\", **common_kwargs\n",
    "    )\n",
    "    + uxds_480[\"bottomDepth\"].plot(\n",
    "        title=\"Zoomed (480km)\", xlim=(-10, 10), ylim=(-5, 5), **common_kwargs\n",
    "    )\n",
    "    + upsampling_idw.plot(\n",
    "        title=\"Zoomed Remap (480km to 120km)\",\n",
    "        xlim=(-10, 10),\n",
    "        ylim=(-5, 5),\n",
    "        **common_kwargs,\n",
    "    )\n",
    ").cols(2).opts(fig_size=200)"
   ]
  },
  {
   "cell_type": "markdown",
   "id": "c0b125ed-04b8-40c5-86df-b6597bc3ef27",
   "metadata": {},
   "source": [
    "### Downsampling\n",
    "\n",
    "In this example, we use IDW interpolation to downsample data from the 120 km grid to the coarser 480 km grid. Compared to nearest-neighbor remapping, IDW preserves more continuity and mitigates abrupt jumps, though the improvement may be subtle with default parameters. By adjusting:\n",
    "\n",
    "- **k** (number of neighbors)  \n",
    "- **power** (distance-decay exponent)  \n",
    "\n",
    "you can control the smoothness and feature retention of the downsampled field. Parameter-tuning strategies will be discussed in the next section.\n"
   ]
  },
  {
   "cell_type": "code",
   "execution_count": null,
   "id": "7d21c42d-d368-4a34-8dcb-6643f0a0a7d1",
   "metadata": {},
   "outputs": [],
   "source": [
    "downsampling_idw = uxds_120[\"bottomDepth\"].remap.inverse_distance_weighted(\n",
    "    destination_grid=uxds_480.uxgrid, remap_to=\"faces\"\n",
    ")"
   ]
  },
  {
   "cell_type": "code",
   "execution_count": null,
   "id": "935a7a74-7d88-49ae-bc20-7b18d76795c9",
   "metadata": {},
   "outputs": [],
   "source": [
    "(\n",
    "    uxds_120[\"bottomDepth\"].plot(title=\"Bottom Depth (120km)\", **common_kwargs)\n",
    "    + downsampling_idw.plot(\n",
    "        title=\"Remapped Bottom Depth (120km to 480km)\", **common_kwargs\n",
    "    )\n",
    "    + uxds_120[\"bottomDepth\"].plot(\n",
    "        title=\"Zoomed (120km)\", xlim=(-10, 10), ylim=(-5, 5), **common_kwargs\n",
    "    )\n",
    "    + downsampling_idw.plot(\n",
    "        title=\"Zoomed Remap (120km to 480km)\",\n",
    "        xlim=(-10, 10),\n",
    "        ylim=(-5, 5),\n",
    "        **common_kwargs,\n",
    "    )\n",
    ").cols(2).opts(fig_size=200)"
   ]
  },
  {
   "cell_type": "markdown",
   "id": "1de0ccc5-c761-4fcb-9396-7e91d2a8ffa5",
   "metadata": {},
   "source": [
    "#### Comparing `k` and `power` Parameters\n",
    "\n",
    "- **k**  \n",
    "  The number of nearest neighbors included in the interpolation. Larger values draw from more source points, but the impact depends on how those points are weighted.\n",
    "\n",
    "- **power**  \n",
    "  The exponent that governs distance-decay in the weighting function. Higher exponents localize the interpolation by rapidly down-weighting more distant points.\n",
    "\n",
    "Increasing **k** alone may have a limited effect if **power** remains low, and vice versa. To demonstrate their combined influence, we’ll perform two downsampling experiments, one with low `k`/`power` values and one with high values—and compare the results side by side.\n"
   ]
  },
  {
   "cell_type": "code",
   "execution_count": null,
   "id": "9e31c8ec-75a0-4898-96e7-35a4b4853ad0",
   "metadata": {},
   "outputs": [],
   "source": [
    "downsampling_idw_low = uxds_120[\"bottomDepth\"].remap.inverse_distance_weighted(\n",
    "    uxds_480.uxgrid, remap_to=\"faces\", power=1, k=2\n",
    ")\n",
    "downsampling_idw_high = uxds_120[\"bottomDepth\"].remap.inverse_distance_weighted(\n",
    "    uxds_480.uxgrid, remap_to=\"faces\", power=5, k=128\n",
    ")"
   ]
  },
  {
   "cell_type": "code",
   "execution_count": null,
   "id": "88756342-64e0-42f4-96d9-b9822e002bd7",
   "metadata": {},
   "outputs": [],
   "source": [
    "(\n",
    "    downsampling_idw_low.plot(\n",
    "        title=\"Zoomed 480km (power=1, k=2)\",\n",
    "        xlim=(-10, 10),\n",
    "        ylim=(-5, 5),\n",
    "        **common_kwargs,\n",
    "    )\n",
    "    + downsampling_idw_high.plot(\n",
    "        title=\"Zoomed 480km (power=5, k=128)\",\n",
    "        xlim=(-10, 10),\n",
    "        ylim=(-5, 5),\n",
    "        **common_kwargs,\n",
    "    )\n",
    ").cols(1).opts(fig_size=200)"
   ]
  },
  {
   "cell_type": "code",
   "execution_count": null,
   "id": "439ac480-c4f3-4080-a18c-8f670367c194",
   "metadata": {},
   "outputs": [],
   "source": [
    "upsampling_idw_low = uxds_480[\"bottomDepth\"].remap.inverse_distance_weighted(\n",
    "    uxds_120.uxgrid, remap_to=\"faces\", power=1, k=2\n",
    ")\n",
    "upsampling_idw_high = uxds_480[\"bottomDepth\"].remap.inverse_distance_weighted(\n",
    "    uxds_120.uxgrid, remap_to=\"faces\", power=5, k=128\n",
    ")"
   ]
  },
  {
   "cell_type": "code",
   "execution_count": null,
   "id": "0dc0497d-13bd-4b5b-9792-ad6ce26aded5",
   "metadata": {},
   "outputs": [],
   "source": [
    "(\n",
    "    upsampling_idw_low.plot(\n",
    "        title=\"Zoomed 120km (power=1, k=2)\",\n",
    "        xlim=(-10, 10),\n",
    "        ylim=(-5, 5),\n",
    "        **common_kwargs,\n",
    "    )\n",
    "    + upsampling_idw_high.plot(\n",
    "        title=\"Zoomed 120km (power=5, k=128)\",\n",
    "        xlim=(-10, 10),\n",
    "        ylim=(-5, 5),\n",
    "        **common_kwargs,\n",
    "    )\n",
    ").cols(1).opts(fig_size=200)"
   ]
  },
  {
   "cell_type": "markdown",
   "id": "6b3b52bb-4d21-48a1-ae65-91387f97636b",
   "metadata": {},
   "source": [
    "When adjusting the `k` and `power` parameters during downsampling, the resulting differences are subtle. Downsampling aggregates many fine-scale faces into fewer coarse ones, so whether you include 2 or 128 neighbors, the weighted average over these larger regions changes only marginally.\n",
    "\n",
    "In contrast, upsampling shows a much stronger response to parameter tuning. Spreading data from a coarse grid (with fewer, larger faces) onto a finer mesh (with more, smaller faces) means that increasing the neighbor count draws in values from a wider spatial context, leading to more pronounced variations in the interpolated field.\n"
   ]
  }
 ],
 "metadata": {
  "kernelspec": {
   "display_name": "Python 3 (ipykernel)",
   "language": "python",
   "name": "python3"
  },
  "language_info": {
   "codemirror_mode": {
    "name": "ipython",
    "version": 3
   },
   "file_extension": ".py",
   "mimetype": "text/x-python",
   "name": "python",
   "nbconvert_exporter": "python",
   "pygments_lexer": "ipython3",
   "version": "3.12.7"
  }
 },
 "nbformat": 4,
 "nbformat_minor": 5
}
