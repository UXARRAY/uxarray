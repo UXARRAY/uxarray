{
 "cells": [
  {
   "cell_type": "markdown",
   "id": "d9d3f5a8-6d3c-4a7e-9150-a2915f3e0ceb",
   "metadata": {},
   "source": [
    "# Remapping"
   ]
  },
  {
   "cell_type": "markdown",
   "id": "1b0c0018-3c30-4909-9057-3fc59abe96fd",
   "metadata": {},
   "source": [
    "Remapping, or commonly referred to as Regridding, is the process of taking data that resides on one grid and mapping it to another. Details on various remapping methods can be found [here](https://climatedataguide.ucar.edu/climate-tools/regridding-overview). This user guide section will cover the two native remapping methods that are supported by UXarray:\n",
    "\n",
    "* Nearest Neighbor\n",
    "* Inverse Distance Weighted"
   ]
  },
  {
   "cell_type": "code",
   "execution_count": null,
   "id": "7449507f-3d79-4e86-a775-3b9137153adc",
   "metadata": {},
   "outputs": [],
   "source": [
    "import uxarray as ux\n",
    "import geoviews.feature as gf\n",
    "import cartopy.crs as ccrs\n",
    "import holoviews as hv\n",
    "import os\n",
    "import urllib.request\n",
    "from pathlib import Path\n",
    "import warnings\n",
    "\n",
    "warnings.filterwarnings(\"ignore\")\n",
    "\n",
    "hv.extension(\"bokeh\")\n",
    "\n",
    "features = gf.coastline(projection=ccrs.PlateCarree(), scale=\"50m\")"
   ]
  },
  {
   "cell_type": "markdown",
   "id": "b0a6ff3e-df92-4118-80dc-829f38083630",
   "metadata": {},
   "source": [
    "### Simple Remapping Example"
   ]
  },
  {
   "cell_type": "markdown",
   "id": "1711d9d7-7ba7-4d62-bcd4-6592d6d465aa",
   "metadata": {},
   "source": [
    "Provided below is an example of remapping using a simple grid. A has data, B does not. We will remap to B from A."
   ]
  },
  {
   "cell_type": "code",
   "execution_count": null,
   "id": "a2dddad7-872a-4b4f-a2b0-7de698ef6a38",
   "metadata": {},
   "outputs": [],
   "source": [
    "grid_path = \"../../test/meshfiles/ugrid/quad-hexagon/grid.nc\"\n",
    "data_path = \"../../test/meshfiles/ugrid/quad-hexagon/data.nc\"\n",
    "destination_grid = \"../../test/meshfiles/ugrid/quad-hexagon/triangulated-grid.nc\"\n",
    "grid = ux.open_grid(destination_grid)\n",
    "uxds = ux.open_dataset(grid_path, data_path)\n",
    "(\n",
    "    uxds[\"t2m\"].plot(\n",
    "        colorbar=False,\n",
    "        cmap=ux.cmaps.sequential_green_blue,\n",
    "        title=\"Mesh with Data\",\n",
    "    )\n",
    "    * uxds.uxgrid.plot.edges(color=\"black\")\n",
    "    + grid.plot(colorbar=False, title=\"Mesh without Data\", color=\"black\")\n",
    ").cols(1)"
   ]
  },
  {
   "cell_type": "code",
   "execution_count": null,
   "id": "8c5ea957-be2e-4d43-9141-d506c46a19f8",
   "metadata": {},
   "outputs": [],
   "source": [
    "remapped_grid = uxds[\"t2m\"].remap.inverse_distance_weighted(\n",
    "    grid, k=3, remap_to=\"face centers\"\n",
    ")"
   ]
  },
  {
   "cell_type": "code",
   "execution_count": null,
   "id": "9c187cd8-e689-4f1a-942e-2055051f8265",
   "metadata": {},
   "outputs": [],
   "source": [
    "remapped_grid.plot(\n",
    "    colorbar=True,\n",
    "    cmap=ux.cmaps.sequential_green_blue,\n",
    "    title=\"Mesh With Remapped Data\",\n",
    ") * remapped_grid.uxgrid.plot.mesh(color=\"black\")"
   ]
  },
  {
   "cell_type": "markdown",
   "id": "927d259c-6b84-4f0a-ab25-d38c76b4626a",
   "metadata": {},
   "source": [
    "### Data"
   ]
  },
  {
   "cell_type": "markdown",
   "id": "9ee52811-dbe5-4f32-be86-151e94737b75",
   "metadata": {},
   "source": [
    "In this notebook, we are using two datasets with different resolutions (480km and 120km) from the MPAS Ocean Model. We will be remapping the bottomDepth variable, which measures the ocean depth."
   ]
  },
  {
   "cell_type": "code",
   "execution_count": null,
   "id": "4d73a380-349d-473d-8e57-10c52102adca",
   "metadata": {},
   "outputs": [],
   "source": [
    "hv.extension(\"matplotlib\")\n",
    "\n",
    "data_var = \"bottomDepth\"\n",
    "\n",
    "grid_filename_480 = \"oQU480.grid.nc\"\n",
    "data_filename_480 = \"oQU480.data.nc\"\n",
    "\n",
    "grid_filename_120 = \"oQU120.grid.nc\"\n",
    "data_filename_120 = \"oQU120.data.nc\"\n",
    "\n",
    "filenames = [grid_filename_480, data_filename_480, grid_filename_120, data_filename_120]\n",
    "\n",
    "for filename in filenames:\n",
    "    if not os.path.isfile(filename):\n",
    "        # downloads the files from Cookbook repo, if they haven't been downloaded locally yet\n",
    "        url = f\"https://github.com/ProjectPythia/unstructured-grid-viz-cookbook/raw/main/meshfiles/{filename}\"\n",
    "        _, headers = urllib.request.urlretrieve(url, filename=filename)\n",
    "\n",
    "\n",
    "file_path_dict = {\n",
    "    \"480km\": [grid_filename_480, data_filename_480],\n",
    "    \"120km\": [grid_filename_120, data_filename_120],\n",
    "}"
   ]
  },
  {
   "cell_type": "code",
   "execution_count": null,
   "id": "fe358933-bc7c-422c-88af-a697ffb4e45a",
   "metadata": {},
   "outputs": [],
   "source": [
    "uxds_480 = ux.open_dataset(*file_path_dict[\"480km\"])\n",
    "uxds_120 = ux.open_dataset(*file_path_dict[\"120km\"])"
   ]
  },
  {
   "cell_type": "code",
   "execution_count": null,
   "id": "da0b1ff8-da1a-4c6c-9031-749b34bfad7a",
   "metadata": {},
   "outputs": [],
   "source": [
    "(\n",
    "    uxds_480[\"bottomDepth\"].plot(\n",
    "        title=\"Bottom Depth (480km)\",\n",
    "        cmap=ux.cmaps.sequential_blue,\n",
    "    )\n",
    "    * features\n",
    "    + uxds_120[\"bottomDepth\"].plot(\n",
    "        title=\"Bottom Depth (120km)\",\n",
    "        cmap=ux.cmaps.sequential_blue,\n",
    "    )\n",
    "    * features\n",
    ").cols(1).opts(fig_size=125)"
   ]
  },
  {
   "cell_type": "markdown",
   "id": "0d2345bc-ce03-48b5-b08c-6e9c679f3bc1",
   "metadata": {},
   "source": [
    "We can view the supported remapping methods by accessing the `.remap` attribute that is part of a `UxDataArray`"
   ]
  },
  {
   "cell_type": "code",
   "execution_count": null,
   "id": "2453895d-b41d-47fe-bc2b-42358a9acbe5",
   "metadata": {},
   "outputs": [],
   "source": [
    "uxds_120[\"bottomDepth\"].remap"
   ]
  },
  {
   "cell_type": "markdown",
   "id": "0e7f1fc3-090f-4aa4-86b3-de240dc68909",
   "metadata": {},
   "source": [
    "### Nearest Neighbor"
   ]
  },
  {
   "cell_type": "markdown",
   "id": "969b42fd-bcd8-4781-b1b3-5dfddc42153f",
   "metadata": {},
   "source": [
    "Nearest Neighbor Remapping is a point-based method that uses the nearest neighbor from the source grid when assigning data to the destination grid. It is a distance-based approach that uses `kd_tree` or `ball_tree` to determine the distance between points. We can use the `UxDataArray.remap.nearest_neighbor()` method, which takes in the following parameters:"
   ]
  },
  {
   "cell_type": "markdown",
   "id": "7a942103-7188-4352-b203-fa58e5cc6fe9",
   "metadata": {},
   "source": [
    "* `destination_grid` is the grid object that is being remapped to.\n",
    "* `destination_obj` is being deprecated and soon will no longer be used, it allows remapping to data arrays, grids, and datasets.\n",
    "* `remap_to` specifies the location of the remapping, either to `nodes`, `face centers`, or `edge centers`.\n",
    "* `coord_type` refers to what coordinate system to use, either `spherical` or `cartesian`."
   ]
  },
  {
   "cell_type": "markdown",
   "id": "4ac66105-7d40-49f1-abe6-1b65038cb02f",
   "metadata": {},
   "source": [
    "#### Upsampling"
   ]
  },
  {
   "cell_type": "markdown",
   "id": "e58c5079-d714-4b4a-bb8f-a3c4d4e26fce",
   "metadata": {},
   "source": [
    "We can remap from the 480km grid to the 120km one, which would perform an upsampling operation. Our `destination_obj` will be our 120km mesh, and we will make sure to specify to do the remap to `face centers`. View the plots below to see a comparison of the original 120km mesh compared to the remapped one."
   ]
  },
  {
   "cell_type": "code",
   "execution_count": null,
   "id": "d4550735-053a-4542-b259-fb7d8c2e6fae",
   "metadata": {},
   "outputs": [],
   "source": [
    "upsampling = uxds_480[\"bottomDepth\"].remap.nearest_neighbor(\n",
    "    uxds_120.uxgrid, remap_to=\"face centers\"\n",
    ")"
   ]
  },
  {
   "cell_type": "code",
   "execution_count": null,
   "id": "cf2cf918-62f8-4aa4-9fa1-122bc06862ce",
   "metadata": {},
   "outputs": [],
   "source": [
    "(\n",
    "    uxds_480[\"bottomDepth\"].plot(\n",
    "        title=\"Bottom Depth (480km)\", cmap=ux.cmaps.sequential_blue\n",
    "    )\n",
    "    * features\n",
    "    + upsampling.plot(\n",
    "        title=\"Remapped Bottom Depth (480km to 120km)\",\n",
    "        cmap=ux.cmaps.sequential_blue,\n",
    "    )\n",
    "    * features\n",
    "    + uxds_480[\"bottomDepth\"].plot(\n",
    "        title=\"Zoomed (480km)\",\n",
    "        xlim=(-10, 10),\n",
    "        ylim=(-5, 5),\n",
    "        cmap=ux.cmaps.sequential_blue,\n",
    "    )\n",
    "    * features\n",
    "    + upsampling.plot(\n",
    "        title=\"Zoomed Remap (480km to 120km)\",\n",
    "        xlim=(-10, 10),\n",
    "        ylim=(-5, 5),\n",
    "        cmap=ux.cmaps.sequential_blue,\n",
    "    )\n",
    "    * features\n",
    ").cols(1).opts(fig_size=125)"
   ]
  },
  {
   "cell_type": "markdown",
   "id": "7902f3df-eeb4-4b7d-9c77-0ec50a30ec6b",
   "metadata": {},
   "source": [
    "As we can see, the nearest neighbor remap has successfully upsampled, going from a lower resolution to a higher resolution. Of course, since all the data is coming from the lower-resolution grid, it should be noted that no new information is being added, we are simply remapping data from a lower-resolution grid to a higher one. This can be observed in the result since multiple data points from the source grid are repeated in the destination grid."
   ]
  },
  {
   "cell_type": "markdown",
   "id": "48f45a45-d369-48cc-a6d8-31c2cedc4ef8",
   "metadata": {},
   "source": [
    "#### Downsampling"
   ]
  },
  {
   "cell_type": "markdown",
   "id": "52e2b97c-b8f5-42c6-a000-bc929b77bbc4",
   "metadata": {},
   "source": [
    "Now we can do the reverse, which is downsampling. We we go from a higher resolution (120km) to a lower one (480km). Once again comparision plots are found below, with a zoomed in version provided."
   ]
  },
  {
   "cell_type": "code",
   "execution_count": null,
   "id": "40094ba0-0dad-48d7-af70-040f088d7be5",
   "metadata": {},
   "outputs": [],
   "source": [
    "downsampling = uxds_120[\"bottomDepth\"].remap.nearest_neighbor(\n",
    "    uxds_480.uxgrid, remap_to=\"face centers\"\n",
    ")"
   ]
  },
  {
   "cell_type": "code",
   "execution_count": null,
   "id": "65d3f7db-9820-4c46-8d78-571a8ea48ef1",
   "metadata": {},
   "outputs": [],
   "source": [
    "(\n",
    "    uxds_120[\"bottomDepth\"].plot(\n",
    "        title=\"Bottom Depth (120km)\", cmap=ux.cmaps.sequential_blue\n",
    "    )\n",
    "    * features\n",
    "    + downsampling.plot(\n",
    "        title=\"Remapped Bottom Depth (120km to 480km)\",\n",
    "        cmap=ux.cmaps.sequential_blue,\n",
    "    )\n",
    "    * features\n",
    "    + uxds_120[\"bottomDepth\"].plot(\n",
    "        title=\"Zoomed (120km)\",\n",
    "        xlim=(-10, 10),\n",
    "        ylim=(-5, 5),\n",
    "        cmap=ux.cmaps.sequential_blue,\n",
    "    )\n",
    "    * features\n",
    "    + downsampling.plot(\n",
    "        title=\"Zoomed Remap (120km to 480km)\",\n",
    "        xlim=(-10, 10),\n",
    "        ylim=(-5, 5),\n",
    "        cmap=ux.cmaps.sequential_blue,\n",
    "    )\n",
    "    * features\n",
    ").cols(1).opts(fig_size=125)"
   ]
  },
  {
   "cell_type": "markdown",
   "id": "63d2a6cd-6b9a-4ee8-8716-b2059b8a008a",
   "metadata": {},
   "source": [
    "As you can see, the two datasets here don't look as similar as with the upsampling one. This is an important note, when you are downsampling, there will always be a loss of information. This is because there are many more data points in the source grid than in the destination grid."
   ]
  },
  {
   "cell_type": "markdown",
   "id": "549c51a5-861d-40ff-af04-99a9118173dc",
   "metadata": {},
   "source": [
    "### Inverse Distance Weighted"
   ]
  },
  {
   "cell_type": "markdown",
   "id": "33318f23-276d-46ed-aa47-3e7ffaf466fd",
   "metadata": {},
   "source": [
    "Inverse distance weighted remapping assigns a value based on the weighted average of a specified number of nearby points. This gives a more smooth remapping than the nearest neighbor and helps decrease the chance of outliers. Unlike the nearest neighbor remapping, it constructs new values based on the values around it. "
   ]
  },
  {
   "cell_type": "markdown",
   "id": "484806dd-e0f3-46cd-93fd-2c944b702eac",
   "metadata": {},
   "source": [
    "For inverse distance weighted remapping the parameters are the same as nearest neighbor with the addition of two extra parameters we can use to change the remapping parameters.\n",
    "\n",
    "* `power` controls how local or global the remapping is, the larger this value the less influence points that are further away have.\n",
    "* `k` is the number of neighbors to use in the weighted average."
   ]
  },
  {
   "cell_type": "markdown",
   "id": "e1ed1194-5fd4-4d44-afa2-32a6064de5ae",
   "metadata": {},
   "source": [
    "Using the same examples as before, we can see the differences between nearest neighbor and inverse distance weighted remapping."
   ]
  },
  {
   "cell_type": "markdown",
   "id": "c381355d-503c-4b3e-be8c-386e90868f58",
   "metadata": {},
   "source": [
    "#### Upsampling"
   ]
  },
  {
   "cell_type": "markdown",
   "id": "33238daf-202c-4d84-a5c5-06e5a0b3291a",
   "metadata": {},
   "source": [
    "We will upsample from the 480km grid to 120km grid again. This time we will see that the results are a lot smoother, and that the 120km looks a lot more like it's original dataset compared to when the nearest neighbor remap was used."
   ]
  },
  {
   "cell_type": "code",
   "execution_count": null,
   "id": "400398d5-5cc0-4790-9a95-cb0f88cc1ca8",
   "metadata": {},
   "outputs": [],
   "source": [
    "upsampling_idw = uxds_480[\"bottomDepth\"].remap.inverse_distance_weighted(\n",
    "    uxds_120.uxgrid, remap_to=\"face centers\"\n",
    ")"
   ]
  },
  {
   "cell_type": "code",
   "execution_count": null,
   "id": "8dd1d8e3-54e2-4710-b132-f69f0ba950fd",
   "metadata": {},
   "outputs": [],
   "source": [
    "(\n",
    "    uxds_480[\"bottomDepth\"].plot(\n",
    "        title=\"Bottom Depth (480km)\", cmap=ux.cmaps.sequential_blue\n",
    "    )\n",
    "    * features\n",
    "    + upsampling_idw.plot(\n",
    "        title=\"Remapped Bottom Depth (480km to 120km)\",\n",
    "        cmap=ux.cmaps.sequential_blue,\n",
    "    )\n",
    "    * features\n",
    "    + uxds_480[\"bottomDepth\"].plot(\n",
    "        title=\"Zoomed (480km)\",\n",
    "        xlim=(-10, 10),\n",
    "        ylim=(-5, 5),\n",
    "        cmap=ux.cmaps.sequential_blue,\n",
    "    )\n",
    "    * features\n",
    "    + upsampling_idw.plot(\n",
    "        title=\"Zoomed Remap (480km to 120km)\",\n",
    "        xlim=(-10, 10),\n",
    "        ylim=(-5, 5),\n",
    "        cmap=ux.cmaps.sequential_blue,\n",
    "    )\n",
    "    * features\n",
    ").cols(1).opts(fig_size=125)"
   ]
  },
  {
   "cell_type": "markdown",
   "id": "c0b125ed-04b8-40c5-86df-b6597bc3ef27",
   "metadata": {},
   "source": [
    "#### Downsampling"
   ]
  },
  {
   "cell_type": "markdown",
   "id": "4fc05ed6-5a45-41f1-818f-27829022b6ec",
   "metadata": {},
   "source": [
    "Here we can see an example of downsampling with inverse distance weighted. It has less of a noticable difference compared to the nearest neighbor, however this may be due to the `k` number and the default `power` value used in the calculation. Depending on your graph and the scale difference, you may need to use different `k` and `power` values to achieve a smoother result. That will be discussed in the next secition."
   ]
  },
  {
   "cell_type": "code",
   "execution_count": null,
   "id": "7d21c42d-d368-4a34-8dcb-6643f0a0a7d1",
   "metadata": {},
   "outputs": [],
   "source": [
    "downsampling_idw = uxds_120[\"bottomDepth\"].remap.inverse_distance_weighted(\n",
    "    uxds_480.uxgrid, remap_to=\"face centers\"\n",
    ")"
   ]
  },
  {
   "cell_type": "code",
   "execution_count": null,
   "id": "935a7a74-7d88-49ae-bc20-7b18d76795c9",
   "metadata": {},
   "outputs": [],
   "source": [
    "(\n",
    "    uxds_120[\"bottomDepth\"].plot(\n",
    "        title=\"Bottom Depth (120km)\", cmap=ux.cmaps.sequential_blue\n",
    "    )\n",
    "    * features\n",
    "    + downsampling_idw.plot(\n",
    "        title=\"Remapped Bottom Depth (120km to 480km)\",\n",
    "        cmap=ux.cmaps.sequential_blue,\n",
    "    )\n",
    "    * features\n",
    "    + uxds_120[\"bottomDepth\"].plot(\n",
    "        title=\"Zoomed (120km)\",\n",
    "        xlim=(-10, 10),\n",
    "        ylim=(-5, 5),\n",
    "        cmap=ux.cmaps.sequential_blue,\n",
    "    )\n",
    "    * features\n",
    "    + downsampling_idw.plot(\n",
    "        title=\"Zoomed Remap (120km to 480km)\",\n",
    "        xlim=(-10, 10),\n",
    "        ylim=(-5, 5),\n",
    "        cmap=ux.cmaps.sequential_blue,\n",
    "    )\n",
    "    * features\n",
    ").cols(1).opts(fig_size=125)"
   ]
  },
  {
   "cell_type": "markdown",
   "id": "1de0ccc5-c761-4fcb-9396-7e91d2a8ffa5",
   "metadata": {},
   "source": [
    "#### `k` and `power` Parameter Comparisons"
   ]
  },
  {
   "cell_type": "markdown",
   "id": "1befced5-3bf7-4be8-b6fc-9cfd4eabb84d",
   "metadata": {},
   "source": [
    "The higher the `k` value, the more neighbors used in the weights calculation. However, along simply changing the `k` value may not have a large impact on the remapping, and you might also need to change the `power` value, because the `power` value changes how much influence a point has as it gets further away from the source point. Let's use do two remaps, a high and low `power` / `k` value and see a side by side comparsion with downsampling."
   ]
  },
  {
   "cell_type": "code",
   "execution_count": null,
   "id": "9e31c8ec-75a0-4898-96e7-35a4b4853ad0",
   "metadata": {},
   "outputs": [],
   "source": [
    "downsampling_idw_low = uxds_120[\"bottomDepth\"].remap.inverse_distance_weighted(\n",
    "    uxds_480.uxgrid, remap_to=\"face centers\", power=1, k=2\n",
    ")\n",
    "downsampling_idw_high = uxds_120[\"bottomDepth\"].remap.inverse_distance_weighted(\n",
    "    uxds_480.uxgrid, remap_to=\"face centers\", power=5, k=128\n",
    ")"
   ]
  },
  {
   "cell_type": "code",
   "execution_count": null,
   "id": "88756342-64e0-42f4-96d9-b9822e002bd7",
   "metadata": {},
   "outputs": [],
   "source": [
    "(\n",
    "    downsampling_idw_low.plot(\n",
    "        title=\"Zoomed 480km (power=1, k=2)\",\n",
    "        xlim=(-10, 10),\n",
    "        ylim=(-5, 5),\n",
    "        cmap=ux.cmaps.sequential_blue,\n",
    "    )\n",
    "    * features\n",
    "    + downsampling_idw_high.plot(\n",
    "        title=\"Zoomed 480km (power=5, k=128)\",\n",
    "        xlim=(-10, 10),\n",
    "        ylim=(-5, 5),\n",
    "        cmap=ux.cmaps.sequential_blue,\n",
    "    )\n",
    "    * features\n",
    ").cols(1).opts(fig_size=125)"
   ]
  },
  {
   "cell_type": "markdown",
   "id": "5c476348-312e-4c91-91d0-3b13c7b3c972",
   "metadata": {},
   "source": [
    "Now we can do the same thing with an upsampling example:"
   ]
  },
  {
   "cell_type": "code",
   "execution_count": null,
   "id": "439ac480-c4f3-4080-a18c-8f670367c194",
   "metadata": {},
   "outputs": [],
   "source": [
    "upsampling_idw_low = uxds_480[\"bottomDepth\"].remap.inverse_distance_weighted(\n",
    "    uxds_120.uxgrid, remap_to=\"face centers\", power=1, k=2\n",
    ")\n",
    "upsampling_idw_high = uxds_480[\"bottomDepth\"].remap.inverse_distance_weighted(\n",
    "    uxds_120.uxgrid, remap_to=\"face centers\", power=5, k=128\n",
    ")"
   ]
  },
  {
   "cell_type": "code",
   "execution_count": null,
   "id": "0dc0497d-13bd-4b5b-9792-ad6ce26aded5",
   "metadata": {},
   "outputs": [],
   "source": [
    "(\n",
    "    upsampling_idw_low.plot(\n",
    "        title=\"Zoomed 120km (power=1, k=2)\",\n",
    "        xlim=(-10, 10),\n",
    "        ylim=(-5, 5),\n",
    "        cmap=ux.cmaps.sequential_blue,\n",
    "    )\n",
    "    * features\n",
    "    + upsampling_idw_high.plot(\n",
    "        title=\"Zoomed 120km (power=5, k=128)\",\n",
    "        xlim=(-10, 10),\n",
    "        ylim=(-5, 5),\n",
    "        cmap=ux.cmaps.sequential_blue,\n",
    "    )\n",
    "    * features\n",
    ").cols(1).opts(fig_size=125)"
   ]
  },
  {
   "cell_type": "markdown",
   "id": "6b3b52bb-4d21-48a1-ae65-91387f97636b",
   "metadata": {},
   "source": [
    "When we alter the `k` and `power` values during downsampling, we observe only minor effects. This is somewhat expected because downsampling involves transitioning from a grid with numerous faces to one where several faces are consolidated into one. Consequently, regardless of how many neighboring faces we consider, the impact remains limited, especially given the weighted calculation. \n",
    "\n",
    "Conversely, during upsampling, the effects are much more pronounced. This is logical, considering that upsampling involves transitioning from a grid with fewer faces, where each face represents a larger area, to one where more faces are present, representing a smaller area per face. Therefore, adjusting from 2 neighbors to 128 leads to substantial changes because the additional faces encompase a much larger area, and by effect much more drastic changes in values."
   ]
  }
 ],
 "metadata": {
  "kernelspec": {
   "display_name": "Python 3 (ipykernel)",
   "language": "python",
   "name": "python3"
  },
  "language_info": {
   "codemirror_mode": {
    "name": "ipython",
    "version": 3
   },
   "file_extension": ".py",
   "mimetype": "text/x-python",
   "name": "python",
   "nbconvert_exporter": "python",
   "pygments_lexer": "ipython3",
   "version": "3.11.9"
  }
 },
 "nbformat": 4,
 "nbformat_minor": 5
}
