{
 "cells": [
  {
   "cell_type": "markdown",
   "id": "d9d3f5a8-6d3c-4a7e-9150-a2915f3e0ceb",
   "metadata": {},
   "source": [
    "# Remapping"
   ]
  },
  {
   "cell_type": "markdown",
   "id": "1b0c0018-3c30-4909-9057-3fc59abe96fd",
   "metadata": {},
   "source": [
    "UXarray allows us to remap from one dataset to another, using various methods covered in this guide. This lets us take data from one grid, and transfer it to a different grid, which is very useful when we want to change grid resolution but keep the data of our current grid. It can also be used to take several different datasets, and combined them together to have a dataset with multiple different variables of data. This are just some of the more common use cases, there are of course many others."
   ]
  },
  {
   "cell_type": "code",
   "execution_count": null,
   "id": "7449507f-3d79-4e86-a775-3b9137153adc",
   "metadata": {},
   "outputs": [],
   "source": [
    "import uxarray as ux\n",
    "\n",
    "# Visualization requirements\n",
    "import geocat.datafiles as geodf\n",
    "import cartopy.crs as ccrs\n",
    "import geoviews.feature as gf\n",
    "import holoviews as hv\n",
    "import warnings\n",
    "\n",
    "plot_opts = {\"width\": 700, \"height\": 350}\n",
    "\n",
    "hv.extension(\"bokeh\")\n",
    "\n",
    "warnings.filterwarnings(\"ignore\")"
   ]
  },
  {
   "cell_type": "markdown",
   "id": "9ee52811-dbe5-4f32-be86-151e94737b75",
   "metadata": {},
   "source": [
    "We will use the following datasets:"
   ]
  },
  {
   "cell_type": "code",
   "execution_count": null,
   "id": "4d73a380-349d-473d-8e57-10c52102adca",
   "metadata": {},
   "outputs": [],
   "source": [
    "datafiles = (\n",
    "    geodf.get(\n",
    "        \"netcdf_files/MPAS/FalkoJudt/dyamond_1/30km/diag.2016-08-20_00.00.00_subset.nc\"\n",
    "    ),\n",
    "    geodf.get(\"netcdf_files/MPAS/FalkoJudt/dyamond_1/30km/x1.655362.grid_subset.nc\"),\n",
    ")\n",
    "grid_path = \"../../test/meshfiles/ugrid/outCSne30/outCSne30.ug\"\n",
    "data_path = \"../../test/meshfiles/ugrid/outCSne30/outCSne30_vortex.nc\"\n",
    "\n",
    "source = ux.open_dataset(datafiles[1], datafiles[0])\n",
    "destination = ux.open_dataset(grid_path, data_path)"
   ]
  },
  {
   "cell_type": "markdown",
   "id": "e461b2ea-3063-4b43-a522-406d1dab967a",
   "metadata": {},
   "source": [
    "The features are for visualazation and is not related to remapping"
   ]
  },
  {
   "cell_type": "code",
   "execution_count": null,
   "id": "d40c631f-a52b-4af9-a6b2-a90c739d36d7",
   "metadata": {},
   "outputs": [],
   "source": [
    "features = gf.coastline(\n",
    "    projection=ccrs.PlateCarree(), line_width=1, scale=\"50m\"\n",
    ") * gf.states(projection=ccrs.PlateCarree(), line_width=1, scale=\"50m\")"
   ]
  },
  {
   "cell_type": "markdown",
   "id": "0e7f1fc3-090f-4aa4-86b3-de240dc68909",
   "metadata": {},
   "source": [
    "### Nearest Neighbor"
   ]
  },
  {
   "cell_type": "markdown",
   "id": "969b42fd-bcd8-4781-b1b3-5dfddc42153f",
   "metadata": {},
   "source": [
    "Nearest neighbor remapping a point by point remapping which doesn't modify the data points as it remaps. This method takes and finds the nearest neighbor in the source grid to each point in the destination grid, and assigns that data value to the point in the destination grid. Lets take a look at our current destination dataset:"
   ]
  },
  {
   "cell_type": "code",
   "execution_count": null,
   "id": "d54b05c5-2cd0-4f11-b074-94615e2a5ca3",
   "metadata": {},
   "outputs": [],
   "source": [
    "destination"
   ]
  },
  {
   "cell_type": "markdown",
   "id": "ff89dab4-0517-4798-9ead-75e70bf136b1",
   "metadata": {},
   "source": [
    "We can see that it only has a single variable, `psi` inside it. Now let's remap using nearest neighbor and take a variable from our source dataset, `relhum_200hPa`, and add it to our destination dataset."
   ]
  },
  {
   "cell_type": "markdown",
   "id": "7a942103-7188-4352-b203-fa58e5cc6fe9",
   "metadata": {},
   "source": [
    "`nearest_neighbor` has a few parameters we can use to control the remapping:\n",
    "\n",
    "* `destination_obj` is the grid/dataset object that is being remapped to.\n",
    "* `remap_to` specifices the location of the remaping, either to `nodes`, `face centers`, or `edge centers`.\n",
    "* `coord_type` refers to what coordinate system to use, either `spherical` or `cartesian`."
   ]
  },
  {
   "cell_type": "code",
   "execution_count": null,
   "id": "d4550735-053a-4542-b259-fb7d8c2e6fae",
   "metadata": {},
   "outputs": [],
   "source": [
    "source[\"relhum_200hPa\"].remap.nearest_neighbor(destination, remap_to=\"face centers\")"
   ]
  },
  {
   "cell_type": "markdown",
   "id": "7902f3df-eeb4-4b7d-9c77-0ec50a30ec6b",
   "metadata": {},
   "source": [
    "As we can see, `relhum_200hPa` is now inside the destination dataset alongside `psi`. This can be visualized below, with the orginal source dataset being plotted alongside the new remapped data."
   ]
  },
  {
   "cell_type": "code",
   "execution_count": null,
   "id": "7ded62e3-3594-4949-a91a-858e3e11ee41",
   "metadata": {},
   "outputs": [],
   "source": [
    "source[\"relhum_200hPa\"][0].plot.rasterize(\n",
    "    method=\"polygon\",\n",
    "    exclude_antimeridian=True,\n",
    "    title=\"Original Data\",\n",
    "    height=350,\n",
    "    width=700,\n",
    ") * features"
   ]
  },
  {
   "cell_type": "code",
   "execution_count": null,
   "id": "c67a3e0f-b622-40a8-93af-55200bafc0df",
   "metadata": {},
   "outputs": [],
   "source": [
    "destination[\"relhum_200hPa\"][0].plot.rasterize(\n",
    "    method=\"polygon\",\n",
    "    exclude_antimeridian=True,\n",
    "    title=\"Remapped Data\",\n",
    "    height=350,\n",
    "    width=700,\n",
    ") * features"
   ]
  },
  {
   "cell_type": "markdown",
   "id": "d5fc2cfb-2a0b-49dd-bfc4-48d5e6badade",
   "metadata": {},
   "source": [
    "The remapped data is much lower resolution, as the grid we remapped to is lower resolution itself."
   ]
  },
  {
   "cell_type": "markdown",
   "id": "549c51a5-861d-40ff-af04-99a9118173dc",
   "metadata": {},
   "source": [
    "### Inverse Distance Weighted"
   ]
  },
  {
   "cell_type": "markdown",
   "id": "33318f23-276d-46ed-aa47-3e7ffaf466fd",
   "metadata": {},
   "source": [
    "Inverse distance weighted remapping assigns a value based on the weighted average of a specified number of nearby points. This gives a more smooth remapping than the nearest neighbor and helps decrease the chance of outliers. However, it is a non-conservative remapping method."
   ]
  },
  {
   "cell_type": "code",
   "execution_count": null,
   "id": "03379dcc-f81e-4d6b-99b7-3c84e69172ff",
   "metadata": {},
   "outputs": [],
   "source": [
    "source[\"relhum_200hPa\"].remap.inverse_distance_weighted(\n",
    "    destination, remap_to=\"face centers\"\n",
    ")"
   ]
  },
  {
   "cell_type": "code",
   "execution_count": null,
   "id": "160505d5-01c9-4e8e-b905-273e9b820e8b",
   "metadata": {},
   "outputs": [],
   "source": [
    "destination[\"relhum_200hPa\"][0].plot.rasterize(\n",
    "    method=\"polygon\",\n",
    "    exclude_antimeridian=True,\n",
    "    title=\"Remapped Data\",\n",
    "    height=350,\n",
    "    width=700,\n",
    ") * features"
   ]
  },
  {
   "cell_type": "markdown",
   "id": "484806dd-e0f3-46cd-93fd-2c944b702eac",
   "metadata": {},
   "source": [
    "For inverse distance weighted remapping the parameters are the same as nearest neighbor but, with two extra parameters we can use to change the remapping parameters.\n",
    "\n",
    "* `power` controls how local or global the remapping is, the larger this value the less influence points that are further away have.\n",
    "* `k` is the number of neighbors to use in the weighted average."
   ]
  },
  {
   "cell_type": "markdown",
   "id": "fbd5894b-52d7-4519-b3a0-0f0d0f4bc4e8",
   "metadata": {},
   "source": [
    "### Bilinear Remapping"
   ]
  },
  {
   "cell_type": "code",
   "execution_count": null,
   "id": "a9d23e8b-cf63-4ee8-8fb7-048c60f92caf",
   "metadata": {},
   "outputs": [],
   "source": [
    "# Coming Soon"
   ]
  }
 ],
 "metadata": {
  "kernelspec": {
   "display_name": "Python 3 (ipykernel)",
   "language": "python",
   "name": "python3"
  },
  "language_info": {
   "codemirror_mode": {
    "name": "ipython",
    "version": 3
   },
   "file_extension": ".py",
   "mimetype": "text/x-python",
   "name": "python",
   "nbconvert_exporter": "python",
   "pygments_lexer": "ipython3",
   "version": "3.11.9"
  }
 },
 "nbformat": 4,
 "nbformat_minor": 5
}
