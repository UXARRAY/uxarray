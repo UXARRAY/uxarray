{
 "cells": [
  {
   "cell_type": "code",
   "execution_count": null,
   "id": "9860eef1-8430-4c72-a7bc-0499e18eee34",
   "metadata": {},
   "outputs": [],
   "source": [
    "import uxarray as ux"
   ]
  },
  {
   "cell_type": "code",
   "execution_count": null,
   "id": "7944c6b2-2620-4c3b-a8ff-8bc37de249da",
   "metadata": {},
   "outputs": [],
   "source": [
    "uxgrid = ux.open_grid(\"../../test/meshfiles/geos-cs/c12/test-c12.native.nc4\")"
   ]
  },
  {
   "cell_type": "code",
   "execution_count": null,
   "id": "96523fa4-527f-44d4-bcbe-72f97b1c1bba",
   "metadata": {},
   "outputs": [],
   "source": [
    "merged_grid = uxgrid.merge_duplicate_node_indices()"
   ]
  },
  {
   "cell_type": "code",
   "execution_count": null,
   "id": "cb4649cf-6f3b-48f1-82a3-044633f1840e",
   "metadata": {},
   "outputs": [],
   "source": [
    "new_grid = merged_grid.compute_dual()"
   ]
  },
  {
   "cell_type": "code",
   "execution_count": null,
   "id": "4b58ca5d-3399-410d-92ca-8c927dec0935",
   "metadata": {},
   "outputs": [],
   "source": [
    "new_grid.plot(backend=\"matplotlib\", fig_size=200) + uxgrid.plot(\n",
    "    backend=\"matplotlib\", fig_size=200, color=\"red\"\n",
    ")"
   ]
  }
 ],
 "metadata": {
  "kernelspec": {
   "display_name": "Python 3 (ipykernel)",
   "language": "python",
   "name": "python3"
  },
  "language_info": {
   "codemirror_mode": {
    "name": "ipython",
    "version": 3
   },
   "file_extension": ".py",
   "mimetype": "text/x-python",
   "name": "python",
   "nbconvert_exporter": "python",
   "pygments_lexer": "ipython3",
   "version": "3.12.4"
  }
 },
 "nbformat": 4,
 "nbformat_minor": 5
}
