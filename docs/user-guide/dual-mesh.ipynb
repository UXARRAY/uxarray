{
 "cells": [
  {
   "cell_type": "markdown",
   "id": "0660f9ec-8fa3-44a7-b362-3aa6526d8550",
   "metadata": {},
   "source": [
    "# Dual Mesh Construction"
   ]
  },
  {
   "cell_type": "code",
   "execution_count": null,
   "id": "4fd7d3b3-5186-4157-841e-1b4c9f38bb62",
   "metadata": {},
   "outputs": [],
   "source": [
    "import uxarray as ux\n",
    "import warnings\n",
    "import geocat.datafiles as geodf\n",
    "\n",
    "warnings.filterwarnings(\"ignore\")"
   ]
  },
  {
   "cell_type": "code",
   "execution_count": null,
   "id": "1eebd05d-506e-4227-aa8e-f1212aae30f2",
   "metadata": {},
   "outputs": [],
   "source": [
    "datafile = (\n",
    "    geodf.get(\"netcdf_files/MPAS/FalkoJudt/dyamond_1/30km/x1.655362.grid_subset.nc\"),\n",
    ")"
   ]
  },
  {
   "cell_type": "markdown",
   "id": "dc3b2464-b824-413f-b2e6-40b1e7049f3b",
   "metadata": {},
   "source": [
    "The dual mesh of a grid is where the face centers of all primal (original) grid become the nodes of the dual mesh, and the nodes of the primal mesh become the face centers of the primal mesh. Using UXarray we can construct this dual mesh, using `grid.compute_dual()`. `compute_dual()` takes on argument, `method`. Currently only global dual meshes are supported, local dual meshes are planned for a later date. `compute_dual()` returns a new grid object."
   ]
  },
  {
   "cell_type": "code",
   "execution_count": null,
   "id": "6486e0e4-1908-4363-8196-2efa9e521e56",
   "metadata": {},
   "outputs": [],
   "source": [
    "grid = ux.open_grid(datafile[0])"
   ]
  },
  {
   "cell_type": "code",
   "execution_count": null,
   "id": "fd6fc566-a368-4aae-889e-7092e123151d",
   "metadata": {},
   "outputs": [],
   "source": [
    "grid = grid.subset.nearest_neighbor((0, 0), 1000)"
   ]
  },
  {
   "cell_type": "code",
   "execution_count": null,
   "id": "925a82d6-2947-4b15-a3ff-0b0612bc5ba0",
   "metadata": {},
   "outputs": [],
   "source": [
    "dual = grid.compute_dual()"
   ]
  },
  {
   "cell_type": "code",
   "execution_count": null,
   "id": "27fd5578-996e-4cdf-be90-0f50cf322684",
   "metadata": {},
   "outputs": [],
   "source": [
    "dual.plot(backend=\"matplotlib\", fig_size=300) * grid.plot(\n",
    "    backend=\"matplotlib\", fig_size=300\n",
    ")"
   ]
  },
  {
   "cell_type": "code",
   "execution_count": null,
   "id": "3fce9add-6255-466e-954d-4856d96788ae",
   "metadata": {},
   "outputs": [],
   "source": []
  }
 ],
 "metadata": {
  "kernelspec": {
   "display_name": "Python 3 (ipykernel)",
   "language": "python",
   "name": "python3"
  },
  "language_info": {
   "codemirror_mode": {
    "name": "ipython",
    "version": 3
   },
   "file_extension": ".py",
   "mimetype": "text/x-python",
   "name": "python",
   "nbconvert_exporter": "python",
   "pygments_lexer": "ipython3",
   "version": "3.12.4"
  }
 },
 "nbformat": 4,
 "nbformat_minor": 5
}
