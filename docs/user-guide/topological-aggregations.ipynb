{
 "cells": [
  {
   "cell_type": "markdown",
   "id": "8c7ebaa6a858cbbb",
   "metadata": {
    "collapsed": false,
    "jupyter": {
     "outputs_hidden": false
    }
   },
   "source": [
    "# Topological Aggregations"
   ]
  },
  {
   "cell_type": "markdown",
   "id": "5121ff038b3e683e",
   "metadata": {
    "collapsed": false,
    "jupyter": {
     "outputs_hidden": false
    }
   },
   "source": [
    "Data variables are typically mapped to either the nodes, edges, or faces of an unstructured grid. The data on each of these elements can be manipulated and aggregated to perform various operations, such as mean, min, max and many others. This section will introduce the concept of Topological Aggregations and how to perform them using UXarray.\n"
   ]
  },
  {
   "cell_type": "code",
   "execution_count": null,
   "id": "93d83a02a42e21c1",
   "metadata": {
    "collapsed": false,
    "jupyter": {
     "outputs_hidden": false
    }
   },
   "outputs": [],
   "source": [
    "import uxarray as ux"
   ]
  },
  {
   "cell_type": "markdown",
   "id": "775f787cfb55ef91",
   "metadata": {
    "collapsed": false,
    "jupyter": {
     "outputs_hidden": false
    }
   },
   "source": [
    "## What are Aggregations?\n",
    "\n",
    "An aggregation is an operation that processes data and returns a summarized output. In the context of Numpy, this includes functions such as:\n",
    "* `np.mean()`: Calculate the average value from an array of elements\n",
    "* `np.min()`: Calculate the minimum value from an array of elements\n",
    "* `np.std()`: Calculate the standard deviation from an array of elements\n",
    "\n",
    "In the context of a one-dimensional array, the aggregation is performed over the entire array. Otherwise, it is performed across a specific axis. "
   ]
  },
  {
   "cell_type": "markdown",
   "id": "99c4450a10bfa9e9",
   "metadata": {
    "collapsed": false,
    "jupyter": {
     "outputs_hidden": false
    }
   },
   "source": [
    "## What are Topological Aggregations? \n",
    "\n",
    "When working with unstructured grids, data variables are mapped to either nodes, edges, or faces and stored as one-dimensional slices in memory, with no spatial relationship between neighbors. This means that performing a regular aggregation as discussed above would not consider the topology of the grid elements. \n",
    "\n",
    "A topological aggregation can be thought of as performing multiple aggregations on a per-element basis. For example, instead of computing the average across all values, we can compute the average of all the nodes that surround each face and store the result on each face. \n",
    "\n",
    "By utilizing connectivity information, we can perform the following topological aggregations:\n",
    "* **Node to Face:** Applied to the nodes that surround each face\n",
    "* **Node to Edge:** Applied to the nodes that saddle each edge\n",
    "* **Edge to Node:** Applied to the edges that saddle each node\n",
    "* **Edge to Face:** Applied to the edges that surround each face\n",
    "* **Face to Node:** Applied to the faces that surround each node\n",
    "* **Face to Edge:** Applied to the faces that saddle each edge\n",
    "\n",
    "UXarray supports the following topological aggregation functions:\n",
    "* `UxDataArray.topological_mean()`\n",
    "* `UxDataArray.topological_max()`\n",
    "* `UxDataArray.topological_min()`\n",
    "* `UxDataArray.topological_prod()`\n",
    "* `UxDataArray.topological_sum()`\n",
    "* `UxDataArray.topological_std()`\n",
    "* `UxDataArray.topological_var()`\n",
    "* `UxDataArray.topological_median()`\n",
    "* `UxDataArray.topological_all()`\n",
    "* `UxDataArray.topological_any()`\n",
    "\n",
    "Each of these aggregations performs the same operation described in Numpy, but is applied on a per-element basis. \n",
    "\n",
    "For the remainder of this guide, we will be using the `topological_mean` aggregation, but can be swapped for any of the above methods if desired."
   ]
  },
  {
   "cell_type": "markdown",
   "id": "db3ce31e96ce3719",
   "metadata": {
    "collapsed": false,
    "jupyter": {
     "outputs_hidden": false
    }
   },
   "source": [
    "## Data\n",
    "\n",
    "The data used in this section is the quad hexagon mesh, with three random data variables mapped to the nodes, edges, and faces.\n",
    "\n",
    "```{idea}\n",
    "The plots in this notebook are interactive. You can hover over the data points to view their values.\n",
    "```"
   ]
  },
  {
   "cell_type": "code",
   "execution_count": null,
   "id": "a0c9a0f19efd0633",
   "metadata": {
    "collapsed": false,
    "jupyter": {
     "outputs_hidden": false
    }
   },
   "outputs": [],
   "source": [
    "grid_path = \"../../test/meshfiles/ugrid/quad-hexagon/grid.nc\"\n",
    "\n",
    "data_paths = [\n",
    "    \"../../test/meshfiles/ugrid/quad-hexagon/random-node-data.nc\",\n",
    "    \"../../test/meshfiles/ugrid/quad-hexagon/random-edge-data.nc\",\n",
    "    \"../../test/meshfiles/ugrid/quad-hexagon/random-face-data.nc\",\n",
    "]\n",
    "\n",
    "uxds = ux.open_mfdataset(grid_path, data_paths)\n",
    "\n",
    "uxds"
   ]
  },
  {
   "cell_type": "markdown",
   "id": "ce3bcc602c52502c",
   "metadata": {
    "collapsed": false,
    "jupyter": {
     "outputs_hidden": false
    }
   },
   "source": [
    "We can visualize the data on each element by using different markers:"
   ]
  },
  {
   "cell_type": "code",
   "execution_count": null,
   "id": "4439706a33f61576",
   "metadata": {
    "collapsed": false,
    "jupyter": {
     "outputs_hidden": false
    }
   },
   "outputs": [],
   "source": [
    "(\n",
    "    uxds.uxgrid.plot(line_color=\"black\")\n",
    "    * uxds[\"random_data_node\"]\n",
    "    .plot.points(\n",
    "        cmap=\"inferno\", size=150, marker=\"circle\", clabel=None, tools=[\"hover\"]\n",
    "    )\n",
    "    .relabel(\"Node Data\")\n",
    "    * uxds[\"random_data_edge\"]\n",
    "    .plot.points(\n",
    "        cmap=\"inferno\", size=150, marker=\"square\", clabel=None, tools=[\"hover\"]\n",
    "    )\n",
    "    .relabel(\"Edge Data\")\n",
    "    * uxds[\"random_data_face\"]\n",
    "    .plot.points(\n",
    "        cmap=\"inferno\", size=150, marker=\"triangle\", clabel=None, tools=[\"hover\"]\n",
    "    )\n",
    "    .relabel(\"Face Data\")\n",
    ").opts(legend_position=\"top_right\")"
   ]
  },
  {
   "cell_type": "markdown",
   "id": "584207e271b49e06",
   "metadata": {
    "collapsed": false,
    "jupyter": {
     "outputs_hidden": false
    }
   },
   "source": [
    "## Node Aggregations\n",
    "\n",
    "The follow aggregations are for node-centered data."
   ]
  },
  {
   "cell_type": "markdown",
   "id": "62136ed1b4e4d52e",
   "metadata": {
    "collapsed": false,
    "jupyter": {
     "outputs_hidden": false
    }
   },
   "source": [
    "### Node to Face\n",
    "\n",
    "We can aggregate the data from the nodes that surround each face and store the result on each face.\n",
    "\n",
    "<img src=\"../_static/examples/agg/node_face.png\" width=\"600\" alt=\"Optional Alt Text\">"
   ]
  },
  {
   "cell_type": "code",
   "execution_count": null,
   "id": "6cdf74072b2c2b43",
   "metadata": {
    "collapsed": false,
    "jupyter": {
     "outputs_hidden": false
    }
   },
   "outputs": [],
   "source": [
    "uxda_node_face_agg = uxds[\"random_data_node\"].topological_mean(destination=\"face\")"
   ]
  },
  {
   "cell_type": "code",
   "execution_count": null,
   "id": "fdea0dda96ebe09d",
   "metadata": {
    "collapsed": false,
    "jupyter": {
     "outputs_hidden": false
    }
   },
   "outputs": [],
   "source": [
    "(\n",
    "    uxds.uxgrid.plot(line_color=\"black\")\n",
    "    * uxds[\"random_data_node\"]\n",
    "    .plot.points(\n",
    "        cmap=\"inferno\", size=150, marker=\"circle\", clabel=None, tools=[\"hover\"]\n",
    "    )\n",
    "    .relabel(\"Node Data\")\n",
    "    * uxda_node_face_agg.plot.points(\n",
    "        cmap=\"inferno\", size=150, marker=\"triangle\", clabel=None, tools=[\"hover\"]\n",
    "    ).relabel(\"Node to Face Mean\")\n",
    ").opts(title=\"Node to Face Aggregation (Mean)\", legend_position=\"top_right\")"
   ]
  },
  {
   "cell_type": "markdown",
   "id": "e8f959f893e838ff",
   "metadata": {
    "collapsed": false,
    "jupyter": {
     "outputs_hidden": false
    }
   },
   "source": [
    "One use case for aggregating node-centered data to each face is that it allows for the result to be plotted as Polygons."
   ]
  },
  {
   "cell_type": "code",
   "execution_count": null,
   "id": "e7c7780435202338",
   "metadata": {
    "collapsed": false,
    "jupyter": {
     "outputs_hidden": false
    }
   },
   "outputs": [],
   "source": [
    "uxda_node_face_agg.plot.polygons(\n",
    "    cmap=\"inferno\",\n",
    "    title=\"Polygon Plot of Node to Face Aggregation (Mean)\",\n",
    "    tools=[\"hover\"],\n",
    ").opts(title=\"Node to Face Aggregation (Mean)\")"
   ]
  },
  {
   "cell_type": "markdown",
   "id": "71b10f1a1f0a0939",
   "metadata": {
    "collapsed": false,
    "jupyter": {
     "outputs_hidden": false
    }
   },
   "source": [
    "### Node to Edge\n",
    "\n",
    "We can aggregate the data from the nodes that saddle each edge and store the result on each edge.\n",
    "\n",
    "<img src=\"../_static/examples/agg/node_edge.png\" width=\"600\" alt=\"Optional Alt Text\">"
   ]
  },
  {
   "cell_type": "markdown",
   "id": "19b624f42cbdc16b",
   "metadata": {
    "collapsed": false,
    "jupyter": {
     "outputs_hidden": false
    }
   },
   "source": [
    "For a node-centered data variable, we can set `destination=\"edge\"` to specify that the aggregation should be performed on the nodes that saddle each edge, with the result stored on each edge."
   ]
  },
  {
   "cell_type": "code",
   "execution_count": null,
   "id": "db5c4cce296023a",
   "metadata": {
    "collapsed": false,
    "jupyter": {
     "outputs_hidden": false
    }
   },
   "outputs": [],
   "source": [
    "uxda_node_edge_agg = uxds[\"random_data_node\"].topological_mean(destination=\"edge\")"
   ]
  },
  {
   "cell_type": "code",
   "execution_count": null,
   "id": "4a3c7b486e5d78d",
   "metadata": {
    "collapsed": false,
    "jupyter": {
     "outputs_hidden": false
    }
   },
   "outputs": [],
   "source": [
    "(\n",
    "    uxds.uxgrid.plot(line_color=\"black\")\n",
    "    * uxds[\"random_data_node\"]\n",
    "    .plot.points(\n",
    "        cmap=\"inferno\", size=150, marker=\"circle\", clabel=None, tools=[\"hover\"]\n",
    "    )\n",
    "    .relabel(\"Node Data\")\n",
    "    * uxda_node_edge_agg.plot.points(\n",
    "        cmap=\"inferno\", size=150, marker=\"square\", clabel=None, tools=[\"hover\"]\n",
    "    ).relabel(\"Node to Edge Mean\")\n",
    ").opts(title=\"Node to Edge Aggregation (Mean)\", legend_position=\"top_right\")"
   ]
  },
  {
   "cell_type": "markdown",
   "id": "448ac6705a18f85b",
   "metadata": {
    "collapsed": false,
    "jupyter": {
     "outputs_hidden": false
    }
   },
   "source": [
    "## Edge Aggregations\n",
    "\n",
    "The follow aggregations are for edge-centered data. \n",
    "\n",
    "```{warning}\n",
    "Aggregation of edge-centered data is not yet supported in UXarray. \n",
    "```\n",
    "\n"
   ]
  },
  {
   "cell_type": "markdown",
   "id": "357fe2f645bf3d4e",
   "metadata": {
    "collapsed": false,
    "jupyter": {
     "outputs_hidden": false
    }
   },
   "source": [
    "### Edge to Node\n",
    "\n",
    "We can aggregate the data from the edges that surround each node and store the result on each node.\n",
    "\n",
    "<img src=\"../_static/examples/agg/edge_node.png\" width=\"600\" alt=\"Optional Alt Text\">"
   ]
  },
  {
   "cell_type": "markdown",
   "id": "86846522863860f5",
   "metadata": {
    "collapsed": false,
    "jupyter": {
     "outputs_hidden": false
    }
   },
   "source": [
    "### Edge to Face\n",
    "\n",
    "We can aggregate the data from the edges that surround each face and store the result on each face.\n",
    "\n",
    "<img src=\"../_static/examples/agg/edge_face.png\" width=\"600\" alt=\"Optional Alt Text\">"
   ]
  },
  {
   "cell_type": "markdown",
   "id": "7dd482e719e7d775",
   "metadata": {
    "collapsed": false,
    "jupyter": {
     "outputs_hidden": false
    }
   },
   "source": [
    "## Face Aggregations\n",
    "\n",
    "The following aggregations are for face-centered data.\n",
    "\n",
    "```{warning}\n",
    "Aggregation of face-centered data is not yet supported in UXarray. \n",
    "```\n"
   ]
  },
  {
   "cell_type": "markdown",
   "id": "29ebe5d21bbcc46b",
   "metadata": {
    "collapsed": false,
    "jupyter": {
     "outputs_hidden": false
    }
   },
   "source": [
    "### Face to Node\n",
    "\n",
    "We can aggregate the data from the faces that surround each node and store the result on each node.\n",
    "\n",
    "<img src=\"../_static/examples/agg/face_node.png\" width=\"600\" alt=\"Optional Alt Text\">"
   ]
  },
  {
   "cell_type": "markdown",
   "id": "1609e8bef449a334",
   "metadata": {
    "collapsed": false,
    "jupyter": {
     "outputs_hidden": false
    }
   },
   "source": [
    "### Face to Edge\n",
    "\n",
    "We can aggregate the data from the faces that saddle each edge and store the result on each edge\n",
    "\n",
    "<img src=\"../_static/examples/agg/face_edge.png\" width=\"600\" alt=\"Optional Alt Text\">"
   ]
  }
 ],
 "metadata": {
  "kernelspec": {
   "display_name": "Python 3 (ipykernel)",
   "language": "python",
   "name": "python3"
  },
  "language_info": {
   "codemirror_mode": {
    "name": "ipython",
    "version": 3
   },
   "file_extension": ".py",
   "mimetype": "text/x-python",
   "name": "python",
   "nbconvert_exporter": "python",
   "pygments_lexer": "ipython3",
   "version": "3.11.9"
  }
 },
 "nbformat": 4,
 "nbformat_minor": 5
}
