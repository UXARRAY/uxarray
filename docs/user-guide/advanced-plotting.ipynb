{
 "cells": [
  {
   "cell_type": "markdown",
   "source": [
    "# Advanced Plotting Techniques"
   ],
   "metadata": {
    "collapsed": false
   },
   "id": "6ed8f179fd52f3ff"
  },
  {
   "cell_type": "markdown",
   "source": [
    "```{seealso}\n",
    "This section is currently under development. For more information about advanced plotting techniques for unstructured grids, please refer to the [Unstructured Grid Visualuzation Cookbook](https://projectpythia.org/unstructured-grid-viz-cookbook/README.html).\n",
    "```"
   ],
   "metadata": {
    "collapsed": false
   },
   "id": "d985f5b59e2e6a27"
  },
  {
   "cell_type": "code",
   "execution_count": null,
   "outputs": [],
   "source": [],
   "metadata": {
    "collapsed": false
   },
   "id": "22a8d2939338bdce"
  }
 ],
 "metadata": {
  "kernelspec": {
   "display_name": "Python 3",
   "language": "python",
   "name": "python3"
  },
  "language_info": {
   "codemirror_mode": {
    "name": "ipython",
    "version": 2
   },
   "file_extension": ".py",
   "mimetype": "text/x-python",
   "name": "python",
   "nbconvert_exporter": "python",
   "pygments_lexer": "ipython2",
   "version": "2.7.6"
  }
 },
 "nbformat": 4,
 "nbformat_minor": 5
}
