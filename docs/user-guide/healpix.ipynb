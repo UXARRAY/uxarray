{
 "cells": [
  {
   "cell_type": "markdown",
   "id": "d2efda6d5dc392c6",
   "metadata": {},
   "source": [
    "# Working with HEALPix Data\n",
    "\n",
    "In this notebook, we showcase how UXarray can be used with HEALPix data.\n",
    "* A brief overview into HEALPix\n",
    "* Representing a HEALPix grid in the UGRID conventions\n",
    "* Loading data that resides on HEALPix Grids"
   ]
  },
  {
   "cell_type": "code",
   "id": "19631a950304b3ff",
   "metadata": {},
   "source": [
    "import uxarray as ux\n",
    "import cartopy.crs as ccrs"
   ],
   "outputs": [],
   "execution_count": null
  },
  {
   "cell_type": "markdown",
   "id": "e904737d08c943d8",
   "metadata": {},
   "source": [
    "## What is HEALPix?\n",
    "\n",
    "The Hierarchical Equal Area isoLatitude Pixelisation (HEALPix) algorithm is a method for the pixelisation of the\n",
    "2-sphere. It has three defining qualities.\n",
    "- The sphere is hierarchically tessellated into curvilinear quadrilaterals\n",
    "- Areas of all pixels at a given resolution are identical\n",
    "- Pixels are distributed on lines of constant latitude\n",
    "\n",
    "```{note}\n",
    "For more information on HEALPix, you can refer to [this excellent overview](https://easy.gems.dkrz.de/Processing/healpix/index.html#hierarchical-healpix-output) in DKRZ's Easy Gems documentation.\n",
    "```\n",
    "\n",
    "\n",
    "\n",
    "\n"
   ]
  },
  {
   "cell_type": "markdown",
   "id": "bb2d4492bf05887c",
   "metadata": {},
   "source": [
    "## Representing a HEALPix Grid in the UGRID Conventions\n",
    "\n",
    "\n",
    "\n",
    "The number of cells in a HEALPix grid depends on the choice of `zoom` level, following the equation $12 \\cdot z^4$.\n",
    "\n",
    "The ``ux.Grid.from_healpix()`` classmethod can be used to represent a HEALPix Grid in the UGRID conventions. Given a zoom level, it will construct a ``ux.Grid`` instance representing a HEALPix grid.\n",
    "\n",
    "\n",
    "\n",
    "\n",
    "\n",
    "\n"
   ]
  },
  {
   "cell_type": "code",
   "id": "93f2df22a6decb93",
   "metadata": {},
   "source": [
    "ux.Grid.from_healpix(zoom=3)"
   ],
   "outputs": [],
   "execution_count": null
  },
  {
   "cell_type": "markdown",
   "id": "265b8581429e5eb3",
   "metadata": {},
   "source": "Since much of UXarray's functionality requires explicit defined connectivity arrays. The most important one is the `face_node_connectivity`, which contains the indices of the boundaries of each pixel. This also constructs the `node_lat` and `node_lon` variables, corresponding to the latitude and longitude of the boundaries of each pixel."
  },
  {
   "cell_type": "code",
   "id": "428a2bf61174e989",
   "metadata": {},
   "source": [
    "ux.Grid.from_healpix(zoom=3, pixels_only=False)"
   ],
   "outputs": [],
   "execution_count": null
  },
  {
   "cell_type": "markdown",
   "id": "b464bd06cf9dbf3b",
   "metadata": {},
   "source": "However, even if you load in a HEALPix grid specifying that you do not want the connectivity upfront, they can still be constructed when desired because of UXarray's internal design."
  },
  {
   "cell_type": "code",
   "id": "935e78eda9c2ce8c",
   "metadata": {},
   "source": [
    "ux.Grid.from_healpix(zoom=3, pixels_only=True).face_node_connectivity"
   ],
   "outputs": [],
   "execution_count": null
  },
  {
   "cell_type": "markdown",
   "id": "c4aa75312d6af2f7",
   "metadata": {},
   "source": [
    "### Plotting\n",
    "\n",
    "Once loaded in, UXarray does not care about the underlying grid format as it represents all formats in its unified UGRID-like convention; hence, all existing functionality is supported on HEALPix through the same UXarray interface, such as plotting."
   ]
  },
  {
   "cell_type": "code",
   "id": "34c9de64665bcd77",
   "metadata": {},
   "source": [
    "(\n",
    "    ux.Grid.from_healpix(zoom=2).plot(\n",
    "        periodic_elements=\"split\", projection=ccrs.Orthographic(), title=\"zoom=2\"\n",
    "    )\n",
    "    + ux.Grid.from_healpix(zoom=3).plot(\n",
    "        periodic_elements=\"split\", projection=ccrs.Orthographic(), title=\"zoom=3\"\n",
    "    )\n",
    "    + ux.Grid.from_healpix(zoom=4).plot(\n",
    "        periodic_elements=\"split\", projection=ccrs.Orthographic(), title=\"zoom=4\"\n",
    "    )\n",
    ").cols(1)"
   ],
   "outputs": [],
   "execution_count": null
  },
  {
   "cell_type": "markdown",
   "id": "1b98e1fcc7a7b47c",
   "metadata": {},
   "source": [
    "### Remapping\n",
    "\n",
    "If you are looking to remap data from one grid format to HEALPix, UXarray's remapping functionality can be used."
   ]
  },
  {
   "cell_type": "code",
   "id": "eb4879c32c78a4a0",
   "metadata": {},
   "source": [
    "source_uxds = ux.open_dataset(\n",
    "    \"../../test/meshfiles/ugrid/outCSne30/outCSne30.ug\",\n",
    "    \"../../test/meshfiles/ugrid/outCSne30/outCSne30_vortex.nc\",\n",
    ")\n",
    "\n",
    "source_uxds[\"psi\"].plot(\n",
    "    cmap=\"inferno\", projection=ccrs.Orthographic(), title=\"Source Data\"\n",
    ")"
   ],
   "outputs": [],
   "execution_count": null
  },
  {
   "cell_type": "code",
   "id": "d992b53b11194c64",
   "metadata": {},
   "source": [
    "hp_grid = ux.Grid.from_healpix(zoom=5)"
   ],
   "outputs": [],
   "execution_count": null
  },
  {
   "cell_type": "code",
   "id": "5adb8285-1886-4992-9f4e-7a89fdaa8986",
   "metadata": {},
   "source": [
    "source_uxds.uxgrid.plot(\n",
    "    projection=ccrs.Orthographic(), title=\"Source Grid (CSne30)\"\n",
    ") + hp_grid.plot(projection=ccrs.Orthographic(), title=\"Destination Grid (HEALPix)\")"
   ],
   "outputs": [],
   "execution_count": null
  },
  {
   "cell_type": "code",
   "id": "1e5cfa34f3bdb8b1",
   "metadata": {},
   "source": [
    "psi_hp = source_uxds[\"psi\"].remap.nearest_neighbor(destination_grid=hp_grid)\n",
    "psi_hp"
   ],
   "outputs": [],
   "execution_count": null
  },
  {
   "cell_type": "code",
   "id": "1c41d4d1-ade5-4a94-8072-27f3c3161344",
   "metadata": {},
   "source": [
    "psi_hp.plot(cmap=\"inferno\", projection=ccrs.Orthographic(), title=\"Remapped Data\")"
   ],
   "outputs": [],
   "execution_count": null
  },
  {
   "cell_type": "markdown",
   "id": "71540c52bb7838bc",
   "metadata": {},
   "source": [
    "We can chain together a few functions to convert our output from a UXarray Dataset to a NetCDF file, with the grid represented in the HEALPix format.\n",
    "- `to_dataset()`: Converts the ``ux.UxDataArray`` to a ``ux.UxDataset``\n",
    "- `to_xarray(grid_format=\"HEALPix\")`: Converts our ``ux.UxDataset`` to a ``xr.Dataset`` encoded in the HEALPix format.\n",
    "- `to_netcdf(\"psi_healpix.nc\")`: Saves our dataset to disk as a NetCDF file."
   ]
  },
  {
   "cell_type": "code",
   "id": "3c6c05475b2455cd",
   "metadata": {},
   "source": [
    "psi_hp.to_dataset().to_xarray(grid_format=\"HEALPix\").to_netcdf(\"psi_healpix.nc\")"
   ],
   "outputs": [],
   "execution_count": null
  },
  {
   "cell_type": "markdown",
   "id": "7988c071af403bf2",
   "metadata": {},
   "source": [
    "## Loading HEALPix Data in UXarray\n",
    "\n",
    "Using the example we generated above, we can load in data that is stored in the HEALPix format using the ``UxDataset.from_healpix()`` classmethod."
   ]
  },
  {
   "cell_type": "code",
   "id": "7a9e21366632177d",
   "metadata": {},
   "source": [
    "uxds = ux.UxDataset.from_healpix(\"psi_healpix.nc\")\n",
    "uxds"
   ],
   "outputs": [],
   "execution_count": null
  },
  {
   "metadata": {},
   "cell_type": "markdown",
   "source": "When a HEALPix dataset is loaded, the zoom level is automatically selected based off the size of the `cell` dimension in the original dataset. By printing our grid, we can see that our attached grid has a zoom level of 5.",
   "id": "cc7a24cc6156fc94"
  },
  {
   "metadata": {},
   "cell_type": "code",
   "source": "uxds.uxgrid",
   "id": "d93dd50b194a2eb3",
   "outputs": [],
   "execution_count": null
  },
  {
   "metadata": {},
   "cell_type": "code",
   "source": "",
   "id": "c27d63b6c41275fd",
   "outputs": [],
   "execution_count": null
  }
 ],
 "metadata": {
  "kernelspec": {
   "display_name": "Python 3 (ipykernel)",
   "language": "python",
   "name": "python3"
  },
  "language_info": {
   "codemirror_mode": {
    "name": "ipython",
    "version": 3
   },
   "file_extension": ".py",
   "mimetype": "text/x-python",
   "name": "python",
   "nbconvert_exporter": "python",
   "pygments_lexer": "ipython3",
   "version": "3.12.3"
  }
 },
 "nbformat": 4,
 "nbformat_minor": 5
}
