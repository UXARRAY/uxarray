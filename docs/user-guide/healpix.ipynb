{
 "cells": [
  {
   "cell_type": "markdown",
   "id": "d2efda6d5dc392c6",
   "metadata": {},
   "source": [
    "# Working with HEALPix Grids"
   ]
  },
  {
   "cell_type": "code",
   "execution_count": null,
   "id": "19631a950304b3ff",
   "metadata": {
    "jupyter": {
     "is_executing": true
    }
   },
   "outputs": [],
   "source": [
    "import uxarray as ux\n",
    "import cartopy.crs as ccrs"
   ]
  },
  {
   "cell_type": "markdown",
   "id": "bb2d4492bf05887c",
   "metadata": {},
   "source": [
    "## Representing HEALPix in the UGRID Conventions"
   ]
  },
  {
   "cell_type": "code",
   "execution_count": null,
   "id": "93f2df22a6decb93",
   "metadata": {
    "ExecuteTime": {
     "end_time": "2025-02-06T19:50:37.303321Z",
     "start_time": "2025-02-06T19:50:37.293532Z"
    }
   },
   "outputs": [],
   "source": [
    "ux.Grid.from_healpix(resolution_level=3)"
   ]
  },
  {
   "cell_type": "code",
   "execution_count": null,
   "id": "428a2bf61174e989",
   "metadata": {
    "ExecuteTime": {
     "end_time": "2025-02-06T19:50:37.326725Z",
     "start_time": "2025-02-06T19:50:37.307335Z"
    }
   },
   "outputs": [],
   "source": [
    "ux.Grid.from_healpix(resolution_level=3, pixels_only=False)"
   ]
  },
  {
   "cell_type": "markdown",
   "id": "c4aa75312d6af2f7",
   "metadata": {},
   "source": [
    "## Plotting"
   ]
  },
  {
   "cell_type": "code",
   "execution_count": null,
   "id": "34c9de64665bcd77",
   "metadata": {
    "ExecuteTime": {
     "start_time": "2025-02-06T19:50:37.382457Z"
    },
    "jupyter": {
     "is_executing": true
    }
   },
   "outputs": [],
   "source": [
    "(\n",
    "    ux.Grid.from_healpix(resolution_level=2).plot(\n",
    "        periodic_elements=\"split\", projection=ccrs.Orthographic()\n",
    "    )\n",
    "    + ux.Grid.from_healpix(resolution_level=3).plot(\n",
    "        periodic_elements=\"split\", projection=ccrs.Orthographic()\n",
    "    )\n",
    "    + ux.Grid.from_healpix(resolution_level=4).plot(\n",
    "        periodic_elements=\"split\", projection=ccrs.Orthographic()\n",
    "    )\n",
    ").cols(1)"
   ]
  },
  {
   "cell_type": "markdown",
   "id": "1b98e1fcc7a7b47c",
   "metadata": {},
   "source": [
    "## Remapping"
   ]
  },
  {
   "cell_type": "code",
   "execution_count": null,
   "id": "eb4879c32c78a4a0",
   "metadata": {
    "ExecuteTime": {
     "end_time": "2025-02-06T19:50:31.344415Z",
     "start_time": "2025-02-06T19:50:31.311897Z"
    }
   },
   "outputs": [],
   "source": [
    "source_uxds = ux.open_dataset(\n",
    "    \"../../test/meshfiles/ugrid/outCSne30/outCSne30.ug\",\n",
    "    \"../../test/meshfiles/ugrid/outCSne30/outCSne30_vortex.nc\",\n",
    ")\n",
    "\n",
    "source_uxds[\"psi\"].plot(\n",
    "    cmap=\"inferno\", projection=ccrs.Orthographic(), title=\"Source Data\"\n",
    ")"
   ]
  },
  {
   "cell_type": "code",
   "execution_count": null,
   "id": "d992b53b11194c64",
   "metadata": {},
   "outputs": [],
   "source": [
    "hp_grid = ux.Grid.from_healpix(resolution_level=5)"
   ]
  },
  {
   "cell_type": "code",
   "execution_count": null,
   "id": "5adb8285-1886-4992-9f4e-7a89fdaa8986",
   "metadata": {},
   "outputs": [],
   "source": [
    "source_uxds.uxgrid.plot(\n",
    "    projection=ccrs.Orthographic(), title=\"Source Grid (CSne30)\"\n",
    ") + hp_grid.plot(projection=ccrs.Orthographic(), title=\"Destination Grid (HEALPix)\")"
   ]
  },
  {
   "cell_type": "code",
   "execution_count": null,
   "id": "1e5cfa34f3bdb8b1",
   "metadata": {},
   "outputs": [],
   "source": [
    "psi_hp = source_uxds[\"psi\"].remap.nearest_neighbor(destination_grid=hp_grid)\n",
    "psi_hp"
   ]
  },
  {
   "cell_type": "code",
   "execution_count": null,
   "id": "1c41d4d1-ade5-4a94-8072-27f3c3161344",
   "metadata": {},
   "outputs": [],
   "source": [
    "psi_hp.plot(cmap=\"inferno\", projection=ccrs.Orthographic(), title=\"Remapped Data\")"
   ]
  }
 ],
 "metadata": {
  "kernelspec": {
   "display_name": "Python 3 (ipykernel)",
   "language": "python",
   "name": "python3"
  },
  "language_info": {
   "codemirror_mode": {
    "name": "ipython",
    "version": 3
   },
   "file_extension": ".py",
   "mimetype": "text/x-python",
   "name": "python",
   "nbconvert_exporter": "python",
   "pygments_lexer": "ipython3",
   "version": "3.12.3"
  }
 },
 "nbformat": 4,
 "nbformat_minor": 5
}
