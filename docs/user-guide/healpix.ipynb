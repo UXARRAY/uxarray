{
 "cells": [
  {
   "cell_type": "markdown",
   "id": "d2efda6d5dc392c6",
   "metadata": {},
   "source": [
    "# Working with HEALPix Data\n",
    "\n",
    "In this notebook, we showcase how UXarray can be used with HEALPix data.\n",
    "* A brief overview into HEALPix\n",
    "* Representing a HEALPix grid in the UGRID conventions\n",
    "* Loading data that resides on HEALPix Grids"
   ]
  },
  {
   "cell_type": "code",
   "execution_count": null,
   "id": "19631a950304b3ff",
   "metadata": {},
   "outputs": [],
   "source": [
    "import uxarray as ux\n",
    "import cartopy.crs as ccrs"
   ]
  },
  {
   "cell_type": "markdown",
   "id": "e904737d08c943d8",
   "metadata": {},
   "source": [
    "## What is HEALPix?\n",
    "\n",
    "The Hierarchical Equal Area isoLatitude Pixelisation (HEALPix) algorithm is a method for the pixelisation of the\n",
    "2-sphere. It has three defining qualities.\n",
    "- The sphere is hierarchically tessellated into curvilinear quadrilaterals\n",
    "- Areas of all pixels at a given resolution are identical\n",
    "- Pixels are distributed on lines of constant latitude\n",
    "\n",
    "```{note}\n",
    "For more information on HEALPix, you can refer to [this excellent overview](https://easy.gems.dkrz.de/Processing/healpix/index.html#hierarchical-healpix-output) in DKRZ's Easy Gems documentation.\n",
    "```\n",
    "\n",
    "\n",
    "\n",
    "\n"
   ]
  },
  {
   "cell_type": "markdown",
   "id": "bb2d4492bf05887c",
   "metadata": {},
   "source": [
    "## Representing a HEALPix Grid in the UGRID Conventions\n",
    "\n",
    "Most datasets loaded into **UXarray** come with a dedicated grid file. However, for HEALPix datasets, the underlying grid structure is inferred from the number of cells.\n",
    "\n",
    "For a HEALPix grid in a nested layout, the number of cells is defined by:\n",
    "\n",
    "$$\n",
    "N_{\\text{cells}} = 12 \\cdot z^4,\n",
    "$$\n",
    "\n",
    "where `z` is the *zoom level*. A higher zoom level increases the effective resolution of the grid.\n",
    "\n",
    "The ``ux.Grid.from_healpix(zoom)`` classmethod can be used to construct a ``ux.Grid`` instance representing a HEALPix grid in the UGRID conventions.\n",
    "\n",
    "\n",
    "\n"
   ]
  },
  {
   "cell_type": "code",
   "execution_count": null,
   "id": "93f2df22a6decb93",
   "metadata": {},
   "outputs": [],
   "source": [
    "ux.Grid.from_healpix(zoom=3)"
   ]
  },
  {
   "cell_type": "markdown",
   "id": "265b8581429e5eb3",
   "metadata": {},
   "source": [
    "By default, our ``Grid`` will only contain the face coordinate values, which represent the HEALPix pixel locations. We can see this above with only the ``face_lon`` and ``face_lat`` variables populated.\n",
    "\n",
    "However, much of UXarray functionality requires the boundaries of each cell to be defined. This is represented using the following variables:\n",
    "- ``node_lon``: Longitude of the corners of each cell\n",
    "- ``node_lat``: Latitude of the corners of each cell\n",
    "- ``face_node_connectivity``: The indices of the nodes that surround each face\n",
    "\n",
    "An optional parameter, ``pixels_only``, is provided which can be set to ``True`` if you require the boundaries to be computed upfront."
   ]
  },
  {
   "cell_type": "code",
   "execution_count": null,
   "id": "428a2bf61174e989",
   "metadata": {},
   "outputs": [],
   "source": [
    "ux.Grid.from_healpix(zoom=3, pixels_only=False)"
   ]
  },
  {
   "cell_type": "markdown",
   "id": "b464bd06cf9dbf3b",
   "metadata": {},
   "source": "However, even if you load in a HEALPix grid specifying that you do not want the connectivity upfront, they can still be constructed when desired because of UXarray's internal design."
  },
  {
   "cell_type": "code",
   "execution_count": null,
   "id": "935e78eda9c2ce8c",
   "metadata": {},
   "outputs": [],
   "source": [
    "ux.Grid.from_healpix(zoom=3, pixels_only=True).face_node_connectivity"
   ]
  },
  {
   "cell_type": "markdown",
   "id": "c4aa75312d6af2f7",
   "metadata": {},
   "source": [
    "### Grid-Agnostic Functionality\n",
    "\n",
    "Once loaded in, UXarray does not care about the underlying grid format, as it represents all formats in its unified UGRID-like convention. This means that all existing functionality is supported through the same UXarray inferface. Below are basic examples of plotting & remapping.\n",
    "\n",
    "#### Plotting\n",
    "\n",
    "By using UXarray's plotting functionality, we can observe how increasing the ``zoom`` level leads to a higher-resolution grid.\n",
    "\n"
   ]
  },
  {
   "cell_type": "code",
   "execution_count": null,
   "id": "34c9de64665bcd77",
   "metadata": {},
   "outputs": [],
   "source": [
    "(\n",
    "    ux.Grid.from_healpix(zoom=2).plot(\n",
    "        periodic_elements=\"split\", projection=ccrs.Orthographic(), title=\"zoom=2\"\n",
    "    )\n",
    "    + ux.Grid.from_healpix(zoom=3).plot(\n",
    "        periodic_elements=\"split\", projection=ccrs.Orthographic(), title=\"zoom=3\"\n",
    "    )\n",
    "    + ux.Grid.from_healpix(zoom=4).plot(\n",
    "        periodic_elements=\"split\", projection=ccrs.Orthographic(), title=\"zoom=4\"\n",
    "    )\n",
    ").cols(1)"
   ]
  },
  {
   "cell_type": "markdown",
   "id": "1b98e1fcc7a7b47c",
   "metadata": {},
   "source": [
    "#### Remapping\n",
    "\n",
    "Below is a simple example of remapping UGRID data residing on a ``CSne30`` grid to a HEALPix grid with a zoom level of 5."
   ]
  },
  {
   "cell_type": "code",
   "execution_count": null,
   "id": "eb4879c32c78a4a0",
   "metadata": {},
   "outputs": [],
   "source": [
    "source_uxds = ux.open_dataset(\n",
    "    \"../../test/meshfiles/ugrid/outCSne30/outCSne30.ug\",\n",
    "    \"../../test/meshfiles/ugrid/outCSne30/outCSne30_vortex.nc\",\n",
    ")\n",
    "\n",
    "# source data & grid\n",
    "source_uxds[\"psi\"].plot(\n",
    "    cmap=\"inferno\", projection=ccrs.Orthographic(), title=\"Source Data\"\n",
    ")\n",
    "\n",
    "# destination grid\n",
    "hp_grid = ux.Grid.from_healpix(zoom=5)"
   ]
  },
  {
   "cell_type": "markdown",
   "id": "e1ef5671b3006b0c",
   "metadata": {},
   "source": "Before remapping, we can plot our Source and Destination grids."
  },
  {
   "cell_type": "code",
   "execution_count": null,
   "id": "5adb8285-1886-4992-9f4e-7a89fdaa8986",
   "metadata": {},
   "outputs": [],
   "source": [
    "source_uxds.uxgrid.plot(\n",
    "    projection=ccrs.Orthographic(), title=\"Source Grid (CSne30)\"\n",
    ") + hp_grid.plot(projection=ccrs.Orthographic(), title=\"Destination Grid (HEALPix)\")"
   ]
  },
  {
   "cell_type": "markdown",
   "id": "d9f677166dd1b9f",
   "metadata": {},
   "source": "We can now perform our remapping. In this case, we apply a simple nearest neighbor remapping."
  },
  {
   "cell_type": "code",
   "execution_count": null,
   "id": "1e5cfa34f3bdb8b1",
   "metadata": {},
   "outputs": [],
   "source": [
    "psi_hp = source_uxds[\"psi\"].remap.nearest_neighbor(destination_grid=hp_grid)\n",
    "psi_hp"
   ]
  },
  {
   "cell_type": "markdown",
   "id": "f829232283eeb4",
   "metadata": {},
   "source": "Our original data variable now resides on our HEALPix grid."
  },
  {
   "cell_type": "code",
   "execution_count": null,
   "id": "1c41d4d1-ade5-4a94-8072-27f3c3161344",
   "metadata": {},
   "outputs": [],
   "source": [
    "psi_hp.plot(cmap=\"inferno\", projection=ccrs.Orthographic(), title=\"Remapped Data\")"
   ]
  },
  {
   "cell_type": "markdown",
   "id": "71540c52bb7838bc",
   "metadata": {},
   "source": [
    "We can now chain together a few functions to convert our output from a UXarray Dataset to a NetCDF file, with the grid represented in the HEALPix format.\n",
    "- `to_dataset()`: Converts the ``ux.UxDataArray`` to a ``ux.UxDataset``\n",
    "- `to_xarray(grid_format=\"HEALPix\")`: Converts our ``ux.UxDataset`` to a ``xr.Dataset`` encoded in the HEALPix format.\n",
    "- `to_netcdf(\"psi_healpix.nc\")`: Saves our dataset to disk as a NetCDF file."
   ]
  },
  {
   "cell_type": "code",
   "execution_count": null,
   "id": "3c6c05475b2455cd",
   "metadata": {},
   "outputs": [],
   "source": [
    "psi_hp.to_dataset().to_xarray(grid_format=\"HEALPix\").to_netcdf(\"psi_healpix.nc\")"
   ]
  },
  {
   "cell_type": "markdown",
   "id": "7988c071af403bf2",
   "metadata": {},
   "source": [
    "## Loading HEALPix Data\n",
    "\n",
    "\n",
    "In the remapping example above, we successfully remapped a data variable onto a HEALPix grid and saved it as a NetCDF file.\n",
    "\n",
    "UXarray extends Xarray's ``Dataset`` and ``DataArray`` classes to provide grid-aware implementations.\n",
    "\n",
    "\n",
    "\n",
    "\n",
    "\n",
    "Using the example we generated above, we can load in data that is stored in the HEALPix format using the ``UxDataset.from_healpix()`` classmethod."
   ]
  },
  {
   "cell_type": "code",
   "execution_count": null,
   "id": "7a9e21366632177d",
   "metadata": {},
   "outputs": [],
   "source": [
    "uxds = ux.UxDataset.from_healpix(\"psi_healpix.nc\")\n",
    "uxds"
   ]
  },
  {
   "cell_type": "markdown",
   "id": "11ff4e1ad036ea53",
   "metadata": {},
   "source": "The interface above looks almost identical to what you would see if you loaded in the file directly with Xarray."
  },
  {
   "cell_type": "code",
   "execution_count": null,
   "id": "de7711664bee2fb2",
   "metadata": {},
   "outputs": [],
   "source": [
    "import xarray as xr\n",
    "\n",
    "xr.open_dataset(\"psi_healpix.nc\")"
   ]
  },
  {
   "cell_type": "markdown",
   "id": "2350874a0a536ae",
   "metadata": {},
   "source": [
    "However, there are a few noticeable differences and additions that streamline UXarray's implementation and provide more context on what grid the data resides on:\n",
    "1. The \"Show Grid Information\" tab provides information on the underlying ``Grid`` object that is attached via the ``.uxgrid`` attribute\n",
    "2. The ``zoom`` for HEALPix grids is automatically determined from the ``cells`` dimension, with an appropriate ``Grid`` constructed from that\n",
    "3The dimensions are renamed to match the UGRID conventions, with ``cells`` being renamed to ``n_face`` for the case of HEALPix grids\n",
    "\n",
    "We can then directly access our ``Grid`` using the ``.uxgrid`` attribute, allowing for grid-specific functionallity as described in the sections above.\n",
    "\n",
    "\n"
   ]
  },
  {
   "cell_type": "code",
   "execution_count": null,
   "id": "bbc527a7e5e006d5",
   "metadata": {},
   "outputs": [],
   "source": [
    "uxds.uxgrid"
   ]
  },
  {
   "cell_type": "markdown",
   "id": "a3ac1bf1a831cbaa",
   "metadata": {},
   "source": [
    "## Future Work\n",
    "\n",
    "Support for the HEALPix format is still in its early stages. We welcome your suggestions and contributions! To get started, please check out our [Contributors Guide](https://uxarray.readthedocs.io/en/stable/contributing.html).\n"
   ]
  }
 ],
 "metadata": {
  "kernelspec": {
   "display_name": "Python 3 (ipykernel)",
   "language": "python",
   "name": "python3"
  },
  "language_info": {
   "codemirror_mode": {
    "name": "ipython",
    "version": 3
   },
   "file_extension": ".py",
   "mimetype": "text/x-python",
   "name": "python",
   "nbconvert_exporter": "python",
   "pygments_lexer": "ipython3",
   "version": "3.12.3"
  }
 },
 "nbformat": 4,
 "nbformat_minor": 5
}
