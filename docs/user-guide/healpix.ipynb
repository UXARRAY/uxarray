{
 "cells": [
  {
   "cell_type": "markdown",
   "id": "d2efda6d5dc392c6",
   "metadata": {},
   "source": [
    "# Working with HEALPix Data\n",
    "\n",
    "In this notebook, we showcase how UXarray can be used with HEALPix data.\n",
    "* A brief overview into HEALPix\n",
    "* Representing a HEALPix grid in the UGRID conventions\n",
    "* Loading data that resides on HEALPix Grids"
   ]
  },
  {
   "cell_type": "code",
   "execution_count": null,
   "id": "19631a950304b3ff",
   "metadata": {},
   "outputs": [],
   "source": [
    "import cartopy.crs as ccrs\n",
    "\n",
    "import uxarray as ux"
   ]
  },
  {
   "cell_type": "markdown",
   "id": "e904737d08c943d8",
   "metadata": {},
   "source": [
    "## What is HEALPix?\n",
    "\n",
    "The Hierarchical Equal Area isoLatitude Pixelisation (HEALPix) algorithm is a method for the pixelisation of the\n",
    "2-sphere. It has three defining qualities.\n",
    "- The sphere is hierarchically tessellated into curvilinear quadrilaterals\n",
    "- Areas of all pixels at a given resolution are identical\n",
    "- Pixels are distributed on lines of constant latitude\n",
    "\n",
    "```{note}\n",
    "For more information on HEALPix, you can refer to [this excellent overview](https://easy.gems.dkrz.de/Processing/healpix/index.html#hierarchical-healpix-output) in DKRZ's Easy Gems documentation.\n",
    "```\n",
    "\n",
    "\n",
    "\n",
    "\n"
   ]
  },
  {
   "cell_type": "markdown",
   "id": "bb2d4492bf05887c",
   "metadata": {},
   "source": [
    "## Representing a HEALPix Grid in the UGRID Conventions\n",
    "\n",
    "Most datasets loaded into **UXarray** come with a dedicated grid file. However, for HEALPix datasets, the underlying grid structure is inferred from the number of cells.\n",
    "\n",
    "For a HEALPix grid in a nested layout, the number of cells is defined by:\n",
    "\n",
    "$$\n",
    "N_{\\text{cells}} = 12 \\cdot z^4,\n",
    "$$\n",
    "\n",
    "where `z` is the *zoom level*. A higher zoom level increases the effective resolution of the grid.\n",
    "\n",
    "The ``ux.Grid.from_healpix(zoom)`` classmethod can be used to construct a ``ux.Grid`` instance representing a HEALPix grid in the UGRID conventions.\n",
    "\n",
    "\n",
    "\n"
   ]
  },
  {
   "cell_type": "code",
   "execution_count": null,
   "id": "93f2df22a6decb93",
   "metadata": {},
   "outputs": [],
   "source": [
    "ux.Grid.from_healpix(zoom=3)"
   ]
  },
  {
   "cell_type": "markdown",
   "id": "265b8581429e5eb3",
   "metadata": {},
   "source": [
    "By default, our ``Grid`` will only contain the face coordinate values, which represent the HEALPix pixel locations. We can see this above with only the ``face_lon`` and ``face_lat`` variables populated.\n",
    "\n",
    "However, much of UXarray functionality requires the boundaries of each cell to be defined. This is represented using the following variables:\n",
    "- ``node_lon``: Longitude of the corners of each cell\n",
    "- ``node_lat``: Latitude of the corners of each cell\n",
    "- ``face_node_connectivity``: The indices of the nodes that surround each face\n",
    "\n",
    "An optional parameter, ``pixels_only``, is provided which can be set to ``True`` if you require the boundaries to be computed upfront."
   ]
  },
  {
   "cell_type": "code",
   "execution_count": null,
   "id": "428a2bf61174e989",
   "metadata": {},
   "outputs": [],
   "source": [
    "ux.Grid.from_healpix(zoom=3, pixels_only=False)"
   ]
  },
  {
   "cell_type": "markdown",
   "id": "b464bd06cf9dbf3b",
   "metadata": {},
   "source": [
    "However, even if you load in a HEALPix grid specifying that you do not want the connectivity upfront, they can still be constructed when desired because of UXarray's internal design."
   ]
  },
  {
   "cell_type": "code",
   "execution_count": null,
   "id": "935e78eda9c2ce8c",
   "metadata": {},
   "outputs": [],
   "source": [
    "ux.Grid.from_healpix(zoom=3, pixels_only=True).face_node_connectivity"
   ]
  },
  {
   "cell_type": "markdown",
   "id": "c4aa75312d6af2f7",
   "metadata": {},
   "source": [
    "### Grid-Agnostic Functionality\n",
    "\n",
    "Once loaded in, UXarray does not care about the underlying grid format, as it represents all formats in its unified UGRID-like convention. This means that all existing functionality is supported through the same UXarray inferface. Below are basic examples of plotting & remapping.\n",
    "\n",
    "#### Plotting\n",
    "\n",
    "By using UXarray's plotting functionality, we can observe how increasing the ``zoom`` level leads to a higher-resolution grid.\n",
    "\n"
   ]
  },
  {
   "cell_type": "code",
   "execution_count": null,
   "id": "34c9de64665bcd77",
   "metadata": {},
   "outputs": [],
   "source": [
    "(\n",
    "    ux.Grid.from_healpix(zoom=2).plot(\n",
    "        periodic_elements=\"split\", projection=ccrs.Orthographic(), title=\"zoom=2\"\n",
    "    )\n",
    "    + ux.Grid.from_healpix(zoom=3).plot(\n",
    "        periodic_elements=\"split\", projection=ccrs.Orthographic(), title=\"zoom=3\"\n",
    "    )\n",
    "    + ux.Grid.from_healpix(zoom=4).plot(\n",
    "        periodic_elements=\"split\", projection=ccrs.Orthographic(), title=\"zoom=4\"\n",
    "    )\n",
    ").cols(1)"
   ]
  },
  {
   "cell_type": "markdown",
   "id": "1b98e1fcc7a7b47c",
   "metadata": {},
   "source": [
    "#### Remapping\n",
    "\n",
    "Below is a simple example of remapping UGRID data residing on a ``CSne30`` grid to a HEALPix grid with a zoom level of 5."
   ]
  },
  {
   "cell_type": "code",
   "execution_count": null,
   "id": "eb4879c32c78a4a0",
   "metadata": {},
   "outputs": [],
   "source": [
    "source_uxds = ux.open_dataset(\n",
    "    \"../../test/meshfiles/ugrid/outCSne30/outCSne30.ug\",\n",
    "    \"../../test/meshfiles/ugrid/outCSne30/outCSne30_vortex.nc\",\n",
    ")\n",
    "\n",
    "# source data & grid\n",
    "source_uxds[\"psi\"].plot(\n",
    "    cmap=\"inferno\", projection=ccrs.Orthographic(), title=\"Source Data\"\n",
    ")\n",
    "\n",
    "# destination grid\n",
    "hp_grid = ux.Grid.from_healpix(zoom=5)"
   ]
  },
  {
   "cell_type": "markdown",
   "id": "e1ef5671b3006b0c",
   "metadata": {},
   "source": [
    "Before remapping, we can plot our Source and Destination grids."
   ]
  },
  {
   "cell_type": "code",
   "execution_count": null,
   "id": "5adb8285-1886-4992-9f4e-7a89fdaa8986",
   "metadata": {},
   "outputs": [],
   "source": [
    "source_uxds.uxgrid.plot(\n",
    "    projection=ccrs.Orthographic(), title=\"Source Grid (CSne30)\"\n",
    ") + hp_grid.plot(projection=ccrs.Orthographic(), title=\"Destination Grid (HEALPix)\")"
   ]
  },
  {
   "cell_type": "markdown",
   "id": "d9f677166dd1b9f",
   "metadata": {},
   "source": [
    "We can now perform our remapping. In this case, we apply a simple nearest neighbor remapping."
   ]
  },
  {
   "cell_type": "code",
   "execution_count": null,
   "id": "1e5cfa34f3bdb8b1",
   "metadata": {},
   "outputs": [],
   "source": [
    "psi_hp = source_uxds[\"psi\"].remap.nearest_neighbor(destination_grid=hp_grid)\n",
    "psi_hp"
   ]
  },
  {
   "cell_type": "markdown",
   "id": "f829232283eeb4",
   "metadata": {},
   "source": [
    "Our original data variable now resides on our HEALPix grid."
   ]
  },
  {
   "cell_type": "code",
   "execution_count": null,
   "id": "1c41d4d1-ade5-4a94-8072-27f3c3161344",
   "metadata": {},
   "outputs": [],
   "source": [
    "psi_hp.plot(cmap=\"inferno\", projection=ccrs.Orthographic(), title=\"Remapped Data\")"
   ]
  },
  {
   "cell_type": "markdown",
   "id": "71540c52bb7838bc",
   "metadata": {},
   "source": [
    "We can now chain together a few functions to convert our output from a UXarray Dataset to a NetCDF file, with the grid represented in the HEALPix format.\n",
    "- `to_dataset()`: Converts the ``ux.UxDataArray`` to a ``ux.UxDataset``\n",
    "- `to_xarray(grid_format=\"HEALPix\")`: Converts our ``ux.UxDataset`` to a ``xr.Dataset`` encoded in the HEALPix format.\n",
    "- `to_netcdf(\"psi_healpix.nc\")`: Saves our dataset to disk as a NetCDF file."
   ]
  },
  {
   "cell_type": "code",
   "execution_count": null,
   "id": "3c6c05475b2455cd",
   "metadata": {},
   "outputs": [],
   "source": [
    "psi_hp.to_dataset().to_xarray(grid_format=\"HEALPix\").to_netcdf(\"psi_healpix.nc\")"
   ]
  },
  {
   "cell_type": "markdown",
   "id": "healpix_equal_area_section",
   "metadata": {},
   "source": [
    "## HEALPix Equal Area Property\n",
    "\n",
    "HEALPix's fundamental property is that **all pixels at a given resolution have exactly the same spherical area**. This \"equal area\" property is crucial for scientific applications such as global averaging, zonal means, and conservation properties in regridding operations.\n",
    "\n",
    "The theoretical area of each HEALPix pixel is given by:\n",
    "\n",
    "$$\n",
    "A_{\\text{pixel}} = \\frac{4\\pi}{N_{\\text{pix}}} = \\frac{4\\pi}{12 \\cdot 4^{\\text{resolution}}}\n",
    "$$\n",
    "\n",
    "where  \n",
    "$N_{\\text{pix}} = 12 \\cdot 4^{\\text{resolution}}$ is the total number of pixels at a given resolution level, and  \n",
    "$4\\pi$ is the total surface area of the unit sphere in steradians. \n",
    "\n",
    "### Geometric Representation Considerations\n",
    "\n",
    "UXarray represents HEALPix grids using Great Circle Arcs (GCAs) to define pixel boundaries, following UGRID conventions. However, this geometric representation can introduce systematic errors when computing areas numerically, potentially violating HEALPix's equal-area property. \n",
    "\n",
    "```{note}\n",
    "To alleviate the impacts of this systematic differences between UXarray and HEALPix, we adjust our `Grid.face_areas` property to fulfill the HEALPix equal area property, making sure that all the faces in a HEALPix mesh have the same theoretical HEALPix area.\n",
    "```\n",
    "\n",
    "Let's demonstrate this with HEALPix's 12 base pixels:"
   ]
  },
  {
   "cell_type": "code",
   "execution_count": null,
   "id": "healpix_area_demo",
   "metadata": {},
   "outputs": [],
   "source": [
    "import numpy as np\n",
    "\n",
    "# Create HEALPix grid at resolution 0 (12 base pixels)\n",
    "grid = ux.Grid.from_healpix(0, pixels_only=False)\n",
    "\n",
    "# Using face_areas property ensures equal areas for HEALPix\n",
    "hp_areas = grid.face_areas.values\n",
    "print(f\"Standard deviation: {np.std(hp_areas):.2e}\")\n",
    "print(f\"All pixels have area: {hp_areas[0]:.6f} steradians\")"
   ]
  },
  {
   "cell_type": "markdown",
   "id": "6e8b7185-c3ae-4f50-939b-4cb28a952e6f",
   "metadata": {},
   "source": [
    "### Still need geometric face area calculations for a HEALPix mesh?\n",
    "\n",
    "For most use cases, the `Grid.face_areas` property provides the recommended approach for accessing face areas. However, if you specifically need geometric calculations of individual HEALPix faces as they are represented in UXarray (rather than the theoretical equal areas), you may want to access the internal computation method, `Grid._compute_face_areas()`. Note that this approach may not preserve HEALPix's equal-area property due to geometric representation differences. \n",
    "\n",
    "Look at the following example:"
   ]
  },
  {
   "cell_type": "code",
   "execution_count": null,
   "id": "dfd494b5-0b3e-472f-8896-bd3566747bdb",
   "metadata": {},
   "outputs": [],
   "source": [
    "# For advanced use cases: access geometric calculations (may not preserve equal-area property)\n",
    "hp_geometric_areas, face_jacobians = grid._compute_face_areas(\n",
    "    quadrature_rule=\"triangular\", order=4\n",
    ")\n",
    "print(\n",
    "    f\"Geometric std deviation: {hp_geometric_areas.std():.2e} (vs theoretical equal areas)\"\n",
    ")"
   ]
  },
  {
   "cell_type": "markdown",
   "id": "healpix_error_analysis",
   "metadata": {},
   "source": [
    "If you are interested in futher details of the systematic errors due to geometric calculation with a clear spatial pattern, our analysis across resolution levels 0-7 shows:\n",
    "\n",
    "- **Equatorial pixels** (lat≈0°): +20.5% area error\n",
    "- **Mid-latitude pixels** (lat≈±42°): -9.9% area error  \n",
    "- **Maximum errors**: Persist at ~10% even at fine resolutions\n"
   ]
  },
  {
   "cell_type": "markdown",
   "id": "7988c071af403bf2",
   "metadata": {},
   "source": [
    "## Loading HEALPix Data\n",
    "\n",
    "\n",
    "In the remapping example above, we successfully remapped a data variable onto a HEALPix grid and saved it as a NetCDF file.\n",
    "\n",
    "UXarray extends Xarray's ``Dataset`` and ``DataArray`` classes to provide grid-aware implementations.\n",
    "\n",
    "\n",
    "\n",
    "\n",
    "\n",
    "Using the example we generated above, we can load in data that is stored in the HEALPix format using the ``UxDataset.from_healpix()`` classmethod."
   ]
  },
  {
   "cell_type": "code",
   "execution_count": null,
   "id": "7a9e21366632177d",
   "metadata": {},
   "outputs": [],
   "source": [
    "uxds = ux.UxDataset.from_healpix(\"psi_healpix.nc\")\n",
    "uxds"
   ]
  },
  {
   "cell_type": "markdown",
   "id": "11ff4e1ad036ea53",
   "metadata": {},
   "source": [
    "The interface above looks almost identical to what you would see if you loaded in the file directly with Xarray."
   ]
  },
  {
   "cell_type": "code",
   "execution_count": null,
   "id": "de7711664bee2fb2",
   "metadata": {},
   "outputs": [],
   "source": [
    "import xarray as xr\n",
    "\n",
    "xr.open_dataset(\"psi_healpix.nc\")"
   ]
  },
  {
   "cell_type": "markdown",
   "id": "2350874a0a536ae",
   "metadata": {},
   "source": [
    "However, there are a few noticeable differences and additions that streamline UXarray's implementation and provide more context on what grid the data resides on:\n",
    "1. The \"Show Grid Information\" tab provides information on the underlying ``Grid`` object that is attached via the ``.uxgrid`` attribute\n",
    "2. The ``zoom`` for HEALPix grids is automatically determined from the ``cells`` dimension, with an appropriate ``Grid`` constructed from that\n",
    "3The dimensions are renamed to match the UGRID conventions, with ``cells`` being renamed to ``n_face`` for the case of HEALPix grids\n",
    "\n",
    "We can then directly access our ``Grid`` using the ``.uxgrid`` attribute, allowing for grid-specific functionallity as described in the sections above.\n",
    "\n",
    "\n"
   ]
  },
  {
   "cell_type": "code",
   "execution_count": null,
   "id": "bbc527a7e5e006d5",
   "metadata": {},
   "outputs": [],
   "source": [
    "uxds.uxgrid"
   ]
  },
  {
   "cell_type": "markdown",
   "id": "a3ac1bf1a831cbaa",
   "metadata": {},
   "source": [
    "## Future Work\n",
    "\n",
    "Support for the HEALPix format is still in its early stages. We welcome your suggestions and contributions! To get started, please check out our [Contributors Guide](https://uxarray.readthedocs.io/en/stable/contributing.html).\n"
   ]
  }
 ],
 "metadata": {
  "kernelspec": {
   "display_name": "Python 3 (ipykernel)",
   "language": "python",
   "name": "python3"
  },
  "language_info": {
   "codemirror_mode": {
    "name": "ipython",
    "version": 3
   },
   "file_extension": ".py",
   "mimetype": "text/x-python",
   "name": "python",
   "nbconvert_exporter": "python",
   "pygments_lexer": "ipython3",
   "version": "3.12.6"
  }
 },
 "nbformat": 4,
 "nbformat_minor": 5
}
