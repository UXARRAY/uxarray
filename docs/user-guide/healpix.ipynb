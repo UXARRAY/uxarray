{
 "cells": [
  {
   "cell_type": "markdown",
   "id": "d2efda6d5dc392c6",
   "metadata": {},
   "source": "# Working with HEALPix Grids"
  },
  {
   "cell_type": "code",
   "execution_count": null,
   "id": "19631a950304b3ff",
   "metadata": {},
   "outputs": [],
   "source": [
    "import uxarray as ux\n",
    "import cartopy.crs as ccrs"
   ]
  },
  {
   "cell_type": "markdown",
   "id": "bb2d4492bf05887c",
   "metadata": {},
   "source": "## Representing HEALPix in the UGRID Conventions"
  },
  {
   "cell_type": "code",
   "execution_count": null,
   "id": "93f2df22a6decb93",
   "metadata": {},
   "outputs": [],
   "source": [
    "ux.Grid.from_healpix(resolution_level=3)"
   ]
  },
  {
   "cell_type": "code",
   "execution_count": null,
   "id": "428a2bf61174e989",
   "metadata": {},
   "outputs": [],
   "source": [
    "ux.Grid.from_healpix(resolution_level=3, pixels_only=False)"
   ]
  },
  {
   "cell_type": "markdown",
   "id": "c4aa75312d6af2f7",
   "metadata": {},
   "source": "## Plotting"
  },
  {
   "cell_type": "code",
   "execution_count": null,
   "id": "34c9de64665bcd77",
   "metadata": {},
   "outputs": [],
   "source": [
    "(\n",
    "    ux.Grid.from_healpix(resolution_level=2).plot(\n",
    "        periodic_elements=\"split\", projection=ccrs.Orthographic()\n",
    "    )\n",
    "    + ux.Grid.from_healpix(resolution_level=3).plot(\n",
    "        periodic_elements=\"split\", projection=ccrs.Orthographic()\n",
    "    )\n",
    "    + ux.Grid.from_healpix(resolution_level=4).plot(\n",
    "        periodic_elements=\"split\", projection=ccrs.Orthographic()\n",
    "    )\n",
    ")"
   ]
  },
  {
   "cell_type": "markdown",
   "id": "c71f78a05975445c",
   "metadata": {},
   "source": "## Remapping"
  },
  {
   "cell_type": "code",
   "execution_count": null,
   "id": "696b7f1b92e35058",
   "metadata": {},
   "outputs": [],
   "source": [
    "# source_uxds = ux.open_dataset(\"../../\")\n",
    "# destination_grid = ux.Grid.from_healpix(resolution_level=5)"
   ]
  }
 ],
 "metadata": {
  "kernelspec": {
   "display_name": "Python 3",
   "language": "python",
   "name": "python3"
  },
  "language_info": {
   "codemirror_mode": {
    "name": "ipython",
    "version": 2
   },
   "file_extension": ".py",
   "mimetype": "text/x-python",
   "name": "python",
   "nbconvert_exporter": "python",
   "pygments_lexer": "ipython2",
   "version": "2.7.6"
  }
 },
 "nbformat": 4,
 "nbformat_minor": 5
}
