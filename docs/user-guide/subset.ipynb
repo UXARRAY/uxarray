{
 "cells": [
  {
   "cell_type": "markdown",
   "metadata": {
    "collapsed": false,
    "jupyter": {
     "outputs_hidden": false
    }
   },
   "source": [
    "# Subsetting"
   ]
  },
  {
   "cell_type": "code",
   "execution_count": null,
   "metadata": {
    "collapsed": false,
    "jupyter": {
     "outputs_hidden": false
    }
   },
   "outputs": [],
   "source": [
    "import uxarray as ux\n",
    "import geoviews.feature as gf\n",
    "import cartopy.crs as ccrs\n",
    "import holoviews as hv\n",
    "import warnings\n",
    "import geocat.datafiles as geodf\n",
    "\n",
    "plot_opts = {\"width\": 700, \"height\": 350}\n",
    "hv.extension(\"bokeh\")\n",
    "warnings.filterwarnings(\"ignore\")"
   ]
  },
  {
   "cell_type": "markdown",
   "metadata": {
    "collapsed": false,
    "jupyter": {
     "outputs_hidden": false
    }
   },
   "source": [
    "When working with large grids, it is often desired to obtain a smaller version, typically zoomed into a region of interest. UXarray supports this through grid-informed subsetting operations. This section will discuss the types of ways to subset a grid:\n",
    "1. Nearest Neighbor\n",
    "2. Bounding Box\n",
    "3. Bounding Circle"
   ]
  },
  {
   "cell_type": "markdown",
   "metadata": {
    "collapsed": false,
    "jupyter": {
     "outputs_hidden": false
    }
   },
   "source": [
    "## Data\n",
    "\n",
    "In this example, we will be using the `geocat-datafiles` package to obtain our grid and data files. The dataset used in this example is a 30km global MPAS meshes. We will be investigating the relative humidity vertically interpolated to 200hPa (`relhum200hPa`) data variable."
   ]
  },
  {
   "cell_type": "code",
   "execution_count": null,
   "metadata": {
    "collapsed": false,
    "jupyter": {
     "outputs_hidden": false
    }
   },
   "outputs": [],
   "source": [
    "datafiles = (\n",
    "    geodf.get(\n",
    "        \"netcdf_files/MPAS/FalkoJudt/dyamond_1/30km/diag.2016-08-20_00.00.00_subset.nc\"\n",
    "    ),\n",
    "    geodf.get(\"netcdf_files/MPAS/FalkoJudt/dyamond_1/30km/x1.655362.grid_subset.nc\"),\n",
    ")"
   ]
  },
  {
   "cell_type": "code",
   "execution_count": null,
   "metadata": {
    "collapsed": false,
    "jupyter": {
     "outputs_hidden": false
    }
   },
   "outputs": [],
   "source": [
    "uxds = ux.open_dataset(datafiles[1], datafiles[0])"
   ]
  },
  {
   "cell_type": "code",
   "execution_count": null,
   "metadata": {
    "collapsed": false,
    "jupyter": {
     "outputs_hidden": false
    }
   },
   "outputs": [],
   "source": [
    "clim = (uxds[\"relhum_200hPa\"][0].values.min(), uxds[\"relhum_200hPa\"][0].values.max())"
   ]
  },
  {
   "cell_type": "code",
   "execution_count": null,
   "metadata": {
    "collapsed": false,
    "jupyter": {
     "outputs_hidden": false
    }
   },
   "outputs": [],
   "source": [
    "features = gf.coastline(\n",
    "    projection=ccrs.PlateCarree(), line_width=1, scale=\"50m\"\n",
    ") * gf.states(projection=ccrs.PlateCarree(), line_width=1, scale=\"50m\")"
   ]
  },
  {
   "cell_type": "markdown",
   "metadata": {
    "collapsed": false,
    "jupyter": {
     "outputs_hidden": false
    }
   },
   "source": [
    "## Global Grid\n",
    "\n",
    "Many unstructured grids, such as those from global climate models, span the entire surface of a sphere. UXarray supports working with these global grids, handling cases that arise with the spherical geometry of the earth (wrap around at the antimeridian, pole points, etc.)\n"
   ]
  },
  {
   "cell_type": "code",
   "execution_count": null,
   "metadata": {
    "collapsed": false,
    "jupyter": {
     "outputs_hidden": false
    }
   },
   "outputs": [],
   "source": [
    "uxds[\"relhum_200hPa\"][0].plot(\n",
    "    rasterize=True, periodic_elements=\"exclude\", title=\"Global Grid\", **plot_opts\n",
    ") * features"
   ]
  },
  {
   "cell_type": "markdown",
   "metadata": {
    "collapsed": false,
    "jupyter": {
     "outputs_hidden": false
    }
   },
   "source": [
    "In addition to plotting global grids, we can perform analysis operations on the entire grid."
   ]
  },
  {
   "cell_type": "code",
   "execution_count": null,
   "metadata": {
    "collapsed": false,
    "jupyter": {
     "outputs_hidden": false
    }
   },
   "outputs": [],
   "source": [
    "uxds[\"relhum_200hPa\"][0].values.mean()"
   ]
  },
  {
   "cell_type": "markdown",
   "metadata": {
    "collapsed": false,
    "jupyter": {
     "outputs_hidden": false
    }
   },
   "source": [
    "## Regional Subsets\n",
    "\n",
    "UXarray supports taking subsets of a grid, which allows us to select a region and perform analysis directly on that area, as opposed to the global grid.\n",
    "\n",
    "There are currently three supported subsetting methods, both for the `Grid` and `UxDataArray` data structures."
   ]
  },
  {
   "cell_type": "code",
   "execution_count": null,
   "metadata": {
    "collapsed": false,
    "jupyter": {
     "outputs_hidden": false
    }
   },
   "outputs": [],
   "source": [
    "uxds[\"relhum_200hPa\"].subset"
   ]
  },
  {
   "cell_type": "code",
   "execution_count": null,
   "metadata": {
    "collapsed": false,
    "jupyter": {
     "outputs_hidden": false
    }
   },
   "outputs": [],
   "source": [
    "uxds[\"relhum_200hPa\"].uxgrid.subset"
   ]
  },
  {
   "cell_type": "markdown",
   "metadata": {
    "collapsed": false,
    "jupyter": {
     "outputs_hidden": false
    }
   },
   "source": [
    "### Bounding Box\n",
    "\n",
    "We can declare a bounding box centered about the Chicago area by specifying the minimum and maximum longitude and latitude bounds.\n"
   ]
  },
  {
   "cell_type": "code",
   "execution_count": null,
   "metadata": {
    "collapsed": false,
    "jupyter": {
     "outputs_hidden": false
    }
   },
   "outputs": [],
   "source": [
    "lon_bounds = (-87.6298 - 2, -87.6298 + 2)\n",
    "lat_bounds = (41.8781 - 2, 41.8781 + 2)"
   ]
  },
  {
   "cell_type": "code",
   "execution_count": null,
   "metadata": {
    "collapsed": false,
    "jupyter": {
     "outputs_hidden": false
    }
   },
   "outputs": [],
   "source": [
    "bbox_subset_nodes = uxds[\"relhum_200hPa\"][0].subset.bounding_box(\n",
    "    lon_bounds,\n",
    "    lat_bounds,\n",
    ")\n",
    "\n",
    "bbox_subset_nodes.plot(\n",
    "    rasterize=True,\n",
    "    periodic_elements=\"exclude\",\n",
    "    clim=clim,\n",
    "    title=\"Bounding Box Subset (Corner Node Query)\",\n",
    "    **plot_opts,\n",
    ") * features"
   ]
  },
  {
   "cell_type": "markdown",
   "metadata": {
    "collapsed": false,
    "jupyter": {
     "outputs_hidden": false
    }
   },
   "source": [
    "### Bounding Circle\n",
    "\n",
    "A bounding circle is defined using a center coordinate (lon, lat) and a radius (in degrees). The resulting subset will contain all elements within the radius of that circle."
   ]
  },
  {
   "cell_type": "code",
   "execution_count": null,
   "metadata": {
    "collapsed": false,
    "jupyter": {
     "outputs_hidden": false
    }
   },
   "outputs": [],
   "source": [
    "center_coord = [-87.6298, 41.8781]\n",
    "\n",
    "r = 2"
   ]
  },
  {
   "cell_type": "code",
   "execution_count": null,
   "metadata": {
    "collapsed": false,
    "jupyter": {
     "outputs_hidden": false
    }
   },
   "outputs": [],
   "source": [
    "bcircle_subset = uxds[\"relhum_200hPa\"][0].subset.bounding_circle(center_coord, r)\n",
    "\n",
    "bcircle_subset.plot(\n",
    "    rasterize=True,\n",
    "    periodic_elements=\"exclude\",\n",
    "    clim=clim,\n",
    "    title=\"Bounding Circle Subset\",\n",
    "    **plot_opts,\n",
    ") * features"
   ]
  },
  {
   "cell_type": "markdown",
   "metadata": {
    "collapsed": false,
    "jupyter": {
     "outputs_hidden": false
    }
   },
   "source": [
    "### Nearest Neighbor\n",
    "\n",
    "Similar to the bounding circle, we can perform a nearest neighbor subset at some center coordinate (lon, lat) and query for some number of elements `k`"
   ]
  },
  {
   "cell_type": "code",
   "execution_count": null,
   "metadata": {
    "collapsed": false,
    "jupyter": {
     "outputs_hidden": false
    }
   },
   "outputs": [],
   "source": [
    "center_coord = [-87.6298, 41.8781]"
   ]
  },
  {
   "cell_type": "code",
   "execution_count": null,
   "metadata": {
    "collapsed": false,
    "jupyter": {
     "outputs_hidden": false
    }
   },
   "outputs": [],
   "source": [
    "nn_subset = uxds[\"relhum_200hPa\"][0].subset.nearest_neighbor(\n",
    "    center_coord, k=30, element=\"nodes\"\n",
    ")\n",
    "\n",
    "nn_subset.plot(\n",
    "    rasterize=True,\n",
    "    periodic_elements=\"exclude\",\n",
    "    clim=clim,\n",
    "    title=\"Nearest Neighbor Subset\",\n",
    "    **plot_opts,\n",
    ") * features"
   ]
  },
  {
   "cell_type": "markdown",
   "metadata": {
    "collapsed": false,
    "jupyter": {
     "outputs_hidden": false
    }
   },
   "source": [
    "We can increase the number of neighbors `k` to make the region larger."
   ]
  },
  {
   "cell_type": "code",
   "execution_count": null,
   "metadata": {
    "collapsed": false,
    "jupyter": {
     "outputs_hidden": false
    }
   },
   "outputs": [],
   "source": [
    "nn_subset_120 = uxds[\"relhum_200hPa\"][0].subset.nearest_neighbor(\n",
    "    center_coord, k=120, element=\"face centers\"\n",
    ")\n",
    "\n",
    "nn_subset_120.plot(\n",
    "    rasterize=True,\n",
    "    periodic_elements=\"exclude\",\n",
    "    clim=clim,\n",
    "    title=\"Nearest Neighbor Subset (120 Faces)\",\n",
    "    **plot_opts,\n",
    ") * features"
   ]
  },
  {
   "cell_type": "markdown",
   "metadata": {
    "collapsed": false,
    "jupyter": {
     "outputs_hidden": false
    }
   },
   "source": [
    "When we set ``k=1``, it selects the closest neighbor."
   ]
  },
  {
   "cell_type": "code",
   "execution_count": null,
   "metadata": {
    "collapsed": false,
    "jupyter": {
     "outputs_hidden": false
    }
   },
   "outputs": [],
   "source": [
    "nn_subset_1 = uxds[\"relhum_200hPa\"][0].subset.nearest_neighbor(\n",
    "    center_coord, k=1, element=\"face centers\"\n",
    ")\n",
    "\n",
    "nn_subset_1.plot(\n",
    "    rasterize=True,\n",
    "    periodic_elements=\"exclude\",\n",
    "    clim=clim,\n",
    "    title=\"Nearest Neighbor Subset (Closest Face)\",\n",
    "    **plot_opts,\n",
    ") * features"
   ]
  },
  {
   "cell_type": "markdown",
   "metadata": {
    "collapsed": false,
    "jupyter": {
     "outputs_hidden": false
    }
   },
   "source": [
    "### Analysis Operators on Regional Subsets\n",
    "\n",
    "Since each subset is a newly initialized ``UxDataArray``, paired also with a newly initialized `Grid`, we can perform analysis operators directly on these new objects.\n",
    "\n",
    "Looking back at the global mean that we computed earlier, we can compare it to the regional mean of the Bounding Box and Bounding Circle regions respectively."
   ]
  },
  {
   "cell_type": "code",
   "execution_count": null,
   "metadata": {
    "collapsed": false,
    "jupyter": {
     "outputs_hidden": false
    }
   },
   "outputs": [],
   "source": [
    "print(\"Global Mean:            \", uxds[\"relhum_200hPa\"][0].values.mean())\n",
    "print(\"Bounding Box Mean:      \", bbox_subset_nodes.values.mean())\n",
    "print(\"Bounding Circle Mean:   \", bcircle_subset.values.mean())"
   ]
  },
  {
   "cell_type": "markdown",
   "metadata": {},
   "source": [
    "## Retrieving Orignal Grid Indices"
   ]
  },
  {
   "cell_type": "markdown",
   "metadata": {},
   "source": [
    "Sometimes having the original grids' indices is useful. These indices can be stored within the subset with the `inverse_indices` variable. This can be used to store the indices of the original face centers, edge centers, and node indices. This variable can be used within the subset as follows:\n",
    "\n",
    "* Passing in `True`, which will store the face center indices\n",
    "* Passing in a list of which indices to store, along with `True`, to indicate what kind of original grid indices to store.\n",
    "    * Options for which indices to select include: `face`, `node`, and `edge`\n",
    "\n",
    "This currently only works when the element is `face centers`. Elements `nodes` and `edge centers` will be supported in the future."
   ]
  },
  {
   "cell_type": "code",
   "execution_count": null,
   "metadata": {},
   "outputs": [],
   "source": [
    "subset_indices = uxds[\"relhum_200hPa\"][0].subset.bounding_circle(\n",
    "    center_coord,\n",
    "    r,\n",
    "    element=\"face centers\",\n",
    "    inverse_indices=([\"face\", \"node\", \"edge\"], True),\n",
    ")"
   ]
  },
  {
   "cell_type": "markdown",
   "metadata": {},
   "source": [
    "These indices can be retrieve through the grid:"
   ]
  },
  {
   "cell_type": "code",
   "execution_count": null,
   "metadata": {},
   "outputs": [],
   "source": [
    "subset_indices.uxgrid.inverse_indices"
   ]
  },
  {
   "cell_type": "markdown",
   "metadata": {},
   "source": [
    "## Determining if a Grid is a Subset"
   ]
  },
  {
   "cell_type": "markdown",
   "metadata": {},
   "source": [
    "To check if a Grid (or dataset using `.uxgrid`) is a subset, we can use `Grid.is_subset`, which will return either `True` or `False`, depending on whether the `Grid` is a subset. Since `subset_indices` is a subset, using this feature we will return `True`:"
   ]
  },
  {
   "cell_type": "code",
   "execution_count": null,
   "metadata": {},
   "outputs": [],
   "source": [
    "subset_indices.uxgrid.is_subset"
   ]
  },
  {
   "cell_type": "markdown",
   "metadata": {},
   "source": [
    "The file we have been using to create these subsets, `uxds`, is not a subset, so using the same call we will return `False:`"
   ]
  },
  {
   "cell_type": "code",
   "execution_count": null,
   "metadata": {},
   "outputs": [],
   "source": [
    "uxds.uxgrid.is_subset"
   ]
  }
 ],
 "metadata": {
  "kernelspec": {
   "display_name": "Python 3 (ipykernel)",
   "language": "python",
   "name": "python3"
  },
  "language_info": {
   "codemirror_mode": {
    "name": "ipython",
    "version": 3
   },
   "file_extension": ".py",
   "mimetype": "text/x-python",
   "name": "python",
   "nbconvert_exporter": "python",
   "pygments_lexer": "ipython3",
   "version": "3.12.7"
  }
 },
 "nbformat": 4,
 "nbformat_minor": 4
}
