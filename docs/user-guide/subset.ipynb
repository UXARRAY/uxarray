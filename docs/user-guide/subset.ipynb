{
 "cells": [
  {
   "cell_type": "markdown",
   "metadata": {
    "collapsed": false,
    "jupyter": {
     "outputs_hidden": false
    }
   },
   "source": [
    "# Subsetting \n",
    "\n",
    "When working with large unstructured grids, it’s often more efficient to focus on a smaller, region-specific subset rather than the entire global grid. UXarray offers a suite of grid-aware subsetting operations to help you isolate exactly the area you need for your analysis.\n",
    "1. Nearest Neighbor\n",
    "2. Bounding Box\n",
    "3. Bounding Circle\n",
    "4. Constant Latitude/Longtude \n"
   ]
  },
  {
   "cell_type": "code",
   "metadata": {
    "collapsed": false,
    "jupyter": {
     "outputs_hidden": false
    }
   },
   "source": [
    "import warnings\n",
    "\n",
    "import cartopy.crs as ccrs\n",
    "import geocat.datafiles as geodf\n",
    "import geoviews.feature as gf\n",
    "import holoviews as hv\n",
    "\n",
    "import uxarray as ux\n",
    "\n",
    "plot_opts = {\"width\": 700, \"height\": 350}\n",
    "hv.extension(\"bokeh\")\n",
    "warnings.filterwarnings(\"ignore\")"
   ],
   "outputs": [],
   "execution_count": null
  },
  {
   "cell_type": "markdown",
   "metadata": {
    "collapsed": false,
    "jupyter": {
     "outputs_hidden": false
    }
   },
   "source": [
    "## Data\n",
    "\n",
    "In this example, we will be using the `geocat-datafiles` package to obtain our grid and data files. The dataset used in this example is a 30km global MPAS meshes. We will be investigating the relative humidity vertically interpolated to 200hPa (`relhum200hPa`) data variable."
   ]
  },
  {
   "cell_type": "code",
   "metadata": {
    "collapsed": false,
    "jupyter": {
     "outputs_hidden": false
    }
   },
   "source": [
    "datafiles = (\n",
    "    geodf.get(\n",
    "        \"netcdf_files/MPAS/FalkoJudt/dyamond_1/30km/diag.2016-08-20_00.00.00_subset.nc\"\n",
    "    ),\n",
    "    geodf.get(\"netcdf_files/MPAS/FalkoJudt/dyamond_1/30km/x1.655362.grid_subset.nc\"),\n",
    ")"
   ],
   "outputs": [],
   "execution_count": null
  },
  {
   "cell_type": "code",
   "metadata": {
    "collapsed": false,
    "jupyter": {
     "outputs_hidden": false
    }
   },
   "source": [
    "uxds = ux.open_dataset(datafiles[1], datafiles[0])"
   ],
   "outputs": [],
   "execution_count": null
  },
  {
   "cell_type": "code",
   "metadata": {
    "collapsed": false,
    "jupyter": {
     "outputs_hidden": false
    }
   },
   "source": [
    "clim = (uxds[\"relhum_200hPa\"][0].values.min(), uxds[\"relhum_200hPa\"][0].values.max())"
   ],
   "outputs": [],
   "execution_count": null
  },
  {
   "cell_type": "code",
   "metadata": {
    "collapsed": false,
    "jupyter": {
     "outputs_hidden": false
    }
   },
   "source": [
    "features = gf.coastline(\n",
    "    projection=ccrs.PlateCarree(), line_width=1, scale=\"50m\"\n",
    ") * gf.states(projection=ccrs.PlateCarree(), line_width=1, scale=\"50m\")"
   ],
   "outputs": [],
   "execution_count": null
  },
  {
   "cell_type": "markdown",
   "metadata": {
    "collapsed": false,
    "jupyter": {
     "outputs_hidden": false
    }
   },
   "source": [
    "## Global Grid\n",
    "\n",
    "Many unstructured grids, such as those from global climate models, span the entire surface of a sphere. UXarray supports working with these global grids, handling cases that arise with the spherical geometry of the earth (wrap around at the antimeridian, pole points, etc.)\n"
   ]
  },
  {
   "cell_type": "code",
   "metadata": {
    "collapsed": false,
    "jupyter": {
     "outputs_hidden": false
    }
   },
   "source": [
    "uxds[\"relhum_200hPa\"][0].plot(\n",
    "    rasterize=True, periodic_elements=\"exclude\", title=\"Global Grid\", **plot_opts\n",
    ") * features"
   ],
   "outputs": [],
   "execution_count": null
  },
  {
   "cell_type": "markdown",
   "metadata": {
    "collapsed": false,
    "jupyter": {
     "outputs_hidden": false
    }
   },
   "source": [
    "In addition to plotting global grids, we can perform analysis operations on the entire grid."
   ]
  },
  {
   "cell_type": "code",
   "metadata": {
    "collapsed": false,
    "jupyter": {
     "outputs_hidden": false
    }
   },
   "source": [
    "uxds[\"relhum_200hPa\"][0].values.mean()"
   ],
   "outputs": [],
   "execution_count": null
  },
  {
   "cell_type": "markdown",
   "metadata": {
    "collapsed": false,
    "jupyter": {
     "outputs_hidden": false
    }
   },
   "source": [
    "## Regional Subsets\n",
    "\n",
    "UXarray supports taking subsets of a grid, which allows us to select a region and perform analysis directly on that area, as opposed to the global grid.\n",
    "\n",
    "There are currently three supported subsetting methods, both for the `Grid` and `UxDataArray` data structures."
   ]
  },
  {
   "cell_type": "code",
   "metadata": {
    "collapsed": false,
    "jupyter": {
     "outputs_hidden": false
    }
   },
   "source": [
    "uxds[\"relhum_200hPa\"].subset"
   ],
   "outputs": [],
   "execution_count": null
  },
  {
   "cell_type": "code",
   "metadata": {
    "collapsed": false,
    "jupyter": {
     "outputs_hidden": false
    }
   },
   "source": [
    "uxds[\"relhum_200hPa\"].uxgrid.subset"
   ],
   "outputs": [],
   "execution_count": null
  },
  {
   "cell_type": "markdown",
   "metadata": {
    "collapsed": false,
    "jupyter": {
     "outputs_hidden": false
    }
   },
   "source": [
    "### Bounding Box\n",
    "\n",
    "We can declare a bounding box centered about the Chicago area by specifying the minimum and maximum longitude and latitude bounds.\n"
   ]
  },
  {
   "cell_type": "code",
   "metadata": {
    "collapsed": false,
    "jupyter": {
     "outputs_hidden": false
    }
   },
   "source": [
    "lon_bounds = (-87.6298 - 2, -87.6298 + 2)\n",
    "lat_bounds = (41.8781 - 2, 41.8781 + 2)"
   ],
   "outputs": [],
   "execution_count": null
  },
  {
   "cell_type": "code",
   "metadata": {
    "collapsed": false,
    "jupyter": {
     "outputs_hidden": false
    }
   },
   "source": [
    "bbox_subset_nodes = uxds[\"relhum_200hPa\"][0].subset.bounding_box(\n",
    "    lon_bounds,\n",
    "    lat_bounds,\n",
    ")\n",
    "\n",
    "bbox_subset_nodes.plot(\n",
    "    rasterize=True,\n",
    "    periodic_elements=\"exclude\",\n",
    "    clim=clim,\n",
    "    title=\"Bounding Box Subset (Corner Node Query)\",\n",
    "    **plot_opts,\n",
    ") * features"
   ],
   "outputs": [],
   "execution_count": null
  },
  {
   "cell_type": "markdown",
   "metadata": {
    "collapsed": false,
    "jupyter": {
     "outputs_hidden": false
    }
   },
   "source": [
    "### Bounding Circle\n",
    "\n",
    "A bounding circle is defined using a center coordinate (lon, lat) and a radius (in degrees). The resulting subset will contain all elements within the radius of that circle."
   ]
  },
  {
   "cell_type": "code",
   "metadata": {
    "collapsed": false,
    "jupyter": {
     "outputs_hidden": false
    }
   },
   "source": [
    "center_coord = [-87.6298, 41.8781]\n",
    "\n",
    "r = 2"
   ],
   "outputs": [],
   "execution_count": null
  },
  {
   "cell_type": "code",
   "metadata": {
    "collapsed": false,
    "jupyter": {
     "outputs_hidden": false
    }
   },
   "source": [
    "bcircle_subset = uxds[\"relhum_200hPa\"][0].subset.bounding_circle(center_coord, r)\n",
    "\n",
    "bcircle_subset.plot(\n",
    "    rasterize=True,\n",
    "    periodic_elements=\"exclude\",\n",
    "    clim=clim,\n",
    "    title=\"Bounding Circle Subset\",\n",
    "    **plot_opts,\n",
    ") * features"
   ],
   "outputs": [],
   "execution_count": null
  },
  {
   "cell_type": "markdown",
   "metadata": {
    "collapsed": false,
    "jupyter": {
     "outputs_hidden": false
    }
   },
   "source": [
    "### Nearest Neighbor\n",
    "\n",
    "Similar to the bounding circle, we can perform a nearest neighbor subset at some center coordinate (lon, lat) and query for some number of elements `k`"
   ]
  },
  {
   "cell_type": "code",
   "metadata": {
    "collapsed": false,
    "jupyter": {
     "outputs_hidden": false
    }
   },
   "source": [
    "center_coord = [-87.6298, 41.8781]"
   ],
   "outputs": [],
   "execution_count": null
  },
  {
   "cell_type": "code",
   "metadata": {
    "collapsed": false,
    "jupyter": {
     "outputs_hidden": false
    }
   },
   "source": [
    "nn_subset = uxds[\"relhum_200hPa\"][0].subset.nearest_neighbor(\n",
    "    center_coord, k=30, element=\"nodes\"\n",
    ")\n",
    "\n",
    "nn_subset.plot(\n",
    "    rasterize=True,\n",
    "    periodic_elements=\"exclude\",\n",
    "    clim=clim,\n",
    "    title=\"Nearest Neighbor Subset (Query 30 closest nodes)\",\n",
    "    **plot_opts,\n",
    ") * features"
   ],
   "outputs": [],
   "execution_count": null
  },
  {
   "cell_type": "markdown",
   "metadata": {
    "collapsed": false,
    "jupyter": {
     "outputs_hidden": false
    }
   },
   "source": [
    "We can increase the number of neighbors `k` to make the region larger."
   ]
  },
  {
   "cell_type": "code",
   "metadata": {
    "collapsed": false,
    "jupyter": {
     "outputs_hidden": false
    }
   },
   "source": [
    "nn_subset_120 = uxds[\"relhum_200hPa\"][0].subset.nearest_neighbor(\n",
    "    center_coord, k=120, element=\"face centers\"\n",
    ")\n",
    "\n",
    "nn_subset_120.plot(\n",
    "    rasterize=True,\n",
    "    periodic_elements=\"exclude\",\n",
    "    clim=clim,\n",
    "    title=\"Nearest Neighbor Subset (Query 120 Closest Faces)\",\n",
    "    **plot_opts,\n",
    ") * features"
   ],
   "outputs": [],
   "execution_count": null
  },
  {
   "cell_type": "markdown",
   "metadata": {
    "collapsed": false,
    "jupyter": {
     "outputs_hidden": false
    }
   },
   "source": [
    "When we set ``k=1``, it selects the closest neighbor."
   ]
  },
  {
   "cell_type": "code",
   "metadata": {
    "collapsed": false,
    "jupyter": {
     "outputs_hidden": false
    }
   },
   "source": [
    "nn_subset_1 = uxds[\"relhum_200hPa\"][0].subset.nearest_neighbor(\n",
    "    center_coord, k=1, element=\"face centers\"\n",
    ")\n",
    "\n",
    "nn_subset_1.plot(\n",
    "    rasterize=True,\n",
    "    periodic_elements=\"exclude\",\n",
    "    clim=clim,\n",
    "    title=\"Nearest Neighbor Subset (Query Closest Face)\",\n",
    "    **plot_opts,\n",
    ") * features"
   ],
   "outputs": [],
   "execution_count": null
  },
  {
   "cell_type": "markdown",
   "metadata": {},
   "source": [
    "## Latitude & Longitude Slices"
   ]
  },
  {
   "cell_type": "markdown",
   "metadata": {},
   "source": [
    "### Constant Longitude"
   ]
  },
  {
   "cell_type": "code",
   "metadata": {},
   "source": [
    "lon = 0.0\n",
    "\n",
    "clon_subset = uxds[\"relhum_200hPa\"][0].subset.constant_longitude(lon)\n",
    "\n",
    "clon_subset.plot(\n",
    "    rasterize=True,\n",
    "    clim=clim,\n",
    "    title=\"Constant Longitude Subset\",\n",
    "    global_extent=True,\n",
    "    **plot_opts,\n",
    ") * features"
   ],
   "outputs": [],
   "execution_count": null
  },
  {
   "cell_type": "markdown",
   "metadata": {},
   "source": [
    "### Constant Latitude"
   ]
  },
  {
   "cell_type": "code",
   "metadata": {},
   "source": [
    "lat = 0.0\n",
    "\n",
    "clat_subset = uxds[\"relhum_200hPa\"][0].subset.constant_latitude(lat)\n",
    "\n",
    "clat_subset.plot(\n",
    "    rasterize=True,\n",
    "    clim=clim,\n",
    "    title=\"Constant Longitude Subset\",\n",
    "    global_extent=True,\n",
    "    **plot_opts,\n",
    ") * features"
   ],
   "outputs": [],
   "execution_count": null
  },
  {
   "cell_type": "markdown",
   "metadata": {},
   "source": [
    "### Constant Longitude Interval"
   ]
  },
  {
   "cell_type": "code",
   "metadata": {},
   "source": [
    "lons = (-50, 50)\n",
    "\n",
    "clon_int_subset = uxds[\"relhum_200hPa\"][0].subset.constant_longitude_interval(lons)\n",
    "\n",
    "clon_int_subset.plot(\n",
    "    rasterize=True,\n",
    "    clim=clim,\n",
    "    title=\"Constant Latitude Interval Subset\",\n",
    "    global_extent=True,\n",
    "    **plot_opts,\n",
    ") * features"
   ],
   "outputs": [],
   "execution_count": null
  },
  {
   "cell_type": "markdown",
   "metadata": {},
   "source": [
    "### Constant Latitude Interval"
   ]
  },
  {
   "cell_type": "code",
   "metadata": {},
   "source": [
    "lats = (-50, 50)\n",
    "\n",
    "clat_int_subset = uxds[\"relhum_200hPa\"][0].subset.constant_latitude_interval(lats)\n",
    "\n",
    "clat_int_subset.plot(\n",
    "    rasterize=True,\n",
    "    clim=clim,\n",
    "    title=\"Constant Latitude Interval Subset\",\n",
    "    global_extent=True,\n",
    "    **plot_opts,\n",
    ") * features"
   ],
   "outputs": [],
   "execution_count": null
  },
  {
   "cell_type": "markdown",
   "metadata": {},
   "source": [
    "## Determining if a Grid is a Subset"
   ]
  },
  {
   "cell_type": "markdown",
   "metadata": {},
   "source": [
    "To check if a Grid (or dataset using `.uxgrid`) is a subset, we can use `Grid.is_subset`, which will return either `True` or `False`, depending on whether the `Grid` is a subset. Since `nn_subset_120` is a subset, using this feature we will return `True`:"
   ]
  },
  {
   "cell_type": "code",
   "metadata": {},
   "source": [
    "nn_subset_120.uxgrid.is_subset"
   ],
   "outputs": [],
   "execution_count": null
  },
  {
   "cell_type": "markdown",
   "metadata": {},
   "source": [
    "The file we have been using to create these subsets, `uxds`, is not a subset, so using the same call we will return `False:`"
   ]
  },
  {
   "cell_type": "code",
   "metadata": {},
   "source": [
    "uxds.uxgrid.is_subset"
   ],
   "outputs": [],
   "execution_count": null
  }
 ],
 "metadata": {
  "kernelspec": {
   "display_name": "Python 3 (ipykernel)",
   "language": "python",
   "name": "python3"
  },
  "language_info": {
   "codemirror_mode": {
    "name": "ipython",
    "version": 3
   },
   "file_extension": ".py",
   "mimetype": "text/x-python",
   "name": "python",
   "nbconvert_exporter": "python",
   "pygments_lexer": "ipython3",
   "version": "3.12.7"
  }
 },
 "nbformat": 4,
 "nbformat_minor": 4
}
