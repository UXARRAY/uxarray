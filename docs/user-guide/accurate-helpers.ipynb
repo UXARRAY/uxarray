{
 "cells": [
  {
   "cell_type": "markdown",
   "id": "3e7251cd7ba2b5ba",
   "metadata": {},
   "source": [
    "# Accurate Spherical Operations\n",
    "\n",
    "UXarray provides a suite of accurate operators specifically tailored for calculations of spherical surfaces. These operators significantly enhance the precision of computations involving normal vectors, intersections of geodesic arcs (GCAs), and intersections between geodesic arcs and constant latitude lines."
   ]
  },
  {
   "cell_type": "code",
   "execution_count": 4,
   "id": "4029f4f13fa139ee",
   "metadata": {
    "ExecuteTime": {
     "end_time": "2024-08-12T21:57:34.063375Z",
     "start_time": "2024-08-12T21:57:34.060889Z"
    }
   },
   "outputs": [],
   "source": [
    "import uxarray as ux\n",
    "import numpy as np\n",
    "\n",
    "from uxarray.grid.coordinates import _lonlat_rad_to_xyz"
   ]
  },
  {
   "cell_type": "markdown",
   "id": "4931b26b33df7af0",
   "metadata": {},
   "source": "## Normal Vector Calculation"
  },
  {
   "cell_type": "markdown",
   "id": "6287148a4fcec66a",
   "metadata": {},
   "source": "## GCA - GCA Intersection"
  },
  {
   "cell_type": "code",
   "execution_count": 5,
   "id": "bf794159b317cbb2",
   "metadata": {
    "ExecuteTime": {
     "end_time": "2024-08-12T21:57:34.485559Z",
     "start_time": "2024-08-12T21:57:34.483936Z"
    }
   },
   "outputs": [],
   "source": [
    "from uxarray.grid.intersections import gca_gca_intersection"
   ]
  },
  {
   "cell_type": "markdown",
   "id": "9fd090adfb976922",
   "metadata": {},
   "source": "### Parallel"
  },
  {
   "cell_type": "code",
   "execution_count": 6,
   "id": "64351482be087d3a",
   "metadata": {
    "ExecuteTime": {
     "end_time": "2024-08-12T21:57:34.997613Z",
     "start_time": "2024-08-12T21:57:34.988864Z"
    }
   },
   "outputs": [
    {
     "data": {
      "text/plain": [
       "array([], dtype=float64)"
      ]
     },
     "execution_count": 6,
     "metadata": {},
     "output_type": "execute_result"
    }
   ],
   "source": [
    "gca_a = np.array(\n",
    "    [_lonlat_rad_to_xyz(0.3 * np.pi, 0.0), _lonlat_rad_to_xyz(0.5 * np.pi, 0.0)]\n",
    ")\n",
    "gca_b = np.array(\n",
    "    [_lonlat_rad_to_xyz(0.5 * np.pi, 0.0), _lonlat_rad_to_xyz(-0.5 * np.pi - 0.01, 0.0)]\n",
    ")\n",
    "\n",
    "gca_gca_intersection(gca_a, gca_b)"
   ]
  },
  {
   "cell_type": "markdown",
   "id": "245ad090216e4773",
   "metadata": {},
   "source": "### Perpendicular"
  },
  {
   "cell_type": "code",
   "execution_count": 7,
   "id": "80f55804148fbadb",
   "metadata": {
    "ExecuteTime": {
     "end_time": "2024-08-12T21:57:36.157666Z",
     "start_time": "2024-08-12T21:57:36.150888Z"
    }
   },
   "outputs": [
    {
     "data": {
      "text/plain": [
       "array([-0.98480775,  0.17364818, -0.        ])"
      ]
     },
     "execution_count": 7,
     "metadata": {},
     "output_type": "execute_result"
    }
   ],
   "source": [
    "gca_a = np.array(\n",
    "    [\n",
    "        _lonlat_rad_to_xyz(np.deg2rad(170.0), np.deg2rad(0.0)),\n",
    "        _lonlat_rad_to_xyz(np.deg2rad(170.0), np.deg2rad(10.0)),\n",
    "    ]\n",
    ")\n",
    "gca_b = np.array(\n",
    "    [\n",
    "        _lonlat_rad_to_xyz(*[0.5 * np.pi, 0.0]),\n",
    "        _lonlat_rad_to_xyz(*[-0.5 * np.pi - 0.01, 0.0]),\n",
    "    ]\n",
    ")\n",
    "gca_gca_intersection(gca_a, gca_b)"
   ]
  },
  {
   "cell_type": "markdown",
   "id": "68ece4b2313bbce0",
   "metadata": {},
   "source": "## GCA  - Constant Latitude Intersection"
  },
  {
   "cell_type": "code",
   "execution_count": 8,
   "id": "f2a9ce9d59c2fbdf",
   "metadata": {
    "ExecuteTime": {
     "end_time": "2024-08-12T21:57:37.606276Z",
     "start_time": "2024-08-12T21:57:37.603195Z"
    }
   },
   "outputs": [],
   "source": [
    "from uxarray.grid.intersections import gca_const_lat_intersection"
   ]
  },
  {
   "cell_type": "markdown",
   "id": "ddba01e5f16ff101",
   "metadata": {},
   "source": "## Point Within GCA"
  },
  {
   "cell_type": "code",
   "execution_count": 9,
   "id": "cb34238a0783d88",
   "metadata": {
    "ExecuteTime": {
     "end_time": "2024-08-12T21:57:38.090111Z",
     "start_time": "2024-08-12T21:57:38.086859Z"
    }
   },
   "outputs": [],
   "source": [
    "from uxarray.grid.arcs import point_within_gca"
   ]
  },
  {
   "cell_type": "markdown",
   "id": "7009ba8e123ed53d",
   "metadata": {},
   "source": "## Spherical Bounding Box"
  },
  {
   "cell_type": "markdown",
   "id": "7425fb621947a531",
   "metadata": {},
   "source": [
    "## Takeaways\n",
    "\n",
    "These advancements address long-standing geoscience issues, including the degeneration of closely positioned points, inconsistent intersection points, and other geometry problems caused by error propagation. As a result, our work significantly enhances the reliability of geospatial analysis. "
   ]
  },
  {
   "cell_type": "code",
   "execution_count": null,
   "id": "3c9a45b50bdae834",
   "metadata": {},
   "outputs": [],
   "source": []
  }
 ],
 "metadata": {
  "kernelspec": {
   "display_name": "Python 3",
   "language": "python",
   "name": "python3"
  },
  "language_info": {
   "codemirror_mode": {
    "name": "ipython",
    "version": 2
   },
   "file_extension": ".py",
   "mimetype": "text/x-python",
   "name": "python",
   "nbconvert_exporter": "python",
   "pygments_lexer": "ipython2",
   "version": "2.7.6"
  }
 },
 "nbformat": 4,
 "nbformat_minor": 5
}
