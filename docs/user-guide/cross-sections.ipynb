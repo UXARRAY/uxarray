{
 "cells": [
  {
   "cell_type": "markdown",
   "id": "4a432a8bf95d9cdb",
   "metadata": {},
   "source": [
    "# Cross-Sections\n",
    "\n",
    "This section demonstrates how to extract cross-sections from an unstructured grid using UXarray, which allows the analysis and visualization across slices of grids.\n"
   ]
  },
  {
   "cell_type": "code",
   "execution_count": null,
   "id": "b35ba4a2c30750e4",
   "metadata": {},
   "outputs": [],
   "source": [
    "import uxarray as ux\n",
    "import geoviews.feature as gf\n",
    "\n",
    "import cartopy.crs as ccrs\n",
    "import geoviews as gv\n",
    "\n",
    "projection = ccrs.Robinson()"
   ]
  },
  {
   "cell_type": "markdown",
   "id": "395a3db7-495c-4cff-b733-06bbe522a604",
   "metadata": {},
   "source": [
    "## Data"
   ]
  },
  {
   "cell_type": "code",
   "execution_count": null,
   "id": "b4160275c09fe6b0",
   "metadata": {},
   "outputs": [],
   "source": [
    "base_path = \"../../test/meshfiles/ugrid/outCSne30/\"\n",
    "grid_path = base_path + \"outCSne30.ug\"\n",
    "data_path = base_path + \"outCSne30_vortex.nc\"\n",
    "\n",
    "uxds = ux.open_dataset(grid_path, data_path)\n",
    "uxds[\"psi\"].plot(\n",
    "    cmap=\"inferno\",\n",
    "    periodic_elements=\"split\",\n",
    "    projection=projection,\n",
    "    title=\"Global Plot\",\n",
    ")"
   ]
  },
  {
   "cell_type": "code",
   "execution_count": null,
   "id": "c844a3b5-ef71-41c8-a0ae-02ea937801d6",
   "metadata": {},
   "outputs": [],
   "source": [
    "uxds.uxgrid.normalize_cartesian_coordinates()"
   ]
  },
  {
   "cell_type": "markdown",
   "id": "a7a40958-0a4d-47e4-9e38-31925261a892",
   "metadata": {},
   "source": [
    "## Constant Latitude\n",
    "\n",
    "Cross-sections along constant latitude lines can be obtained using the ``.cross_section.constant_latitude`` method, available for both ``ux.Grid`` and ``ux.DataArray`` objects. This functionality allows users to extract and analyze slices of data at specified latitudes, providing insights into variations along horizontal sections of the grid.\n"
   ]
  },
  {
   "cell_type": "markdown",
   "id": "2fbe9f6e5bb59a17",
   "metadata": {},
   "source": [
    "For example, we can obtain a cross-section at 30 degrees latitude by doing the following:"
   ]
  },
  {
   "cell_type": "code",
   "execution_count": null,
   "id": "3775daa1-2f1d-4738-bab5-2b69ebd689d9",
   "metadata": {},
   "outputs": [],
   "source": [
    "lat = 0\n",
    "\n",
    "uxda_constant_lat = uxds[\"psi\"].cross_section.constant_latitude(lat)"
   ]
  },
  {
   "cell_type": "markdown",
   "id": "dcec0b96b92e7f4",
   "metadata": {},
   "source": [
    "Since the result is a new ``UxDataArray``, we can directly plot the result to see the cross-section."
   ]
  },
  {
   "cell_type": "code",
   "execution_count": null,
   "id": "484b77a6-86da-4395-9e63-f5ac56e37deb",
   "metadata": {},
   "outputs": [],
   "source": [
    "(\n",
    "    uxda_constant_lat.plot(\n",
    "        rasterize=False,\n",
    "        backend=\"bokeh\",\n",
    "        cmap=\"inferno\",\n",
    "        projection=projection,\n",
    "        global_extent=True,\n",
    "        coastline=True,\n",
    "        title=f\"Cross Section at {lat} degrees latitude\",\n",
    "    )\n",
    "    * gf.grid(projection=projection)\n",
    ")"
   ]
  },
  {
   "cell_type": "markdown",
   "id": "c7cca7de4722c121",
   "metadata": {},
   "source": [
    "You can also perform operations on the cross-section, such as taking the mean."
   ]
  },
  {
   "cell_type": "code",
   "execution_count": null,
   "id": "1cbee722-34a4-4e67-8e22-f393d7d36c99",
   "metadata": {},
   "outputs": [],
   "source": [
    "print(f\"Global Mean: {uxds['psi'].data.mean()}\")\n",
    "print(f\"Mean at {lat} degrees lat: {uxda_constant_lat.data.mean()}\")"
   ]
  },
  {
   "cell_type": "markdown",
   "id": "549bddcd8f712226",
   "metadata": {},
   "source": [
    "### Spherical Geometry Extremes\n",
    "\n",
    "\n",
    "<div style=\"text-align: center;\">\n",
    "    <img src=\"../_static/examples/cross-section/spherical_bounding_box_lat_example.png\" alt=\"Showcase\" width=\"300\"/>\n",
    "</div>\n"
   ]
  },
  {
   "cell_type": "code",
   "execution_count": 2,
   "id": "a44e463695d15a47",
   "metadata": {
    "ExecuteTime": {
     "end_time": "2024-11-08T19:53:06.911775Z",
     "start_time": "2024-11-08T19:53:06.847972Z"
    }
   },
   "outputs": [
    {
     "ename": "NameError",
     "evalue": "name 'ux' is not defined",
     "output_type": "error",
     "traceback": [
      "\u001b[0;31m---------------------------------------------------------------------------\u001b[0m",
      "\u001b[0;31mNameError\u001b[0m                                 Traceback (most recent call last)",
      "Cell \u001b[0;32mIn[2], line 6\u001b[0m\n\u001b[1;32m      3\u001b[0m node_lat \u001b[38;5;241m=\u001b[39m np\u001b[38;5;241m.\u001b[39marray([\u001b[38;5;241m-\u001b[39m\u001b[38;5;241m20\u001b[39m, \u001b[38;5;241m20\u001b[39m, \u001b[38;5;241m20\u001b[39m, \u001b[38;5;241m-\u001b[39m\u001b[38;5;241m20\u001b[39m])\n\u001b[1;32m      4\u001b[0m face_node_connectivity \u001b[38;5;241m=\u001b[39m np\u001b[38;5;241m.\u001b[39marray([[\u001b[38;5;241m0\u001b[39m, \u001b[38;5;241m1\u001b[39m, \u001b[38;5;241m2\u001b[39m, \u001b[38;5;241m3\u001b[39m]], dtype\u001b[38;5;241m=\u001b[39mnp\u001b[38;5;241m.\u001b[39mint64)\n\u001b[0;32m----> 6\u001b[0m uxgrid \u001b[38;5;241m=\u001b[39m \u001b[43mux\u001b[49m\u001b[38;5;241m.\u001b[39mGrid\u001b[38;5;241m.\u001b[39mfrom_topology(node_lon, node_lat, face_node_connectivity)\n",
      "\u001b[0;31mNameError\u001b[0m: name 'ux' is not defined"
     ]
    }
   ],
   "source": [
    "import numpy as np\n",
    "\n",
    "node_lon = np.array([-40, -40, 40, 40])\n",
    "node_lat = np.array([-20, 20, 20, -20])\n",
    "face_node_connectivity = np.array([[0, 1, 2, 3]], dtype=np.int64)\n",
    "\n",
    "uxgrid = ux.Grid.from_topology(node_lon, node_lat, face_node_connectivity)"
   ]
  },
  {
   "cell_type": "code",
   "execution_count": 3,
   "id": "46762232de1242f4",
   "metadata": {
    "ExecuteTime": {
     "end_time": "2024-11-08T19:53:06.976915Z",
     "start_time": "2024-11-08T19:53:06.968844Z"
    }
   },
   "outputs": [
    {
     "ename": "NameError",
     "evalue": "name 'uxgrid' is not defined",
     "output_type": "error",
     "traceback": [
      "\u001b[0;31m---------------------------------------------------------------------------\u001b[0m",
      "\u001b[0;31mNameError\u001b[0m                                 Traceback (most recent call last)",
      "Cell \u001b[0;32mIn[3], line 1\u001b[0m\n\u001b[0;32m----> 1\u001b[0m \u001b[43muxgrid\u001b[49m\u001b[38;5;241m.\u001b[39mget_faces_at_constant_latitude(lat\u001b[38;5;241m=\u001b[39m\u001b[38;5;241m20.0\u001b[39m)\n",
      "\u001b[0;31mNameError\u001b[0m: name 'uxgrid' is not defined"
     ]
    }
   ],
   "source": [
    "uxgrid.get_faces_at_constant_latitude(lat=20.0)"
   ]
  },
  {
   "cell_type": "code",
   "execution_count": null,
   "id": "39d2656080cd2f60",
   "metadata": {},
   "outputs": [],
   "source": [
    "uxgrid.get_faces_at_constant_latitude(lat=25.0)"
   ]
  },
  {
   "cell_type": "code",
   "execution_count": null,
   "id": "cd86508cc1827144",
   "metadata": {},
   "outputs": [],
   "source": [
    "uxgrid.get_faces_at_constant_latitude(lat=25.0, use_spherical_bounding_box=True)"
   ]
  },
  {
   "cell_type": "markdown",
   "id": "c4a7ee25-0b60-470f-bab7-92ff70563076",
   "metadata": {},
   "source": [
    "## Constant Longitude\n",
    "\n",
    "\n",
    "\n",
    "Cross-sections along constant longitude lines can be obtained using the ``.cross_section.constant_longitude`` method, available for both ``ux.Grid`` and ``ux.DataArray`` objects. \n"
   ]
  },
  {
   "cell_type": "code",
   "execution_count": null,
   "id": "f10917ce-568c-4e98-9b9c-d7c3c82e9ba3",
   "metadata": {},
   "outputs": [],
   "source": [
    "lon = 90\n",
    "\n",
    "uxda_constant_lon = uxds[\"psi\"].cross_section.constant_longitude(lon)"
   ]
  },
  {
   "cell_type": "code",
   "execution_count": null,
   "id": "4add3a54-263e-41af-ac97-1e43c9141cb4",
   "metadata": {},
   "outputs": [],
   "source": [
    "(\n",
    "    uxda_constant_lon.plot(\n",
    "        rasterize=False,\n",
    "        backend=\"bokeh\",\n",
    "        cmap=\"inferno\",\n",
    "        projection=projection,\n",
    "        global_extent=True,\n",
    "        coastline=True,\n",
    "        title=f\"Cross Section at {lon} degrees longitude\",\n",
    "        periodic_elements=\"split\",\n",
    "    )\n",
    "    * gf.grid(projection=projection)\n",
    ")"
   ]
  },
  {
   "cell_type": "markdown",
   "id": "54d9eff1-67f1-4691-a3b0-1ee0c874c98f",
   "metadata": {},
   "source": [
    "## Arbitrary Great Circle Arc (GCA)"
   ]
  },
  {
   "cell_type": "markdown",
   "id": "ea94ff9f-fe86-470d-813b-45f32a633ffc",
   "metadata": {},
   "source": [
    "```{warning}\n",
    "Arbitrary great circle arc cross sections are not yet supported.\n",
    "```"
   ]
  }
 ],
 "metadata": {
  "kernelspec": {
   "display_name": "Python 3 (ipykernel)",
   "language": "python",
   "name": "python3"
  },
  "language_info": {
   "codemirror_mode": {
    "name": "ipython",
    "version": 3
   },
   "file_extension": ".py",
   "mimetype": "text/x-python",
   "name": "python",
   "nbconvert_exporter": "python",
   "pygments_lexer": "ipython3",
   "version": "3.11.8"
  }
 },
 "nbformat": 4,
 "nbformat_minor": 5
}
