{
 "cells": [
  {
   "cell_type": "markdown",
   "id": "4a432a8bf95d9cdb",
   "metadata": {},
   "source": [
    "# Cross-Sections\n",
    "\n",
    "This section demonstrates how to extract cross-sections from an unstructured grid using UXarray, which allows the analysis and visualization across slices of grids. Cross-sections can be performed directly on a `ux.Grid` object or on a `ux.UxDataArray`\n"
   ]
  },
  {
   "cell_type": "code",
   "execution_count": null,
   "id": "b35ba4a2c30750e4",
   "metadata": {},
   "outputs": [],
   "source": [
    "import uxarray as ux\n",
    "import geoviews.feature as gf\n",
    "\n",
    "import cartopy.crs as ccrs\n",
    "import geoviews as gv\n",
    "\n",
    "projection = ccrs.Robinson()"
   ]
  },
  {
   "cell_type": "code",
   "execution_count": null,
   "id": "b4160275c09fe6b0",
   "metadata": {},
   "outputs": [],
   "source": [
    "base_path = \"../../test/meshfiles/ugrid/outCSne30/\"\n",
    "grid_path = base_path + \"outCSne30.ug\"\n",
    "data_path = base_path + \"outCSne30_vortex.nc\"\n",
    "\n",
    "uxds = ux.open_dataset(grid_path, data_path)\n",
    "uxds[\"psi\"].plot(\n",
    "    cmap=\"inferno\",\n",
    "    periodic_elements=\"split\",\n",
    "    projection=projection,\n",
    "    title=\"Global Plot\",\n",
    ")"
   ]
  },
  {
   "cell_type": "markdown",
   "id": "a7a40958-0a4d-47e4-9e38-31925261a892",
   "metadata": {},
   "source": [
    "## Constant Latitude\n",
    "\n",
    "Cross-sections along constant latitude lines can be obtained by using the  ``.cross_section.constant_latitude(lat)`` method. The sliced grid will be made up of the faces that contain at least one edge that intersects with a line of constant latitude.\n"
   ]
  },
  {
   "cell_type": "markdown",
   "id": "2fbe9f6e5bb59a17",
   "metadata": {},
   "source": [
    "For example, we can obtain a cross-section at 0 degrees latitude by doing the following:"
   ]
  },
  {
   "cell_type": "code",
   "execution_count": null,
   "id": "3775daa1-2f1d-4738-bab5-2b69ebd689d9",
   "metadata": {},
   "outputs": [],
   "source": [
    "lat = 0\n",
    "\n",
    "uxda_constant_lat = uxds[\"psi\"].cross_section.constant_latitude(lat)"
   ]
  },
  {
   "cell_type": "markdown",
   "id": "dcec0b96b92e7f4",
   "metadata": {},
   "source": [
    "Since the result is a new ``UxDataArray``, we can directly plot the result to see the cross-section."
   ]
  },
  {
   "cell_type": "code",
   "execution_count": null,
   "id": "484b77a6-86da-4395-9e63-f5ac56e37deb",
   "metadata": {},
   "outputs": [],
   "source": [
    "(\n",
    "    uxda_constant_lat.plot(\n",
    "        rasterize=False,\n",
    "        backend=\"bokeh\",\n",
    "        cmap=\"inferno\",\n",
    "        projection=projection,\n",
    "        global_extent=True,\n",
    "        coastline=True,\n",
    "        title=f\"Cross Section at {lat} degrees latitude\",\n",
    "    )\n",
    "    * gf.grid(projection=projection)\n",
    ")"
   ]
  },
  {
   "cell_type": "markdown",
   "id": "c7cca7de4722c121",
   "metadata": {},
   "source": [
    "You can also perform operations on the cross-section, such as taking the mean."
   ]
  },
  {
   "cell_type": "code",
   "execution_count": null,
   "id": "1cbee722-34a4-4e67-8e22-f393d7d36c99",
   "metadata": {},
   "outputs": [],
   "source": [
    "print(f\"Global Mean: {uxds['psi'].data.mean()}\")\n",
    "print(f\"Mean at {lat} degrees lat: {uxda_constant_lat.data.mean()}\")"
   ]
  },
  {
   "cell_type": "markdown",
   "id": "c4a7ee25-0b60-470f-bab7-92ff70563076",
   "metadata": {},
   "source": [
    "## Constant Longitude\n",
    "\n",
    "\n",
    "Cross-sections along constant longitude lines can be obtained using the ``.cross_section.constant_longitude(lon)`` method. The sliced grid will be made up of the faces that contain at least one edge that intersects with a line of constant longitude.\n"
   ]
  },
  {
   "cell_type": "code",
   "execution_count": null,
   "id": "f10917ce-568c-4e98-9b9c-d7c3c82e9ba3",
   "metadata": {},
   "outputs": [],
   "source": [
    "lon = 90\n",
    "\n",
    "uxda_constant_lon = uxds[\"psi\"].cross_section.constant_longitude(lon)"
   ]
  },
  {
   "cell_type": "code",
   "execution_count": null,
   "id": "4add3a54-263e-41af-ac97-1e43c9141cb4",
   "metadata": {},
   "outputs": [],
   "source": [
    "(\n",
    "    uxda_constant_lon.plot(\n",
    "        rasterize=False,\n",
    "        backend=\"bokeh\",\n",
    "        cmap=\"inferno\",\n",
    "        projection=projection,\n",
    "        global_extent=True,\n",
    "        coastline=True,\n",
    "        title=f\"Cross Section at {lon} degrees longitude\",\n",
    "        periodic_elements=\"split\",\n",
    "    )\n",
    "    * gf.grid(projection=projection)\n",
    ")"
   ]
  },
  {
   "cell_type": "markdown",
   "id": "5044b8680d514fdc",
   "metadata": {},
   "source": [
    "## Constant Latitude Interval\n",
    "\n",
    "Cross-sections between two lines of latitudes can be obtained using the ``.cross_section.constant_lats_interval(lats)`` method. The sliced grid will contain faces that are strictly between the latitude interval."
   ]
  },
  {
   "cell_type": "code",
   "execution_count": null,
   "id": "fc84e47efe2edf96",
   "metadata": {},
   "outputs": [],
   "source": [
    "lats = [-20, 20]\n",
    "\n",
    "uxda_constant_lat_interval = uxds[\"psi\"].cross_section.constant_latitude_interval(lats)"
   ]
  },
  {
   "cell_type": "code",
   "execution_count": null,
   "id": "60232626ba6c74ad",
   "metadata": {},
   "outputs": [],
   "source": [
    "(\n",
    "    uxda_constant_lat_interval.plot(\n",
    "        rasterize=False,\n",
    "        backend=\"bokeh\",\n",
    "        cmap=\"inferno\",\n",
    "        projection=projection,\n",
    "        global_extent=True,\n",
    "        coastline=True,\n",
    "        title=f\"Cross Section between {lats[0]} and {lats[1]} degrees latitude\",\n",
    "        periodic_elements=\"split\",\n",
    "    )\n",
    "    * gf.grid(projection=projection)\n",
    ")"
   ]
  },
  {
   "cell_type": "markdown",
   "id": "4afa3d891a80c597",
   "metadata": {},
   "source": [
    "## Constant Longitude Interval\n",
    "\n",
    "Cross-sections between two lines of longitude can be obtained using the ``.cross_section.constant_lons_interval(lons)`` method. The sliced grid will contain faces that are strictly between the longitude interval.\n"
   ]
  },
  {
   "cell_type": "code",
   "execution_count": null,
   "id": "b183d15838aaf6bb",
   "metadata": {},
   "outputs": [],
   "source": [
    "lons = [-25, 25]\n",
    "\n",
    "uxda_constant_lon_interval = uxds[\"psi\"].cross_section.constant_longitude_interval(lats)"
   ]
  },
  {
   "cell_type": "code",
   "execution_count": null,
   "id": "22793d56701504ce",
   "metadata": {},
   "outputs": [],
   "source": [
    "(\n",
    "    uxda_constant_lon_interval.plot(\n",
    "        rasterize=False,\n",
    "        backend=\"bokeh\",\n",
    "        cmap=\"inferno\",\n",
    "        projection=projection,\n",
    "        global_extent=True,\n",
    "        coastline=True,\n",
    "        title=f\"Cross Section between {lons[0]} and {lons[1]} degrees longitude\",\n",
    "        periodic_elements=\"split\",\n",
    "    )\n",
    "    * gf.grid(projection=projection)\n",
    ")"
   ]
  },
  {
   "cell_type": "markdown",
   "id": "54d9eff1-67f1-4691-a3b0-1ee0c874c98f",
   "metadata": {},
   "source": [
    "## Arbitrary Great Circle Arc (GCA)"
   ]
  },
  {
   "cell_type": "markdown",
   "id": "ea94ff9f-fe86-470d-813b-45f32a633ffc",
   "metadata": {},
   "source": [
    "```{warning}\n",
    "Arbitrary great circle arc cross sections are not yet implemented.\n",
    "```"
   ]
  }
 ],
 "metadata": {
  "kernelspec": {
   "display_name": "Python 3 (ipykernel)",
   "language": "python",
   "name": "python3"
  },
  "language_info": {
   "codemirror_mode": {
    "name": "ipython",
    "version": 3
   },
   "file_extension": ".py",
   "mimetype": "text/x-python",
   "name": "python",
   "nbconvert_exporter": "python",
   "pygments_lexer": "ipython3",
   "version": "3.12.3"
  }
 },
 "nbformat": 4,
 "nbformat_minor": 5
}
