{
 "cells": [
  {
   "cell_type": "markdown",
   "id": "4a432a8bf95d9cdb",
   "metadata": {},
   "source": [
    "# Cross-Sections\n",
    "\n",
    "This section demonstrates how to extract cross-sections from an unstructured grid using UXarray, which allows the analysis and visualization across slices of grids.\n"
   ]
  },
  {
   "cell_type": "code",
   "execution_count": null,
   "id": "b35ba4a2c30750e4",
   "metadata": {
    "ExecuteTime": {
     "end_time": "2024-10-09T17:50:50.244285Z",
     "start_time": "2024-10-09T17:50:50.239653Z"
    }
   },
   "outputs": [],
   "source": [
    "import uxarray as ux\n",
    "import geoviews.feature as gf\n",
    "\n",
    "import cartopy.crs as ccrs\n",
    "import geoviews as gv\n",
    "\n",
    "projection = ccrs.Robinson()"
   ]
  },
  {
   "cell_type": "markdown",
   "id": "395a3db7-495c-4cff-b733-06bbe522a604",
   "metadata": {},
   "source": [
    "## Data"
   ]
  },
  {
   "cell_type": "code",
   "execution_count": null,
   "id": "b4160275c09fe6b0",
   "metadata": {
    "ExecuteTime": {
     "end_time": "2024-10-09T17:50:51.217211Z",
     "start_time": "2024-10-09T17:50:50.540946Z"
    }
   },
   "outputs": [],
   "source": [
    "base_path = \"../../test/meshfiles/ugrid/outCSne30/\"\n",
    "grid_path = base_path + \"outCSne30.ug\"\n",
    "data_path = base_path + \"outCSne30_vortex.nc\"\n",
    "\n",
    "uxds = ux.open_dataset(grid_path, data_path)\n",
    "uxds[\"psi\"].plot(\n",
    "    cmap=\"inferno\",\n",
    "    periodic_elements=\"split\",\n",
    "    projection=projection,\n",
    "    title=\"Global Plot\",\n",
    ")"
   ]
  },
  {
   "cell_type": "markdown",
   "id": "a7a40958-0a4d-47e4-9e38-31925261a892",
   "metadata": {},
   "source": [
    "## Constant Latitude\n",
    "\n",
    "Cross-sections along constant latitude lines can be obtained using the ``.cross_section.constant_latitude`` method, available for both ``ux.Grid`` and ``ux.DataArray`` objects. This functionality allows users to extract and analyze slices of data at specified latitudes, providing insights into variations along horizontal sections of the grid.\n"
   ]
  },
  {
   "cell_type": "markdown",
   "id": "2fbe9f6e5bb59a17",
   "metadata": {},
   "source": [
    "For example, we can obtain a cross-section at 30 degrees latitude by doing the following:"
   ]
  },
  {
   "cell_type": "code",
   "execution_count": null,
   "id": "3775daa1-2f1d-4738-bab5-2b69ebd689d9",
   "metadata": {
    "ExecuteTime": {
     "end_time": "2024-10-09T17:50:53.093314Z",
     "start_time": "2024-10-09T17:50:53.077719Z"
    }
   },
   "outputs": [],
   "source": [
    "lat = 30\n",
    "\n",
    "uxda_constant_lat = uxds[\"psi\"].cross_section.constant_latitude(lat)"
   ]
  },
  {
   "cell_type": "markdown",
   "id": "dcec0b96b92e7f4",
   "metadata": {},
   "source": [
    "Since the result is a new ``UxDataArray``, we can directly plot the result to see the cross-section."
   ]
  },
  {
   "cell_type": "code",
   "execution_count": null,
   "id": "484b77a6-86da-4395-9e63-f5ac56e37deb",
   "metadata": {},
   "outputs": [],
   "source": [
    "(\n",
    "    uxda_constant_lat.plot(\n",
    "        rasterize=False,\n",
    "        backend=\"bokeh\",\n",
    "        cmap=\"inferno\",\n",
    "        projection=projection,\n",
    "        global_extent=True,\n",
    "        coastline=True,\n",
    "        title=f\"Cross Section at {lat} degrees latitude\",\n",
    "    )\n",
    "    * gf.grid(projection=projection)\n",
    ")"
   ]
  },
  {
   "cell_type": "markdown",
   "id": "c7cca7de4722c121",
   "metadata": {},
   "source": [
    "You can also perform operations on the cross-section, such as taking the mean."
   ]
  },
  {
   "cell_type": "code",
   "execution_count": null,
   "id": "1cbee722-34a4-4e67-8e22-f393d7d36c99",
   "metadata": {},
   "outputs": [],
   "source": [
    "print(f\"Global Mean: {uxds['psi'].data.mean()}\")\n",
    "print(f\"Mean at {lat} degrees lat: {uxda_constant_lat.data.mean()}\")"
   ]
  },
  {
   "cell_type": "markdown",
   "id": "c4a7ee25-0b60-470f-bab7-92ff70563076",
   "metadata": {},
   "source": [
    "## Constant Longitude"
   ]
  },
  {
   "cell_type": "markdown",
   "id": "9fcc8ec5-c6a8-4bde-a33d-7f37f9116ee2",
   "metadata": {},
   "source": [
    "```{warning}\n",
    "Constant longitude cross sections are not yet supported.\n",
    "```"
   ]
  },
  {
   "cell_type": "markdown",
   "id": "54d9eff1-67f1-4691-a3b0-1ee0c874c98f",
   "metadata": {},
   "source": [
    "## Arbitrary Great Circle Arc (GCA)"
   ]
  },
  {
   "cell_type": "markdown",
   "id": "ea94ff9f-fe86-470d-813b-45f32a633ffc",
   "metadata": {},
   "source": [
    "```{warning}\n",
    "Arbitrary great circle arc cross sections are not yet supported.\n",
    "```"
   ]
  }
 ],
 "metadata": {
  "kernelspec": {
   "display_name": "Python 3 (ipykernel)",
   "language": "python",
   "name": "python3"
  },
  "language_info": {
   "codemirror_mode": {
    "name": "ipython",
    "version": 3
   },
   "file_extension": ".py",
   "mimetype": "text/x-python",
   "name": "python",
   "nbconvert_exporter": "python",
   "pygments_lexer": "ipython3",
   "version": "3.11.8"
  }
 },
 "nbformat": 4,
 "nbformat_minor": 5
}
