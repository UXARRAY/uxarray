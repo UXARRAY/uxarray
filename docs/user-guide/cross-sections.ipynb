{
 "cells": [
  {
   "cell_type": "markdown",
   "id": "4a432a8bf95d9cdb",
   "metadata": {},
   "source": [
    "# Cross-Sections\n",
    "\n",
    "\n",
    "UXarray allows for cross-sections to be performed along arbitrary great-circle arcs (GCAs) and lines of constant latitude or longitude. This enables workflows such as vertical or temporal cross-section visualizations\n"
   ]
  },
  {
   "cell_type": "code",
   "execution_count": null,
   "id": "16db9f880115ac2b",
   "metadata": {},
   "outputs": [],
   "source": [
    "import matplotlib.pyplot as plt\n",
    "import numpy as np\n",
    "\n",
    "import uxarray as ux"
   ]
  },
  {
   "cell_type": "code",
   "execution_count": null,
   "id": "720c4a345d659fd3",
   "metadata": {},
   "outputs": [],
   "source": [
    "def set_lon_lat_xticks(ax, cross_section, n_ticks=6):\n",
    "    \"\"\"Utility function to draw stacked lat/lon points along the sampled cross-section\"\"\"\n",
    "    da = cross_section\n",
    "\n",
    "    N = da.sizes[\"steps\"]\n",
    "    tick_pos = np.linspace(0, N - 1, n_ticks, dtype=int)\n",
    "    lons = da[\"lon\"].values[tick_pos]\n",
    "    lats = da[\"lat\"].values[tick_pos]\n",
    "\n",
    "    tick_labels = []\n",
    "    for lon, lat in zip(lons, lats):\n",
    "        lon_dir = \"E\" if lon >= 0 else \"W\"\n",
    "        lat_dir = \"N\" if lat >= 0 else \"S\"\n",
    "        tick_labels.append(f\"{abs(lon):.2f}°{lon_dir}\\n{abs(lat):.2f}°{lat_dir}\")\n",
    "\n",
    "    ax.set_xticks(tick_pos)\n",
    "    ax.set_xticklabels(tick_labels)\n",
    "\n",
    "    ax.set_xlabel(\"Longitude\\nLatitude\")\n",
    "    plt.tight_layout()\n",
    "\n",
    "    return fig, ax"
   ]
  },
  {
   "cell_type": "code",
   "execution_count": null,
   "id": "2a42a1aa9249a94f",
   "metadata": {},
   "outputs": [],
   "source": [
    "grid_path = \"../../test/meshfiles/scrip/ne30pg2/grid.nc\"\n",
    "data_path = \"../../test/meshfiles/scrip/ne30pg2/data.nc\"\n",
    "\n",
    "uxds = ux.open_dataset(grid_path, data_path)\n",
    "uxds[\"RELHUM\"]"
   ]
  },
  {
   "cell_type": "markdown",
   "id": "637eaeb7670eea9b",
   "metadata": {},
   "source": "## Arbitrary Great Circle Arc (GCA)"
  },
  {
   "cell_type": "code",
   "execution_count": null,
   "id": "11d2b717ba274d79",
   "metadata": {},
   "outputs": [],
   "source": [
    "start_point = (-45, -45)\n",
    "end_point = (45, 45)\n",
    "\n",
    "cross_section_gca = uxds[\"RELHUM\"].cross_section(\n",
    "    start=start_point, end=end_point, steps=100\n",
    ")"
   ]
  },
  {
   "cell_type": "code",
   "execution_count": null,
   "id": "cf73e86a3ddd57d9",
   "metadata": {},
   "outputs": [],
   "source": [
    "fig, ax = plt.subplots()\n",
    "cross_section_gca.plot(ax=ax)\n",
    "\n",
    "set_lon_lat_xticks(ax, cross_section_gca)\n",
    "ax.set_title(f\"Cross Section between {start_point} and {end_point}\")\n",
    "ax.invert_yaxis()"
   ]
  },
  {
   "cell_type": "markdown",
   "id": "c2f3ff22dc82d6ce",
   "metadata": {},
   "source": "## Constant Latitude"
  },
  {
   "cell_type": "code",
   "execution_count": null,
   "id": "5a7415fa56f86071",
   "metadata": {},
   "outputs": [],
   "source": [
    "lat = 45\n",
    "cross_section_const_lat = uxds[\"RELHUM\"].cross_section(lat=lat, steps=100)"
   ]
  },
  {
   "cell_type": "code",
   "execution_count": null,
   "id": "b8cfda1b537a059e",
   "metadata": {},
   "outputs": [],
   "source": [
    "fig, ax = plt.subplots()\n",
    "cross_section_const_lat.plot(ax=ax)\n",
    "\n",
    "set_lon_lat_xticks(ax, cross_section_const_lat)\n",
    "ax.set_title(f\"Cross Section at {lat}° latitude.\")\n",
    "ax.invert_yaxis()"
   ]
  },
  {
   "cell_type": "markdown",
   "id": "b6ab076677f11637",
   "metadata": {},
   "source": "## Constant Longitude"
  },
  {
   "cell_type": "code",
   "execution_count": null,
   "id": "add5646acb68496e",
   "metadata": {},
   "outputs": [],
   "source": [
    "lon = 0\n",
    "cross_section_const_lon = uxds[\"RELHUM\"].cross_section(lon=lon, steps=100)"
   ]
  },
  {
   "cell_type": "code",
   "execution_count": null,
   "id": "1999ff933ce37f4e",
   "metadata": {},
   "outputs": [],
   "source": [
    "fig, ax = plt.subplots()\n",
    "cross_section_const_lon.plot(ax=ax)\n",
    "\n",
    "set_lon_lat_xticks(ax, cross_section_const_lon)\n",
    "ax.set_title(f\"Cross Section at {lon}° longitude.\")\n",
    "ax.invert_yaxis()"
   ]
  }
 ],
 "metadata": {
  "kernelspec": {
   "display_name": "Python 3 (ipykernel)",
   "language": "python",
   "name": "python3"
  },
  "language_info": {
   "codemirror_mode": {
    "name": "ipython",
    "version": 3
   },
   "file_extension": ".py",
   "mimetype": "text/x-python",
   "name": "python",
   "nbconvert_exporter": "python",
   "pygments_lexer": "ipython3",
   "version": "3.12.3"
  }
 },
 "nbformat": 4,
 "nbformat_minor": 5
}
