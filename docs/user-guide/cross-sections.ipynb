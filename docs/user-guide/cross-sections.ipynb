{
 "cells": [
  {
   "cell_type": "markdown",
   "id": "4a432a8bf95d9cdb",
   "metadata": {},
   "source": [
    "# Cross-Sections"
   ]
  },
  {
   "cell_type": "code",
   "execution_count": null,
   "id": "b35ba4a2c30750e4",
   "metadata": {
    "ExecuteTime": {
     "end_time": "2024-10-04T14:54:06.168033Z",
     "start_time": "2024-10-04T14:54:03.916424Z"
    }
   },
   "outputs": [],
   "source": [
    "import uxarray as ux\n",
    "import geoviews.feature as gf\n",
    "import cartopy.crs as ccrs\n",
    "import geoviews as gv\n",
    "\n",
    "projection = ccrs.Robinson()"
   ]
  },
  {
   "cell_type": "markdown",
   "id": "395a3db7-495c-4cff-b733-06bbe522a604",
   "metadata": {},
   "source": [
    "## Data"
   ]
  },
  {
   "cell_type": "code",
   "execution_count": null,
   "id": "b4160275c09fe6b0",
   "metadata": {},
   "outputs": [],
   "source": [
    "base_path = \"../../test/meshfiles/ugrid/outCSne30/\"\n",
    "grid_path = base_path + \"outCSne30.ug\"\n",
    "data_path = base_path + \"outCSne30_vortex.nc\"\n",
    "\n",
    "uxds = ux.open_dataset(grid_path, data_path)\n",
    "\n",
    "uxds"
   ]
  },
  {
   "cell_type": "code",
   "execution_count": null,
   "id": "350df379-f496-46b7-ab86-5a2e630e3cea",
   "metadata": {},
   "outputs": [],
   "source": [
    "uxds.uxgrid.normalize_cartesian_coordinates()"
   ]
  },
  {
   "cell_type": "markdown",
   "id": "a7a40958-0a4d-47e4-9e38-31925261a892",
   "metadata": {},
   "source": [
    "## Constant Latitude"
   ]
  },
  {
   "cell_type": "code",
   "execution_count": null,
   "id": "9facc02e-e4d4-4be3-9473-1a47e512c274",
   "metadata": {},
   "outputs": [],
   "source": [
    "lat = 1.0\n",
    "\n",
    "uxda_constant_lat = uxds[\"psi\"].constant_latitude_cross_section(lat)"
   ]
  },
  {
   "cell_type": "code",
   "execution_count": null,
   "id": "bb5132fc-0d49-4484-95d4-8197c955a954",
   "metadata": {},
   "outputs": [],
   "source": [
    "constant_lat_line = gv.Path([(-180, lat), (180, lat)]).opts(\n",
    "    projection=projection, color=\"grey\", line_width=2, alpha=0.5\n",
    ")"
   ]
  },
  {
   "cell_type": "code",
   "execution_count": null,
   "id": "484b77a6-86da-4395-9e63-f5ac56e37deb",
   "metadata": {},
   "outputs": [],
   "source": [
    "(\n",
    "    uxda_constant_lat.plot(\n",
    "        rasterize=False,\n",
    "        backend=\"bokeh\",\n",
    "        cmap=\"inferno\",\n",
    "        projection=projection,\n",
    "        global_extent=True,\n",
    "        coastline=True,\n",
    "    )\n",
    "    * gf.grid(projection=projection)\n",
    "    * constant_lat_line\n",
    ")"
   ]
  },
  {
   "cell_type": "markdown",
   "id": "c4a7ee25-0b60-470f-bab7-92ff70563076",
   "metadata": {},
   "source": [
    "## Constant Longitude"
   ]
  },
  {
   "cell_type": "markdown",
   "id": "54d9eff1-67f1-4691-a3b0-1ee0c874c98f",
   "metadata": {},
   "source": [
    "## Arbitrary Great Circle Arc (GCA)"
   ]
  }
 ],
 "metadata": {
  "kernelspec": {
   "display_name": "Python 3 (ipykernel)",
   "language": "python",
   "name": "python3"
  },
  "language_info": {
   "codemirror_mode": {
    "name": "ipython",
    "version": 3
   },
   "file_extension": ".py",
   "mimetype": "text/x-python",
   "name": "python",
   "nbconvert_exporter": "python",
   "pygments_lexer": "ipython3",
   "version": "3.11.8"
  }
 },
 "nbformat": 4,
 "nbformat_minor": 5
}
