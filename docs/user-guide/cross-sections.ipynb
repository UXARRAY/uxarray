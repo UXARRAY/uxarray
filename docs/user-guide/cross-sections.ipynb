{
 "cells": [
  {
   "cell_type": "markdown",
   "id": "4a432a8bf95d9cdb",
   "metadata": {},
   "source": [
    "# Cross-Sections\n",
    "\n",
    "UXarray allows for cross-sections to be performed along arbitrary great-circle arcs (GCAs) and lines of constant latitude or longitude.\n",
    "\n",
    "This enables analysis of workflows such as Vertical Cross-Sections when vertical dimensions (i.e., levels) are present, temporal visualizations (e.g., Hovmöller diagram), and even visualizations of arbitrary dimensions along GCAs or constant lat/lon lines.\n"
   ]
  },
  {
   "cell_type": "code",
   "id": "16db9f880115ac2b",
   "metadata": {},
   "source": [
    "import matplotlib.pyplot as plt\n",
    "import numpy as np\n",
    "\n",
    "import uxarray as ux"
   ],
   "outputs": [],
   "execution_count": null
  },
  {
   "metadata": {},
   "cell_type": "markdown",
   "source": "## Overview",
   "id": "e522f2ce7aec8f35"
  },
  {
   "metadata": {},
   "cell_type": "markdown",
   "source": [
    "Cross-sections can be performed by using the `.cross_section` method on a `ux.UxDataArray`. The original data variable is sampled along `steps` number of evenly spaced points, with the result stored as a `xr.DataArray`, since there is no longer any grid information associated with the sampled result.\n",
    "\n",
    "```{note}\n",
    "The `cross_section.bounding_box`, `cross_section.bounding_circle` and `cross_section.nearest_neighbor` methods will be deprecated in a future release, as they are now housed under the `subset` accessor.\n",
    "```\n",
    "\n",
    "Let's open up our data and define a small helper function for labeling the sampled coordinates."
   ],
   "id": "7f460b9ba60b1c60"
  },
  {
   "cell_type": "code",
   "id": "720c4a345d659fd3",
   "metadata": {},
   "source": [
    "def set_lon_lat_xticks(ax, cross_section, n_ticks=6):\n",
    "    \"\"\"Utility function to draw stacked lat/lon points along the sampled cross-section\"\"\"\n",
    "    da = cross_section\n",
    "\n",
    "    N = da.sizes[\"steps\"]\n",
    "    tick_pos = np.linspace(0, N - 1, n_ticks, dtype=int)\n",
    "    lons = da[\"lon\"].values[tick_pos]\n",
    "    lats = da[\"lat\"].values[tick_pos]\n",
    "\n",
    "    tick_labels = []\n",
    "    for lon, lat in zip(lons, lats):\n",
    "        lon_dir = \"E\" if lon >= 0 else \"W\"\n",
    "        lat_dir = \"N\" if lat >= 0 else \"S\"\n",
    "        tick_labels.append(f\"{abs(lon):.2f}°{lon_dir}\\n{abs(lat):.2f}°{lat_dir}\")\n",
    "\n",
    "    ax.set_xticks(tick_pos)\n",
    "    ax.set_xticklabels(tick_labels)\n",
    "\n",
    "    ax.set_xlabel(\"Longitude\\nLatitude\")\n",
    "    plt.tight_layout()\n",
    "\n",
    "    return fig, ax"
   ],
   "outputs": [],
   "execution_count": null
  },
  {
   "cell_type": "code",
   "id": "2a42a1aa9249a94f",
   "metadata": {},
   "source": [
    "grid_path = \"../../test/meshfiles/scrip/ne30pg2/grid.nc\"\n",
    "data_path = \"../../test/meshfiles/scrip/ne30pg2/data.nc\"\n",
    "\n",
    "uxds = ux.open_dataset(grid_path, data_path)\n",
    "uxds[\"RELHUM\"]"
   ],
   "outputs": [],
   "execution_count": null
  },
  {
   "cell_type": "markdown",
   "id": "637eaeb7670eea9b",
   "metadata": {},
   "source": [
    "## Arbitrary Great Circle Arc (GCA)\n",
    "\n",
    "A cross‑section can be performed between two **arbitrary** (lon,lat) points, which will form a geodesic arc."
   ]
  },
  {
   "cell_type": "code",
   "id": "11d2b717ba274d79",
   "metadata": {},
   "source": [
    "start_point = (-45, -45)\n",
    "end_point = (45, 45)\n",
    "\n",
    "cross_section_gca = uxds[\"RELHUM\"].cross_section(\n",
    "    start=start_point, end=end_point, steps=100\n",
    ")"
   ],
   "outputs": [],
   "execution_count": null
  },
  {
   "cell_type": "code",
   "id": "cf73e86a3ddd57d9",
   "metadata": {},
   "source": [
    "fig, ax = plt.subplots()\n",
    "cross_section_gca.plot(ax=ax)\n",
    "\n",
    "set_lon_lat_xticks(ax, cross_section_gca)\n",
    "ax.set_title(f\"Cross Section between {start_point} and {end_point}\")\n",
    "ax.invert_yaxis()"
   ],
   "outputs": [],
   "execution_count": null
  },
  {
   "cell_type": "markdown",
   "id": "c2f3ff22dc82d6ce",
   "metadata": {},
   "source": [
    "## Constant Latitude\n",
    "\n",
    "A constant‐latitude cross‐section samples data along a horizontal line at a fixed latitude.\n"
   ]
  },
  {
   "cell_type": "code",
   "id": "5a7415fa56f86071",
   "metadata": {},
   "source": [
    "lat = 45\n",
    "cross_section_const_lat = uxds[\"RELHUM\"].cross_section(lat=lat, steps=100)"
   ],
   "outputs": [],
   "execution_count": null
  },
  {
   "cell_type": "code",
   "id": "b8cfda1b537a059e",
   "metadata": {},
   "source": [
    "fig, ax = plt.subplots()\n",
    "cross_section_const_lat.plot(ax=ax)\n",
    "\n",
    "set_lon_lat_xticks(ax, cross_section_const_lat)\n",
    "ax.set_title(f\"Cross Section at {lat}° latitude.\")\n",
    "ax.invert_yaxis()"
   ],
   "outputs": [],
   "execution_count": null
  },
  {
   "cell_type": "markdown",
   "id": "b6ab076677f11637",
   "metadata": {},
   "source": [
    "## Constant Longitude\n",
    "\n",
    "A constant‐longitude cross‐section samples data along a vertical line at a fixed longitude"
   ]
  },
  {
   "cell_type": "code",
   "id": "add5646acb68496e",
   "metadata": {},
   "source": [
    "lon = 0\n",
    "cross_section_const_lon = uxds[\"RELHUM\"].cross_section(lon=lon, steps=100)"
   ],
   "outputs": [],
   "execution_count": null
  },
  {
   "cell_type": "code",
   "id": "1999ff933ce37f4e",
   "metadata": {},
   "source": [
    "fig, ax = plt.subplots()\n",
    "cross_section_const_lon.plot(ax=ax)\n",
    "\n",
    "set_lon_lat_xticks(ax, cross_section_const_lon)\n",
    "ax.set_title(f\"Cross Section at {lon}° longitude.\")\n",
    "ax.invert_yaxis()"
   ],
   "outputs": [],
   "execution_count": null
  }
 ],
 "metadata": {
  "kernelspec": {
   "display_name": "Python 3 (ipykernel)",
   "language": "python",
   "name": "python3"
  },
  "language_info": {
   "codemirror_mode": {
    "name": "ipython",
    "version": 3
   },
   "file_extension": ".py",
   "mimetype": "text/x-python",
   "name": "python",
   "nbconvert_exporter": "python",
   "pygments_lexer": "ipython3",
   "version": "3.12.3"
  }
 },
 "nbformat": 4,
 "nbformat_minor": 5
}
