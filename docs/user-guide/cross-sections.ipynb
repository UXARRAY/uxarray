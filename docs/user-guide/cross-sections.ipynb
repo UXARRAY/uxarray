{
 "cells": [
  {
   "cell_type": "markdown",
   "id": "4a432a8bf95d9cdb",
   "metadata": {},
   "source": [
    "# Cross-Sections\n",
    "\n",
    "This section demonstrates how to extract both horizontal and vertical cross-sections from an unstructured grid using UXarray, which allows the analysis and visualization across slices of grids. Cross-sections can be performed directly on a `ux.Grid` object or on a `ux.UxDataArray`.\n",
    "\n",
    "## Horizontal Cross-Sections\n",
    "\n",
    "Horizontal cross-sections extract slices at constant latitudes or longitudes on the horizontal plane.\n"
   ]
  },
  {
   "cell_type": "code",
   "execution_count": null,
   "id": "b35ba4a2c30750e4",
   "metadata": {},
   "outputs": [],
   "source": [
    "import cartopy.crs as ccrs\n",
    "import geoviews as gv\n",
    "import geoviews.feature as gf\n",
    "import matplotlib.pyplot as plt\n",
    "\n",
    "import uxarray as ux\n",
    "\n",
    "projection = ccrs.Robinson()"
   ]
  },
  {
   "cell_type": "code",
   "execution_count": null,
   "id": "b4160275c09fe6b0",
   "metadata": {},
   "outputs": [],
   "source": [
    "base_path = \"../../test/meshfiles/ugrid/outCSne30/\"\n",
    "grid_path = base_path + \"outCSne30.ug\"\n",
    "data_path = base_path + \"outCSne30_vortex.nc\"\n",
    "\n",
    "uxds = ux.open_dataset(grid_path, data_path)\n",
    "uxds[\"psi\"].plot(\n",
    "    cmap=\"inferno\",\n",
    "    periodic_elements=\"split\",\n",
    "    projection=projection,\n",
    "    title=\"Global Plot\",\n",
    ")"
   ]
  },
  {
   "cell_type": "markdown",
   "id": "a7a40958-0a4d-47e4-9e38-31925261a892",
   "metadata": {},
   "source": [
    "### Constant Latitude\n",
    "\n",
    "Horizontal cross-sections along constant latitude lines can be obtained by using the  ``.cross_section.constant_latitude(lat)`` method. The sliced grid will be made up of the faces that contain at least one edge that intersects with a line of constant latitude.\n"
   ]
  },
  {
   "cell_type": "markdown",
   "id": "2fbe9f6e5bb59a17",
   "metadata": {},
   "source": [
    "For example, we can obtain a cross-section at 0 degrees latitude by doing the following:"
   ]
  },
  {
   "cell_type": "code",
   "execution_count": null,
   "id": "3775daa1-2f1d-4738-bab5-2b69ebd689d9",
   "metadata": {},
   "outputs": [],
   "source": [
    "lat = 0"
   ]
  },
  {
   "cell_type": "markdown",
   "id": "dcec0b96b92e7f4",
   "metadata": {},
   "source": [
    "Result of crossection call is a new ``UxDataArray``, we can directly plot the result to see the cross-section.  Below are two plots side-by-side using matplotlib.pyplot.subplots. The first plot will show the cross-section by selecting the grid faces that intersect the latitude line (sample=False), while the second will show an interpolated cross-section with 50 sample points (sample=True)."
   ]
  },
  {
   "cell_type": "code",
   "execution_count": null,
   "id": "484b77a6-86da-4395-9e63-f5ac56e37deb",
   "metadata": {},
   "outputs": [],
   "source": [
    "# Create a figure with two subplots side-by-side\n",
    "# sharey=True makes the y-axis the same for easier comparison\n",
    "fig, (ax1, ax2) = plt.subplots(nrows=1, ncols=2, figsize=(18, 6), sharey=True)\n",
    "\n",
    "# --- Plot 1: Original Cross-Section (sample=False) ---\n",
    "\n",
    "# Get the cross-section by selecting intersecting grid faces\n",
    "uxda_constant_lat_1 = uxds[\"psi\"].cross_section.constant_latitude(lat, sample=False)\n",
    "\n",
    "\n",
    "# Plot the data values at the center of each intersecting face\n",
    "face_lons_1 = uxda_constant_lat_1.uxgrid.face_lon.values\n",
    "ax1.scatter(face_lons_1, uxda_constant_lat_1.values, c=\"blue\", s=50, alpha=0.7)\n",
    "ax1.set_xlabel(\"Longitude (face centers)\")\n",
    "\n",
    "ax1.set_ylabel(\"Data values\")\n",
    "ax1.set_title(f\"Cross Section at {lat}° Latitude (sample=False)\")\n",
    "ax1.grid(True, alpha=0.3)\n",
    "\n",
    "# --- Plot 2: Sampled Cross-Section (sample=True) ---\n",
    "\n",
    "# Get the cross-section by sampling 50 points along the latitude line\n",
    "uxda_constant_lat_2 = uxds[\"psi\"].cross_section.constant_latitude(\n",
    "    lat, sample=True, n_samples=10\n",
    ")\n",
    "\n",
    "# Plot the data on the second subplot (ax2)\n",
    "# With sample=True, the result is always a structured line plot with 'lon' coordinates\n",
    "uxda_constant_lat_2.plot(\n",
    "    x=\"lon\", ax=ax2, marker=\"o\", linewidth=2, markersize=4, color=\"red\"\n",
    ")\n",
    "ax2.set_xlabel(\"Longitude\")\n",
    "ax2.set_title(f\"Cross Section at {lat}° Latitude (sample=True, n_samples=10)\")\n",
    "ax2.grid(True, alpha=0.3)\n",
    "\n",
    "\n",
    "# --- Display the final figure ---\n",
    "plt.tight_layout()\n",
    "plt.show()"
   ]
  },
  {
   "cell_type": "markdown",
   "id": "c7cca7de4722c121",
   "metadata": {},
   "source": [
    "You can also perform operations on the cross-section, such as taking the mean."
   ]
  },
  {
   "cell_type": "code",
   "execution_count": null,
   "id": "1cbee722-34a4-4e67-8e22-f393d7d36c99",
   "metadata": {},
   "outputs": [],
   "source": [
    "print(f\"Global Mean: {uxds['psi'].data.mean()}\")\n",
    "print(f\"Mean at {lat} degrees lat: {uxda_constant_lat_2.data.mean()}\")"
   ]
  },
  {
   "cell_type": "markdown",
   "id": "c4a7ee25-0b60-470f-bab7-92ff70563076",
   "metadata": {},
   "source": [
    "### Constant Longitude\n",
    "\n",
    "\n",
    "Horizontal cross-sections along constant longitude lines can be obtained using the ``.cross_section.constant_longitude(lon)`` method. The sliced grid will be made up of the faces that contain at least one edge that intersects with a line of constant longitude.\n"
   ]
  },
  {
   "cell_type": "code",
   "execution_count": null,
   "id": "f10917ce-568c-4e98-9b9c-d7c3c82e9ba3",
   "metadata": {},
   "outputs": [],
   "source": [
    "lon = 90\n",
    "\n",
    "uxda_constant_lon = uxds[\"psi\"].cross_section.constant_longitude(lon)"
   ]
  },
  {
   "cell_type": "code",
   "execution_count": null,
   "id": "4add3a54-263e-41af-ac97-1e43c9141cb4",
   "metadata": {},
   "outputs": [],
   "source": [
    "(\n",
    "    uxda_constant_lon.plot.polygons(\n",
    "        rasterize=False,\n",
    "        backend=\"bokeh\",\n",
    "        cmap=\"inferno\",\n",
    "        projection=projection,\n",
    "        global_extent=True,\n",
    "        coastline=True,\n",
    "        title=f\"Cross Section at {lon} degrees longitude\",\n",
    "        periodic_elements=\"split\",\n",
    "    )\n",
    "    * gf.grid(projection=projection)\n",
    ")"
   ]
  },
  {
   "cell_type": "markdown",
   "id": "5044b8680d514fdc",
   "metadata": {},
   "source": [
    "### Constant Latitude Interval\n",
    "\n",
    "Horizontal cross-sections between two lines of latitudes can be obtained using the ``.cross_section.constant_latitude_interval(lats)`` method. The sliced grid will contain faces that are strictly between the latitude interval."
   ]
  },
  {
   "cell_type": "code",
   "execution_count": null,
   "id": "fc84e47efe2edf96",
   "metadata": {},
   "outputs": [],
   "source": [
    "lats = [-20, 20]\n",
    "\n",
    "uxda_constant_lat_interval = uxds[\"psi\"].cross_section.constant_latitude_interval(lats)"
   ]
  },
  {
   "cell_type": "code",
   "execution_count": null,
   "id": "60232626ba6c74ad",
   "metadata": {},
   "outputs": [],
   "source": [
    "(\n",
    "    uxda_constant_lat_interval.plot.polygons(\n",
    "        rasterize=False,\n",
    "        backend=\"bokeh\",\n",
    "        cmap=\"inferno\",\n",
    "        projection=projection,\n",
    "        global_extent=True,\n",
    "        coastline=True,\n",
    "        title=f\"Cross Section between {lats[0]} and {lats[1]} degrees latitude\",\n",
    "        periodic_elements=\"split\",\n",
    "    )\n",
    "    * gf.grid(projection=projection)\n",
    ")"
   ]
  },
  {
   "cell_type": "markdown",
   "id": "4afa3d891a80c597",
   "metadata": {},
   "source": [
    "### Constant Longitude Interval\n",
    "\n",
    "Horizontal cross-sections between two lines of longitude can be obtained using the ``.cross_section.constant_longitude_interval(lons)`` method. The sliced grid will contain faces that are strictly between the longitude interval.\n"
   ]
  },
  {
   "cell_type": "code",
   "execution_count": null,
   "id": "b183d15838aaf6bb",
   "metadata": {},
   "outputs": [],
   "source": [
    "lons = [-25, 25]\n",
    "\n",
    "uxda_constant_lon_interval = uxds[\"psi\"].cross_section.constant_longitude_interval(lons)"
   ]
  },
  {
   "cell_type": "code",
   "execution_count": null,
   "id": "22793d56701504ce",
   "metadata": {},
   "outputs": [],
   "source": [
    "(\n",
    "    uxda_constant_lon_interval.plot.polygons(\n",
    "        rasterize=False,\n",
    "        backend=\"bokeh\",\n",
    "        cmap=\"inferno\",\n",
    "        projection=projection,\n",
    "        global_extent=True,\n",
    "        coastline=True,\n",
    "        title=f\"Cross Section between {lons[0]} and {lons[1]} degrees longitude\",\n",
    "        periodic_elements=\"split\",\n",
    "    )\n",
    "    * gf.grid(projection=projection)\n",
    ")"
   ]
  },
  {
   "cell_type": "markdown",
   "id": "vertical-cross-sections",
   "metadata": {},
   "source": [
    "## Vertical Cross-Sections\n",
    "\n",
    "Vertical cross-sections work on 3D data (with vertical levels like atmospheric pressure levels, ocean depths, etc.) and extract slices along constant latitudes or longitudes while preserving ALL vertical levels. This creates a 2D vertical transect showing how data varies spatially and vertically.\n",
    "\n",
    "Cross-sections create **regular sampling** along the specified line, making them perfect for visualization and analysis."
   ]
  },
  {
   "cell_type": "code",
   "execution_count": null,
   "id": "create-3d-data",
   "metadata": {},
   "outputs": [],
   "source": [
    "import matplotlib.pyplot as plt\n",
    "import numpy as np\n",
    "\n",
    "# Create 3D data with vertical levels for demonstration\n",
    "pressure_levels = np.array([1000, 850, 700, 500, 300])  # hPa\n",
    "psi_3d = uxds[\"psi\"].expand_dims(pressure=pressure_levels)\n",
    "\n",
    "print(f\"Original 2D data shape: {uxds['psi'].shape}\")\n",
    "print(f\"3D data shape: {psi_3d.shape}\")\n",
    "print(f\"3D data dimensions: {psi_3d.dims}\")"
   ]
  },
  {
   "cell_type": "code",
   "execution_count": null,
   "id": "latitude-cross-section",
   "metadata": {},
   "outputs": [],
   "source": [
    "# Extract cross-section at constant latitude\n",
    "lat = 0.0\n",
    "cross_section = psi_3d.cross_section.constant_latitude(\n",
    "    lat=lat, n_samples=50, lon_range=(-180, 180)\n",
    ")\n",
    "\n",
    "print(f\"Cross-section at {lat}° latitude:\")\n",
    "print(f\"  Shape: {cross_section.shape}\")\n",
    "print(f\"  Dimensions: {cross_section.dims}\")\n",
    "print(f\"  Type: {type(cross_section)}\")\n",
    "print(f\"  Coordinates: {list(cross_section.coords.keys())}\")\n",
    "print(\"  → Creates regular sampling perfect for visualization\")"
   ]
  },
  {
   "cell_type": "code",
   "execution_count": null,
   "id": "vertical-plot",
   "metadata": {},
   "outputs": [],
   "source": [
    "# Create vertical cross-section visualization\n",
    "fig, ax = plt.subplots(figsize=(12, 6))\n",
    "\n",
    "# Plot the cross-section as a 2D field\n",
    "cross_section.plot(x=\"lon\", y=\"pressure\", ax=ax, cmap=\"viridis\")\n",
    "ax.set_xlabel(\"Longitude (°)\")\n",
    "ax.set_ylabel(\"Pressure (hPa)\")\n",
    "ax.set_title(f\"Vertical Cross-Section at {lat}° Latitude\")\n",
    "ax.invert_yaxis()  # Pressure decreases upward\n",
    "ax.grid(True, alpha=0.3)\n",
    "\n",
    "plt.tight_layout()\n",
    "plt.show()"
   ]
  },
  {
   "cell_type": "markdown",
   "id": "manual-implementation",
   "metadata": {},
   "source": [
    "### Longitude Cross-Sections\n",
    "\n",
    "Similarly, you can extract cross-sections at constant longitudes (meridional transects):"
   ]
  },
  {
   "cell_type": "code",
   "execution_count": null,
   "id": "longitude-cross-section",
   "metadata": {},
   "outputs": [],
   "source": [
    "# Extract longitude cross-section (meridional transect)\n",
    "lon = 0.0\n",
    "lon_section = psi_3d.cross_section.constant_longitude(\n",
    "    lon=lon, n_samples=30, lat_range=(-90, 90)\n",
    ")\n",
    "\n",
    "print(f\"Longitude cross-section shape: {lon_section.shape}\")\n",
    "print(f\"Longitude cross-section dims: {lon_section.dims}\")\n",
    "print(f\"Coordinates: {list(lon_section.coords.keys())}\")"
   ]
  },
  {
   "cell_type": "code",
   "execution_count": null,
   "id": "longitude-plot",
   "metadata": {},
   "outputs": [],
   "source": [
    "# Visualize the longitude cross-section\n",
    "fig, ax = plt.subplots(figsize=(10, 6))\n",
    "\n",
    "lon_section.plot(x=\"lat\", y=\"pressure\", ax=ax, cmap=\"plasma\")\n",
    "ax.set_xlabel(\"Latitude (°)\")\n",
    "ax.set_ylabel(\"Pressure (hPa)\")\n",
    "ax.set_title(f\"Meridional Cross-Section at {lon}° Longitude\")\n",
    "ax.invert_yaxis()  # Pressure decreases upward\n",
    "ax.grid(True, alpha=0.3)\n",
    "\n",
    "plt.tight_layout()\n",
    "plt.show()"
   ]
  },
  {
   "cell_type": "markdown",
   "id": "d72e90ca",
   "metadata": {},
   "source": [
    "## Arbitrary Great Circle Arc (GCA)"
   ]
  },
  {
   "cell_type": "markdown",
   "id": "e264a65f",
   "metadata": {},
   "source": [
    "\n",
    "```{warning}\n",
    "Arbitrary great circle arc cross sections are not yet implemented.\n",
    "```"
   ]
  }
 ],
 "metadata": {
  "kernelspec": {
   "display_name": "uxarray_env3.12",
   "language": "python",
   "name": "python3"
  },
  "language_info": {
   "codemirror_mode": {
    "name": "ipython",
    "version": 3
   },
   "file_extension": ".py",
   "mimetype": "text/x-python",
   "name": "python",
   "nbconvert_exporter": "python",
   "pygments_lexer": "ipython3",
   "version": "3.12.9"
  }
 },
 "nbformat": 4,
 "nbformat_minor": 5
}
