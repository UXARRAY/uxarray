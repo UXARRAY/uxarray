{
 "cells": [
  {
   "cell_type": "markdown",
   "id": "23f93b0f-62ac-4efd-975c-368477c9ebbe",
   "metadata": {},
   "source": [
    "# Calculating Weighted Mean \n",
    "\n",
    "UXarray supports weighting means based on geometries, such as face areas. This user-guide section will discuss how to calculate variable means them using unstructured grid geometries as weights. Below showcases two examples using weighted mean with grid face areas or edge lengths as weights. \n",
    "\n",
    "Currently, `weighted-mean` does not support nodes as weights. "
   ]
  },
  {
   "cell_type": "code",
   "execution_count": null,
   "id": "ed637e46-672c-45ba-a5f1-ed3c3248c8a1",
   "metadata": {},
   "outputs": [],
   "source": [
    "import uxarray as ux\n",
    "import xarray as xr\n",
    "import cartopy.crs as ccrs\n",
    "\n",
    "import warnings\n",
    "\n",
    "warnings.filterwarnings(\"ignore\")"
   ]
  },
  {
   "cell_type": "markdown",
   "id": "8518335d-2f75-4699-bc3d-862ab25830d1",
   "metadata": {},
   "source": [
    "## Data\n",
    "\n",
    "Data used in this section is a 3-random-variable dataset on a quad hexagon mesh mapped to the nodes, edges, and faces."
   ]
  },
  {
   "cell_type": "code",
   "execution_count": null,
   "id": "a2f58f07d7881d4f",
   "metadata": {},
   "outputs": [],
   "source": [
    "grid_path = \"../../test/meshfiles/ugrid/quad-hexagon/grid.nc\"\n",
    "quad_hex_data_path_edge_centered = (\n",
    "    \"../../test/meshfiles/ugrid/quad-hexagon/random-edge-data.nc\"\n",
    ")\n",
    "quad_hex_data_path_face_centered = (\n",
    "    \"../../test/meshfiles/ugrid/quad-hexagon/random-face-data.nc\"\n",
    ")\n",
    "\n",
    "uxds_face = ux.open_mfdataset(grid_path, quad_hex_data_path_face_centered)\n",
    "uxds_edge = ux.open_mfdataset(grid_path, quad_hex_data_path_edge_centered)"
   ]
  },
  {
   "cell_type": "markdown",
   "id": "b1192fd99760a758",
   "metadata": {},
   "source": "The figure below visualizes the dataset. "
  },
  {
   "cell_type": "code",
   "execution_count": null,
   "id": "6fac99462efcccdc",
   "metadata": {},
   "outputs": [],
   "source": [
    "(\n",
    "    uxds_face.uxgrid.plot(line_color=\"black\")\n",
    "    * uxds_edge.plot(\n",
    "        cmap=\"inferno\", size=150, marker=\"square\", clabel=None, tools=[\"hover\"]\n",
    "    ).relabel(\"Edge Data\")\n",
    "    * uxds_face.plot(\n",
    "        cmap=\"inferno\", size=150, marker=\"triangle\", clabel=None, tools=[\"hover\"]\n",
    "    ).relabel(\"Face Data\")\n",
    ").opts(legend_position=\"top_right\")"
   ]
  },
  {
   "cell_type": "markdown",
   "id": "bb77e5067497a0f5",
   "metadata": {},
   "source": [
    "## Weighted Mean based on Face Areas\n",
    "Here we first look at the data values on each face and the faces' respsective areas. "
   ]
  },
  {
   "cell_type": "code",
   "execution_count": null,
   "id": "c87fb018ca75ba5e",
   "metadata": {},
   "outputs": [],
   "source": [
    "uxds_face[\"random_data_face\"].values"
   ]
  },
  {
   "cell_type": "code",
   "execution_count": null,
   "id": "8f49a854de4e8131",
   "metadata": {},
   "outputs": [],
   "source": [
    "uxds_face.uxgrid.face_areas.data"
   ]
  },
  {
   "cell_type": "markdown",
   "id": "def2b952ba7f1740",
   "metadata": {},
   "source": "We can simply call `.weighted_mean()` on the UXDataArray to compute the weighted mean. The differences between the weighted mean and the regular mean is small since the area differences across the faces are small. "
  },
  {
   "cell_type": "code",
   "execution_count": null,
   "id": "bd76b23993d9967f",
   "metadata": {},
   "outputs": [],
   "source": [
    "result = uxds_face[\"random_data_face\"].weighted_mean()\n",
    "result.values"
   ]
  },
  {
   "cell_type": "code",
   "execution_count": null,
   "id": "a92f056d6b2a567b",
   "metadata": {},
   "outputs": [],
   "source": [
    "unweighted_result = uxds_face[\"random_data_face\"].mean()\n",
    "unweighted_result.values"
   ]
  },
  {
   "cell_type": "markdown",
   "id": "e8ddb288f83486b8",
   "metadata": {},
   "source": [
    "## Weighted Mean Based on Edge Length\n",
    "\n",
    "Here we show the similar steps but for edge-centered data and the edge lengths. "
   ]
  },
  {
   "cell_type": "code",
   "execution_count": null,
   "id": "1b01581da7ebacc",
   "metadata": {},
   "outputs": [],
   "source": [
    "uxds_edge[\"random_data_edge\"].values"
   ]
  },
  {
   "cell_type": "code",
   "execution_count": null,
   "id": "a50c11e691337cff",
   "metadata": {},
   "outputs": [],
   "source": [
    "uxds_edge.uxgrid.edge_node_distances.data"
   ]
  },
  {
   "cell_type": "markdown",
   "id": "647630d11f001fcf",
   "metadata": {},
   "source": "The differences between weighted and unweighted mean is more drastic (~0.1 value difference) since the edge lengths have a larger variance. "
  },
  {
   "cell_type": "code",
   "execution_count": null,
   "id": "6bace8386234b942",
   "metadata": {},
   "outputs": [],
   "source": [
    "result = uxds_edge[\"random_data_edge\"].weighted_mean()\n",
    "result.values"
   ]
  },
  {
   "cell_type": "code",
   "execution_count": null,
   "id": "d81bc60c195be6ec",
   "metadata": {},
   "outputs": [],
   "source": [
    "unweighted_result = uxds_edge[\"random_data_edge\"].mean()\n",
    "unweighted_result.values"
   ]
  },
  {
   "cell_type": "markdown",
   "id": "6ff7f20189a4753c",
   "metadata": {},
   "source": [
    "## Custom Weights\n",
    "\n",
    "While custom weights are supported in `weighted-mean`, it is crucial that the weight inputs are mapped on the same unstructured grid as the data for accurate calculations. \n",
    "\n",
    "Data can be stored in various configurations in the unstructured grid. The figure below shows two possible configuration for face-centered data and edge-centered data can be stored for this particular grid.  \n",
    "\n",
    "\n",
    "\n",
    "\n",
    "<img src=\"../_static/examples/weightedmean/edge_face_weightedmean.png\" width=\"600\" alt=\"Optional Alt Text\">"
   ]
  }
 ],
 "metadata": {
  "kernelspec": {
   "display_name": "rytam2uxarray",
   "language": "python",
   "name": "rytam2uxarray"
  },
  "language_info": {
   "codemirror_mode": {
    "name": "ipython",
    "version": 3
   },
   "file_extension": ".py",
   "mimetype": "text/x-python",
   "name": "python",
   "nbconvert_exporter": "python",
   "pygments_lexer": "ipython3",
   "version": "3.10.12"
  }
 },
 "nbformat": 4,
 "nbformat_minor": 5
}
