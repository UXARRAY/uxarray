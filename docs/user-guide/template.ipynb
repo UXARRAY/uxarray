{
 "cells": [
  {
   "cell_type": "markdown",
   "source": [
    "# Title\n",
    "\n",
    "A good reference for how the user guide should be formatted can be found in xarray's examples, such as this one https://docs.xarray.dev/en/stable/user-guide/data-structures.html.\n",
    "\n",
    "\n"
   ],
   "metadata": {
    "collapsed": false
   },
   "id": "48760981b4ed3d9b"
  },
  {
   "cell_type": "markdown",
   "source": [
    "### Imports"
   ],
   "metadata": {
    "collapsed": false
   },
   "id": "39dd7186edd16396"
  },
  {
   "cell_type": "code",
   "execution_count": null,
   "id": "initial_id",
   "metadata": {
    "collapsed": true
   },
   "outputs": [],
   "source": [
    "import uxarray as ux\n",
    "base_path = \"../../test/meshfiles/ugrid/geoflow-small/\"         # replace these \n",
    "grid_path = base_path + \"grid.nc\"\n",
    "data_path = base_path + \"v1.nc\""
   ]
  }
 ],
 "metadata": {
  "kernelspec": {
   "display_name": "Python 3",
   "language": "python",
   "name": "python3"
  },
  "language_info": {
   "codemirror_mode": {
    "name": "ipython",
    "version": 2
   },
   "file_extension": ".py",
   "mimetype": "text/x-python",
   "name": "python",
   "nbconvert_exporter": "python",
   "pygments_lexer": "ipython2",
   "version": "2.7.6"
  }
 },
 "nbformat": 4,
 "nbformat_minor": 5
}
