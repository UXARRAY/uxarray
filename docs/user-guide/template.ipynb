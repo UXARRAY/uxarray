{
 "cells": [
  {
   "cell_type": "markdown",
   "id": "48760981b4ed3d9b",
   "metadata": {
    "collapsed": false,
    "jupyter": {
     "outputs_hidden": false
    }
   },
   "source": [
    "# Title\n",
    "\n",
    "A good reference for how the user guide should be formatted can be found in xarray's examples, such as this one https://docs.xarray.dev/en/stable/user-guide/data-structures.html.\n",
    "\n",
    "\n"
   ]
  },
  {
   "cell_type": "markdown",
   "id": "39dd7186edd16396",
   "metadata": {
    "collapsed": false,
    "jupyter": {
     "outputs_hidden": false
    }
   },
   "source": [
    "### Imports"
   ]
  },
  {
   "cell_type": "code",
   "execution_count": null,
   "id": "initial_id",
   "metadata": {
    "collapsed": true,
    "jupyter": {
     "outputs_hidden": true
    }
   },
   "outputs": [],
   "source": [
    "import uxarray as ux\n",
    "\n",
    "base_path = \"../../test/meshfiles/ugrid/geoflow-small/\"  # replace these\n",
    "grid_path = base_path + \"grid.nc\"\n",
    "data_path = base_path + \"v1.nc\""
   ]
  }
 ],
 "metadata": {
  "kernelspec": {
   "display_name": "Python 3 (ipykernel)",
   "language": "python",
   "name": "python3"
  },
  "language_info": {
   "codemirror_mode": {
    "name": "ipython",
    "version": 3
   },
   "file_extension": ".py",
   "mimetype": "text/x-python",
   "name": "python",
   "nbconvert_exporter": "python",
   "pygments_lexer": "ipython3",
   "version": "3.11.9"
  }
 },
 "nbformat": 4,
 "nbformat_minor": 5
}
