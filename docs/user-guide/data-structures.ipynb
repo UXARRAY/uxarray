{
 "cells": [
  {
   "cell_type": "markdown",
   "source": [
    "# Data Structures\n"
   ],
   "metadata": {
    "collapsed": false
   }
  },
  {
   "cell_type": "code",
   "execution_count": 1,
   "metadata": {
    "collapsed": true,
    "ExecuteTime": {
     "end_time": "2024-01-28T08:37:47.281193Z",
     "start_time": "2024-01-28T08:37:44.969376Z"
    }
   },
   "outputs": [],
   "source": [
    "import uxarray as ux"
   ]
  },
  {
   "cell_type": "markdown",
   "source": [
    "\n",
    "There are three core data structures that will be used for interacting with and manipulating unstructured grids\n",
    "1. **ux.Grid**: TODO\n",
    "2. **ux.UxDataset**: TODO\n",
    "3. **ux.UxDataArray**: TODO\n"
   ],
   "metadata": {
    "collapsed": false
   }
  },
  {
   "cell_type": "code",
   "execution_count": 2,
   "outputs": [],
   "source": [
    "import xarray as xr\n",
    "grid_path = \"../../test/meshfiles/ugrid/quad-hexagon/grid.nc\"\n",
    "data_path = \"../../test/meshfiles/ugrid/quad-hexagon/data.nc\""
   ],
   "metadata": {
    "collapsed": false,
    "ExecuteTime": {
     "end_time": "2024-01-28T08:37:47.284029Z",
     "start_time": "2024-01-28T08:37:47.282391Z"
    }
   }
  },
  {
   "cell_type": "markdown",
   "source": [
    "## Grid and Data Files"
   ],
   "metadata": {
    "collapsed": false
   }
  },
  {
   "cell_type": "code",
   "execution_count": 3,
   "outputs": [],
   "source": [
    "grid_path = \"../../test/meshfiles/ugrid/quad-hexagon/grid.nc\"\n",
    "data_path = \"../../test/meshfiles/ugrid/quad-hexagon/data.nc\""
   ],
   "metadata": {
    "collapsed": false,
    "ExecuteTime": {
     "end_time": "2024-01-28T08:37:47.286411Z",
     "start_time": "2024-01-28T08:37:47.284999Z"
    }
   }
  },
  {
   "cell_type": "markdown",
   "source": [
    "## `Grid`"
   ],
   "metadata": {
    "collapsed": false
   }
  },
  {
   "cell_type": "markdown",
   "source": [
    "### Creating a `Grid`"
   ],
   "metadata": {
    "collapsed": false
   }
  },
  {
   "cell_type": "markdown",
   "source": [
    "The easiest and recommended way to construct a `Grid` is by using the `uxarray.open_grid` method."
   ],
   "metadata": {
    "collapsed": false
   }
  },
  {
   "cell_type": "code",
   "execution_count": 4,
   "outputs": [
    {
     "data": {
      "text/plain": "<uxarray.Grid>\nOriginal Grid Type: UGRID\nGrid Dimensions:\n  * n_node: 16\n  * n_face: 4\n  * n_edge: 19\n  * two: 2\n  * n_max_face_nodes: 6\n  * n_nodes_per_face: (4,)\nGrid Coordinates (Spherical):\n  * node_lon: (16,)\n  * node_lat: (16,)\n  * edge_lon: (19,)\n  * edge_lat: (19,)\n  * face_lon: (4,)\n  * face_lat: (4,)\nGrid Coordinates (Cartesian):\nGrid Connectivity Variables:\n  * face_node_connectivity: (4, 6)\n  * edge_node_connectivity: (19, 2)"
     },
     "execution_count": 4,
     "metadata": {},
     "output_type": "execute_result"
    }
   ],
   "source": [
    "uxgrid = ux.open_grid(grid_path)\n",
    "uxgrid"
   ],
   "metadata": {
    "collapsed": false,
    "ExecuteTime": {
     "end_time": "2024-01-28T08:37:47.383468Z",
     "start_time": "2024-01-28T08:37:47.287546Z"
    }
   }
  },
  {
   "cell_type": "markdown",
   "source": [
    "### Grid Attributes\n",
    "\n"
   ],
   "metadata": {
    "collapsed": false
   }
  },
  {
   "cell_type": "code",
   "execution_count": 5,
   "outputs": [
    {
     "data": {
      "text/plain": "<uxarray.Grid>\nOriginal Grid Type: UGRID\nGrid Dimensions:\n  * n_node: 16\n  * n_face: 4\n  * n_edge: 19\n  * two: 2\n  * n_max_face_nodes: 6\n  * n_nodes_per_face: (4,)\nGrid Coordinates (Spherical):\n  * node_lon: (16,)\n  * node_lat: (16,)\n  * edge_lon: (19,)\n  * edge_lat: (19,)\n  * face_lon: (4,)\n  * face_lat: (4,)\nGrid Coordinates (Cartesian):\nGrid Connectivity Variables:\n  * face_node_connectivity: (4, 6)\n  * edge_node_connectivity: (19, 2)"
     },
     "execution_count": 5,
     "metadata": {},
     "output_type": "execute_result"
    }
   ],
   "source": [
    "uxgrid"
   ],
   "metadata": {
    "collapsed": false,
    "ExecuteTime": {
     "end_time": "2024-01-28T08:37:47.383698Z",
     "start_time": "2024-01-28T08:37:47.383088Z"
    }
   }
  },
  {
   "cell_type": "markdown",
   "source": [
    "## `UxDataset`\n",
    "\n",
    "If you have data that resides on an unstructured grid, the data file and grid file are paired together to construct a ``UxDataset``"
   ],
   "metadata": {
    "collapsed": false
   }
  },
  {
   "cell_type": "code",
   "execution_count": 6,
   "outputs": [
    {
     "ename": "ValueError",
     "evalue": "Cannot rename n_face to n_face because n_face already exists. Try using swap_dims instead.",
     "output_type": "error",
     "traceback": [
      "\u001B[0;31m---------------------------------------------------------------------------\u001B[0m",
      "\u001B[0;31mValueError\u001B[0m                                Traceback (most recent call last)",
      "Cell \u001B[0;32mIn[6], line 1\u001B[0m\n\u001B[0;32m----> 1\u001B[0m uxds \u001B[38;5;241m=\u001B[39m \u001B[43mux\u001B[49m\u001B[38;5;241;43m.\u001B[39;49m\u001B[43mopen_dataset\u001B[49m\u001B[43m(\u001B[49m\u001B[43mgrid_path\u001B[49m\u001B[43m,\u001B[49m\u001B[43m \u001B[49m\u001B[43mdata_path\u001B[49m\u001B[43m)\u001B[49m\n\u001B[1;32m      2\u001B[0m uxds\n",
      "File \u001B[0;32m~/anaconda3/envs/uxarray-geometry/lib/python3.10/site-packages/uxarray/core/api.py:167\u001B[0m, in \u001B[0;36mopen_dataset\u001B[0;34m(grid_filename_or_obj, filename_or_obj, latlon, use_dual, grid_kwargs, **kwargs)\u001B[0m\n\u001B[1;32m    164\u001B[0m ds \u001B[38;5;241m=\u001B[39m xr\u001B[38;5;241m.\u001B[39mopen_dataset(filename_or_obj, decode_times\u001B[38;5;241m=\u001B[39m\u001B[38;5;28;01mFalse\u001B[39;00m, \u001B[38;5;241m*\u001B[39m\u001B[38;5;241m*\u001B[39mkwargs)  \u001B[38;5;66;03m# type: ignore\u001B[39;00m\n\u001B[1;32m    166\u001B[0m \u001B[38;5;66;03m# map each dimension to its UGRID equivalent\u001B[39;00m\n\u001B[0;32m--> 167\u001B[0m ds \u001B[38;5;241m=\u001B[39m \u001B[43m_map_dims_to_ugrid\u001B[49m\u001B[43m(\u001B[49m\u001B[43mds\u001B[49m\u001B[43m,\u001B[49m\u001B[43m \u001B[49m\u001B[43muxgrid\u001B[49m\u001B[38;5;241;43m.\u001B[39;49m\u001B[43m_source_dims_dict\u001B[49m\u001B[43m,\u001B[49m\u001B[43m \u001B[49m\u001B[43muxgrid\u001B[49m\u001B[43m)\u001B[49m\n\u001B[1;32m    169\u001B[0m uxds \u001B[38;5;241m=\u001B[39m UxDataset(ds, uxgrid\u001B[38;5;241m=\u001B[39muxgrid, source_datasets\u001B[38;5;241m=\u001B[39m\u001B[38;5;28mstr\u001B[39m(filename_or_obj))\n\u001B[1;32m    171\u001B[0m \u001B[38;5;28;01mreturn\u001B[39;00m uxds\n",
      "File \u001B[0;32m~/anaconda3/envs/uxarray-geometry/lib/python3.10/site-packages/uxarray/core/utils.py:32\u001B[0m, in \u001B[0;36m_map_dims_to_ugrid\u001B[0;34m(ds, _source_dims_dict, grid)\u001B[0m\n\u001B[1;32m     27\u001B[0m         _source_dims_dict[dim] \u001B[38;5;241m=\u001B[39m \u001B[38;5;124m\"\u001B[39m\u001B[38;5;124mn_edge\u001B[39m\u001B[38;5;124m\"\u001B[39m\n\u001B[1;32m     29\u001B[0m \u001B[38;5;66;03m# Possible Issue: https://github.com/UXARRAY/uxarray/issues/610\u001B[39;00m\n\u001B[1;32m     30\u001B[0m \n\u001B[1;32m     31\u001B[0m \u001B[38;5;66;03m# rename dimensions to follow the UGRID conventions\u001B[39;00m\n\u001B[0;32m---> 32\u001B[0m ds \u001B[38;5;241m=\u001B[39m \u001B[43mds\u001B[49m\u001B[38;5;241;43m.\u001B[39;49m\u001B[43mrename_dims\u001B[49m\u001B[43m(\u001B[49m\u001B[43m_source_dims_dict\u001B[49m\u001B[43m)\u001B[49m\n\u001B[1;32m     34\u001B[0m \u001B[38;5;28;01mreturn\u001B[39;00m ds\n",
      "File \u001B[0;32m~/anaconda3/envs/uxarray-geometry/lib/python3.10/site-packages/xarray/core/dataset.py:3787\u001B[0m, in \u001B[0;36mDataset.rename_dims\u001B[0;34m(self, dims_dict, **dims)\u001B[0m\n\u001B[1;32m   3782\u001B[0m         \u001B[38;5;28;01mraise\u001B[39;00m \u001B[38;5;167;01mValueError\u001B[39;00m(\n\u001B[1;32m   3783\u001B[0m             \u001B[38;5;124mf\u001B[39m\u001B[38;5;124m\"\u001B[39m\u001B[38;5;124mcannot rename \u001B[39m\u001B[38;5;132;01m{\u001B[39;00mk\u001B[38;5;132;01m!r}\u001B[39;00m\u001B[38;5;124m because it is not a \u001B[39m\u001B[38;5;124m\"\u001B[39m\n\u001B[1;32m   3784\u001B[0m             \u001B[38;5;124m\"\u001B[39m\u001B[38;5;124mdimension in this dataset\u001B[39m\u001B[38;5;124m\"\u001B[39m\n\u001B[1;32m   3785\u001B[0m         )\n\u001B[1;32m   3786\u001B[0m     \u001B[38;5;28;01mif\u001B[39;00m v \u001B[38;5;129;01min\u001B[39;00m \u001B[38;5;28mself\u001B[39m\u001B[38;5;241m.\u001B[39mdims \u001B[38;5;129;01mor\u001B[39;00m v \u001B[38;5;129;01min\u001B[39;00m \u001B[38;5;28mself\u001B[39m:\n\u001B[0;32m-> 3787\u001B[0m         \u001B[38;5;28;01mraise\u001B[39;00m \u001B[38;5;167;01mValueError\u001B[39;00m(\n\u001B[1;32m   3788\u001B[0m             \u001B[38;5;124mf\u001B[39m\u001B[38;5;124m\"\u001B[39m\u001B[38;5;124mCannot rename \u001B[39m\u001B[38;5;132;01m{\u001B[39;00mk\u001B[38;5;132;01m}\u001B[39;00m\u001B[38;5;124m to \u001B[39m\u001B[38;5;132;01m{\u001B[39;00mv\u001B[38;5;132;01m}\u001B[39;00m\u001B[38;5;124m because \u001B[39m\u001B[38;5;132;01m{\u001B[39;00mv\u001B[38;5;132;01m}\u001B[39;00m\u001B[38;5;124m already exists. \u001B[39m\u001B[38;5;124m\"\u001B[39m\n\u001B[1;32m   3789\u001B[0m             \u001B[38;5;124m\"\u001B[39m\u001B[38;5;124mTry using swap_dims instead.\u001B[39m\u001B[38;5;124m\"\u001B[39m\n\u001B[1;32m   3790\u001B[0m         )\n\u001B[1;32m   3792\u001B[0m variables, coord_names, sizes, indexes \u001B[38;5;241m=\u001B[39m \u001B[38;5;28mself\u001B[39m\u001B[38;5;241m.\u001B[39m_rename_all(\n\u001B[1;32m   3793\u001B[0m     name_dict\u001B[38;5;241m=\u001B[39m{}, dims_dict\u001B[38;5;241m=\u001B[39mdims_dict\n\u001B[1;32m   3794\u001B[0m )\n\u001B[1;32m   3795\u001B[0m \u001B[38;5;28;01mreturn\u001B[39;00m \u001B[38;5;28mself\u001B[39m\u001B[38;5;241m.\u001B[39m_replace(variables, coord_names, dims\u001B[38;5;241m=\u001B[39msizes, indexes\u001B[38;5;241m=\u001B[39mindexes)\n",
      "\u001B[0;31mValueError\u001B[0m: Cannot rename n_face to n_face because n_face already exists. Try using swap_dims instead."
     ]
    }
   ],
   "source": [
    "# uxds = ux.open_dataset(grid_path, data_path)\n",
    "# uxds"
   ],
   "metadata": {
    "collapsed": false,
    "ExecuteTime": {
     "end_time": "2024-01-28T08:37:48.339947Z",
     "start_time": "2024-01-28T08:37:47.383603Z"
    }
   }
  },
  {
   "cell_type": "markdown",
   "source": [
    "For those that are familiar with Xarray, the output looks familiar. This is because a ``UxDataset`` is a grid-informed implementation of a ``xarray.Dataset``. A ``UxDataset`` inherits from ``xarray.Dataset``, and this can be seen by checking for subclassing."
   ],
   "metadata": {
    "collapsed": false
   }
  },
  {
   "cell_type": "code",
   "execution_count": null,
   "outputs": [],
   "source": [
    "issubclass(ux.UxDataset, xr.Dataset)"
   ],
   "metadata": {
    "collapsed": false
   }
  },
  {
   "cell_type": "markdown",
   "source": [
    "## `UxDataArray`"
   ],
   "metadata": {
    "collapsed": false
   }
  },
  {
   "cell_type": "code",
   "execution_count": null,
   "outputs": [],
   "source": [
    "uxds['t2m']"
   ],
   "metadata": {
    "collapsed": false
   }
  },
  {
   "cell_type": "code",
   "execution_count": null,
   "outputs": [],
   "source": [
    "issubclass(ux.UxDataArray, xr.DataArray)"
   ],
   "metadata": {
    "collapsed": false
   }
  }
 ],
 "metadata": {
  "kernelspec": {
   "display_name": "Python 3",
   "language": "python",
   "name": "python3"
  },
  "language_info": {
   "codemirror_mode": {
    "name": "ipython",
    "version": 2
   },
   "file_extension": ".py",
   "mimetype": "text/x-python",
   "name": "python",
   "nbconvert_exporter": "python",
   "pygments_lexer": "ipython2",
   "version": "2.7.6"
  }
 },
 "nbformat": 4,
 "nbformat_minor": 0
}
