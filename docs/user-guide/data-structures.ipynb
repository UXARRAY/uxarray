{
 "cells": [
  {
   "cell_type": "markdown",
   "source": [
    "# Data Structures"
   ],
   "metadata": {
    "collapsed": false
   }
  },
  {
   "cell_type": "code",
   "execution_count": 12,
   "metadata": {
    "collapsed": true,
    "ExecuteTime": {
     "end_time": "2024-01-08T21:17:11.516386Z",
     "start_time": "2024-01-08T21:17:11.512347Z"
    }
   },
   "outputs": [],
   "source": [
    "import uxarray as ux\n",
    "base_path = \"../../test/meshfiles/ugrid/geoflow-small/\"\n",
    "grid_path = base_path + \"grid.nc\"\n",
    "data_path = base_path + \"v1.nc\""
   ]
  },
  {
   "cell_type": "markdown",
   "source": [
    "## Grid"
   ],
   "metadata": {
    "collapsed": false
   }
  },
  {
   "cell_type": "code",
   "execution_count": 11,
   "outputs": [
    {
     "data": {
      "text/plain": "<uxarray.Grid>\nOriginal Grid Type: UGRID\nGrid Dimensions:\n  * n_face: 3840\n  * n_max_face_nodes: 4\n  * n_node: 6000\n  * meshLayers: 20\n  * n_nodes_per_face: (3840,)\nGrid Coordinates (Spherical):\n  * node_lon: (6000,)\n  * node_lat: (6000,)\nGrid Coordinates (Cartesian):\nGrid Connectivity Variables:\n  * face_node_connectivity: (3840, 4)"
     },
     "execution_count": 11,
     "metadata": {},
     "output_type": "execute_result"
    }
   ],
   "source": [
    "ux.open_grid(grid_path)"
   ],
   "metadata": {
    "collapsed": false,
    "ExecuteTime": {
     "end_time": "2024-01-08T21:16:47.247745Z",
     "start_time": "2024-01-08T21:16:47.235597Z"
    }
   }
  },
  {
   "cell_type": "markdown",
   "source": [
    "## UxDataset"
   ],
   "metadata": {
    "collapsed": false
   }
  },
  {
   "cell_type": "code",
   "execution_count": null,
   "outputs": [],
   "source": [
    "ux.open_dataset(grid_path, data_path)"
   ],
   "metadata": {
    "collapsed": false
   }
  }
 ],
 "metadata": {
  "kernelspec": {
   "display_name": "Python 3",
   "language": "python",
   "name": "python3"
  },
  "language_info": {
   "codemirror_mode": {
    "name": "ipython",
    "version": 2
   },
   "file_extension": ".py",
   "mimetype": "text/x-python",
   "name": "python",
   "nbconvert_exporter": "python",
   "pygments_lexer": "ipython2",
   "version": "2.7.6"
  }
 },
 "nbformat": 4,
 "nbformat_minor": 0
}
