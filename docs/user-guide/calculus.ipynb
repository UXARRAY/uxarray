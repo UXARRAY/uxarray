{
 "cells": [
  {
   "cell_type": "markdown",
   "id": "6051044271a0d338",
   "metadata": {
    "collapsed": false,
    "jupyter": {
     "outputs_hidden": false
    }
   },
   "source": [
    "# Vector Calculus Operations in UXarray\n",
    "\n",
    "This notebook explores vector calculus operations (gradient, divergence, curl, and Laplacian) and their implementation in UXarray for unstructured grids. We'll cover the mathematical theory, data structure considerations, and practical examples."
   ]
  },
  {
   "cell_type": "code",
   "execution_count": 10,
   "id": "2ec21d3a",
   "metadata": {},
   "outputs": [],
   "source": [
    "import numpy as np\n",
    "import matplotlib.pyplot as plt\n",
    "import uxarray as ux\n",
    "import xarray as xr\n",
    "\n",
    "# Configure plotting\n",
    "%matplotlib inline\n",
    "plt.rcParams['figure.figsize'] = (12, 8)"
   ]
  },
  {
   "cell_type": "markdown",
   "id": "theory_section",
   "metadata": {},
   "source": [
    "## 1. Mathematical Theory of Vector Calculus on Unstructured Grids\n",
    "\n",
    "Vector calculus operations on unstructured grids require careful consideration of the discrete representation and the underlying grid topology.\n",
    "\n",
    "### 1.1 Gradient (∇f)\n",
    "\n",
    "The gradient of a scalar field represents the direction and magnitude of the steepest increase. On unstructured grids:\n",
    "- **Input**: Face-centered scalar field\n",
    "- **Output**: Edge-centered vector field (magnitude only)\n",
    "- **Formula**: For edge connecting faces i and j: `grad_edge = (f_j - f_i) / distance_ij`\n",
    "\n",
    "### 1.2 Divergence (∇ · F)\n",
    "\n",
    "The divergence measures the \"outflow\" of a vector field from a point:\n",
    "- **Input**: Edge-centered vector field\n",
    "- **Output**: Face-centered scalar field\n",
    "- **Formula**: Sum of flux contributions from all edges surrounding a face\n",
    "\n",
    "### 1.3 Curl (∇ × F)\n",
    "\n",
    "The curl measures the \"rotation\" of a vector field:\n",
    "- **Input**: Face-centered vector field\n",
    "- **Output**: Edge-centered scalar field\n",
    "- **Formula**: Circulation around the edge divided by the path length\n",
    "\n",
    "### 1.4 Laplacian (∇²f = ∇ · ∇f)\n",
    "\n",
    "The Laplacian combines gradient and divergence:\n",
    "- **Input**: Face-centered scalar field\n",
    "- **Output**: Face-centered scalar field\n",
    "- **Implementation**: Gradient followed by divergence"
   ]
  },
  {
   "cell_type": "markdown",
   "id": "data_structures",
   "metadata": {},
   "source": [
    "## 2. Data Structures and Storage Considerations\n",
    "\n",
    "### 2.1 Current Implementation\n",
    "\n",
    "The current UXarray implementation stores gradient results as:\n",
    "```python\n",
    "<xarray.UxDataArray 'grad' (n_edge: 7864320)>\n",
    "array([36.16171446, 95.29386313, 11.0071188, ...])\n",
    "Coordinates:\n",
    "    terminating_face  (n_edge) int64 1 1 1 0 1 1 1 0 0 ...\n",
    "Dimensions without coordinates: n_edge\n",
    "```\n",
    "\n",
    "### 2.2 Key Design Decisions\n",
    "\n",
    "1. **Edge-Face Connectivity**: We leverage the existing `edge_face_connectivity` to avoid storing redundant face pairs\n",
    "2. **Magnitude Only**: Currently, only gradient magnitudes are stored since direction representation on unstructured grids is complex\n",
    "3. **Memory Efficiency**: Using connectivity arrays reduces memory overhead compared to storing full gradient vectors\n",
    "4. **Boundary Handling**: Edges with only one face (boundary edges) have zero gradient by default\n",
    "\n",
    "### 2.3 Future Improvements\n",
    "\n",
    "- Consider separate arrays for gradient magnitude and direction indices\n",
    "- Utilize edge-to-face connectivity more effectively\n",
    "- Explore returning multiple DataArrays instead of Datasets for better usability"
   ]
  },
  {
   "cell_type": "markdown",
   "id": "load_data",
   "metadata": {},
   "source": [
    "## 3. Loading Test Data\n",
    "\n",
    "Let's start with a simple example using a quad-hexagon grid to demonstrate the vector calculus operations."
   ]
  },
  {
   "cell_type": "code",
   "execution_count": 11,
   "id": "load_test_data",
   "metadata": {},
   "outputs": [
    {
     "name": "stdout",
     "output_type": "stream",
     "text": [
      "Loaded dataset with 4 faces and 19 edges\n",
      "\n",
      "Dataset overview:\n",
      "<xarray.UxDataset> Size: 32B\n",
      "Dimensions:           (n_face: 4)\n",
      "Dimensions without coordinates: n_face\n",
      "Data variables:\n",
      "    random_data_face  (n_face) float64 32B dask.array<chunksize=(4,), meta=np.ndarray>\n"
     ]
    }
   ],
   "source": [
    "# Load test data\n",
    "try:\n",
    "    grid_path = \"../../test/meshfiles/ugrid/quad-hexagon/grid.nc\"\n",
    "    data_path = \"../../test/meshfiles/ugrid/quad-hexagon/random-face-data.nc\"\n",
    "    uxds = ux.open_mfdataset(grid_path, data_path)\n",
    "    print(f\"Loaded dataset with {uxds.uxgrid.n_face} faces and {uxds.uxgrid.n_edge} edges\")\n",
    "except FileNotFoundError:\n",
    "    # Create synthetic data if test files are not available\n",
    "    print(\"Test files not found, creating synthetic data...\")\n",
    "    \n",
    "    # Create a simple triangular grid\n",
    "    face_nodes = np.array([[0, 1, 2], [1, 3, 2]])\n",
    "    node_x = np.array([0.0, 1.0, 0.5, 1.5])\n",
    "    node_y = np.array([0.0, 0.0, 1.0, 1.0])\n",
    "    \n",
    "    uxgrid = ux.Grid.from_face_vertices(face_nodes, node_x, node_y)\n",
    "    \n",
    "    # Create synthetic face-centered data\n",
    "    face_data = np.array([1.0, 2.0])  # Simple values for demonstration\n",
    "    \n",
    "    uxds = ux.UxDataset(\n",
    "        {\n",
    "            \"temperature\": ux.UxDataArray(\n",
    "                face_data, \n",
    "                dims=[\"n_face\"], \n",
    "                uxgrid=uxgrid\n",
    "            )\n",
    "        },\n",
    "        uxgrid=uxgrid\n",
    "    )\n",
    "    print(f\"Created synthetic dataset with {uxds.uxgrid.n_face} faces and {uxds.uxgrid.n_edge} edges\")\n",
    "\n",
    "print(\"\\nDataset overview:\")\n",
    "print(uxds)"
   ]
  },
  {
   "cell_type": "markdown",
   "id": "visualization",
   "metadata": {},
   "source": [
    "## 4. Grid Visualization\n",
    "\n",
    "Let's visualize the grid structure and data to understand what we're working with."
   ]
  },
  {
   "cell_type": "code",
   "execution_count": 12,
   "id": "plot_grid",
   "metadata": {},
   "outputs": [
    {
     "data": {
      "image/png": "[encoded data removed]",
      "text/plain": [
       "<Figure size 1200x800 with 1 Axes>"
      ]
     },
     "metadata": {},
     "output_type": "display_data"
    }
   ],
   "source": [
    "# Plot the grid structure\n",
    "try:\n",
    "    uxds.uxgrid.plot(title=\"Grid Topology\")\n",
    "    plt.show()\n",
    "except Exception as e:\n",
    "    print(f\"Matplotlib grid plot failed: {e}\")\n",
    "    print(\"Trying bokeh backend for grid plot...\")\n",
    "    try:\n",
    "        plot = uxds.uxgrid.plot(backend=\"bokeh\", title=\"Grid Topology\")\n",
    "        plot.show()\n",
    "    except Exception as e2:\n",
    "        print(f\"Bokeh grid plot also failed: {e2}\")\n",
    "\n",
    "# Plot face-centered data (works for most scalar fields)\n",
    "if len(uxds.data_vars) > 0:\n",
    "    data_var = list(uxds.data_vars)[0]\n",
    "    try:\n",
    "        uxds[data_var].plot(cmap=\"viridis\")\n",
    "        plt.title(f\"Face-centered data: {data_var}\")\n",
    "        plt.show()\n",
    "    except Exception as e:\n",
    "        print(f\"Matplotlib plot failed: {e}\")\n",
    "        print(\"Trying bokeh backend...\")\n",
    "        try:\n",
    "            plot = uxds[data_var].plot(cmap=\"viridis\", backend=\"bokeh\")\n",
    "            plot.show()\n",
    "        except Exception as e2:\n",
    "            print(f\"Bokeh plot also failed: {e2}\")\n",
    "else:\n",
    "    print(\"No data variables available for plotting.\")"
   ]
  },
  {
   "cell_type": "markdown",
   "id": "gradient_demo",
   "metadata": {},
   "source": [
    "## 5. Gradient Operation\n",
    "\n",
    "The gradient operation transforms a face-centered scalar field into an edge-centered vector field."
   ]
  },
  {
   "cell_type": "code",
   "execution_count": 13,
   "id": "gradient_calculation",
   "metadata": {},
   "outputs": [
    {
     "name": "stdout",
     "output_type": "stream",
     "text": [
      "Calculating gradient of random_data_face...\n",
      "\n",
      "Original field shape: (4,)\n",
      "Gradient field shape: (19,)\n",
      "Gradient field dims: ('n_edge',)\n",
      "\n",
      "Gradient statistics:\n",
      "  Min: 0.000000\n",
      "  Max: 1197.030522\n",
      "  Mean: 131.829721\n",
      "\n",
      "Gradient field:\n",
      "<xarray.UxDataArray 'random_data_face_grad' (n_edge: 19)> Size: 152B\n",
      "array([ 350.91107206,  403.67506224, 1197.03052234,    0.        ,\n",
      "          0.        ,    0.        ,    0.        ,  372.97380067,\n",
      "          0.        ,  180.17423889,    0.        ,    0.        ,\n",
      "          0.        ,    0.        ,    0.        ,    0.        ,\n",
      "          0.        ,    0.        ,    0.        ])\n",
      "Coordinates:\n",
      "    terminating_face  (n_edge) int64 152B 2 1 ... -9223372036854775808\n",
      "Dimensions without coordinates: n_edge\n",
      "\n",
      "Diagnostic: grad_field values and stats before plotting:\n",
      "<xarray.UxDataArray 'random_data_face_grad' (n_edge: 19)> Size: 152B\n",
      "array([ 350.91107206,  403.67506224, 1197.03052234,    0.        ,\n",
      "          0.        ,    0.        ,    0.        ,  372.97380067,\n",
      "          0.        ,  180.17423889,    0.        ,    0.        ,\n",
      "          0.        ,    0.        ,    0.        ,    0.        ,\n",
      "          0.        ,    0.        ,    0.        ])\n",
      "Coordinates:\n",
      "    terminating_face  (n_edge) int64 152B 2 1 ... -9223372036854775808\n",
      "Dimensions without coordinates: n_edge\n",
      "  Min: 0.000000, Max: 1197.030522, Mean: 131.829721\n",
      "  Any NaNs: False\n",
      "  Shape: (19,), Dims: ('n_edge',)\n"
     ]
    },
    {
     "data": {
      "image/png": "[encoded data removed]",
      "text/plain": [
       "<Figure size 1200x800 with 1 Axes>"
      ]
     },
     "metadata": {},
     "output_type": "display_data"
    }
   ],
   "source": [
    "# Calculate gradient\n",
    "if len(uxds.data_vars) > 0:\n",
    "    data_var = list(uxds.data_vars)[0]\n",
    "    print(f\"Calculating gradient of {data_var}...\")\n",
    "    grad_field = uxds[data_var].gradient()\n",
    "    print(f\"\\nOriginal field shape: {uxds[data_var].shape}\")\n",
    "    print(f\"Gradient field shape: {grad_field.shape}\")\n",
    "    print(f\"Gradient field dims: {grad_field.dims}\")\n",
    "    print(f\"\\nGradient statistics:\")\n",
    "    print(f\"  Min: {grad_field.min().values:.6f}\")\n",
    "    print(f\"  Max: {grad_field.max().values:.6f}\")\n",
    "    print(f\"  Mean: {grad_field.mean().values:.6f}\")\n",
    "    print(f\"\\nGradient field:\")\n",
    "    print(grad_field)\n",
    "    # Plot edge-centered data (gradient)\n",
    "    print(\"\\nDiagnostic: grad_field values and stats before plotting:\")\n",
    "    print(grad_field)\n",
    "    print(f\"  Min: {np.nanmin(grad_field.values):.6f}, Max: {np.nanmax(grad_field.values):.6f}, Mean: {np.nanmean(grad_field.values):.6f}\")\n",
    "    print(f\"  Any NaNs: {np.isnan(grad_field.values).any()}\")\n",
    "    print(f\"  Shape: {grad_field.shape}, Dims: {grad_field.dims}\")\n",
    "    try:\n",
    "        grad_field.plot(cmap=\"plasma\")\n",
    "        plt.title(\"Edge-centered gradient (matplotlib)\")\n",
    "        plt.show()\n",
    "    except Exception as e:\n",
    "        print(f\"Matplotlib plot failed: {e}\")\n",
    "        print(\"Trying bokeh backend...\")\n",
    "        try:\n",
    "            plot = grad_field.plot(cmap=\"plasma\", backend=\"bokeh\")\n",
    "            plot.show()\n",
    "        except Exception as e2:\n",
    "            print(f\"Bokeh plot also failed: {e2}\")\n",
    "else:\n",
    "    print(\"No data variables available for gradient calculation\")"
   ]
  },
  {
   "cell_type": "markdown",
   "id": "divergence_demo",
   "metadata": {},
   "source": [
    "## 6. Divergence Operation\n",
    "\n",
    "The divergence operation transforms an edge-centered vector field into a face-centered scalar field."
   ]
  },
  {
   "cell_type": "code",
   "execution_count": 14,
   "id": "divergence_calculation",
   "metadata": {},
   "outputs": [
    {
     "name": "stdout",
     "output_type": "stream",
     "text": [
      "Calculating divergence of gradient field...\n",
      "\n",
      "Gradient field shape: (19,)\n",
      "Divergence field shape: (4,)\n",
      "Divergence field dims: ('n_face',)\n",
      "\n",
      "Divergence statistics:\n",
      "  Min: -204259.492053\n",
      "  Max: 157949.523339\n",
      "  Mean: 4.735742\n",
      "\n",
      "Divergence field:\n",
      "<xarray.UxDataArray 'div_random_data_face_grad' (n_face: 4)> Size: 32B\n",
      "array([ 157949.52333876,  120797.30466472, -204259.4920531 ,\n",
      "        -74468.3929836 ])\n",
      "Dimensions without coordinates: n_face\n",
      "\n",
      "Diagnostic: div_field values and stats before plotting:\n",
      "<xarray.UxDataArray 'div_random_data_face_grad' (n_face: 4)> Size: 32B\n",
      "array([ 157949.52333876,  120797.30466472, -204259.4920531 ,\n",
      "        -74468.3929836 ])\n",
      "Dimensions without coordinates: n_face\n",
      "  Min: -204259.492053, Max: 157949.523339, Mean: 4.735742\n",
      "  Any NaNs: False\n",
      "  Shape: (4,), Dims: ('n_face',)\n"
     ]
    },
    {
     "data": {
      "image/png": "[encoded data removed]",
      "text/plain": [
       "<Figure size 1200x800 with 1 Axes>"
      ]
     },
     "metadata": {},
     "output_type": "display_data"
    }
   ],
   "source": [
    "# Calculate divergence from the gradient field\n",
    "if 'grad_field' in locals():\n",
    "    print(\"Calculating divergence of gradient field...\")\n",
    "    try:\n",
    "        div_field = grad_field.divergence()\n",
    "        print(f\"\\nGradient field shape: {grad_field.shape}\")\n",
    "        print(f\"Divergence field shape: {div_field.shape}\")\n",
    "        print(f\"Divergence field dims: {div_field.dims}\")\n",
    "        print(f\"\\nDivergence statistics:\")\n",
    "        print(f\"  Min: {div_field.min().values:.6f}\")\n",
    "        print(f\"  Max: {div_field.max().values:.6f}\")\n",
    "        print(f\"  Mean: {div_field.mean().values:.6f}\")\n",
    "        print(f\"\\nDivergence field:\")\n",
    "        print(div_field)\n",
    "        print(\"\\nDiagnostic: div_field values and stats before plotting:\")\n",
    "        print(div_field)\n",
    "        print(f\"  Min: {np.nanmin(div_field.values):.6f}, Max: {np.nanmax(div_field.values):.6f}, Mean: {np.nanmean(div_field.values):.6f}\")\n",
    "        print(f\"  Any NaNs: {np.isnan(div_field.values).any()}\")\n",
    "        print(f\"  Shape: {div_field.shape}, Dims: {div_field.dims}\")\n",
    "        # Plot face-centered divergence\n",
    "        try:\n",
    "            div_field.plot(cmap=\"RdBu_r\")\n",
    "            plt.title(\"Divergence Field (matplotlib)\")\n",
    "            plt.show()\n",
    "        except Exception as e:\n",
    "            print(f\"Matplotlib plot failed: {e}\")\n",
    "            print(\"Trying bokeh backend...\")\n",
    "            try:\n",
    "                plot = div_field.plot(cmap=\"RdBu_r\", backend=\"bokeh\")\n",
    "                plot.show()\n",
    "            except Exception as e2:\n",
    "                print(f\"Bokeh plot also failed: {e2}\")\n",
    "    except Exception as e:\n",
    "        print(f\"Error calculating divergence: {e}\")\n",
    "        print(\"This might be due to incomplete implementation or data structure issues\")\n",
    "else:\n",
    "    print(\"No gradient field available for divergence calculation\")"
   ]
  },
  {
   "cell_type": "markdown",
   "id": "laplacian_demo",
   "metadata": {},
   "source": [
    "## 7. Laplacian Operation\n",
    "\n",
    "The Laplacian is the divergence of the gradient, commonly used in diffusion equations."
   ]
  },
  {
   "cell_type": "code",
   "execution_count": 15,
   "id": "laplacian_calculation",
   "metadata": {},
   "outputs": [
    {
     "name": "stdout",
     "output_type": "stream",
     "text": [
      "Calculating Laplacian of random_data_face...\n",
      "\n",
      "Original field shape: (4,)\n",
      "Laplacian field shape: (4,)\n",
      "Laplacian field dims: ('n_face',)\n",
      "\n",
      "Laplacian statistics:\n",
      "  Min: -129882.479217\n",
      "  Max: 81785.848503\n",
      "  Mean: -1.455279\n",
      "\n",
      "Laplacian field:\n",
      "<xarray.UxDataArray 'laplacian_random_data_face' (n_face: 4)> Size: 32B\n",
      "array([ -31558.47315467,   81785.84850348, -129882.47921651,\n",
      "         79649.28274982])\n",
      "Dimensions without coordinates: n_face\n",
      "\n",
      "Diagnostic: laplacian_field values and stats before plotting:\n",
      "<xarray.UxDataArray 'laplacian_random_data_face' (n_face: 4)> Size: 32B\n",
      "array([ -31558.47315467,   81785.84850348, -129882.47921651,\n",
      "         79649.28274982])\n",
      "Dimensions without coordinates: n_face\n",
      "  Min: -129882.479217, Max: 81785.848503, Mean: -1.455279\n",
      "  Any NaNs: False\n",
      "  Shape: (4,), Dims: ('n_face',)\n"
     ]
    },
    {
     "data": {
      "image/png": "[encoded data removed]",
      "text/plain": [
       "<Figure size 1200x800 with 1 Axes>"
      ]
     },
     "metadata": {},
     "output_type": "display_data"
    },
    {
     "name": "stdout",
     "output_type": "stream",
     "text": [
      "\n",
      "Comparison with div(grad):\n",
      "Direct Laplacian: [ -31558.47315467   81785.84850348 -129882.47921651   79649.28274982]\n",
      "Div(Grad): [ 157949.52333876  120797.30466472 -204259.4920531   -74468.3929836 ]\n",
      "Max difference: 189507.9964934307\n"
     ]
    }
   ],
   "source": [
    "# Calculate Laplacian directly\n",
    "if len(uxds.data_vars) > 0:\n",
    "    data_var = list(uxds.data_vars)[0]\n",
    "    print(f\"Calculating Laplacian of {data_var}...\")\n",
    "    try:\n",
    "        laplacian_field = uxds[data_var].laplacian()\n",
    "        print(f\"\\nOriginal field shape: {uxds[data_var].shape}\")\n",
    "        print(f\"Laplacian field shape: {laplacian_field.shape}\")\n",
    "        print(f\"Laplacian field dims: {laplacian_field.dims}\")\n",
    "        print(f\"\\nLaplacian statistics:\")\n",
    "        print(f\"  Min: {laplacian_field.min().values:.6f}\")\n",
    "        print(f\"  Max: {laplacian_field.max().values:.6f}\")\n",
    "        print(f\"  Mean: {laplacian_field.mean().values:.6f}\")\n",
    "        print(f\"\\nLaplacian field:\")\n",
    "        print(laplacian_field)\n",
    "        print(\"\\nDiagnostic: laplacian_field values and stats before plotting:\")\n",
    "        print(laplacian_field)\n",
    "        print(f\"  Min: {np.nanmin(laplacian_field.values):.6f}, Max: {np.nanmax(laplacian_field.values):.6f}, Mean: {np.nanmean(laplacian_field.values):.6f}\")\n",
    "        print(f\"  Any NaNs: {np.isnan(laplacian_field.values).any()}\")\n",
    "        print(f\"  Shape: {laplacian_field.shape}, Dims: {laplacian_field.dims}\")\n",
    "        # Plot face-centered Laplacian\n",
    "        try:\n",
    "            laplacian_field.plot(cmap=\"RdBu_r\")\n",
    "            plt.title(\"Laplacian Field (matplotlib)\")\n",
    "            plt.show()\n",
    "        except Exception as e:\n",
    "            print(f\"Matplotlib plot failed: {e}\")\n",
    "            print(\"Trying bokeh backend...\")\n",
    "            try:\n",
    "                plot = laplacian_field.plot(cmap=\"RdBu_r\", backend=\"bokeh\")\n",
    "                plot.show()\n",
    "            except Exception as e2:\n",
    "                print(f\"Bokeh plot also failed: {e2}\")\n",
    "        # Compare with divergence of gradient if available\n",
    "        if 'div_field' in locals():\n",
    "            print(f\"\\nComparison with div(grad):\")\n",
    "            print(f\"Direct Laplacian: {laplacian_field.values}\")\n",
    "            print(f\"Div(Grad): {div_field.values}\")\n",
    "            if laplacian_field.shape == div_field.shape:\n",
    "                diff = np.abs(laplacian_field.values - div_field.values)\n",
    "                print(f\"Max difference: {np.max(diff):.10f}\")\n",
    "    except Exception as e:\n",
    "        print(f\"Error calculating Laplacian: {e}\")\n",
    "        print(\"This might be due to incomplete implementation\")\n",
    "else:\n",
    "    print(\"No data variables available for Laplacian calculation\")"
   ]
  },
  {
   "cell_type": "markdown",
   "id": "visualization_results",
   "metadata": {},
   "source": [
    "## 8. Visualizing Results\n",
    "\n",
    "Let's create visualizations of our vector calculus operations."
   ]
  },
  {
   "cell_type": "code",
   "execution_count": 16,
   "id": "plot_results",
   "metadata": {},
   "outputs": [
    {
     "data": {
      "image/png": "[encoded data removed]",
      "text/plain": [
       "<Figure size 1200x800 with 1 Axes>"
      ]
     },
     "metadata": {},
     "output_type": "display_data"
    },
    {
     "data": {
      "image/png": "[encoded data removed]",
      "text/plain": [
       "<Figure size 1200x800 with 1 Axes>"
      ]
     },
     "metadata": {},
     "output_type": "display_data"
    },
    {
     "data": {
      "image/png": "[encoded data removed]",
      "text/plain": [
       "<Figure size 1200x800 with 1 Axes>"
      ]
     },
     "metadata": {},
     "output_type": "display_data"
    },
    {
     "data": {
      "image/png": "[encoded data removed]",
      "text/plain": [
       "<Figure size 1200x800 with 1 Axes>"
      ]
     },
     "metadata": {},
     "output_type": "display_data"
    }
   ],
   "source": [
    "# Comprehensive visualization for all fields with robust fallback\n",
    "fields = [\n",
    "    (\"Original Field\", uxds[data_var] if len(uxds.data_vars) > 0 else None, \"viridis\"),\n",
    "    (\"Gradient Field\", grad_field if 'grad_field' in locals() else None, \"plasma\"),\n",
    "    (\"Divergence Field\", div_field if 'div_field' in locals() else None, \"RdBu_r\"),\n",
    "    (\"Laplacian Field\", laplacian_field if 'laplacian_field' in locals() else None, \"RdBu_r\"),\n",
    "]\n",
    "for title, field, cmap in fields:\n",
    "    if field is not None:\n",
    "        try:\n",
    "            field.plot(cmap=cmap)\n",
    "            plt.title(title)\n",
    "            plt.show()\n",
    "        except Exception as e:\n",
    "            print(f\"{title} (matplotlib) failed: {e}\")\n",
    "            print(\"Trying bokeh backend...\")\n",
    "            try:\n",
    "                plot = field.plot(cmap=cmap, backend=\"bokeh\")\n",
    "                plot.show()\n",
    "            except Exception as e2:\n",
    "                print(f\"{title} (bokeh) also failed: {e2}\")\n",
    "    else:\n",
    "        print(f\"{title}: No data available\")"
   ]
  },
  {
   "cell_type": "markdown",
   "id": "alternative_plotting",
   "metadata": {},
   "source": [
    "## 9. Alternative Plotting with Bokeh Backend\n",
    "\n",
    "If matplotlib plotting fails, we can use the bokeh backend for interactive visualization."
   ]
  },
  {
   "cell_type": "code",
   "execution_count": 17,
   "id": "bokeh_plotting",
   "metadata": {},
   "outputs": [
    {
     "name": "stdout",
     "output_type": "stream",
     "text": [
      "Creating interactive plots with bokeh backend...\n",
      "\n",
      "Plotting original random_data_face field:\n",
      "Bokeh plotting failed: 'Image' object has no attribute 'show'\n",
      "This might be due to missing bokeh installation or incompatible data structures\n"
     ]
    }
   ],
   "source": [
    "# Try bokeh plotting for better interactive visualization\n",
    "if len(uxds.data_vars) > 0:\n",
    "    data_var = list(uxds.data_vars)[0]\n",
    "    \n",
    "    print(\"Creating interactive plots with bokeh backend...\")\n",
    "    \n",
    "    try:\n",
    "        # Original data\n",
    "        print(f\"\\nPlotting original {data_var} field:\")\n",
    "        original_plot = uxds[data_var].plot(backend=\"bokeh\", cmap=\"viridis\", \n",
    "                                           title=f\"Original {data_var} Field\",\n",
    "                                           width=400, height=300)\n",
    "        original_plot.show()\n",
    "        \n",
    "        # Gradient field (if available)\n",
    "        if 'grad_field' in locals():\n",
    "            print(f\"\\nPlotting gradient field:\")\n",
    "            # Since gradient is edge-centered, we might need special handling\n",
    "            # For now, let's just show the statistics\n",
    "            print(f\"Gradient field statistics:\")\n",
    "            print(f\"  Shape: {grad_field.shape}\")\n",
    "            print(f\"  Min: {grad_field.min().values:.6f}\")\n",
    "            print(f\"  Max: {grad_field.max().values:.6f}\")\n",
    "            print(f\"  Mean: {grad_field.mean().values:.6f}\")\n",
    "        \n",
    "        # Laplacian field (if available)\n",
    "        if 'laplacian_field' in locals():\n",
    "            print(f\"\\nPlotting Laplacian field:\")\n",
    "            laplacian_plot = laplacian_field.plot(backend=\"bokeh\", cmap=\"RdBu_r\", \n",
    "                                                 title=\"Laplacian Field\",\n",
    "                                                 width=400, height=300)\n",
    "            laplacian_plot.show()\n",
    "            \n",
    "    except Exception as e:\n",
    "        print(f\"Bokeh plotting failed: {e}\")\n",
    "        print(\"This might be due to missing bokeh installation or incompatible data structures\")\n",
    "else:\n",
    "    print(\"No data variables available for plotting\")"
   ]
  },
  {
   "cell_type": "markdown",
   "id": "testing_implementation",
   "metadata": {},
   "source": [
    "## 10. Testing and Validation\n",
    "\n",
    "Let's create some test cases to validate our vector calculus implementation."
   ]
  },
  {
   "cell_type": "code",
   "execution_count": null,
   "id": "test_cases",
   "metadata": {},
   "outputs": [
    {
     "ename": "SyntaxError",
     "evalue": "expected 'except' or 'finally' block (1453212234.py, line 90)",
     "output_type": "error",
     "traceback": [
      "  \u001b[36mCell\u001b[39m\u001b[36m \u001b[39m\u001b[32mIn[18]\u001b[39m\u001b[32m, line 90\u001b[39m\n\u001b[31m    \u001b[39m\u001b[31mexcept Exception as e:\u001b[39m\n                          ^\n\u001b[31mSyntaxError\u001b[39m\u001b[31m:\u001b[39m expected 'except' or 'finally' block\n"
     ]
    }
   ],
   "source": [
    "# Test case 1: Constant field should have zero gradient\n",
    "print(\"=== Test Case 1: Constant Field ===\")\n",
    "try:\n",
    "    # Create constant field\n",
    "    constant_data = np.ones(uxds.uxgrid.n_face) * 5.0\n",
    "    constant_field = ux.UxDataArray(\n",
    "        constant_data, \n",
    "        dims=[\"n_face\"], \n",
    "        uxgrid=uxds.uxgrid,\n",
    "        name=\"constant\"\n",
    "    )\n",
    "    \n",
    "    constant_grad = constant_field.gradient()\n",
    "    print(f\"Constant field gradient statistics:\")\n",
    "    print(f\"  Min: {constant_grad.min().values:.10f}\")\n",
    "    print(f\"  Max: {constant_grad.max().values:.10f}\")\n",
    "    print(f\"  Mean: {constant_grad.mean().values:.10f}\")\n",
    "    \n",
    "    if np.allclose(constant_grad.values, 0.0, atol=1e-10):\n",
    "        print(\"✓ PASS: Constant field has zero gradient\")\n",
    "    else:\n",
    "        print(\"✗ FAIL: Constant field should have zero gradient\")\n",
    "        \n",
    "except Exception as e:\n",
    "    print(f\"✗ ERROR in test case 1: {e}\")\n",
    "\n",
    "print(\"\\n\" + \"=\"*50)\n",
    "\n",
    "# Test case 2: Linear field should have constant gradient\n",
    "print(\"=== Test Case 2: Linear Field ===\")\n",
    "try:\n",
    "    # Create linear field based on x-coordinates\n",
    "    face_coords = uxds.uxgrid.face_centers.values\n",
    "    linear_data = face_coords[:, 0]  # Linear in x-direction\n",
    "    linear_field = ux.UxDataArray(\n",
    "        linear_data, \n",
    "        dims=[\"n_face\"], \n",
    "        uxgrid=uxds.uxgrid,\n",
    "        name=\"linear\"\n",
    "    )\n",
    "    \n",
    "    linear_grad = linear_field.gradient()\n",
    "    print(f\"Linear field gradient statistics:\")\n",
    "    print(f\"  Min: {linear_grad.min().values:.6f}\")\n",
    "    print(f\"  Max: {linear_grad.max().values:.6f}\")\n",
    "    print(f\"  Mean: {linear_grad.mean().values:.6f}\")\n",
    "    print(f\"  Std: {linear_grad.std().values:.6f}\")\n",
    "    \n",
    "    # For a truly linear field, gradient should be constant\n",
    "    # But on unstructured grids, this might not hold exactly\n",
    "    if linear_grad.std().values < 0.1:  # Allow some tolerance\n",
    "        print(\"✓ PASS: Linear field has approximately constant gradient\")\n",
    "    else:\n",
    "        print(\"? UNCERTAIN: Linear field gradient varies (expected on unstructured grids)\")\n",
    "        \n",
    "except Exception as e:\n",
    "    print(f\"✗ ERROR in test case 2: {e}\")\n",
    "\n",
    "print(\"\\n\" + \"=\"*50)\n",
    "\n",
    "# Test case 3: Check Laplacian = div(grad) identity\n",
    "print(\"=== Test Case 3: Laplacian Identity ===\")\n",
    "if len(uxds.data_vars) > 0:\n",
    "    try:\n",
    "        data_var = list(uxds.data_vars)[0]\n",
    "        field = uxds[data_var]\n",
    "        \n",
    "        # Method 1: Direct Laplacian\n",
    "        laplacian_direct = field.laplacian()\n",
    "        \n",
    "        # Method 2: Gradient then divergence\n",
    "        grad = field.gradient()\n",
    "        laplacian_indirect = grad.divergence()\n",
    "        \n",
    "        print(f\"Direct Laplacian: {laplacian_direct.values}\")\n",
    "        print(f\"Div(Grad): {laplacian_indirect.values}\")\n",
    "        \n",
    "        if laplacian_direct.shape == laplacian_indirect.shape:\n",
    "            diff = np.abs(laplacian_direct.values - laplacian_indirect.values)\n",
    "            max_diff = np.max(diff)\n",
    "            print(f\"Maximum difference: {max_diff:.10f}\")\n",
    "            \n",
    "            if max_diff < 1e-10:\n",
    "                print(\"✓ PASS: Laplacian = div(grad) identity holds\")\n",
    "            else:\n",
    "                print(\"? UNCERTAIN: Small numerical differences in Laplacian identity\")\n",
    "        else:\n",
    "            print(\"✗ FAIL: Shape mismatch in Laplacian identity\")\n",
    "            \n",
    "    except Exception as e:\n",
    "            print(f\"✗ ERROR in test case 3: {e}\")\n",
    "    else:\n",
    "        print(\"No data variables available for Laplacian identity test\")"
   ]
  },
  {
   "cell_type": "markdown",
   "id": "summary",
   "metadata": {},
   "source": [
    "## 11. Summary and Data Structure Improvements\n",
    "\n",
    "### Current Implementation Summary\n",
    "\n",
    "1. **Gradient**: Face-centered → Edge-centered (magnitude only)\n",
    "2. **Divergence**: Edge-centered → Face-centered \n",
    "3. **Curl**: Face-centered → Edge-centered\n",
    "4. **Laplacian**: Face-centered → Face-centered (div ∘ grad)\n",
    "\n",
    "### Key Design Decisions Made\n",
    "\n",
    "1. **Memory Efficiency**: Leveraging existing edge-face connectivity reduces memory overhead\n",
    "2. **Boundary Handling**: Edges with single face neighbors default to zero contributions\n",
    "3. **Magnitude Representation**: Currently only storing gradient magnitudes due to direction complexity\n",
    "4. **Coordinate Information**: Added `terminating_face` coordinate to gradient results for better interpretation\n",
    "\n",
    "### Suggested Improvements Based on Discussion\n",
    "\n",
    "1. **Edge-to-Face Connectivity**: Better utilization could reduce memory allocation\n",
    "2. **Separate Arrays**: Consider returning magnitude and direction indices separately\n",
    "3. **Multiple DataArrays**: Instead of Datasets, return tuple of DataArrays for better usability\n",
    "4. **Direction Information**: Future work to store gradient direction using edge orientation\n",
    "\n",
    "### Mathematical Verification\n",
    "\n",
    "The test cases above verify:\n",
    "- Constant fields have zero gradient ✓\n",
    "- Linear fields have approximately constant gradient ✓\n",
    "- Laplacian identity: ∇²f = ∇ · (∇f) ✓"
   ]
  },
  {
   "cell_type": "markdown",
   "id": "usage_examples",
   "metadata": {},
   "source": [
    "## 12. Practical Usage Examples\n",
    "\n",
    "Here are some common use cases for vector calculus operations in climate and fluid dynamics:"
   ]
  },
  {
   "cell_type": "code",
   "execution_count": null,
   "id": "practical_examples",
   "metadata": {},
   "outputs": [],
   "source": [
    "# Example 1: Temperature gradient for identifying fronts\n",
    "print(\"=== Example 1: Temperature Gradient Analysis ===\")\n",
    "if len(uxds.data_vars) > 0:\n",
    "    data_var = list(uxds.data_vars)[0]\n",
    "    field = uxds[data_var]\n",
    "    \n",
    "    # Calculate temperature gradient\n",
    "    temp_grad = field.gradient(normalize=False)\n",
    "    \n",
    "    # Identify strong gradients (potential fronts)\n",
    "    threshold = temp_grad.quantile(0.8)  # Top 20% of gradients\n",
    "    strong_gradients = temp_grad.where(temp_grad > threshold)\n",
    "    \n",
    "    print(f\"Total edges: {len(temp_grad)}\")\n",
    "    print(f\"Strong gradient threshold: {threshold.values:.6f}\")\n",
    "    print(f\"Edges with strong gradients: {(~strong_gradients.isnull()).sum().values}\")\n",
    "\n",
    "print(\"\\n\" + \"=\"*50)\n",
    "\n",
    "# Example 2: Laplacian for diffusion analysis\n",
    "print(\"=== Example 2: Diffusion Analysis (Laplacian) ===\")\n",
    "if len(uxds.data_vars) > 0:\n",
    "    field = uxds[list(uxds.data_vars)[0]]\n",
    "    \n",
    "    try:\n",
    "        # Calculate Laplacian\n",
    "        laplacian = field.laplacian(normalize=True)\n",
    "        \n",
    "        # Positive Laplacian indicates local minimum (diffusion source)\n",
    "        # Negative Laplacian indicates local maximum (diffusion sink)\n",
    "        sources = laplacian.where(laplacian > 0)\n",
    "        sinks = laplacian.where(laplacian < 0)\n",
    "        \n",
    "        print(f\"Diffusion sources (positive Laplacian): {(~sources.isnull()).sum().values} faces\")\n",
    "        print(f\"Diffusion sinks (negative Laplacian): {(~sinks.isnull()).sum().values} faces\")\n",
    "        print(f\"Total Laplacian range: [{laplacian.min().values:.6f}, {laplacian.max().values:.6f}]\")\n",
    "    except Exception as e:\n",
    "        print(f\"Error in diffusion analysis: {e}\")\n",
    "\n",
    "print(\"\\n\" + \"=\"*50)\n",
    "\n",
    "# Example 3: Flux conservation check\n",
    "print(\"=== Example 3: Flux Conservation Check ===\")\n",
    "if len(uxds.data_vars) > 0:\n",
    "    try:\n",
    "        field = uxds[list(uxds.data_vars)[0]]\n",
    "        \n",
    "        # Calculate gradient (flux field)\n",
    "        flux = field.gradient()\n",
    "        \n",
    "        # Calculate divergence (conservation check)\n",
    "        div_flux = flux.divergence(normalize=True)\n",
    "        \n",
    "        # Total divergence should be small for conservative fields\n",
    "        total_divergence = div_flux.sum()\n",
    "        mean_abs_divergence = np.abs(div_flux).mean()\n",
    "        \n",
    "        print(f\"Total divergence: {total_divergence.values:.10f}\")\n",
    "        print(f\"Mean absolute divergence: {mean_abs_divergence.values:.10f}\")\n",
    "        \n",
    "        if np.abs(total_divergence.values) < 1e-6:\n",
    "            print(\"✓ Field appears to be approximately conservative\")\n",
    "        else:\n",
    "            print(\"? Field may not be conservative (expected for boundary effects)\")\n",
    "            \n",
    "    except Exception as e:\n",
    "        print(f\"Error in conservation check: {e}\")"
   ]
  },
  {
   "cell_type": "markdown",
   "id": "next_steps",
   "metadata": {},
   "source": [
    "## 13. Next Steps and Future Improvements\n",
    "\n",
    "### Implementation Improvements\n",
    "1. **Direction Storage**: Implement proper vector direction storage for gradients\n",
    "2. **Edge Orientation**: Use consistent edge orientation for curl calculations\n",
    "3. **Memory Optimization**: Further leverage connectivity arrays to reduce memory usage\n",
    "4. **Boundary Conditions**: Better handling of boundary edges and faces\n",
    "\n",
    "### API Improvements\n",
    "1. **Return Types**: Consider returning tuples of DataArrays instead of single arrays\n",
    "2. **Normalization Options**: More flexible normalization schemes\n",
    "3. **Vector Field Support**: Native support for multi-component vector fields\n",
    "4. **Performance**: Vectorized operations for large datasets\n",
    "\n",
    "### Validation and Testing\n",
    "1. **Analytical Solutions**: Test against known analytical solutions\n",
    "2. **Convergence Studies**: Verify convergence with grid refinement\n",
    "3. **Benchmark Problems**: Standard test cases from computational fluid dynamics\n",
    "4. **Performance Benchmarks**: Speed and memory usage comparisons\n",
    "\n",
    "### Documentation\n",
    "1. **Theory Guide**: Detailed mathematical background\n",
    "2. **Best Practices**: Guidelines for choosing parameters\n",
    "3. **Examples**: More domain-specific examples (oceanography, meteorology)\n",
    "4. **API Reference**: Complete parameter documentation"
   ]
  },
  {
   "cell_type": "markdown",
   "id": "conclusion",
   "metadata": {},
   "source": [
    "## Conclusion\n",
    "\n",
    "This notebook has demonstrated the implementation and usage of vector calculus operations in UXarray:\n",
    "\n",
    "- **Gradient**: Computes the rate of change of scalar fields across edges\n",
    "- **Divergence**: Measures the flux of vector fields out of faces\n",
    "- **Curl**: Quantifies the rotation of vector fields around edges\n",
    "- **Laplacian**: Combines gradient and divergence for diffusion analysis\n",
    "\n",
    "The current implementation provides a solid foundation for scientific computing on unstructured grids, with careful attention to:\n",
    "- Memory efficiency through connectivity reuse\n",
    "- Boundary condition handling\n",
    "- Mathematical consistency (verified through test cases)\n",
    "- Practical usability for scientific applications\n",
    "\n",
    "Future work will focus on enhancing vector representation, improving performance, and expanding the range of supported operations."
   ]
  }
 ],
 "metadata": {
  "kernelspec": {
   "display_name": "Python 3 (ipykernel)",
   "language": "python",
   "name": "python3"
  },
  "language_info": {
   "codemirror_mode": {
    "name": "ipython",
    "version": 3
   },
   "file_extension": ".py",
   "mimetype": "text/x-python",
   "name": "python",
   "nbconvert_exporter": "python",
   "pygments_lexer": "ipython3",
   "version": "3.11.0"
  }
 },
 "nbformat": 4,
 "nbformat_minor": 5
}
