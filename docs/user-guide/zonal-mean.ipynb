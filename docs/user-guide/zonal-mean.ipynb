{
 "cells": [
  {
   "cell_type": "markdown",
   "id": "1",
   "metadata": {},
   "source": [
    "# Zonal Mean"
   ]
  },
  {
   "cell_type": "markdown",
   "id": "f10b235f",
   "metadata": {},
   "source": [
    "The zonal mean is the weighted average value of a variable (e.g., temperature, humidity, wind speed) across all longitudes at a specific latitude. \n",
    "\n",
    "The weights are calculated by #TODO"
   ]
  },
  {
   "cell_type": "code",
   "execution_count": null,
   "id": "2",
   "metadata": {},
   "outputs": [],
   "source": [
    "import uxarray as ux\n",
    "import numpy as np"
   ]
  },
  {
   "cell_type": "markdown",
   "id": "3",
   "metadata": {},
   "source": [
    "In this guide, we will demonstrate how to calculate zonal means of data using `uxarray`. Zonal mean is a common operation in climate and geospatial data analysis, where we average data values along latitudinal bands."
   ]
  },
  {
   "cell_type": "markdown",
   "id": "4",
   "metadata": {},
   "source": [
    "## Loading Data\n",
    "\n",
    "We'll start by loading a dataset that includes a grid and associated data variables. For this example, we'll use a sample quad-hexagon mesh."
   ]
  },
  {
   "cell_type": "code",
   "execution_count": null,
   "id": "5",
   "metadata": {},
   "outputs": [],
   "source": [
    "grid_path = \"../../test/meshfiles/ugrid/quad-hexagon/grid.nc\"\n",
    "data_path = \"../../test/meshfiles/ugrid/quad-hexagon/data.nc\"\n",
    "\n",
    "uxds = ux.open_dataset(grid_path, data_path)\n",
    "uxds"
   ]
  },
  {
   "cell_type": "markdown",
   "id": "6",
   "metadata": {},
   "source": [
    "## Zonal Mean Calculation"
   ]
  },
  {
   "cell_type": "markdown",
   "id": "4443c28c",
   "metadata": {},
   "source": [
    "### Default arguements\n",
    "\n",
    "The default arguments to the `zonal_mean`function is start_lat=-90, end_lat=90, step=5"
   ]
  },
  {
   "cell_type": "code",
   "execution_count": null,
   "id": "deac934e",
   "metadata": {},
   "outputs": [],
   "source": [
    "uxds[\"t2m\"].zonal_mean()"
   ]
  },
  {
   "cell_type": "markdown",
   "id": "324f1f83",
   "metadata": {},
   "source": [
    "### Positive step size"
   ]
  },
  {
   "cell_type": "code",
   "execution_count": null,
   "id": "f55e88b8",
   "metadata": {},
   "outputs": [],
   "source": [
    "uxds[\"t2m\"].zonal_mean(lat=(-90, 0, 10))"
   ]
  },
  {
   "cell_type": "markdown",
   "id": "05ea4e40",
   "metadata": {},
   "source": [
    "### Negative step size"
   ]
  },
  {
   "cell_type": "code",
   "execution_count": null,
   "id": "7",
   "metadata": {},
   "outputs": [],
   "source": [
    "uxds[\"t2m\"].zonal_mean(lat=(50, -10, -10))"
   ]
  },
  {
   "cell_type": "markdown",
   "id": "8",
   "metadata": {},
   "source": [
    "## Visualization\n",
    "\n",
    "We can visualize the zonal means using a simple plot. Each point in the plot represents the average value of the data at a specific latitude."
   ]
  },
  {
   "cell_type": "code",
   "execution_count": null,
   "id": "9",
   "metadata": {},
   "outputs": [],
   "source": [
    "import matplotlib.pyplot as plt\n",
    "\n",
    "lat = (-90, 90, 10)\n",
    "start_lat, end_lat, step_size = lat\n",
    "\n",
    "zonal_means = uxds[\"t2m\"].zonal_mean(\n",
    "    start_lat=start_lat, end_lat=end_lat, step=step_size\n",
    ")\n",
    "latitudes = np.arange(start_lat, end_lat + step_size, step_size)\n",
    "\n",
    "plt.figure(figsize=(10, 6))\n",
    "plt.plot(latitudes, zonal_means, marker=\"o\")\n",
    "plt.xlabel(\"Latitude\")\n",
    "plt.ylabel(\"Zonal Mean\")\n",
    "plt.title(\"Zonal Mean vs Latitude\")\n",
    "plt.grid(True)\n",
    "plt.show()"
   ]
  },
  {
   "cell_type": "markdown",
   "id": "10",
   "metadata": {},
   "source": [
    "## Conclusion\n",
    "\n",
    "In this guide, we demonstrated how to calculate zonal means using `uxarray`. This is a powerful method for summarizing data along latitude bands, which is especially useful in climate and geospatial data analysis. You can adjust the `lat` parameter to fit your specific needs."
   ]
  }
 ],
 "metadata": {
  "kernelspec": {
   "display_name": "Python 3",
   "language": "python",
   "name": "python3"
  },
  "language_info": {
   "name": "python",
   "version": "3.1.-1"
  }
 },
 "nbformat": 4,
 "nbformat_minor": 5
}
