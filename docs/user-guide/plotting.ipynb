{
 "cells": [
  {
   "cell_type": "markdown",
   "metadata": {
    "collapsed": false,
    "jupyter": {
     "outputs_hidden": false
    }
   },
   "source": [
    "# Plotting\n",
    "\n",
    "This section introduces UXarray's plotting API, showcasing how to visualize both data variables and grid topology.\n",
    "\n",
    "```{seealso}\n",
    "For a more guided walkthrough of the unstructured grid visualization using UXarray, please refer to the [Unstructured Grid Visualization Cookbook](https://projectpythia.org/unstructured-grid-viz-cookbook/README.html).\n",
    "```"
   ]
  },
  {
   "cell_type": "code",
   "metadata": {
    "collapsed": false,
    "jupyter": {
     "outputs_hidden": false
    }
   },
   "source": [
    "import uxarray as ux"
   ],
   "outputs": [],
   "execution_count": null
  },
  {
   "cell_type": "markdown",
   "metadata": {
    "collapsed": false,
    "jupyter": {
     "outputs_hidden": false
    }
   },
   "source": [
    "## Data\n",
    "\n",
    "For most of the examples in this notebook, we will be using a simple mesh consisting of 4 hexagons, with sample data mapped to the faces, edges, and nodes."
   ]
  },
  {
   "cell_type": "code",
   "metadata": {
    "collapsed": false,
    "jupyter": {
     "outputs_hidden": false
    }
   },
   "source": [
    "grid_path = \"../../test/meshfiles/ugrid/quad-hexagon/grid.nc\"\n",
    "\n",
    "data_paths = [\n",
    "    \"../../test/meshfiles/ugrid/quad-hexagon/random-node-data.nc\",\n",
    "    \"../../test/meshfiles/ugrid/quad-hexagon/random-edge-data.nc\",\n",
    "    \"../../test/meshfiles/ugrid/quad-hexagon/random-face-data.nc\",\n",
    "]\n",
    "\n",
    "uxds = ux.open_mfdataset(grid_path, data_paths)\n",
    "\n",
    "uxds"
   ],
   "outputs": [],
   "execution_count": null
  },
  {
   "cell_type": "markdown",
   "metadata": {
    "collapsed": false,
    "jupyter": {
     "outputs_hidden": false
    }
   },
   "source": [
    "## API Design\n",
    "\n",
    "Below is a high-level overview of UXarray's plotting API. \n",
    "\n",
    "<img src=\"../_static/examples/plot/uxarray-plot-api-design.png\" alt=\"UXarray Plotting API Design\" width=\"800\"/>\n",
    "\n",
    "Key takeaways from this design are that:\n",
    "\n",
    "* UXarray’s unified grid representation (through the UGRID conventions) means that all visualization functionality is agnostic to the grid format initially provided by the user.\n",
    "* Each Uxarray data structure (i.e. `Grid`, `UxDataset`, `UxDataArray`) has its own `.plot` accessor, which is used to call plotting routines.\n",
    "* The visualization functionality through these `.plot` accessors use `HoloViz` packages’ plotting functions, wrapping them in a way to exploit all the information that comes from unstructured grids (e.g. connectivity) and provide our unstructured grids-specific functions in the most convenient way for the user.\n",
    "\n",
    "We can see what the default plotting methods do below:\n",
    "\n"
   ]
  },
  {
   "cell_type": "code",
   "metadata": {
    "collapsed": false,
    "jupyter": {
     "outputs_hidden": false
    }
   },
   "source": [
    "uxds.uxgrid.plot().opts(width=600, height=400, title=\"Default Grid Plotting Method\")"
   ],
   "outputs": [],
   "execution_count": null
  },
  {
   "cell_type": "code",
   "metadata": {
    "collapsed": false,
    "jupyter": {
     "outputs_hidden": false
    }
   },
   "source": [
    "uxds[\"random_data_face\"].plot().opts(\n",
    "    width=600, height=400, cmap=\"inferno\", title=\"Default UxDataArray Plotting Method\"\n",
    ")"
   ],
   "outputs": [],
   "execution_count": null
  },
  {
   "cell_type": "markdown",
   "metadata": {
    "collapsed": false,
    "jupyter": {
     "outputs_hidden": false
    }
   },
   "source": [
    "Since UXarray's plotting API is written primarily using `HoloViews`, we can use either the Matplotlib or Bokeh backends for rendering plots. This can be done by setting the `backend` parameter to either `\"matplotlib\"` or `\"bokeh\"`"
   ]
  },
  {
   "cell_type": "code",
   "metadata": {
    "collapsed": false,
    "jupyter": {
     "outputs_hidden": false
    }
   },
   "source": [
    "uxds[\"random_data_face\"].plot(backend=\"matplotlib\").opts(\n",
    "    fig_size=200, cmap=\"inferno\", title=\"Matplotlib Backend\"\n",
    ")"
   ],
   "outputs": [],
   "execution_count": null
  },
  {
   "cell_type": "markdown",
   "metadata": {
    "collapsed": false,
    "jupyter": {
     "outputs_hidden": false
    }
   },
   "source": [
    "## Visualizing  Grid Topology\n",
    "\n",
    "No matter what analysis operations you are performing on the data, visualization of the geometric elements of an unstructured grid (i.e. nodes, edges, faces) without any data mapped to them can always be useful for a number of reasons, including but not limited to understanding the mesh topology and diagnosing patterns or issues with or prior to data analysis (e.g. analyzing the mesh of a dynamical core prior to running a simulation). \n",
    "\n",
    "\n"
   ]
  },
  {
   "cell_type": "markdown",
   "metadata": {
    "collapsed": false,
    "jupyter": {
     "outputs_hidden": false
    }
   },
   "source": [
    "### Default `Grid` Plot\n"
   ]
  },
  {
   "cell_type": "code",
   "metadata": {
    "collapsed": false,
    "jupyter": {
     "outputs_hidden": false
    }
   },
   "source": [
    "uxds.uxgrid.plot().opts(width=600, height=400, title=\"Default Grid Plotting Method\")"
   ],
   "outputs": [],
   "execution_count": null
  },
  {
   "cell_type": "markdown",
   "metadata": {
    "collapsed": false,
    "jupyter": {
     "outputs_hidden": false
    }
   },
   "source": [
    "### Edges\n",
    "\n",
    "We can plot the edges of each face by using the `Grid.plot.edges()` method.\n",
    "\n"
   ]
  },
  {
   "cell_type": "code",
   "metadata": {
    "collapsed": false,
    "jupyter": {
     "outputs_hidden": false
    }
   },
   "source": [
    "uxds.uxgrid.plot.edges().opts(width=600, height=400, color=\"Black\", title=\"Edge Plot\")"
   ],
   "outputs": [],
   "execution_count": null
  },
  {
   "cell_type": "markdown",
   "metadata": {
    "collapsed": false,
    "jupyter": {
     "outputs_hidden": false
    }
   },
   "source": [
    "### Coordinates\n",
    "\n",
    "UXarray stores the latitude and longitude of the corners of each face, the center of each edge, and center of each face. These coordinates can be plotted using the following methods\n",
    "\n",
    "#### Node Coordinates\n",
    "\n",
    "\n",
    "``uxgrid.plot.nodes()``\n",
    "\n",
    "Plots the values of `node_lon` and `node_lat`\n",
    "\n",
    "#### Edge Coordinates\n",
    "\n",
    "``uxgrid.plot.edge_centers()``\n",
    "\n",
    "Plots the values of `edge_lon` and `edge_lat`\n",
    "\n",
    "#### Face Coordinates\n",
    "\n",
    "``uxgrid.plot.face_centers()``\n",
    "\n",
    "Plots the values of `face_lon` and `face_lat`"
   ]
  },
  {
   "cell_type": "code",
   "metadata": {
    "collapsed": false,
    "jupyter": {
     "outputs_hidden": false
    }
   },
   "source": [
    "(\n",
    "    uxds.uxgrid.plot(line_color=\"black\")\n",
    "    * uxds.uxgrid.plot.nodes(marker=\"circle\", clabel=None, size=15).relabel(\"Nodes\")\n",
    "    * uxds.uxgrid.plot.edge_centers(marker=\"square\", clabel=None, size=15).relabel(\n",
    "        \"Edge Centers\"\n",
    "    )\n",
    "    * uxds.uxgrid.plot.face_centers(marker=\"triangle\", clabel=None, size=15).relabel(\n",
    "        \"Face Centers\"\n",
    "    )\n",
    ").opts(width=600, height=400, title=\"Plotting Coordinates as Points\")"
   ],
   "outputs": [],
   "execution_count": null
  },
  {
   "cell_type": "markdown",
   "metadata": {
    "collapsed": false,
    "jupyter": {
     "outputs_hidden": false
    }
   },
   "source": [
    "## Visualizing  Data\n",
    "\n",
    "If you are working with data that resides on an unstructured grid, visualization is done through a `UxDataArray`\n"
   ]
  },
  {
   "cell_type": "markdown",
   "metadata": {
    "collapsed": false,
    "jupyter": {
     "outputs_hidden": false
    }
   },
   "source": [
    "### Default `UxDataArray` Plot"
   ]
  },
  {
   "cell_type": "code",
   "metadata": {
    "collapsed": false,
    "jupyter": {
     "outputs_hidden": false
    }
   },
   "source": [
    "uxds[\"random_data_face\"].plot().opts(\n",
    "    width=600, height=400, cmap=\"inferno\", title=\"Default UxDataArray Plot\"\n",
    ")"
   ],
   "outputs": [],
   "execution_count": null
  },
  {
   "cell_type": "markdown",
   "metadata": {
    "collapsed": false,
    "jupyter": {
     "outputs_hidden": false
    }
   },
   "source": [
    "### Polygons\n",
    "\n",
    "The primary method for visualizing data in UXarray is by representing the unstructured grid as Polygons. Each face in the grid is represented internally as a polygon and rendered.\n",
    "\n",
    "\n",
    "#### Vector Polygon Plots: \n",
    "\n",
    "``uxds['var'].plot.polygons()``\n",
    "\n",
    "Each Polygon is rendered individually, exactly as it is mathematically represented.\n",
    "\n",
    "\n",
    "\n",
    "#### Rasterized Polygon Plots: \n",
    "\n",
    "``uxds['var'].plot.rasterize(method='polygon')``\n",
    "\n",
    "Each Polygon is approximated by rasterizing each element onto a matrix of pixels, instead of drawing each polygon individually.\n",
    "\n"
   ]
  },
  {
   "cell_type": "code",
   "metadata": {
    "collapsed": false,
    "jupyter": {
     "outputs_hidden": false
    }
   },
   "source": [
    "(\n",
    "    uxds[\"random_data_face\"]\n",
    "    .plot.polygons()\n",
    "    .opts(width=600, height=400, cmap=\"inferno\", title=\"Vector Polygons\")\n",
    "    + uxds[\"random_data_face\"]\n",
    "    .plot.rasterize(method=\"polygon\")\n",
    "    .opts(width=600, height=400, cmap=\"inferno\", title=\"Rasterized Polygons\")\n",
    ").cols(1)"
   ],
   "outputs": [],
   "execution_count": null
  },
  {
   "cell_type": "markdown",
   "metadata": {
    "collapsed": false,
    "jupyter": {
     "outputs_hidden": false
    }
   },
   "source": [
    "### Points\n",
    "\n",
    "Since we are able to plot the locations of our coordinates as points, we can additionally shade each point using the data that is mapped to that element.\n",
    "\n",
    "#### Vector Point Plots\n",
    "\n",
    "``uxds['var'].plot.points()``\n",
    "\n",
    "Shades either the corner node, edge center, or face center coordinates with the data that is mapped to them.\n"
   ]
  },
  {
   "cell_type": "code",
   "metadata": {
    "collapsed": false,
    "jupyter": {
     "outputs_hidden": false
    }
   },
   "source": [
    "(\n",
    "    uxds.uxgrid.plot(line_color=\"black\")\n",
    "    * uxds[\"random_data_node\"]\n",
    "    .plot.points(cmap=\"inferno\", size=15, marker=\"circle\", clabel=None, tools=[\"hover\"])\n",
    "    .relabel(\"Node Data\")\n",
    "    * uxds[\"random_data_edge\"]\n",
    "    .plot.points(cmap=\"inferno\", size=15, marker=\"square\", clabel=None, tools=[\"hover\"])\n",
    "    .relabel(\"Edge Data\")\n",
    "    * uxds[\"random_data_face\"]\n",
    "    .plot.points(\n",
    "        cmap=\"inferno\", size=15, marker=\"triangle\", clabel=None, tools=[\"hover\"]\n",
    "    )\n",
    "    .relabel(\"Face Data\")\n",
    ").opts(width=600, height=400, title=\"Plotting Data as Points\")"
   ],
   "outputs": [],
   "execution_count": null
  },
  {
   "cell_type": "markdown",
   "metadata": {
    "collapsed": false,
    "jupyter": {
     "outputs_hidden": false
    }
   },
   "source": [
    "## Working with Periodic Data\n",
    "\n",
    "The dataset used in the previous examples is an extremely simple grid, consisting only of 4 hexagons. When working with a global grid that is periodic, faces that wrap around the antimeridian will cause visual artifacts unless they are corrected. The ``periodic_elements`` parameter can be used to determine how to handle these elements.\n",
    "* ``periodic_elements='exclude'``: Periodic polygons are excluded from the final plot\n",
    "* ``periodic_elements='split'``: Periodic polygons are split along the antimeridian\n",
    "* ``periodic_elements='ignore'``: Periodic polygons are ignored\n",
    "\n",
    "```{warning}\n",
    "It is suggested to keep ``periodic_elements='exclude'`` when working with moderatly large datasets, as there is a significant overhead needed correct the antimeridian faces.\n",
    "```\n"
   ]
  },
  {
   "cell_type": "code",
   "metadata": {
    "collapsed": false,
    "jupyter": {
     "outputs_hidden": false
    }
   },
   "source": [
    "base_path = \"../../test/meshfiles/mpas/QU/\"\n",
    "grid_path = base_path + \"oQU480.231010.nc\"\n",
    "uxds_mpas = ux.open_dataset(grid_path, grid_path)"
   ],
   "outputs": [],
   "execution_count": null
  },
  {
   "cell_type": "code",
   "metadata": {
    "collapsed": false,
    "jupyter": {
     "outputs_hidden": false
    }
   },
   "source": [
    "(\n",
    "    uxds_mpas[\"bottomDepth\"]\n",
    "    .plot(cmap=ux.cmaps.sequential_blue)\n",
    "    .opts(width=700, height=350, title=\"Default Plot (Excluding Periodic Elements)\")\n",
    "    + uxds_mpas[\"bottomDepth\"]\n",
    "    .plot(periodic_elements=\"split\", cmap=ux.cmaps.sequential_blue)\n",
    "    .opts(width=700, height=350, title=\"Include Periodic Elements (Split)\")\n",
    ").cols(1)"
   ],
   "outputs": [],
   "execution_count": null
  },
  {
   "cell_type": "markdown",
   "metadata": {},
   "source": [
    "## Geographic Projections & Features\n",
    "\n",
    "UXarray's plotting API supports Cartopy Projections and Geographic features through the use of the ``GeoViews`` library. \n"
   ]
  },
  {
   "metadata": {},
   "cell_type": "code",
   "outputs": [],
   "execution_count": null,
   "source": [
    "import cartopy.crs as ccrs\n",
    "import geoviews.feature as gf"
   ]
  },
  {
   "cell_type": "code",
   "metadata": {},
   "source": [
    "uxds_mpas[\"bottomDepth\"].plot(\n",
    "    projection=ccrs.Orthographic(),\n",
    "    width=700,\n",
    "    height=700,\n",
    "    cmap=ux.cmaps.sequential_blue,\n",
    "    title=\"Projected Polygon Plot\",\n",
    ") * gf.coastline(projection=ccrs.Orthographic())"
   ],
   "outputs": [],
   "execution_count": null
  },
  {
   "cell_type": "markdown",
   "metadata": {},
   "source": [
    "### Shifting Center Coordinates\n",
    "\n",
    "If you are using a projection with a shifted central longitude, you must use the ``Grid.set_central_longitude()`` function instead of the ``central_longitude`` parameter in the Projection.\n",
    "\n",
    "```{warning}\n",
    "The ``Grid.set_central_longitude()`` method performs an in-place operation. If you want to revert back to the original extent, you can run ``Grid.set_central_longitude(0.0)``\n",
    "```"
   ]
  },
  {
   "cell_type": "code",
   "metadata": {},
   "source": [
    "central_longitude = 180\n",
    "\n",
    "uxds_mpas.uxgrid.set_central_longitude(central_longitude)\n",
    "\n",
    "uxds_mpas[\"bottomDepth\"].plot.rasterize(\n",
    "    method=\"polygon\",\n",
    "    projection=ccrs.Orthographic(),\n",
    "    width=700,\n",
    "    height=700,\n",
    "    cmap=ux.cmaps.sequential_blue,\n",
    "    title=\"Projected Polygon Plot (Centered about 180 degrees longitude)\",\n",
    ") * gf.coastline(projection=ccrs.Orthographic(central_longitude=central_longitude))"
   ],
   "outputs": [],
   "execution_count": null
  }
 ],
 "metadata": {
  "kernelspec": {
   "display_name": "Python 3 (ipykernel)",
   "language": "python",
   "name": "python3"
  },
  "language_info": {
   "codemirror_mode": {
    "name": "ipython",
    "version": 3
   },
   "file_extension": ".py",
   "mimetype": "text/x-python",
   "name": "python",
   "nbconvert_exporter": "python",
   "pygments_lexer": "ipython3",
   "version": "3.11.9"
  }
 },
 "nbformat": 4,
 "nbformat_minor": 4
}
