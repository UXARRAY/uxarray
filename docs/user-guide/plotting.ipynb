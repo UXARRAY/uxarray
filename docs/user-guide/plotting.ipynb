{
 "cells": [
  {
   "cell_type": "markdown",
   "metadata": {
    "collapsed": false,
    "jupyter": {
     "outputs_hidden": false
    }
   },
   "source": [
    "# Plotting\n",
    "\n",
    "This section introduces UXarray's plotting API, showcasing how to visualize both data variables and grid topology."
   ]
  },
  {
   "cell_type": "code",
   "execution_count": null,
   "metadata": {
    "ExecuteTime": {
     "end_time": "2024-09-23T18:52:36.575643Z",
     "start_time": "2024-09-23T18:52:33.482888Z"
    },
    "collapsed": false,
    "jupyter": {
     "outputs_hidden": false
    }
   },
   "outputs": [],
   "source": [
    "import uxarray as ux"
   ]
  },
  {
   "cell_type": "markdown",
   "metadata": {
    "collapsed": false,
    "jupyter": {
     "outputs_hidden": false
    }
   },
   "source": [
    "## Data\n",
    "\n",
    "For most of the examples in this notebook, we will be using a simple mesh consisting of 4 hexagons, with sample data mapped to the faces, edges, and nodes."
   ]
  },
  {
   "cell_type": "code",
   "execution_count": null,
   "metadata": {
    "ExecuteTime": {
     "end_time": "2024-09-23T14:52:24.792647Z",
     "start_time": "2024-09-23T14:52:23.795609Z"
    }
   },
   "outputs": [],
   "source": [
    "grid_path = \"../../test/meshfiles/ugrid/quad-hexagon/grid.nc\"\n",
    "\n",
    "data_paths = [\n",
    "    \"../../test/meshfiles/ugrid/quad-hexagon/random-node-data.nc\",\n",
    "    \"../../test/meshfiles/ugrid/quad-hexagon/random-edge-data.nc\",\n",
    "    \"../../test/meshfiles/ugrid/quad-hexagon/random-face-data.nc\",\n",
    "]\n",
    "\n",
    "uxds = ux.open_mfdataset(grid_path, data_paths)\n",
    "uxgrid = uxds.uxgrid\n",
    "\n",
    "uxds"
   ]
  },
  {
   "cell_type": "markdown",
   "metadata": {},
   "source": [
    "## Grid Topology Visualization \n",
    "\n",
    "The topology (i.e. edges and coordinates) of an unstructured grid can be plotted using the ``Grid.plot()`` accessor. By default, ``Grid.plot()`` will plot the edges of the unstructured grid."
   ]
  },
  {
   "cell_type": "code",
   "execution_count": null,
   "metadata": {},
   "outputs": [],
   "source": [
    "uxgrid.plot(title=\"Grid Plot Accessor\")"
   ]
  },
  {
   "cell_type": "markdown",
   "metadata": {},
   "source": [
    "### Edge Plots\n",
    "\n",
    "The default plotting routine above calls the ``Grid.edges()`` method, which visualizes the edges of each face in the unstructured grid. "
   ]
  },
  {
   "cell_type": "code",
   "execution_count": null,
   "metadata": {},
   "outputs": [],
   "source": [
    "uxgrid.plot.edges(color=\"black\", title=\"Grid Edge Plot\")"
   ]
  },
  {
   "cell_type": "markdown",
   "metadata": {},
   "source": [
    "### Point Plots\n",
    "\n",
    "There are three coordinates that are typically associated with unstructured grids:\n",
    "* Corner Nodes: ``node_lon`` & ``node_lat``\n",
    "* Edge Centers: ``edge_lon`` & ``edge_lat``\n",
    "* Face Centers: ``face_lon`` & ``face_lat``\n",
    "\n",
    "These coordinates can be plotted using the following plotting methods:\n",
    "* Corner Nodes: ``Grid.plot.nodes()``\n",
    "* Edge Centers: ``Grid.plot.edge_centers()``\n",
    "* Face Centers: ``Grid.plot.face_centers()``"
   ]
  },
  {
   "cell_type": "code",
   "execution_count": null,
   "metadata": {},
   "outputs": [],
   "source": [
    "(\n",
    "    uxgrid.plot.edges(color=\"black\")\n",
    "    * uxgrid.plot.nodes(marker=\"o\", size=150).relabel(\"Corner Nodes\")\n",
    "    * uxgrid.plot.face_centers(marker=\"s\", size=150).relabel(\"Face Centers\")\n",
    "    * uxgrid.plot.edge_centers(marker=\"^\", size=150).relabel(\"Edge Centers\")\n",
    ").opts(title=\"Grid Coordinates\", legend_position=\"top_right\")"
   ]
  },
  {
   "cell_type": "markdown",
   "metadata": {
    "collapsed": false,
    "jupyter": {
     "outputs_hidden": false
    }
   },
   "source": [
    "## Data Visualization\n"
   ]
  },
  {
   "cell_type": "markdown",
   "metadata": {
    "collapsed": false,
    "jupyter": {
     "outputs_hidden": false
    }
   },
   "source": [
    "## Visualizing  Data\n",
    "\n",
    "The section above visualized the topology an unstructured grid. If you are working with data residing on an unstructured grid, plotting is handled through the ``UxDataArray.plot()`` accessor.\n"
   ]
  },
  {
   "cell_type": "code",
   "execution_count": null,
   "metadata": {
    "collapsed": false,
    "jupyter": {
     "outputs_hidden": false
    }
   },
   "outputs": [],
   "source": [
    "uxds[\"random_data_face\"].plot(\n",
    "    cmap=ux.cmaps.diverging, title=\"UxDataArray Plot Accessor\"\n",
    ")"
   ]
  },
  {
   "cell_type": "markdown",
   "metadata": {},
   "source": [
    "### Polygons\n",
    "\n",
    "Face centered data can be visualized as polygons using the ``UxDataArray.polygons()`` method. The geometry of each face is represented as a polygon, shaded with the data variable mapped to it."
   ]
  },
  {
   "cell_type": "code",
   "execution_count": null,
   "metadata": {},
   "outputs": [],
   "source": [
    "(\n",
    "    uxds[\"random_data_face\"].plot.polygons(\n",
    "        rasterize=False,\n",
    "        cmap=ux.cmaps.diverging,\n",
    "        title=\"Vector Polygons (rasterize=False)\",\n",
    "        colorbar=False,\n",
    "    )\n",
    "    + uxds[\"random_data_face\"].plot.polygons(\n",
    "        rasterize=True,\n",
    "        cmap=ux.cmaps.diverging,\n",
    "        title=\"Raster Polygons (rasterize=True)\",\n",
    "        colorbar=False,\n",
    "    )\n",
    ").cols(1)"
   ]
  },
  {
   "cell_type": "markdown",
   "metadata": {
    "collapsed": false,
    "jupyter": {
     "outputs_hidden": false
    }
   },
   "source": [
    "### Points\n",
    "\n",
    "Since data can be mapped to either the nodes, edges, or faces of an unstructured grid, the coordinates at these locations can be shaded to represent the data. Data can be plotted as points using the ``UxDataArray.plot.points()`` method."
   ]
  },
  {
   "cell_type": "code",
   "execution_count": null,
   "metadata": {
    "collapsed": false,
    "jupyter": {
     "outputs_hidden": false
    }
   },
   "outputs": [],
   "source": [
    "(\n",
    "    uxds.uxgrid.plot(line_color=\"black\")\n",
    "    * uxds[\"random_data_node\"]\n",
    "    .plot.points(\n",
    "        cmap=\"inferno\", size=150, marker=\"circle\", clabel=None, tools=[\"hover\"]\n",
    "    )\n",
    "    .relabel(\"Node Data\")\n",
    "    * uxds[\"random_data_edge\"]\n",
    "    .plot.points(\n",
    "        cmap=\"inferno\", size=150, marker=\"square\", clabel=None, tools=[\"hover\"]\n",
    "    )\n",
    "    .relabel(\"Edge Data\")\n",
    "    * uxds[\"random_data_face\"]\n",
    "    .plot.points(\n",
    "        cmap=\"inferno\", size=150, marker=\"triangle\", clabel=None, tools=[\"hover\"]\n",
    "    )\n",
    "    .relabel(\"Face Data\")\n",
    ").opts(title=\"Plotting Data as Points\", legend_position=\"top_right\")"
   ]
  },
  {
   "cell_type": "markdown",
   "metadata": {
    "collapsed": false,
    "jupyter": {
     "outputs_hidden": false
    }
   },
   "source": [
    "## Working with Periodic Data\n",
    "\n",
    "The grid used in the previous example is extremely simple, only consisting of 4 hexagons. When working with a periodic global grid, such as those from global climate model simulations, additional attention must be given to handling periodic elements (i.e. those that cross the antimeridian. \n",
    "\n",
    "\n",
    "The ``periodic_elements`` parameter can be used to select how to handle these elements.\n",
    "* ``periodic_elements='exclude'``: Periodic polygons are excluded from the final plot\n",
    "* ``periodic_elements='split'``: Periodic polygons are split along the antimeridian\n",
    "* ``periodic_elements='ignore'``: Periodic polygons are left uncorrected.\n",
    "\n",
    "```{warning}\n",
    "It is suggested to keep ``periodic_elements='exclude'`` (default value) when working with moderatly large datasets, as there is a significant overhead needed correct the antimeridian faces.\n",
    "```\n"
   ]
  },
  {
   "cell_type": "code",
   "execution_count": null,
   "metadata": {
    "collapsed": false,
    "jupyter": {
     "outputs_hidden": false
    }
   },
   "outputs": [],
   "source": [
    "base_path = \"../../test/meshfiles/mpas/QU/\"\n",
    "grid_path = base_path + \"oQU480.231010.nc\"\n",
    "uxds_mpas = ux.open_dataset(grid_path, grid_path)"
   ]
  },
  {
   "cell_type": "code",
   "execution_count": null,
   "metadata": {
    "collapsed": false,
    "jupyter": {
     "outputs_hidden": false
    }
   },
   "outputs": [],
   "source": [
    "(\n",
    "    uxds_mpas[\"bottomDepth\"]\n",
    "    .plot(cmap=ux.cmaps.sequential_blue)\n",
    "    .opts(width=700, height=350, title=\"Default Plot (Excluding Periodic Elements)\")\n",
    "    + uxds_mpas[\"bottomDepth\"]\n",
    "    .plot(\n",
    "        periodic_elements=\"split\", cmap=ux.cmaps.sequential_blue, width=700, height=350\n",
    "    )\n",
    "    .opts(title=\"Include Periodic Elements (Split)\")\n",
    ").cols(1)"
   ]
  },
  {
   "cell_type": "markdown",
   "metadata": {},
   "source": [
    "## Geographic Projections & Features\n",
    "\n",
    "Geographic projections & features can be added using the same syntax as \n",
    "\n",
    "```{seealso}\n",
    "[Geographic Data](https://hvplot.holoviz.org/user_guide/Geographic_Data.html) user guide section from ``hvPlot``\n",
    "```\n",
    "\n",
    "\n"
   ]
  },
  {
   "cell_type": "code",
   "execution_count": null,
   "metadata": {},
   "outputs": [],
   "source": [
    "import cartopy.crs as ccrs\n",
    "import geoviews.feature as gf"
   ]
  },
  {
   "cell_type": "code",
   "execution_count": null,
   "metadata": {},
   "outputs": [],
   "source": [
    "uxds_mpas[\"bottomDepth\"].plot(\n",
    "    projection=ccrs.Orthographic(),\n",
    "    cmap=ux.cmaps.sequential_blue,\n",
    "    title=\"Projected Polygon Plot\",\n",
    ") * gf.coastline(projection=ccrs.Orthographic())"
   ]
  },
  {
   "cell_type": "markdown",
   "metadata": {},
   "source": [
    "### Shifting Center Coordinates\n",
    "\n",
    "UXarray assumes that periodic elements are along the antimeridian (i.e. 180 degrees longitude). When plotting data centered near or along the antimeridian, it is suggested to shift the central longitude of a grid. This can be done using the ``Grid.set_central_longitude(central_longitude)`` function, which will update the coordinates in place. \n",
    "\n",
    "```{warning}\n",
    "The ``Grid.set_central_longitude()`` method performs an in-place operation. If you want to revert back to the original extent, you can run ``Grid.set_central_longitude(0.0)``\n",
    "```"
   ]
  },
  {
   "cell_type": "code",
   "execution_count": null,
   "metadata": {},
   "outputs": [],
   "source": [
    "central_longitude = 180\n",
    "\n",
    "uxds_mpas.uxgrid.set_central_longitude(central_longitude)\n",
    "\n",
    "uxds_mpas[\"bottomDepth\"].plot.polygons(\n",
    "    rasterize=True,\n",
    "    projection=ccrs.Orthographic(),\n",
    "    cmap=ux.cmaps.sequential_blue,\n",
    "    title=\"Projected Polygon Plot (Centered about 180 degrees longitude)\",\n",
    ") * gf.coastline(projection=ccrs.Orthographic(central_longitude=central_longitude))"
   ]
  }
 ],
 "metadata": {
  "kernelspec": {
   "display_name": "Python 3 (ipykernel)",
   "language": "python",
   "name": "python3"
  },
  "language_info": {
   "codemirror_mode": {
    "name": "ipython",
    "version": 3
   },
   "file_extension": ".py",
   "mimetype": "text/x-python",
   "name": "python",
   "nbconvert_exporter": "python",
   "pygments_lexer": "ipython3",
   "version": "3.11.8"
  }
 },
 "nbformat": 4,
 "nbformat_minor": 4
}
